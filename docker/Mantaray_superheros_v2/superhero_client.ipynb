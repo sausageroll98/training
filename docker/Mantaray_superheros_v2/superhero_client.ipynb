{
 "cells": [
  {
   "cell_type": "code",
   "execution_count": 2,
   "id": "c604f19a",
   "metadata": {},
   "outputs": [],
   "source": [
    "import requests"
   ]
  },
  {
   "cell_type": "code",
   "execution_count": 7,
   "id": "c455de51",
   "metadata": {},
   "outputs": [],
   "source": [
    "def get_superhero(name):\n",
    "    url = f'http://127.0.0.1:5000/superhero/{name}'\n",
    "    response = requests.get(url)\n",
    "    print(response.status_code, response.text)\n",
    "    \n",
    "def get_superheroes():\n",
    "    url = f'http://127.0.0.1:5000/superheroes'\n",
    "    response = requests.get(url)\n",
    "    print(response.status_code, response.text)"
   ]
  },
  {
   "cell_type": "code",
   "execution_count": 8,
   "id": "4c4b9a8d",
   "metadata": {},
   "outputs": [
    {
     "name": "stdout",
     "output_type": "stream",
     "text": [
      "200 {\n",
      "    \"skill\": \"web\",\n",
      "    \"costume\": \"red-blue\",\n",
      "    \"enemy\": \"green-goblin\"\n",
      "}\n",
      "\n"
     ]
    }
   ],
   "source": [
    "get_superhero('spider-man')"
   ]
  },
  {
   "cell_type": "code",
   "execution_count": 9,
   "id": "f474576e",
   "metadata": {},
   "outputs": [
    {
     "name": "stdout",
     "output_type": "stream",
     "text": [
      "200 [\n",
      "    \"batman\",\n",
      "    \"spider-man\",\n",
      "    \"thor\"\n",
      "]\n",
      "\n"
     ]
    }
   ],
   "source": [
    "get_superheroes()"
   ]
  },
  {
   "cell_type": "code",
   "execution_count": 28,
   "id": "ebc4f310",
   "metadata": {},
   "outputs": [],
   "source": [
    "def post_superhero_name(name):\n",
    "    url = f'http://127.0.0.1:5000/superheroes'\n",
    "    response = requests.post(url, json=name)\n",
    "    print(response.status_code, response.text)\n",
    "\n",
    "def put_superhero_attributes(name, attribute, value):\n",
    "    url = f'http://127.0.0.1:5000/superhero/{name}'\n",
    "    params = {'name':name, 'attribute':attribute, 'value':value}\n",
    "    response = requests.put(url, json=params)\n",
    "    print(response.status_code, response.text)\n",
    "\n",
    "def delete_superhero(name):\n",
    "    url = f'http://127.0.0.1:5000/superhero/{name}'\n",
    "    response = requests.delete(url, json=name)\n",
    "    print(response.status_code, response.text)\n",
    "    "
   ]
  },
  {
   "cell_type": "code",
   "execution_count": 29,
   "id": "837c76de",
   "metadata": {},
   "outputs": [
    {
     "name": "stdout",
     "output_type": "stream",
     "text": [
      "200 \"superhero already exists\"\n",
      "\n"
     ]
    }
   ],
   "source": [
    "post_superhero_name('wonder-woman')"
   ]
  },
  {
   "cell_type": "code",
   "execution_count": 30,
   "id": "ea3c40b1",
   "metadata": {},
   "outputs": [
    {
     "name": "stdout",
     "output_type": "stream",
     "text": [
      "200 {\n",
      "    \"batman\": {\n",
      "        \"skill\": \"kick\",\n",
      "        \"costume\": \"black\",\n",
      "        \"enemy\": \"joker\"\n",
      "    },\n",
      "    \"spider-man\": {\n",
      "        \"skill\": \"web\",\n",
      "        \"costume\": \"red-blue\",\n",
      "        \"enemy\": \"green-goblin\"\n",
      "    },\n",
      "    \"thor\": {\n",
      "        \"skill\": \"lightning\",\n",
      "        \"costume\": \"viking\",\n",
      "        \"enemy\": \"loki\"\n",
      "    },\n",
      "    \"wonder-woman\": {}\n",
      "}\n",
      "\n"
     ]
    }
   ],
   "source": [
    "put_superhero_attributes('batman', 'skill', 'kick')"
   ]
  },
  {
   "cell_type": "code",
   "execution_count": 31,
   "id": "231b0903",
   "metadata": {},
   "outputs": [
    {
     "name": "stdout",
     "output_type": "stream",
     "text": [
      "200 {\n",
      "    \"batman\": {\n",
      "        \"skill\": \"kick\",\n",
      "        \"costume\": \"black\",\n",
      "        \"enemy\": \"joker\"\n",
      "    },\n",
      "    \"spider-man\": {\n",
      "        \"skill\": \"web\",\n",
      "        \"costume\": \"red-blue\",\n",
      "        \"enemy\": \"green-goblin\"\n",
      "    },\n",
      "    \"wonder-woman\": {}\n",
      "}\n",
      "\n"
     ]
    }
   ],
   "source": [
    "delete_superhero('thor')"
   ]
  },
  {
   "cell_type": "code",
   "execution_count": null,
   "id": "cc626d13",
   "metadata": {},
   "outputs": [],
   "source": []
  },
  {
   "cell_type": "code",
   "execution_count": null,
   "id": "ad0d5b97",
   "metadata": {},
   "outputs": [],
   "source": []
  },
  {
   "cell_type": "code",
   "execution_count": null,
   "id": "38f79317",
   "metadata": {},
   "outputs": [],
   "source": []
  },
  {
   "cell_type": "code",
   "execution_count": null,
   "id": "b6d4a812",
   "metadata": {},
   "outputs": [],
   "source": []
  },
  {
   "cell_type": "code",
   "execution_count": null,
   "id": "a415bc07",
   "metadata": {},
   "outputs": [],
   "source": []
  },
  {
   "cell_type": "code",
   "execution_count": null,
   "id": "d0cb9916",
   "metadata": {},
   "outputs": [],
   "source": []
  },
  {
   "cell_type": "code",
   "execution_count": null,
   "id": "1c61f1e7",
   "metadata": {},
   "outputs": [],
   "source": []
  },
  {
   "cell_type": "code",
   "execution_count": null,
   "id": "2ce2a0fa",
   "metadata": {},
   "outputs": [],
   "source": []
  }
 ],
 "metadata": {
  "kernelspec": {
   "display_name": "Python 3 (ipykernel)",
   "language": "python",
   "name": "python3"
  },
  "language_info": {
   "codemirror_mode": {
    "name": "ipython",
    "version": 3
   },
   "file_extension": ".py",
   "mimetype": "text/x-python",
   "name": "python",
   "nbconvert_exporter": "python",
   "pygments_lexer": "ipython3",
   "version": "3.9.7"
  }
 },
 "nbformat": 4,
 "nbformat_minor": 5
}
