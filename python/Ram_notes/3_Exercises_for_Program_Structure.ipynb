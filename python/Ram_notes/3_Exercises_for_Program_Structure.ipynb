{
 "cells": [
  {
   "cell_type": "markdown",
   "metadata": {},
   "source": [
    "# 3. Program Structure Exercises"
   ]
  },
  {
   "cell_type": "markdown",
   "metadata": {},
   "source": [
    "---\n",
    "## Exercise 3.1\n",
    "---\n",
    "- Define a variable 'my_name'. Assign your name to the variable.\n",
    "- Using an if statement:\n",
    "  - print out 'my name is short' if the total number of characters in your name is less than 10.\n",
    "  - print out 'my name is long' if the total number of characters in your name is greater than 17.\n",
    "  - otherwise, print out \"my name is about average length\"\n",
    "- try assigning other values to my_name, to check that your code is working as expected.\n"
   ]
  },
  {
   "cell_type": "code",
   "execution_count": 1,
   "metadata": {},
   "outputs": [
    {
     "name": "stdout",
     "output_type": "stream",
     "text": [
      "my name is short\n"
     ]
    }
   ],
   "source": [
    "my_name = 'Jeevan'\n",
    "\n",
    "if len(my_name)<10:\n",
    "    print('my name is short')\n",
    "elif len(my_name)>17:\n",
    "    print('my name is long')\n",
    "else:\n",
    "    print('my name is about average length')"
   ]
  },
  {
   "cell_type": "markdown",
   "metadata": {},
   "source": [
    "---\n",
    "## Exercise 3.2\n",
    "---\n",
    "- Define a variable 'my_list'. Set it to be a list of all files in your C directory.\n",
    "  Hint: using os.listdir('C:\\\\') will be helpful.\n",
    "- Create a new list containing everything in my_list that does not contain spaces.\n"
   ]
  },
  {
   "cell_type": "code",
   "execution_count": 2,
   "metadata": {},
   "outputs": [
    {
     "name": "stdout",
     "output_type": "stream",
     "text": [
      "['$Recycle.Bin', '$WinREAgent', 'Apps', 'bootTel.dat', 'ce02', 'Config.Msi', 'DELL', 'dell.sdr', 'Documents and Settings', 'Drivers', 'DumpStack.log.tmp', 'FIOD.manifest', 'found.000', 'hiberfil.sys', 'Intel', 'pagefile.sys', 'PerfLogs', 'pot_postmortem', 'Program Files', 'Program Files (x86)', 'ProgramData', 'Python310', 'Recovery', 'swapfile.sys', 'System Volume Information', 'tools', 'Users', 'Windows']\n"
     ]
    }
   ],
   "source": [
    "import os\n",
    "my_list = os.listdir('C:\\\\')\n",
    "print(my_list)"
   ]
  },
  {
   "cell_type": "code",
   "execution_count": 3,
   "metadata": {},
   "outputs": [
    {
     "name": "stdout",
     "output_type": "stream",
     "text": [
      "['$Recycle.Bin', '$WinREAgent', 'Apps', 'bootTel.dat', 'ce02', 'Config.Msi', 'DELL', 'dell.sdr', 'Drivers', 'DumpStack.log.tmp', 'FIOD.manifest', 'found.000', 'hiberfil.sys', 'Intel', 'pagefile.sys', 'PerfLogs', 'pot_postmortem', 'ProgramData', 'Python310', 'Recovery', 'swapfile.sys', 'tools', 'Users', 'Windows']\n"
     ]
    }
   ],
   "source": [
    "my_new_list = []\n",
    "for i in my_list:\n",
    "    if ' ' not in i:\n",
    "        my_new_list.append(i)\n",
    "print(my_new_list)\n",
    "        "
   ]
  },
  {
   "cell_type": "markdown",
   "metadata": {},
   "source": [
    "---\n",
    "## Exercise 3.3\n",
    "---\n",
    "- Create a variable 'random_no'. Set it to a random variable between 1 and 20 inclusive.\n",
    "  You can use random.randint(1,20).\n",
    "- While the number is not equal to 20, assign 'random_no' to a new random number.\n",
    "  Keep repeating this process until 'random_no' is equal to 20.\n",
    "- Print out the number of draws made until 'random_no' was equal to 20.\n",
    "- Use a 'for' loop to repeat the above steps 100 times, \n",
    "  and report the mean (average) number of draws made until 'random_no' was equal to 20. \n"
   ]
  },
  {
   "cell_type": "code",
   "execution_count": 6,
   "metadata": {},
   "outputs": [
    {
     "name": "stdout",
     "output_type": "stream",
     "text": [
      "[15]\n"
     ]
    },
    {
     "name": "stderr",
     "output_type": "stream",
     "text": [
      "<>:9: SyntaxWarning: \"is not\" with a literal. Did you mean \"!=\"?\n",
      "<>:9: SyntaxWarning: \"is not\" with a literal. Did you mean \"!=\"?\n",
      "<ipython-input-6-0bb0ba3f5cd5>:9: SyntaxWarning: \"is not\" with a literal. Did you mean \"!=\"?\n",
      "  while random_no is not 20:\n"
     ]
    }
   ],
   "source": [
    "import random\n",
    "random_no = random.randint(1,20)\n",
    "\n",
    "\n",
    "# one trial\n",
    "number_of_draws = 1\n",
    "number_of_draws_list = []\n",
    "\n",
    "while random_no is not 20:\n",
    "    random_no = random.randint(1,20)\n",
    "    number_of_draws += 1\n",
    "number_of_draws_list.append(number_of_draws)\n",
    "print(number_of_draws_list)"
   ]
  },
  {
   "cell_type": "code",
   "execution_count": 98,
   "metadata": {},
   "outputs": [
    {
     "name": "stdout",
     "output_type": "stream",
     "text": [
      "[9, 55, 8, 10, 24, 7, 11, 1, 24, 23, 89, 6, 23, 4, 5, 1, 50, 24, 17, 6, 1, 4, 4, 12, 11, 20, 22, 17, 1, 49, 62, 7, 19, 17, 37, 3, 24, 34, 3, 25, 23, 101, 82, 9, 3, 57, 2, 5, 8, 83, 31, 43, 1, 84, 8, 44, 9, 9, 5, 9, 2, 4, 44, 9, 32, 7, 45, 3, 10, 15, 44, 3, 2, 1, 7, 29, 26, 11, 20, 23, 5, 10, 9, 7, 8, 2, 64, 37, 13, 87, 14, 14, 24, 36, 6, 50, 6, 21, 54, 6]\n",
      "The average number of draws is 21.95\n"
     ]
    }
   ],
   "source": [
    "number_of_draws_list = []\n",
    "for i in range(100):\n",
    "    random_no = random.randint(1,20)\n",
    "    number_of_draws = 1\n",
    "    if random_no == 20:\n",
    "        number_of_draws_list.append(number_of_draws)\n",
    "    else:\n",
    "        while random_no != 20:\n",
    "            number_of_draws += 1\n",
    "            random_no = random.randint(1,20)\n",
    "        number_of_draws_list.append(number_of_draws)\n",
    "print(number_of_draws_list)\n",
    "avg = sum(number_of_draws_list)/len(number_of_draws_list)\n",
    "print(f'The average number of draws is {avg}')"
   ]
  },
  {
   "cell_type": "markdown",
   "metadata": {},
   "source": [
    "---\n",
    "## Exercise 3.4\n",
    "---\n",
    "\n",
    "- Read in a file that does not exist, catch the exception, and report the type of exception.\n",
    "\n",
    "\n",
    "\n"
   ]
  },
  {
   "cell_type": "code",
   "execution_count": 96,
   "metadata": {},
   "outputs": [
    {
     "ename": "FileNotFoundError",
     "evalue": "[Errno 2] No such file or directory: 'non_existent_file.txt'",
     "output_type": "error",
     "traceback": [
      "\u001b[1;31m---------------------------------------------------------------------------\u001b[0m",
      "\u001b[1;31mFileNotFoundError\u001b[0m                         Traceback (most recent call last)",
      "\u001b[1;32m<ipython-input-96-013f9fdfdeae>\u001b[0m in \u001b[0;36m<module>\u001b[1;34m\u001b[0m\n\u001b[1;32m----> 1\u001b[1;33m \u001b[0mf\u001b[0m \u001b[1;33m=\u001b[0m \u001b[0mopen\u001b[0m\u001b[1;33m(\u001b[0m\u001b[1;34m'non_existent_file.txt'\u001b[0m\u001b[1;33m,\u001b[0m\u001b[1;34m'r'\u001b[0m\u001b[1;33m)\u001b[0m\u001b[1;33m\u001b[0m\u001b[1;33m\u001b[0m\u001b[0m\n\u001b[0m",
      "\u001b[1;31mFileNotFoundError\u001b[0m: [Errno 2] No such file or directory: 'non_existent_file.txt'"
     ]
    }
   ],
   "source": [
    "f = open('non_existent_file.txt','r')\n"
   ]
  },
  {
   "cell_type": "code",
   "execution_count": 25,
   "metadata": {},
   "outputs": [],
   "source": [
    "def file_opener(file_name):\n",
    "    try:\n",
    "        open(file_name,'r')\n",
    "    except FileNotFoundError:\n",
    "        print('This file does not exist')"
   ]
  },
  {
   "cell_type": "code",
   "execution_count": 26,
   "metadata": {},
   "outputs": [
    {
     "name": "stdout",
     "output_type": "stream",
     "text": [
      "This file does not exist\n"
     ]
    }
   ],
   "source": [
    "file_opener('non_existent_file.txt')"
   ]
  },
  {
   "cell_type": "markdown",
   "metadata": {},
   "source": [
    "---\n",
    "## Exercise 3.5\n",
    "---\n",
    "- Consider the following mathematical operations. Which of these will raise an exception, and of what type? \n",
    "  For those that don't raise an exception, what is the result? \n",
    "  - dividing one by zero\n",
    "  - taking the logarithm of zero\n",
    "  - taking the square-root of minus one"
   ]
  },
  {
   "cell_type": "markdown",
   "metadata": {},
   "source": [
    "1. 1/0 will output a ZeroDivisionError\n",
    "2. log(0) will output a ValueError\n",
    "3. sqrt(-1) will also output a ValueError"
   ]
  },
  {
   "cell_type": "code",
   "execution_count": 27,
   "metadata": {},
   "outputs": [
    {
     "ename": "ZeroDivisionError",
     "evalue": "division by zero",
     "output_type": "error",
     "traceback": [
      "\u001b[1;31m---------------------------------------------------------------------------\u001b[0m",
      "\u001b[1;31mZeroDivisionError\u001b[0m                         Traceback (most recent call last)",
      "\u001b[1;32m<ipython-input-27-9e1622b385b6>\u001b[0m in \u001b[0;36m<module>\u001b[1;34m\u001b[0m\n\u001b[1;32m----> 1\u001b[1;33m \u001b[1;36m1\u001b[0m\u001b[1;33m/\u001b[0m\u001b[1;36m0\u001b[0m\u001b[1;33m\u001b[0m\u001b[1;33m\u001b[0m\u001b[0m\n\u001b[0m",
      "\u001b[1;31mZeroDivisionError\u001b[0m: division by zero"
     ]
    }
   ],
   "source": [
    "1/0"
   ]
  },
  {
   "cell_type": "code",
   "execution_count": 30,
   "metadata": {},
   "outputs": [
    {
     "ename": "ValueError",
     "evalue": "math domain error",
     "output_type": "error",
     "traceback": [
      "\u001b[1;31m---------------------------------------------------------------------------\u001b[0m",
      "\u001b[1;31mValueError\u001b[0m                                Traceback (most recent call last)",
      "\u001b[1;32m<ipython-input-30-5be4264ab949>\u001b[0m in \u001b[0;36m<module>\u001b[1;34m\u001b[0m\n\u001b[0;32m      1\u001b[0m \u001b[1;32mimport\u001b[0m \u001b[0mmath\u001b[0m\u001b[1;33m\u001b[0m\u001b[1;33m\u001b[0m\u001b[0m\n\u001b[1;32m----> 2\u001b[1;33m \u001b[0mprint\u001b[0m\u001b[1;33m(\u001b[0m\u001b[0mmath\u001b[0m\u001b[1;33m.\u001b[0m\u001b[0mlog\u001b[0m\u001b[1;33m(\u001b[0m\u001b[1;36m0\u001b[0m\u001b[1;33m)\u001b[0m\u001b[1;33m)\u001b[0m\u001b[1;33m\u001b[0m\u001b[1;33m\u001b[0m\u001b[0m\n\u001b[0m",
      "\u001b[1;31mValueError\u001b[0m: math domain error"
     ]
    }
   ],
   "source": [
    "import math\n",
    "print(math.log(0))"
   ]
  },
  {
   "cell_type": "code",
   "execution_count": 32,
   "metadata": {},
   "outputs": [
    {
     "ename": "ValueError",
     "evalue": "math domain error",
     "output_type": "error",
     "traceback": [
      "\u001b[1;31m---------------------------------------------------------------------------\u001b[0m",
      "\u001b[1;31mValueError\u001b[0m                                Traceback (most recent call last)",
      "\u001b[1;32m<ipython-input-32-2037b8d41d70>\u001b[0m in \u001b[0;36m<module>\u001b[1;34m\u001b[0m\n\u001b[1;32m----> 1\u001b[1;33m \u001b[0mmath\u001b[0m\u001b[1;33m.\u001b[0m\u001b[0msqrt\u001b[0m\u001b[1;33m(\u001b[0m\u001b[1;33m-\u001b[0m\u001b[1;36m1\u001b[0m\u001b[1;33m)\u001b[0m\u001b[1;33m\u001b[0m\u001b[1;33m\u001b[0m\u001b[0m\n\u001b[0m",
      "\u001b[1;31mValueError\u001b[0m: math domain error"
     ]
    }
   ],
   "source": [
    "math.sqrt(-1)"
   ]
  },
  {
   "cell_type": "markdown",
   "metadata": {},
   "source": [
    "---\n",
    "## Exercise 3.6\n",
    "---\n",
    "- Create a function to do element-wise division. \n",
    "  Call the function `elementwise_div(numerators, denominators)`.\n",
    "  The arguments `numerators` and `denominators` should be lists.\n",
    "- For example, `elementwise_div([1,2,6],[2,2,3])` should return `[0.5,1,6]`.\n",
    "- If the element-wise division cannot be computed, then return `None` in that element, instead.\n",
    "- If the length of `numerators` and `denominators` is not the same, then the returned list should be the same length as the longer of the two, the relevant elements containing '`None`'\n",
    "  For example, `elementwise_div([1,2,'3', 4],[1,0,3])` should return `[1,None,None, None]`.\n",
    "\n"
   ]
  },
  {
   "cell_type": "code",
   "execution_count": 73,
   "metadata": {},
   "outputs": [],
   "source": [
    "def elementwise_div(numerators, denominators):\n",
    "    \n",
    "    output = []\n",
    "    length_num = len(numerators)\n",
    "    length_den = len(denominators)\n",
    "    \n",
    "    if length_num >= length_den:\n",
    "        for i in range(0,length_num):\n",
    "            try:\n",
    "                x = numerators[i]/denominators[i]\n",
    "                output.append(x)\n",
    "            except ZeroDivisionError:\n",
    "                output.append(None)\n",
    "            except TypeError:\n",
    "                output.append(None)\n",
    "            except IndexError:\n",
    "                output.append(None)\n",
    "        print(output)\n",
    "    \n",
    "    else: \n",
    "        for i in range(0,length_den):\n",
    "            try:\n",
    "                x = numerators[i]/denominators[i]\n",
    "                output.append(x)\n",
    "            except ZeroDivisionError:\n",
    "                output.append(None)\n",
    "            except TypeError:\n",
    "                output.append(None)\n",
    "            except IndexError:\n",
    "                output.append(None)\n",
    "        print(output)\n"
   ]
  },
  {
   "cell_type": "code",
   "execution_count": 74,
   "metadata": {},
   "outputs": [],
   "source": [
    "n = [1,2,3,4,5,8]\n",
    "d = [2,4,'1',2,0,4,6,9]"
   ]
  },
  {
   "cell_type": "code",
   "execution_count": 75,
   "metadata": {},
   "outputs": [
    {
     "name": "stdout",
     "output_type": "stream",
     "text": [
      "[0.5, 0.5, None, 2.0, None, 2.0, None, None]\n"
     ]
    }
   ],
   "source": [
    "elementwise_div(n,d)"
   ]
  },
  {
   "cell_type": "markdown",
   "metadata": {},
   "source": [
    "---\n",
    "## Exercise 3.7\n",
    "---\n",
    "  Write a function called `compare_numbers`, taking two arguments, that prints out a string describing \n",
    "  whether two numbers have the same sign, and whether they have the same magnitude.\n",
    "  For example, when this function is called with the following parameters:\n",
    "```\n",
    "\t\tcompare_numbers(-1,-1)\n",
    "\t\tcompare_numbers(-2,-1)\n",
    "\t\tcompare_numbers(1,-1)\n",
    "\t\tcompare_numbers(-1,3)\n",
    "```\n",
    "Then this will result in the following output:\n",
    "```\n",
    "\t\t-1 and -1 have the same signs, and the same magnitude\n",
    "\t\t-2 and -1 have the same signs, but different magnitude\n",
    "\t\t1 and -1 have different signs, but the same magnitude\n",
    "\t\t-1 and 3 have different signs, and different magnitude\n",
    "```\n"
   ]
  },
  {
   "cell_type": "code",
   "execution_count": 86,
   "metadata": {},
   "outputs": [],
   "source": [
    "def compare_numbers(a,b):\n",
    "    if a<0 and b<0:\n",
    "        if abs(a) == abs(b):\n",
    "            print(f'{a} and {b} have the same signs, and the same magnitude')\n",
    "        else:\n",
    "            print(f'{a} and {b} have the same signs, but different magnitude')\n",
    "    elif a<0 and b>=0:\n",
    "        if abs(a) == abs(b):\n",
    "            print(f'{a} and {b} have different signs, but the same magnitude')\n",
    "        else:\n",
    "            print(f'{a} and {b} have different signs, and different magnitude')\n",
    "    elif a>=0 and b<0:\n",
    "        if abs(a) == abs(b):\n",
    "            print(f'{a} and {b} have different signs, but the same magnitude')\n",
    "        else:\n",
    "            print(f'{a} and {b} have different signs, and different magnitude')\n",
    "    else:\n",
    "        if abs(a) == abs(b):\n",
    "            print(f'{a} and {b} have the same signs, and the same magnitude')\n",
    "        else:\n",
    "            print(f'{a} and {b} have the same signs, but different magnitude')"
   ]
  },
  {
   "cell_type": "code",
   "execution_count": 91,
   "metadata": {},
   "outputs": [
    {
     "name": "stdout",
     "output_type": "stream",
     "text": [
      "1 and 1 have the same signs, and the same magnitude\n"
     ]
    }
   ],
   "source": [
    "compare_numbers(1,1)"
   ]
  },
  {
   "cell_type": "markdown",
   "metadata": {},
   "source": [
    "---\n",
    "## Exercise 3.8\n",
    "---\n",
    "- consider the python objects my_list = [0]; my_tuple = (0,);my_int = 0\n",
    "  what are the Boolean values of these objects?\n",
    "- try removing the brackets from the definition of my_tuple -- is the tuple still defined correctly?\n",
    "- can you print out the Boolean value of these objects using only the name of the object and the 'not' operator?\n",
    "\n",
    "\n",
    "\n",
    "\n",
    "\n"
   ]
  },
  {
   "cell_type": "code",
   "execution_count": 121,
   "metadata": {},
   "outputs": [
    {
     "name": "stdout",
     "output_type": "stream",
     "text": [
      "1\n",
      "1\n",
      "False\n"
     ]
    }
   ],
   "source": [
    "my_list = [0]    \n",
    "my_tuple = (0,)   \n",
    "my_int = 0\n",
    "\n",
    "print(my_list.__len__())   # It has a length of 1 which yields a 'True' result (1)\n",
    "print(my_tuple.__len__())  # It has a length of 1 which yields a 'True' result (1)\n",
    "print(my_int.__bool__())   # It is a 0 value integer therefore 'False' (0)"
   ]
  },
  {
   "cell_type": "code",
   "execution_count": 124,
   "metadata": {},
   "outputs": [
    {
     "name": "stdout",
     "output_type": "stream",
     "text": [
      "(0,)\n"
     ]
    }
   ],
   "source": [
    "my_tuple = 0,\n",
    "print(my_tuple) # still defined correctly"
   ]
  },
  {
   "cell_type": "code",
   "execution_count": null,
   "metadata": {},
   "outputs": [],
   "source": []
  }
 ],
 "metadata": {
  "kernelspec": {
   "display_name": "Python 3",
   "language": "python",
   "name": "python3"
  },
  "language_info": {
   "codemirror_mode": {
    "name": "ipython",
    "version": 3
   },
   "file_extension": ".py",
   "mimetype": "text/x-python",
   "name": "python",
   "nbconvert_exporter": "python",
   "pygments_lexer": "ipython3",
   "version": "3.8.8"
  },
  "toc": {
   "base_numbering": 1,
   "nav_menu": {},
   "number_sections": true,
   "sideBar": true,
   "skip_h1_title": false,
   "title_cell": "Table of Contents",
   "title_sidebar": "Contents",
   "toc_cell": false,
   "toc_position": {},
   "toc_section_display": true,
   "toc_window_display": false
  },
  "varInspector": {
   "cols": {
    "lenName": 16,
    "lenType": 16,
    "lenVar": 40
   },
   "kernels_config": {
    "python": {
     "delete_cmd_postfix": "",
     "delete_cmd_prefix": "del ",
     "library": "var_list.py",
     "varRefreshCmd": "print(var_dic_list())"
    },
    "r": {
     "delete_cmd_postfix": ") ",
     "delete_cmd_prefix": "rm(",
     "library": "var_list.r",
     "varRefreshCmd": "cat(var_dic_list()) "
    }
   },
   "types_to_exclude": [
    "module",
    "function",
    "builtin_function_or_method",
    "instance",
    "_Feature"
   ],
   "window_display": false
  }
 },
 "nbformat": 4,
 "nbformat_minor": 2
}
