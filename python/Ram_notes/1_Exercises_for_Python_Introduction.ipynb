{
 "cells": [
  {
   "cell_type": "markdown",
   "metadata": {},
   "source": [
    "# Exercises for Part 1 (Introduction to Python)\n",
    "\n",
    "When attempting these questions, make sure to write all code from scratch.\n",
    "You will learn faster if you avoid copying and pasting."
   ]
  },
  {
   "cell_type": "markdown",
   "metadata": {},
   "source": [
    "---\n",
    "## Exercise 1.1 (Arithmetic operators):\n",
    "---\n",
    "\n",
    "- Write a single expression for the perimeter of a rectangle, given width $a$ and height $b$ \n",
    "- Assign a variable to `4+3*2` and another variable to  `4*3+2` What values to they have, and are they the same or different?\n",
    "- Write Python expressions for $3^{a+b}$ and $\\frac{1}{c+d}$. Try different values of $a$ and $b$ (and also $c$ and $d$) to check that your expression is correct.\n",
    "\n"
   ]
  },
  {
   "cell_type": "code",
   "execution_count": 1,
   "metadata": {},
   "outputs": [],
   "source": [
    "def perimeter_calc(a,b):\n",
    "    perimeter = 2*a + 2*b\n",
    "    print(perimeter)"
   ]
  },
  {
   "cell_type": "code",
   "execution_count": 2,
   "metadata": {},
   "outputs": [
    {
     "name": "stdout",
     "output_type": "stream",
     "text": [
      "16\n"
     ]
    }
   ],
   "source": [
    "perimeter_calc(3,5)"
   ]
  },
  {
   "cell_type": "code",
   "execution_count": 3,
   "metadata": {},
   "outputs": [
    {
     "name": "stdout",
     "output_type": "stream",
     "text": [
      "10\n",
      "14\n"
     ]
    }
   ],
   "source": [
    "x = 4+3*2\n",
    "print(x)\n",
    "y = 4*3+2\n",
    "print(y)"
   ]
  },
  {
   "cell_type": "code",
   "execution_count": 4,
   "metadata": {},
   "outputs": [],
   "source": [
    "def variable_calc(a,b,c,d):\n",
    "    exp1 = 3**(a+b)\n",
    "    print(exp1)\n",
    "    exp2 = 1/(c+d)\n",
    "    print(exp2)"
   ]
  },
  {
   "cell_type": "code",
   "execution_count": 7,
   "metadata": {},
   "outputs": [
    {
     "name": "stdout",
     "output_type": "stream",
     "text": [
      "243\n",
      "0.125\n"
     ]
    }
   ],
   "source": [
    "variable_calc(3,2,2,6)"
   ]
  },
  {
   "cell_type": "markdown",
   "metadata": {},
   "source": [
    "---\n",
    "## Exercise 1.2 (Type Conversion):\n",
    "---\n",
    "\n",
    "- Create a string with the text '1234.56789'. Assign to `my_string`.\n",
    "- Try to convert the string to an integer using `int(my_string)`. What happens?\n",
    "- What other conversion function could you use to covert it into a number? \n",
    "- Can you then round the number to the nearest integer, e.g. in this case, to 1235\n",
    "\n",
    "\n"
   ]
  },
  {
   "cell_type": "code",
   "execution_count": 19,
   "metadata": {},
   "outputs": [
    {
     "name": "stdout",
     "output_type": "stream",
     "text": [
      "1234.56789\n"
     ]
    }
   ],
   "source": [
    "my_string = '1234.56789'\n",
    "print(my_string)"
   ]
  },
  {
   "cell_type": "code",
   "execution_count": 22,
   "metadata": {},
   "outputs": [
    {
     "name": "stdout",
     "output_type": "stream",
     "text": [
      "<class 'str'>\n",
      "1234.56789\n",
      "<class 'float'>\n"
     ]
    }
   ],
   "source": [
    "print(type(my_string))\n",
    "my_int_string = float(my_string)\n",
    "print(my_int_string)\n",
    "print(type(my_int_string))"
   ]
  },
  {
   "cell_type": "code",
   "execution_count": 27,
   "metadata": {},
   "outputs": [
    {
     "name": "stdout",
     "output_type": "stream",
     "text": [
      "1235\n"
     ]
    }
   ],
   "source": [
    "print(f'{my_int_string:.0f}')"
   ]
  },
  {
   "cell_type": "markdown",
   "metadata": {},
   "source": [
    "-------------\n",
    "## Exercise 1.3 (Arithmetic Expressions, Conditionals and Strings)\n",
    "-------------\n",
    "\n",
    "Here, we will write some basic code to calculate the amount in a bank account after interest is accrued.\n",
    "\n",
    "1. Create several variables and assign them values:\n",
    "    - `principal` (the initial amount in the account)\n",
    "    - `rate` (the yearly interest rate)\n",
    "    - `years` (number of years to do compounding)\n",
    "\n",
    "2. Calculate the amount in the bank account if the principal compounds at the specified rate, and over the specified number of years.\n",
    "Assign this to variable `new_principal`.\n",
    "\n",
    "3. Print the amount in the bank account, specifying whether the money is owed or not. E.g: \n",
    "    - If `new_principal` is `-50`, then print \"£50 owed\".\n",
    "    - If `new_principal` is `50`, then print \"£50 in account\".\n"
   ]
  },
  {
   "cell_type": "code",
   "execution_count": 42,
   "metadata": {},
   "outputs": [],
   "source": [
    "def compound_int(principal,rate,years):\n",
    "    \n",
    "    new_principal = principal*((1+rate)**years)\n",
    "\n",
    "    if new_principal<0:\n",
    "        print(f'${new_principal:.2f} owed')\n",
    "    else:\n",
    "        print(f'${new_principal:.2f} in bank account')"
   ]
  },
  {
   "cell_type": "code",
   "execution_count": 44,
   "metadata": {},
   "outputs": [
    {
     "name": "stdout",
     "output_type": "stream",
     "text": [
      "$-1811.36 owed\n"
     ]
    }
   ],
   "source": [
    "compound_int(-1000, 0.02, 30)"
   ]
  },
  {
   "cell_type": "markdown",
   "metadata": {},
   "source": [
    "--- \n",
    "## Exercise 1.4 (Lists):\n",
    "---\n",
    "\n",
    "- What methods have we covered for lists?\n",
    "- Create a list with elements 'a', 'b' and 'c'.\n",
    "- Add 'd' to the end of this list.\n",
    "- Get the first two elements of the list.\n",
    "\n"
   ]
  },
  {
   "cell_type": "code",
   "execution_count": 56,
   "metadata": {},
   "outputs": [
    {
     "name": "stdout",
     "output_type": "stream",
     "text": [
      "['a', 'b', 'c']\n",
      "['a', 'b', 'c', 'd']\n",
      "a\n",
      "b\n"
     ]
    }
   ],
   "source": [
    "my_list = ['a','b','c']\n",
    "print(my_list)\n",
    "my_list.append('d')\n",
    "print(my_list)\n",
    "\n",
    "print(my_list[0])\n",
    "print(my_list[1])"
   ]
  },
  {
   "cell_type": "markdown",
   "metadata": {},
   "source": [
    "---\n",
    "## Exercise 1.5 (Dictionaries):\n",
    "---\n",
    "\n",
    "- Create a dictionary called  `phone_book` with three names as keys and three numbers as values.\n",
    "- Write code to query this phone book (you can create new cells for each question):\n",
    "  - Ask the user for the name they'd like the phone number for\n",
    "  - If this name is in the phone book, print out the name and phone number.\n",
    "  - Otherwise, print out 'Sorry, that name is not in the phone book'.\n",
    "  - Ask the user for a name and number to add to the phone book.\n",
    "- Write extra code \n",
    "  - If the name is already in the book, the user is asked 'are you sure you want to change this person's phone_number?'\n",
    "  - If the new phone_number is empty, then the entry is not added.\n",
    "  - The user is notified if the new phone_number is already held alongside an existing, different name."
   ]
  },
  {
   "cell_type": "code",
   "execution_count": 4,
   "metadata": {},
   "outputs": [],
   "source": [
    "phone_book = {'Matt': '07491 xxx xxx', 'James': '07856 xxx xxx', 'Finn':'07675 xxx xxx'}"
   ]
  },
  {
   "cell_type": "code",
   "execution_count": 7,
   "metadata": {},
   "outputs": [
    {
     "name": "stdout",
     "output_type": "stream",
     "text": [
      "What is the name of the person whose number you need?Karen\n",
      "Sorry, that name is not in the phone book, would you like to add them?\n",
      "y/n?y\n",
      "What is their name?Karen\n",
      "Their number?07845 xxx xxx\n"
     ]
    }
   ],
   "source": [
    "name_input = input(\"What is the name of the person whose number you need?\")\n",
    "\n",
    "if name_input in phone_book:\n",
    "    print(name_input, phone_book.get(name_input))\n",
    "else:\n",
    "    print('Sorry, that name is not in the phone book, would you like to add them?')\n",
    "    question = input(\"y/n?\")\n",
    "    if question == 'y':\n",
    "        new_name = input(\"What is their name?\")\n",
    "        \n",
    "        if new_name in phone_book:\n",
    "            print('This name is already in the phone book, Ovewrite?')\n",
    "            question = input(\"y/n\")\n",
    "            if question == 'y':\n",
    "                new_number = input(\"What is their number?\")\n",
    "                if new_number in phone_book.values():\n",
    "                    print(\"This number is already saved\")\n",
    "                else:\n",
    "                    phone_book[new_name] = new_number\n",
    "                    \n",
    "        else:\n",
    "            new_number = input(\"Their number?\")\n",
    "            if new_number in phone_book.values():\n",
    "                print(\"This number is already saved\")\n",
    "            else:\n",
    "                phone_book[new_name] = new_number\n"
   ]
  },
  {
   "cell_type": "code",
   "execution_count": 8,
   "metadata": {},
   "outputs": [
    {
     "name": "stdout",
     "output_type": "stream",
     "text": [
      "{'Matt': '07491 xxx xxx', 'James': '07856 xxx xxx', 'Finn': '07675 xxx xxx', 'Karen': '07845 xxx xxx'}\n"
     ]
    }
   ],
   "source": [
    "print(phone_book)"
   ]
  },
  {
   "cell_type": "code",
   "execution_count": null,
   "metadata": {},
   "outputs": [],
   "source": []
  },
  {
   "cell_type": "code",
   "execution_count": null,
   "metadata": {},
   "outputs": [],
   "source": []
  },
  {
   "cell_type": "code",
   "execution_count": null,
   "metadata": {},
   "outputs": [],
   "source": []
  },
  {
   "cell_type": "markdown",
   "metadata": {},
   "source": [
    "---\n",
    "## Exercise 1.6 (Iteration and Conditionals):\n",
    "---\n",
    "\n",
    "- Create a list containing 1,2,3,4,5,6\n",
    "- Loop through the list. Print out the value if it is an even number\n"
   ]
  },
  {
   "cell_type": "code",
   "execution_count": 68,
   "metadata": {},
   "outputs": [
    {
     "name": "stdout",
     "output_type": "stream",
     "text": [
      "[1, 2, 3, 4, 5, 6]\n"
     ]
    }
   ],
   "source": [
    "number_list = [1,2,3,4,5,6]\n",
    "print(number_list)"
   ]
  },
  {
   "cell_type": "code",
   "execution_count": 71,
   "metadata": {},
   "outputs": [
    {
     "name": "stdout",
     "output_type": "stream",
     "text": [
      "2\n",
      "4\n",
      "6\n"
     ]
    }
   ],
   "source": [
    "for i in number_list:\n",
    "    if i%2 == 0:\n",
    "        print(i)"
   ]
  },
  {
   "cell_type": "markdown",
   "metadata": {},
   "source": [
    "---\n",
    "## Exercise 1.7 (Iteration and Conditionals):\n",
    "---\n",
    "\n",
    "- Iterate over the integers from 100 (inclusive) to 200 (exclusive)\n",
    "- At each iteration, print out the number , UNLESS:\n",
    "    - If the number is divisible by 5, print `'foo'`\n",
    "    - If the number is divisible by 7, print `'bar'`\n",
    "    - If the number is divisible by both 5 and 7, print `'foobar'`\n",
    "    "
   ]
  },
  {
   "cell_type": "code",
   "execution_count": 74,
   "metadata": {},
   "outputs": [
    {
     "name": "stdout",
     "output_type": "stream",
     "text": [
      "foo\n",
      "101\n",
      "102\n",
      "103\n",
      "104\n",
      "foobar\n",
      "106\n",
      "107\n",
      "108\n",
      "109\n",
      "foo\n",
      "111\n",
      "bar\n",
      "113\n",
      "114\n",
      "foo\n",
      "116\n",
      "117\n",
      "118\n",
      "bar\n",
      "foo\n",
      "121\n",
      "122\n",
      "123\n",
      "124\n",
      "foo\n",
      "bar\n",
      "127\n",
      "128\n",
      "129\n",
      "foo\n",
      "131\n",
      "132\n",
      "bar\n",
      "134\n",
      "foo\n",
      "136\n",
      "137\n",
      "138\n",
      "139\n",
      "foobar\n",
      "141\n",
      "142\n",
      "143\n",
      "144\n",
      "foo\n",
      "146\n",
      "bar\n",
      "148\n",
      "149\n",
      "foo\n",
      "151\n",
      "152\n",
      "153\n",
      "bar\n",
      "foo\n",
      "156\n",
      "157\n",
      "158\n",
      "159\n",
      "foo\n",
      "bar\n",
      "162\n",
      "163\n",
      "164\n",
      "foo\n",
      "166\n",
      "167\n",
      "bar\n",
      "169\n",
      "foo\n",
      "171\n",
      "172\n",
      "173\n",
      "174\n",
      "foobar\n",
      "176\n",
      "177\n",
      "178\n",
      "179\n",
      "foo\n",
      "181\n",
      "bar\n",
      "183\n",
      "184\n",
      "foo\n",
      "186\n",
      "187\n",
      "188\n",
      "bar\n",
      "foo\n",
      "191\n",
      "192\n",
      "193\n",
      "194\n",
      "foo\n",
      "bar\n",
      "197\n",
      "198\n",
      "199\n",
      "foo\n"
     ]
    }
   ],
   "source": [
    "num_range = range(100,201)\n",
    "num_range = list(num_range)\n",
    "\n",
    "for i in num_range:\n",
    "    if i%35 == 0:\n",
    "        print('foobar')\n",
    "    elif i%5 == 0:\n",
    "        print('foo')\n",
    "    elif i%7 == 0:\n",
    "        print('bar')\n",
    "    else:\n",
    "        print(i)"
   ]
  },
  {
   "cell_type": "markdown",
   "metadata": {},
   "source": [
    "---\n",
    "## Exercise 1.8 Times Tables (Iteration and String formatting) square\n",
    "---\n",
    "Write a Python program to print out the *N* times tables  \n",
    "Example output for N = 6:\n",
    "\n",
    "1x6=6     \n",
    "2x6=12    \n",
    "3x6=18    \n",
    "4x6=24    \n",
    "5x6=30    \n",
    "6x6=36    "
   ]
  },
  {
   "cell_type": "code",
   "execution_count": 87,
   "metadata": {},
   "outputs": [],
   "source": [
    "def times_table(n, x):\n",
    "    for i in x:\n",
    "        y = i*n\n",
    "        print(f'{i}x{n}={y}')\n",
    "\n",
    "\n",
    "    \n",
    "    "
   ]
  },
  {
   "cell_type": "code",
   "execution_count": 88,
   "metadata": {},
   "outputs": [
    {
     "name": "stdout",
     "output_type": "stream",
     "text": [
      "What times table would you like?6\n",
      "How many numbers would you like it to go up to?6\n",
      "1x6=6\n",
      "2x6=12\n",
      "3x6=18\n",
      "4x6=24\n",
      "5x6=30\n",
      "6x6=36\n"
     ]
    }
   ],
   "source": [
    "n = int(input(\"What times table would you like?\"))\n",
    "x = int(input(\"How many numbers would you like it to go up to?\"))\n",
    "\n",
    "num_range1 = range(1,x+1)\n",
    "num_range1 = list(num_range1)\n",
    "\n",
    "times_table(n, num_range1)"
   ]
  },
  {
   "cell_type": "code",
   "execution_count": null,
   "metadata": {},
   "outputs": [],
   "source": []
  },
  {
   "cell_type": "code",
   "execution_count": null,
   "metadata": {},
   "outputs": [],
   "source": []
  },
  {
   "cell_type": "markdown",
   "metadata": {},
   "source": [
    "---\n",
    "## Exercise 1.9 (File IO):\n",
    "---\n",
    "- Create a file containing text '<Your name here> is awesome!'\n",
    "- Read in this file and print out its contents\n",
    "- Append to the file 'I like muffins'\n",
    "- Append to the file 'I love learning!'\n",
    "- Check that the contents have been appended appropriately\n",
    "\n"
   ]
  },
  {
   "cell_type": "code",
   "execution_count": 91,
   "metadata": {},
   "outputs": [],
   "source": [
    "text = ' is awesome!'\n",
    "my_file = open('exercise1.txt', 'w')\n",
    "my_file.write(text)\n",
    "my_file.close()"
   ]
  },
  {
   "cell_type": "code",
   "execution_count": 92,
   "metadata": {},
   "outputs": [
    {
     "name": "stdout",
     "output_type": "stream",
     "text": [
      " is awesome!\n"
     ]
    }
   ],
   "source": [
    "my_file = open('exercise1.txt', 'r')\n",
    "text_1 = my_file.read()\n",
    "my_file.close()\n",
    "print(text_1)"
   ]
  },
  {
   "cell_type": "code",
   "execution_count": 93,
   "metadata": {},
   "outputs": [],
   "source": [
    "text_2 = ' I like muffins.'\n",
    "my_file = open('exercise1.txt', 'a')\n",
    "my_file.write(text_2)\n",
    "my_file.close()"
   ]
  },
  {
   "cell_type": "code",
   "execution_count": 94,
   "metadata": {},
   "outputs": [],
   "source": [
    "text_3 = ' I love learning?'\n",
    "my_file = open('exercise1.txt', 'a')\n",
    "my_file.write(text_3)\n",
    "my_file.close()"
   ]
  },
  {
   "cell_type": "code",
   "execution_count": 95,
   "metadata": {},
   "outputs": [
    {
     "name": "stdout",
     "output_type": "stream",
     "text": [
      " is awesome! I like muffins. I love learning?\n"
     ]
    }
   ],
   "source": [
    "my_file = open('exercise1.txt', 'r')\n",
    "text_4 = my_file.read()\n",
    "my_file.close()\n",
    "print(text_4)"
   ]
  },
  {
   "cell_type": "markdown",
   "metadata": {},
   "source": [
    "---\n",
    "## Exercise 1.10 (Exception Handling):\n",
    "---\n",
    "- Create a function to read and print out the first line of a file\n",
    "- If the file does not exist, print out 'My file is missing...:('\n"
   ]
  },
  {
   "cell_type": "code",
   "execution_count": 107,
   "metadata": {},
   "outputs": [],
   "source": [
    "def name_file(city_list):\n",
    "\n",
    "    my_cities = open('exercise1_10.txt', 'w')\n",
    "    for i in city_list:\n",
    "        my_cities.write(i)\n",
    "        my_cities.write('\\n')\n",
    "        \n",
    "    my_cities.close()\n",
    "\n"
   ]
  },
  {
   "cell_type": "code",
   "execution_count": 104,
   "metadata": {},
   "outputs": [
    {
     "name": "stdout",
     "output_type": "stream",
     "text": [
      "['Derby', 'Nottingham', 'Leeds', 'Manchester', 'Newcastle']\n"
     ]
    }
   ],
   "source": [
    "cities = ['Derby', 'Nottingham', 'Leeds', 'Manchester', 'Newcastle']\n",
    "print(cities)"
   ]
  },
  {
   "cell_type": "code",
   "execution_count": 108,
   "metadata": {},
   "outputs": [],
   "source": [
    "name_file(cities)"
   ]
  },
  {
   "cell_type": "code",
   "execution_count": 115,
   "metadata": {},
   "outputs": [
    {
     "name": "stdout",
     "output_type": "stream",
     "text": [
      "Derby\n",
      "\n"
     ]
    }
   ],
   "source": [
    "with open('exercise1_10.txt') as f:\n",
    "    first_line = f.readline()\n",
    "    print(first_line)"
   ]
  },
  {
   "cell_type": "code",
   "execution_count": 119,
   "metadata": {},
   "outputs": [
    {
     "name": "stdout",
     "output_type": "stream",
     "text": [
      "Derby\n",
      "\n"
     ]
    }
   ],
   "source": [
    "import os.path\n",
    "if os.path.exists('exercise1_10.txt') == True:\n",
    "    with open('exercise1_10.txt') as f:\n",
    "        first_line = f.readline()\n",
    "        print(first_line)\n",
    "else:\n",
    "    print('My file is missing... :(')\n"
   ]
  },
  {
   "cell_type": "code",
   "execution_count": null,
   "metadata": {},
   "outputs": [],
   "source": []
  }
 ],
 "metadata": {
  "interpreter": {
   "hash": "cafeaa2399fa74e6dc79b3b726e7872fe86cf7945b44d42102441e40f1b90793"
  },
  "kernelspec": {
   "display_name": "Python 3",
   "language": "python",
   "name": "python3"
  },
  "language_info": {
   "codemirror_mode": {
    "name": "ipython",
    "version": 3
   },
   "file_extension": ".py",
   "mimetype": "text/x-python",
   "name": "python",
   "nbconvert_exporter": "python",
   "pygments_lexer": "ipython3",
   "version": "3.8.8"
  },
  "toc": {
   "base_numbering": 1,
   "nav_menu": {},
   "number_sections": true,
   "sideBar": true,
   "skip_h1_title": false,
   "title_cell": "Table of Contents",
   "title_sidebar": "Contents",
   "toc_cell": false,
   "toc_position": {},
   "toc_section_display": true,
   "toc_window_display": false
  }
 },
 "nbformat": 4,
 "nbformat_minor": 2
}
