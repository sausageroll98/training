{
 "cells": [
  {
   "cell_type": "markdown",
   "id": "b8768be0",
   "metadata": {},
   "source": [
    "## Boolean expressions and Truth values"
   ]
  },
  {
   "cell_type": "markdown",
   "id": "e11ec66f",
   "metadata": {},
   "source": [
    "An expression is any combination of symbols that represents a value.  \n",
    "\n",
    "A boolean expression is an expression that returns a boolean value (True, False).\n",
    "\n",
    "\n",
    "\n",
    "|A|B|A and B|A or B|not A|\n",
    "\n",
    "|-|-|-      |-     |-    |\n",
    "\n",
    "|F|F|F      |F     |T    |\n",
    "\n",
    "|F|T|F      |T     |T    |\n",
    "\n",
    "|T|F|F      |T     |F    |\n",
    "\n",
    "|T|T|T      |T     |F    |\n",
    "\n",
    "\n",
    "\n",
    "\n",
    "~~~\n",
    "\n",
    "The 'and', 'or', and 'not' keywords are commonly used to form boolean expressions.\n",
    "\n",
    "- x or y : If x is considered false, return y. Otherwise return x.\n",
    "\n",
    "- x and y: If x is considered false, return x. Otherwise return y.\n",
    "\n",
    "- not x  : If x is considered false, return True. Otherwise return False.\n",
    "\n",
    "\n",
    "\n",
    "By default, an object is considered to be true unless either of the following holds:\n",
    "\n",
    "- it has a __len__() method that returns zero.\n",
    "\n",
    "- it has a __bool__() method that returns false.\n",
    "\n",
    "- it has value of zero.\n",
    "\n",
    "~~~\n",
    "\n",
    "Every Python expression can be interpreted as either `True` or `False`\n",
    "\n",
    "Example:\n",
    "\n",
    "```\n",
    "\n",
    "my_list = [] # False -- length is zero\n",
    "\n",
    "my_list = [1] # True -- length is not zero\n",
    "\n",
    "my_dict = {} # False -- length is zero\n",
    "\n",
    "```"
   ]
  },
  {
   "cell_type": "code",
   "execution_count": 1,
   "id": "07eee61f",
   "metadata": {},
   "outputs": [
    {
     "data": {
      "text/plain": [
       "True"
      ]
     },
     "execution_count": 1,
     "metadata": {},
     "output_type": "execute_result"
    }
   ],
   "source": [
    "True or False"
   ]
  },
  {
   "cell_type": "code",
   "execution_count": 2,
   "id": "9a1cf148",
   "metadata": {},
   "outputs": [
    {
     "data": {
      "text/plain": [
       "False"
      ]
     },
     "execution_count": 2,
     "metadata": {},
     "output_type": "execute_result"
    }
   ],
   "source": [
    "True and False"
   ]
  },
  {
   "cell_type": "code",
   "execution_count": 3,
   "id": "e27774ba",
   "metadata": {},
   "outputs": [
    {
     "data": {
      "text/plain": [
       "False"
      ]
     },
     "execution_count": 3,
     "metadata": {},
     "output_type": "execute_result"
    }
   ],
   "source": [
    "False and True"
   ]
  },
  {
   "cell_type": "code",
   "execution_count": 4,
   "id": "4b4d4bad",
   "metadata": {},
   "outputs": [
    {
     "data": {
      "text/plain": [
       "False"
      ]
     },
     "execution_count": 4,
     "metadata": {},
     "output_type": "execute_result"
    }
   ],
   "source": [
    "'Hello' and False"
   ]
  },
  {
   "cell_type": "code",
   "execution_count": 5,
   "id": "373a990c",
   "metadata": {},
   "outputs": [
    {
     "data": {
      "text/plain": [
       "0"
      ]
     },
     "execution_count": 5,
     "metadata": {},
     "output_type": "execute_result"
    }
   ],
   "source": [
    "my_list = []\n",
    "my_list.__len__()"
   ]
  },
  {
   "cell_type": "code",
   "execution_count": 6,
   "id": "e25118b4",
   "metadata": {},
   "outputs": [
    {
     "data": {
      "text/plain": [
       "False"
      ]
     },
     "execution_count": 6,
     "metadata": {},
     "output_type": "execute_result"
    }
   ],
   "source": [
    "False and my_list"
   ]
  },
  {
   "cell_type": "code",
   "execution_count": 61,
   "id": "bad7946e",
   "metadata": {},
   "outputs": [
    {
     "data": {
      "text/plain": [
       "1"
      ]
     },
     "execution_count": 61,
     "metadata": {},
     "output_type": "execute_result"
    }
   ],
   "source": [
    "my_list = [0]\n",
    "my_list.__len__()"
   ]
  },
  {
   "cell_type": "code",
   "execution_count": 62,
   "id": "3cb7b957",
   "metadata": {},
   "outputs": [
    {
     "data": {
      "text/plain": [
       "1"
      ]
     },
     "execution_count": 62,
     "metadata": {},
     "output_type": "execute_result"
    }
   ],
   "source": [
    "False or my_list.__len__()"
   ]
  },
  {
   "cell_type": "code",
   "execution_count": 9,
   "id": "667b434a",
   "metadata": {},
   "outputs": [
    {
     "name": "stdout",
     "output_type": "stream",
     "text": [
      "inside else block\n"
     ]
    }
   ],
   "source": [
    "my_list = []\n",
    "if my_list: # my_list will be evaluated as false\n",
    "    print('inside if block')\n",
    "else:\n",
    "    print('inside else block')"
   ]
  },
  {
   "cell_type": "code",
   "execution_count": 10,
   "id": "05fbbd1a",
   "metadata": {},
   "outputs": [
    {
     "name": "stdout",
     "output_type": "stream",
     "text": [
      "inside if block\n"
     ]
    }
   ],
   "source": [
    "my_set = {0}\n",
    "if my_set:\n",
    "    print('inside if block')\n",
    "else:\n",
    "    print('inside else block')    "
   ]
  },
  {
   "cell_type": "code",
   "execution_count": 11,
   "id": "acdfc56d",
   "metadata": {},
   "outputs": [
    {
     "data": {
      "text/plain": [
       "1"
      ]
     },
     "execution_count": 11,
     "metadata": {},
     "output_type": "execute_result"
    }
   ],
   "source": [
    "len(my_set)"
   ]
  },
  {
   "cell_type": "code",
   "execution_count": 12,
   "id": "a16da951",
   "metadata": {},
   "outputs": [
    {
     "name": "stdout",
     "output_type": "stream",
     "text": [
      "inside else block\n"
     ]
    }
   ],
   "source": [
    "abc = 0\n",
    "if abc:\n",
    "    print('inside if block')\n",
    "else:\n",
    "    print('inside else block')  "
   ]
  },
  {
   "cell_type": "code",
   "execution_count": 13,
   "id": "091392a2",
   "metadata": {},
   "outputs": [
    {
     "data": {
      "text/plain": [
       "False"
      ]
     },
     "execution_count": 13,
     "metadata": {},
     "output_type": "execute_result"
    }
   ],
   "source": [
    "bool(abc)"
   ]
  },
  {
   "cell_type": "markdown",
   "id": "867d7469",
   "metadata": {},
   "source": [
    "### Example"
   ]
  },
  {
   "cell_type": "code",
   "execution_count": 63,
   "id": "936679c0",
   "metadata": {},
   "outputs": [
    {
     "name": "stdout",
     "output_type": "stream",
     "text": [
      "Please enter a number: 20\n"
     ]
    }
   ],
   "source": [
    "user_input = int(input('Please enter a number: '))"
   ]
  },
  {
   "cell_type": "code",
   "execution_count": 64,
   "id": "6454fa4f",
   "metadata": {},
   "outputs": [
    {
     "data": {
      "text/plain": [
       "20"
      ]
     },
     "execution_count": 64,
     "metadata": {},
     "output_type": "execute_result"
    }
   ],
   "source": [
    "user_input"
   ]
  },
  {
   "cell_type": "code",
   "execution_count": 65,
   "id": "8958f6ef",
   "metadata": {},
   "outputs": [
    {
     "name": "stdout",
     "output_type": "stream",
     "text": [
      "number is less than 10 or equal to 100\n"
     ]
    }
   ],
   "source": [
    "# Incorrect solution\n",
    "if user_input < 10 or 100:\n",
    "    print('number is less than 10 or equal to 100')\n",
    "else:\n",
    "    print('number is greater than 10 and not equal to 100')"
   ]
  },
  {
   "cell_type": "code",
   "execution_count": 66,
   "id": "5431b746",
   "metadata": {},
   "outputs": [
    {
     "name": "stdout",
     "output_type": "stream",
     "text": [
      "number is greater than 10 and not equal to 100\n"
     ]
    }
   ],
   "source": [
    "# Correct solution\n",
    "if user_input < 10 or user_input == 100:\n",
    "    print('number is less than 10 or equal to 100')\n",
    "else:\n",
    "    print('number is greater than 10 and not equal to 100')"
   ]
  },
  {
   "cell_type": "markdown",
   "id": "dc2ed6df",
   "metadata": {},
   "source": [
    "## Conditional execution\n",
    "\n",
    "`if`, `elif` and `else` statements are used for conditional execution\n",
    "\n",
    "`if` block\n",
    "\n",
    "\n",
    "\n",
    "```\n",
    "if <condition>:\n",
    "# block to execute if <condition> is True\n",
    "<statement>\n",
    "<statement>\n",
    "...\n",
    "```\n",
    "\n",
    "\n",
    "\n",
    "`if-else` block\n",
    "\n",
    "\n",
    "\n",
    "```\n",
    "if <condition>:\n",
    "# block to execute if <condition> is True\n",
    "<statement>\n",
    "<statement>\n",
    "...\n",
    "else:\n",
    "# block to execute if <condition> is False\n",
    "<statement>\n",
    "<statement>\n",
    "...\n",
    "```\n",
    "\n",
    "\n",
    "\n",
    "`if-elif-else` block\n",
    "\n",
    "\n",
    "\n",
    "```\n",
    "if <condition>:\n",
    "# block to execute if <condition> is True\n",
    "<statement>\n",
    "<statement>\n",
    "...\n",
    "elif <condition2>:\n",
    "# block to execute if <condition2> is True\n",
    "<statement>\n",
    "<statement>\n",
    "...\n",
    "elif <condition3>:\n",
    "# block to execute if <condition3> is True\n",
    "<statement>\n",
    "<statement>\n",
    "...\n",
    "...\n",
    "else:\n",
    "# block to execute if none of the conditions above are True\n",
    "<statement>\n",
    "<statement>\n",
    "...\n",
    "```"
   ]
  },
  {
   "cell_type": "markdown",
   "id": "c1da8775",
   "metadata": {},
   "source": [
    "Notes\n",
    "\n",
    " - Blocks are executed when the relevant boolean expression is true\n",
    " - We can have an arbitrary number of elif statements. Order matters in elif.\n",
    " - `elif` and `else` blocks are optional\n",
    " - Only one block of statements is executed. Boolean expressions are checked from top to bottom."
   ]
  },
  {
   "cell_type": "code",
   "execution_count": 18,
   "id": "de3862e3",
   "metadata": {},
   "outputs": [
    {
     "name": "stdout",
     "output_type": "stream",
     "text": [
      "Grade is C\n",
      "Thank you!\n"
     ]
    }
   ],
   "source": [
    "score = 75\n",
    "\n",
    "if score > 90:\n",
    "    print('Grade is A')\n",
    "elif score > 80:\n",
    "    print('Grade is B')\n",
    "elif score > 70:\n",
    "    print('Grade is C')\n",
    "elif score > 50:\n",
    "    print('Grade is D')\n",
    "else:\n",
    "    print('Grade is F')\n",
    "print('Thank you!')"
   ]
  },
  {
   "cell_type": "code",
   "execution_count": 19,
   "id": "e242a119",
   "metadata": {},
   "outputs": [
    {
     "name": "stdout",
     "output_type": "stream",
     "text": [
      "What is your salary?100000\n",
      "Your tax is £27600.0\n"
     ]
    }
   ],
   "source": [
    "user_salary = int(input('What is your salary?'))\n",
    "if user_salary < 12000:\n",
    "    tax = 0\n",
    "elif 12000 <= user_salary < 50000:\n",
    "    tax = (user_salary - 12000)*0.2\n",
    "else:\n",
    "    tax = (user_salary - 50000)*0.4 + 38000*0.2\n",
    "print(f'Your tax is £{tax}')"
   ]
  },
  {
   "cell_type": "markdown",
   "id": "2b963caf",
   "metadata": {},
   "source": [
    "## Iteration and Looping \n",
    "\n",
    " - `for` loops\n",
    " - `while` loops"
   ]
  },
  {
   "cell_type": "markdown",
   "id": "c7871359",
   "metadata": {},
   "source": [
    "### `for` loop\n",
    "\n",
    "For loops are used to iterate through an iterable object \n",
    "\n",
    "```\n",
    "for i in <iterable>:\n",
    "    <statement>\n",
    "    <statement>\n",
    "```\n",
    "\n",
    " - Examples of iterable objects include lists, tuples, sets, dictionaries and strings\n",
    " - `i` is called the iterator variable\n"
   ]
  },
  {
   "cell_type": "code",
   "execution_count": 20,
   "id": "d7d27410",
   "metadata": {},
   "outputs": [
    {
     "name": "stdout",
     "output_type": "stream",
     "text": [
      "1\n",
      "2\n",
      "3\n",
      "4\n",
      "5\n",
      "6\n",
      "7\n",
      "8\n",
      "9\n",
      "10\n",
      "Finished!\n"
     ]
    }
   ],
   "source": [
    "# Iterate through a list\n",
    "list_a = [1,2,3,4,5,6,7,8,9,10]\n",
    "for item in list_a:\n",
    "    print(item)\n",
    "print('Finished!')"
   ]
  },
  {
   "cell_type": "code",
   "execution_count": 21,
   "id": "a3aafde7",
   "metadata": {},
   "outputs": [
    {
     "name": "stdout",
     "output_type": "stream",
     "text": [
      "DRINKING\n",
      "SLEEPING\n",
      "EATING\n",
      "PLAYING\n"
     ]
    }
   ],
   "source": [
    "# Iterate through a set\n",
    "set_a = {'sleeping','eating','drinking','playing'}\n",
    "for i in set_a:\n",
    "    print(i.upper())"
   ]
  },
  {
   "cell_type": "code",
   "execution_count": 67,
   "id": "38e3c26e",
   "metadata": {},
   "outputs": [
    {
     "name": "stdout",
     "output_type": "stream",
     "text": [
      "Matthew\n",
      "12345\n",
      "Caitlin\n",
      "67890\n",
      "James\n",
      "34567\n"
     ]
    }
   ],
   "source": [
    "# Iterate through a dictionary\n",
    "phone_book = {'Matthew': 12345,'Caitlin': 67890,'James': 34567}\n",
    "for i in phone_book:\n",
    "    print(i)\n",
    "    print(phone_book[i])"
   ]
  },
  {
   "cell_type": "code",
   "execution_count": 71,
   "id": "fd9319da",
   "metadata": {},
   "outputs": [
    {
     "name": "stdout",
     "output_type": "stream",
     "text": [
      "Matthew\n",
      "Caitlin\n",
      "James\n"
     ]
    }
   ],
   "source": [
    "# Iterate through the keys in a dictionary\n",
    "for i in phone_book.keys():\n",
    "    print(i)"
   ]
  },
  {
   "cell_type": "code",
   "execution_count": 24,
   "id": "b343d5d8",
   "metadata": {},
   "outputs": [
    {
     "name": "stdout",
     "output_type": "stream",
     "text": [
      "12345\n",
      "67890\n",
      "34567\n"
     ]
    }
   ],
   "source": [
    "# Iterate through the values in a dictionary\n",
    "for i in phone_book.values():\n",
    "    print(i)"
   ]
  },
  {
   "cell_type": "code",
   "execution_count": 25,
   "id": "010f3075",
   "metadata": {},
   "outputs": [
    {
     "name": "stdout",
     "output_type": "stream",
     "text": [
      "('Matthew', 12345)\n",
      "('Caitlin', 67890)\n",
      "('James', 34567)\n"
     ]
    }
   ],
   "source": [
    "# Iterate through the items in a dictionary\n",
    "for i in phone_book.items():\n",
    "    print(i)"
   ]
  },
  {
   "cell_type": "code",
   "execution_count": 26,
   "id": "869ecdf7",
   "metadata": {},
   "outputs": [
    {
     "name": "stdout",
     "output_type": "stream",
     "text": [
      "Key is Matthew and Value is 12345\n",
      "Key is Caitlin and Value is 67890\n",
      "Key is James and Value is 34567\n"
     ]
    }
   ],
   "source": [
    "# Iterate through the items and unpack each item into key and value\n",
    "for key, value in phone_book.items():\n",
    "    print(f'Key is {key} and Value is {value}')"
   ]
  },
  {
   "cell_type": "markdown",
   "id": "5f1f7595",
   "metadata": {},
   "source": [
    "### Variable Unpacking"
   ]
  },
  {
   "cell_type": "code",
   "execution_count": 27,
   "id": "256a1561",
   "metadata": {},
   "outputs": [],
   "source": [
    "a,b,c,d = ('Name','Gian','Number',12345)"
   ]
  },
  {
   "cell_type": "code",
   "execution_count": 28,
   "id": "729e0ae5",
   "metadata": {},
   "outputs": [
    {
     "name": "stdout",
     "output_type": "stream",
     "text": [
      "Name\n",
      "Gian\n",
      "Number\n",
      "12345\n"
     ]
    }
   ],
   "source": [
    "print(a)\n",
    "print(b)\n",
    "print(c)\n",
    "print(d)"
   ]
  },
  {
   "cell_type": "markdown",
   "id": "e6e6470e",
   "metadata": {},
   "source": [
    "#### Concept check"
   ]
  },
  {
   "cell_type": "code",
   "execution_count": 29,
   "id": "6e32c435",
   "metadata": {},
   "outputs": [
    {
     "name": "stdout",
     "output_type": "stream",
     "text": [
      "2\n",
      "4\n",
      "6\n",
      "8\n",
      "10\n"
     ]
    }
   ],
   "source": [
    "a = [1,2,3,4,5,6,7,8,9,10]\n",
    "\n",
    "for i in a:\n",
    "    if i%2 == 0:\n",
    "        print(i)"
   ]
  },
  {
   "cell_type": "code",
   "execution_count": 30,
   "id": "c27c24b5",
   "metadata": {},
   "outputs": [
    {
     "name": "stdout",
     "output_type": "stream",
     "text": [
      "2\n",
      "4\n",
      "6\n",
      "8\n",
      "10\n"
     ]
    }
   ],
   "source": [
    "a = [1,2,3,4,5,6,7,8,9,10]\n",
    "\n",
    "x = len(a)\n",
    "num_range = range(0,x,1)\n",
    "# num_list = list(num_range)\n",
    "\n",
    "for i in num_range:\n",
    "    if i%2 == 0:\n",
    "        print(a[i+1])\n",
    "    \n",
    "    "
   ]
  },
  {
   "cell_type": "markdown",
   "id": "692b05d3",
   "metadata": {},
   "source": [
    "### Range function\n",
    "\n",
    "Built-in function `range` that generates a range of numbers.\n",
    "\n",
    "- range(n) generates numbers from 0 to n-1\n",
    "- range(m,n) generates numbers from m to n-1\n",
    "- range(m,n,s) generates numbers from m to n-1 with a step s"
   ]
  },
  {
   "cell_type": "code",
   "execution_count": 31,
   "id": "62eea8d5",
   "metadata": {},
   "outputs": [
    {
     "data": {
      "text/plain": [
       "[0, 1, 2, 3, 4, 5, 6, 7, 8, 9]"
      ]
     },
     "execution_count": 31,
     "metadata": {},
     "output_type": "execute_result"
    }
   ],
   "source": [
    "list(range(10))"
   ]
  },
  {
   "cell_type": "code",
   "execution_count": 32,
   "id": "79cef1d1",
   "metadata": {},
   "outputs": [
    {
     "data": {
      "text/plain": [
       "range(0, 10)"
      ]
     },
     "execution_count": 32,
     "metadata": {},
     "output_type": "execute_result"
    }
   ],
   "source": [
    "range(10)"
   ]
  },
  {
   "cell_type": "code",
   "execution_count": 33,
   "id": "ff1fcf2e",
   "metadata": {},
   "outputs": [
    {
     "data": {
      "text/plain": [
       "[10, 12, 14, 16, 18]"
      ]
     },
     "execution_count": 33,
     "metadata": {},
     "output_type": "execute_result"
    }
   ],
   "source": [
    "list(range(10,20,2))"
   ]
  },
  {
   "cell_type": "markdown",
   "id": "b877a6a2",
   "metadata": {},
   "source": [
    "Using a counter to keep track of the loop count"
   ]
  },
  {
   "cell_type": "code",
   "execution_count": 34,
   "id": "4748898c",
   "metadata": {},
   "outputs": [
    {
     "name": "stdout",
     "output_type": "stream",
     "text": [
      "Count is 1 and Value is a\n",
      "Count is 2 and Value is b\n",
      "Count is 3 and Value is c\n",
      "Count is 4 and Value is d\n",
      "Count is 5 and Value is e\n",
      "Count is 6 and Value is f\n",
      "Count is 7 and Value is g\n",
      "Count is 8 and Value is h\n",
      "Count is 9 and Value is i\n",
      "Count is 10 and Value is j\n"
     ]
    }
   ],
   "source": [
    "my_list = ['a','b','c','d','e','f','g','h','i','j']\n",
    "count = 0\n",
    "for i in my_list:\n",
    "    count = count + 1 # count += 1 is the same as count = count + 1\n",
    "    print(f'Count is {count} and Value is {i}')"
   ]
  },
  {
   "cell_type": "markdown",
   "id": "ac18f03b",
   "metadata": {},
   "source": [
    "`enumerate` function"
   ]
  },
  {
   "cell_type": "code",
   "execution_count": 35,
   "id": "a2d68b46",
   "metadata": {},
   "outputs": [
    {
     "data": {
      "text/plain": [
       "[(0, 'a'),\n",
       " (1, 'b'),\n",
       " (2, 'c'),\n",
       " (3, 'd'),\n",
       " (4, 'e'),\n",
       " (5, 'f'),\n",
       " (6, 'g'),\n",
       " (7, 'h'),\n",
       " (8, 'i'),\n",
       " (9, 'j')]"
      ]
     },
     "execution_count": 35,
     "metadata": {},
     "output_type": "execute_result"
    }
   ],
   "source": [
    "list(enumerate(my_list))"
   ]
  },
  {
   "cell_type": "code",
   "execution_count": 36,
   "id": "2fd6cc3e",
   "metadata": {},
   "outputs": [
    {
     "name": "stdout",
     "output_type": "stream",
     "text": [
      "Count is 1 and Value is a\n",
      "Count is 2 and Value is b\n",
      "Count is 3 and Value is c\n",
      "Count is 4 and Value is d\n",
      "Count is 5 and Value is e\n",
      "Count is 6 and Value is f\n",
      "Count is 7 and Value is g\n",
      "Count is 8 and Value is h\n",
      "Count is 9 and Value is i\n",
      "Count is 10 and Value is j\n"
     ]
    }
   ],
   "source": [
    "my_list = ['a','b','c','d','e','f','g','h','i','j']\n",
    "for count, i in enumerate(my_list):\n",
    "    print(f'Count is {count+1} and Value is {i}')"
   ]
  },
  {
   "cell_type": "markdown",
   "id": "55df45ca",
   "metadata": {},
   "source": [
    "#### Concept check"
   ]
  },
  {
   "cell_type": "code",
   "execution_count": 37,
   "id": "63b2f1c5",
   "metadata": {},
   "outputs": [
    {
     "name": "stdout",
     "output_type": "stream",
     "text": [
      "[4, 38, 98, 68, 21, 69, 62, 57, 6, 33, 98, 39, 95, 69, 37, 79, 4, 45, 77, 41]\n",
      "---------\n",
      "[(1, 40), (2, 380), (3, 980), (4, 680), (5, 210), (6, 690), (7, 620), (8, 570), (9, 60), (10, 330), (11, 980), (12, 390), (13, 950), (14, 690), (15, 370), (16, 790), (17, 40), (18, 450), (19, 770), (20, 410)]\n",
      "---------\n",
      "[(1, 14), (2, 48), (3, 108), (4, 78), (5, 31), (6, 79), (7, 72), (8, 67), (9, 16), (10, 43), (11, 108), (12, 49), (13, 105), (14, 79), (15, 47), (16, 89), (17, 14), (18, 55), (19, 87), (20, 51)]\n"
     ]
    }
   ],
   "source": [
    "import random\n",
    "rand_list = []\n",
    "\n",
    "for i in range(20):\n",
    "    rand_list.append(random.randint(0,100))\n",
    "print(rand_list)\n",
    "\n",
    "print('---------')\n",
    "\n",
    "count = 0\n",
    "my_list1 = []\n",
    "\n",
    "for i in range(20):\n",
    "    count += 1\n",
    "    # print(f'Count is {count} and Value is {rand_list[i]*10}')\n",
    "    a = (count,rand_list[i]*10)\n",
    "    my_list1.append(a)\n",
    "print(my_list1)\n",
    "\n",
    "print('---------')\n",
    "\n",
    "my_list2 = []\n",
    "\n",
    "for count, i in enumerate(rand_list):\n",
    "    # print(f'Count is {count+1} and Value is {i+10}')\n",
    "    a = (count+1, i+10)\n",
    "    my_list2.append(a)\n",
    "print(my_list2)"
   ]
  },
  {
   "cell_type": "markdown",
   "id": "1036d834",
   "metadata": {},
   "source": [
    "Nested `for` loops\n",
    "\n",
    "- If you have an inner and an outer for loop, every one run of the outer loop, the inner loop runs to completion\n",
    "- In every iteration of the outer loop, the inner loop starts from the beginning"
   ]
  },
  {
   "cell_type": "code",
   "execution_count": 38,
   "id": "f4f5a9c7",
   "metadata": {},
   "outputs": [
    {
     "name": "stdout",
     "output_type": "stream",
     "text": [
      "***\n",
      "1 a\n",
      "---\n",
      "1 b\n",
      "---\n",
      "1 c\n",
      "---\n",
      "***\n",
      "2 a\n",
      "---\n",
      "2 b\n",
      "---\n",
      "2 c\n",
      "---\n",
      "***\n",
      "3 a\n",
      "---\n",
      "3 b\n",
      "---\n",
      "3 c\n",
      "---\n",
      "+++\n"
     ]
    }
   ],
   "source": [
    "list_i = [1,2,3]\n",
    "list_j = ['a','b','c']\n",
    "\n",
    "for i in list_i:   # outer loop\n",
    "    print('***')\n",
    "    for j in list_j:   # inner loop\n",
    "        print(i,j)\n",
    "        print('---')\n",
    "print('+++')"
   ]
  },
  {
   "cell_type": "markdown",
   "id": "6fc70347",
   "metadata": {},
   "source": [
    "### `while` loops\n",
    "\n",
    "A while loop continues to execute until the condition (boolean expression) evalutes to `False`. <br/>\n",
    "\n",
    "```\n",
    "while <condition>:\n",
    "    statement\n",
    "    statement\n",
    "```"
   ]
  },
  {
   "cell_type": "code",
   "execution_count": 39,
   "id": "ede2bef8",
   "metadata": {},
   "outputs": [
    {
     "ename": "IndentationError",
     "evalue": "unexpected indent (<ipython-input-39-3198afe16f7a>, line 4)",
     "output_type": "error",
     "traceback": [
      "\u001b[1;36m  File \u001b[1;32m\"<ipython-input-39-3198afe16f7a>\"\u001b[1;36m, line \u001b[1;32m4\u001b[0m\n\u001b[1;33m    print(n)\u001b[0m\n\u001b[1;37m    ^\u001b[0m\n\u001b[1;31mIndentationError\u001b[0m\u001b[1;31m:\u001b[0m unexpected indent\n"
     ]
    }
   ],
   "source": [
    "# This loop runs forever as n is always greater than 0\n",
    "n = 10\n",
    "# while n > 0:\n",
    "    print(n)\n",
    "    \n",
    "print('Stopped')"
   ]
  },
  {
   "cell_type": "code",
   "execution_count": null,
   "id": "7829dbd4",
   "metadata": {},
   "outputs": [],
   "source": [
    "n = 10\n",
    "while n > 0:\n",
    "    print(n)\n",
    "    n-= 1 # n = n-1\n",
    "    \n",
    "print('Stopped')"
   ]
  },
  {
   "cell_type": "markdown",
   "id": "fe4db0ed",
   "metadata": {},
   "source": [
    "`break` statement can be used to break out of a loop (`break` works with both `for` and `while` loops)"
   ]
  },
  {
   "cell_type": "code",
   "execution_count": null,
   "id": "b26f4154",
   "metadata": {},
   "outputs": [],
   "source": [
    "# This loop runs forever as `True` is always `True`\n",
    "n = 10\n",
    "while True:\n",
    "    print(n)\n",
    "    n -= 1\n",
    "print('Stopped!')"
   ]
  },
  {
   "cell_type": "code",
   "execution_count": null,
   "id": "cd5a0986",
   "metadata": {},
   "outputs": [],
   "source": [
    "# This loop runs forever as `True` is always `True`\n",
    "n = 10\n",
    "while True:\n",
    "    print(n)\n",
    "    n -= 1\n",
    "    if n<0:\n",
    "        break\n",
    "print('Stopped!')"
   ]
  },
  {
   "cell_type": "code",
   "execution_count": 72,
   "id": "3d6a5225",
   "metadata": {},
   "outputs": [
    {
     "name": "stdout",
     "output_type": "stream",
     "text": [
      "1\n",
      "2\n",
      "3\n",
      "4\n",
      "5\n"
     ]
    }
   ],
   "source": [
    "for i in [1,2,3,4,5,6,7,8,9,10]:\n",
    "    if i > 5:\n",
    "        break\n",
    "    print(i)\n",
    "    "
   ]
  },
  {
   "cell_type": "markdown",
   "id": "c9d9b511",
   "metadata": {},
   "source": [
    "`continue` statement can be used to skip the rest of the current iteration in a loop (`continue` also works for `for` and `while` loops)"
   ]
  },
  {
   "cell_type": "code",
   "execution_count": 73,
   "id": "671adb17",
   "metadata": {},
   "outputs": [
    {
     "name": "stdout",
     "output_type": "stream",
     "text": [
      "2\n",
      "4\n",
      "6\n",
      "8\n",
      "10\n"
     ]
    }
   ],
   "source": [
    "list_a = [1,2,3,4,5,6,7,8,9,10]\n",
    "n = 1\n",
    "while n<= 10:\n",
    "    n +=1\n",
    "    if n%2 == 1:\n",
    "        continue\n",
    "    print(n)"
   ]
  },
  {
   "cell_type": "markdown",
   "id": "84cc3685",
   "metadata": {},
   "source": [
    "#### Concept check"
   ]
  },
  {
   "cell_type": "code",
   "execution_count": 43,
   "id": "0d6b4dc8",
   "metadata": {},
   "outputs": [
    {
     "name": "stdout",
     "output_type": "stream",
     "text": [
      "4\n",
      "4\n",
      "4\n",
      "5\n",
      "8\n"
     ]
    }
   ],
   "source": [
    "import random \n",
    "\n",
    "n = random.randint(1,10)\n",
    "print(n)\n",
    "\n",
    "while n<=7:\n",
    "    n = random.randint(1,10)\n",
    "    print(n)"
   ]
  },
  {
   "cell_type": "code",
   "execution_count": 44,
   "id": "d297db24",
   "metadata": {},
   "outputs": [
    {
     "name": "stdout",
     "output_type": "stream",
     "text": [
      "3\n",
      "5\n",
      "5\n",
      "5\n",
      "2\n",
      "8\n"
     ]
    }
   ],
   "source": [
    "while True:\n",
    "    n = random.randint(1,10)\n",
    "    print(n)\n",
    "    if n>7:\n",
    "        break"
   ]
  },
  {
   "cell_type": "markdown",
   "id": "acc7330e",
   "metadata": {},
   "source": [
    "## Exceptions\n",
    "\n",
    "When an error occurs during execution of your code, an exception is raised."
   ]
  },
  {
   "cell_type": "code",
   "execution_count": 60,
   "id": "932b1360",
   "metadata": {},
   "outputs": [
    {
     "ename": "ZeroDivisionError",
     "evalue": "division by zero",
     "output_type": "error",
     "traceback": [
      "\u001b[1;31m---------------------------------------------------------------------------\u001b[0m",
      "\u001b[1;31mZeroDivisionError\u001b[0m                         Traceback (most recent call last)",
      "\u001b[1;32m<ipython-input-60-9e1622b385b6>\u001b[0m in \u001b[0;36m<module>\u001b[1;34m\u001b[0m\n\u001b[1;32m----> 1\u001b[1;33m \u001b[1;36m1\u001b[0m\u001b[1;33m/\u001b[0m\u001b[1;36m0\u001b[0m\u001b[1;33m\u001b[0m\u001b[1;33m\u001b[0m\u001b[0m\n\u001b[0m",
      "\u001b[1;31mZeroDivisionError\u001b[0m: division by zero"
     ]
    }
   ],
   "source": [
    "1/0"
   ]
  },
  {
   "cell_type": "code",
   "execution_count": 47,
   "id": "070ba573",
   "metadata": {},
   "outputs": [
    {
     "ename": "FileNotFoundError",
     "evalue": "[Errno 2] No such file or directory: 'non_existent_file.txt'",
     "output_type": "error",
     "traceback": [
      "\u001b[1;31m---------------------------------------------------------------------------\u001b[0m",
      "\u001b[1;31mFileNotFoundError\u001b[0m                         Traceback (most recent call last)",
      "\u001b[1;32m<ipython-input-47-013f9fdfdeae>\u001b[0m in \u001b[0;36m<module>\u001b[1;34m\u001b[0m\n\u001b[1;32m----> 1\u001b[1;33m \u001b[0mf\u001b[0m \u001b[1;33m=\u001b[0m \u001b[0mopen\u001b[0m\u001b[1;33m(\u001b[0m\u001b[1;34m'non_existent_file.txt'\u001b[0m\u001b[1;33m,\u001b[0m\u001b[1;34m'r'\u001b[0m\u001b[1;33m)\u001b[0m\u001b[1;33m\u001b[0m\u001b[1;33m\u001b[0m\u001b[0m\n\u001b[0m",
      "\u001b[1;31mFileNotFoundError\u001b[0m: [Errno 2] No such file or directory: 'non_existent_file.txt'"
     ]
    }
   ],
   "source": [
    "f = open('non_existent_file.txt','r')"
   ]
  },
  {
   "cell_type": "code",
   "execution_count": 48,
   "id": "a8671173",
   "metadata": {},
   "outputs": [
    {
     "ename": "IndexError",
     "evalue": "list index out of range",
     "output_type": "error",
     "traceback": [
      "\u001b[1;31m---------------------------------------------------------------------------\u001b[0m",
      "\u001b[1;31mIndexError\u001b[0m                                Traceback (most recent call last)",
      "\u001b[1;32m<ipython-input-48-92a701105bdc>\u001b[0m in \u001b[0;36m<module>\u001b[1;34m\u001b[0m\n\u001b[0;32m      1\u001b[0m \u001b[0mmy_list\u001b[0m \u001b[1;33m=\u001b[0m \u001b[1;33m[\u001b[0m\u001b[1;36m1\u001b[0m\u001b[1;33m,\u001b[0m\u001b[1;36m2\u001b[0m\u001b[1;33m,\u001b[0m\u001b[1;36m3\u001b[0m\u001b[1;33m]\u001b[0m\u001b[1;33m\u001b[0m\u001b[1;33m\u001b[0m\u001b[0m\n\u001b[1;32m----> 2\u001b[1;33m \u001b[0mmy_list\u001b[0m\u001b[1;33m[\u001b[0m\u001b[1;36m3\u001b[0m\u001b[1;33m]\u001b[0m\u001b[1;33m\u001b[0m\u001b[1;33m\u001b[0m\u001b[0m\n\u001b[0m",
      "\u001b[1;31mIndexError\u001b[0m: list index out of range"
     ]
    }
   ],
   "source": [
    "my_list = [1,2,3]\n",
    "my_list[3]"
   ]
  },
  {
   "cell_type": "markdown",
   "id": "d38e9ad1",
   "metadata": {},
   "source": [
    "### Raising exceptions\n",
    "\n",
    "Exceptions indicate errors and break out of the normal control flow of the program. Exceptions can be raised by using the `raise` statement."
   ]
  },
  {
   "cell_type": "code",
   "execution_count": 49,
   "id": "b7622911",
   "metadata": {},
   "outputs": [],
   "source": [
    "def send_email(email_address):\n",
    "    if '@' not in email_address:\n",
    "        raise Exception('The email address is not valid!')\n",
    "    else:\n",
    "        # code to send email\n",
    "        print('Email has been sent')\n",
    "    "
   ]
  },
  {
   "cell_type": "code",
   "execution_count": 50,
   "id": "8195aa05",
   "metadata": {},
   "outputs": [
    {
     "name": "stdout",
     "output_type": "stream",
     "text": [
      "Email has been sent\n"
     ]
    }
   ],
   "source": [
    "send_email('johnsmirth@kubrickgroup.com')"
   ]
  },
  {
   "cell_type": "code",
   "execution_count": 51,
   "id": "6eac5217",
   "metadata": {},
   "outputs": [
    {
     "ename": "Exception",
     "evalue": "The email address is not valid!",
     "output_type": "error",
     "traceback": [
      "\u001b[1;31m---------------------------------------------------------------------------\u001b[0m",
      "\u001b[1;31mException\u001b[0m                                 Traceback (most recent call last)",
      "\u001b[1;32m<ipython-input-51-f22c8bd6a78e>\u001b[0m in \u001b[0;36m<module>\u001b[1;34m\u001b[0m\n\u001b[1;32m----> 1\u001b[1;33m \u001b[0msend_email\u001b[0m\u001b[1;33m(\u001b[0m\u001b[1;34m'johnsmirth#kubrickgroup.com'\u001b[0m\u001b[1;33m)\u001b[0m\u001b[1;33m\u001b[0m\u001b[1;33m\u001b[0m\u001b[0m\n\u001b[0m",
      "\u001b[1;32m<ipython-input-49-d0bbc21c7903>\u001b[0m in \u001b[0;36msend_email\u001b[1;34m(email_address)\u001b[0m\n\u001b[0;32m      1\u001b[0m \u001b[1;32mdef\u001b[0m \u001b[0msend_email\u001b[0m\u001b[1;33m(\u001b[0m\u001b[0memail_address\u001b[0m\u001b[1;33m)\u001b[0m\u001b[1;33m:\u001b[0m\u001b[1;33m\u001b[0m\u001b[1;33m\u001b[0m\u001b[0m\n\u001b[0;32m      2\u001b[0m     \u001b[1;32mif\u001b[0m \u001b[1;34m'@'\u001b[0m \u001b[1;32mnot\u001b[0m \u001b[1;32min\u001b[0m \u001b[0memail_address\u001b[0m\u001b[1;33m:\u001b[0m\u001b[1;33m\u001b[0m\u001b[1;33m\u001b[0m\u001b[0m\n\u001b[1;32m----> 3\u001b[1;33m         \u001b[1;32mraise\u001b[0m \u001b[0mException\u001b[0m\u001b[1;33m(\u001b[0m\u001b[1;34m'The email address is not valid!'\u001b[0m\u001b[1;33m)\u001b[0m\u001b[1;33m\u001b[0m\u001b[1;33m\u001b[0m\u001b[0m\n\u001b[0m\u001b[0;32m      4\u001b[0m     \u001b[1;32melse\u001b[0m\u001b[1;33m:\u001b[0m\u001b[1;33m\u001b[0m\u001b[1;33m\u001b[0m\u001b[0m\n\u001b[0;32m      5\u001b[0m         \u001b[1;31m# code to send email\u001b[0m\u001b[1;33m\u001b[0m\u001b[1;33m\u001b[0m\u001b[1;33m\u001b[0m\u001b[0m\n",
      "\u001b[1;31mException\u001b[0m: The email address is not valid!"
     ]
    }
   ],
   "source": [
    "send_email('johnsmirth#kubrickgroup.com')"
   ]
  },
  {
   "cell_type": "markdown",
   "id": "d4b695f7",
   "metadata": {},
   "source": [
    "### Catching and handling exceptions\n",
    "\n",
    "Exceptions are caught and handled using the `try-except` block.\n",
    "\n",
    "Execution stops in the try block as soon as an exception occurs, and jumps straight into the except block\n",
    "\n",
    "```\n",
    "try: \n",
    "    <statement>\n",
    "    <statement>\n",
    "except: \n",
    "    <statement>\n",
    "    <statement>   \n",
    "```"
   ]
  },
  {
   "cell_type": "code",
   "execution_count": 58,
   "id": "1a447947",
   "metadata": {},
   "outputs": [],
   "source": [
    "def divide(a,b):\n",
    "    try:\n",
    "        result = a/b\n",
    "        return result\n",
    "    except ZeroDivisionError:\n",
    "        print('Cannot divide by zero!')\n",
    "    except TypeError:\n",
    "        try:\n",
    "            result = float(a)/float(b)\n",
    "            return result\n",
    "        except:\n",
    "            print('Can divide the type provided!')"
   ]
  },
  {
   "cell_type": "code",
   "execution_count": 59,
   "id": "b50dd7ed",
   "metadata": {},
   "outputs": [
    {
     "name": "stdout",
     "output_type": "stream",
     "text": [
      "1.5\n"
     ]
    }
   ],
   "source": [
    "c = divide(3,'2')\n",
    "print(c)"
   ]
  },
  {
   "cell_type": "code",
   "execution_count": null,
   "id": "5b51db71",
   "metadata": {},
   "outputs": [],
   "source": []
  }
 ],
 "metadata": {
  "kernelspec": {
   "display_name": "Python 3",
   "language": "python",
   "name": "python3"
  },
  "language_info": {
   "codemirror_mode": {
    "name": "ipython",
    "version": 3
   },
   "file_extension": ".py",
   "mimetype": "text/x-python",
   "name": "python",
   "nbconvert_exporter": "python",
   "pygments_lexer": "ipython3",
   "version": "3.8.8"
  },
  "toc": {
   "base_numbering": 1,
   "nav_menu": {},
   "number_sections": true,
   "sideBar": true,
   "skip_h1_title": false,
   "title_cell": "Table of Contents",
   "title_sidebar": "Contents",
   "toc_cell": false,
   "toc_position": {},
   "toc_section_display": true,
   "toc_window_display": false
  }
 },
 "nbformat": 4,
 "nbformat_minor": 5
}
