{
 "cells": [
  {
   "cell_type": "markdown",
   "id": "4a5da69b",
   "metadata": {},
   "source": [
    "## Boolean expressions and Truth Values"
   ]
  },
  {
   "cell_type": "markdown",
   "id": "e9407bcb",
   "metadata": {},
   "source": [
    "An expression is any combination of symbols that represents a value.  \n",
    "A boolean expression is an expression that returns a boolean value (True, False).\n",
    "\n",
    "|A|B|A and B|A or B|not A|\n",
    "|-|-|-      |-     |-    |\n",
    "|F|F|F      |F     |T    |\n",
    "|F|T|F      |T     |T    |\n",
    "|T|F|F      |T     |F    |\n",
    "|T|T|T      |T     |F    |\n",
    "\n",
    "\n",
    "~~~\n",
    "The 'and', 'or', and 'not' keywords are commonly used to form boolean expressions.\n",
    "- x or y : If x is considered false, return y. Otherwise return x.\n",
    "- x and y: If x is considered false, return x. Otherwise return y.\n",
    "- not x  : If x is considered false, return True. Otherwise return False.\n",
    "\n",
    "By default, an object is considered to be true unless either of the following holds:\n",
    "- it has a __len__() method that returns zero.\n",
    "- it has a __bool__() method that returns false.\n",
    "- it has value of zero.\n",
    "\n",
    "You can check if it has a __len__() or a __bool__() method by using dir(object)\n",
    "~~~\n",
    "Every Python expression can be interpreted as either `True` or `False`\n",
    "Example: \n",
    "```\n",
    "my_list = [] # False -- length is zero\n",
    "my_list = [1] # True -- length is not zero\n",
    "my_dict = {} # False -- length is zero\n",
    "```"
   ]
  },
  {
   "cell_type": "code",
   "execution_count": 1,
   "id": "cbde2c79",
   "metadata": {},
   "outputs": [
    {
     "data": {
      "text/plain": [
       "True"
      ]
     },
     "execution_count": 1,
     "metadata": {},
     "output_type": "execute_result"
    }
   ],
   "source": [
    "True or False"
   ]
  },
  {
   "cell_type": "code",
   "execution_count": 3,
   "id": "15e589e5",
   "metadata": {},
   "outputs": [
    {
     "data": {
      "text/plain": [
       "False"
      ]
     },
     "execution_count": 3,
     "metadata": {},
     "output_type": "execute_result"
    }
   ],
   "source": [
    "True and False"
   ]
  },
  {
   "cell_type": "code",
   "execution_count": 2,
   "id": "3c80e165",
   "metadata": {},
   "outputs": [
    {
     "data": {
      "text/plain": [
       "False"
      ]
     },
     "execution_count": 2,
     "metadata": {},
     "output_type": "execute_result"
    }
   ],
   "source": [
    "False and True"
   ]
  },
  {
   "cell_type": "code",
   "execution_count": 11,
   "id": "22ceffd3",
   "metadata": {},
   "outputs": [
    {
     "data": {
      "text/plain": [
       "5"
      ]
     },
     "execution_count": 11,
     "metadata": {},
     "output_type": "execute_result"
    }
   ],
   "source": [
    "'Hello'.__len__()"
   ]
  },
  {
   "cell_type": "code",
   "execution_count": 12,
   "id": "03b1f827",
   "metadata": {},
   "outputs": [
    {
     "data": {
      "text/plain": [
       "False"
      ]
     },
     "execution_count": 12,
     "metadata": {},
     "output_type": "execute_result"
    }
   ],
   "source": [
    "'Hello' and False # -> True and False"
   ]
  },
  {
   "cell_type": "code",
   "execution_count": 5,
   "id": "d383dfa0",
   "metadata": {},
   "outputs": [
    {
     "data": {
      "text/plain": [
       "0"
      ]
     },
     "execution_count": 5,
     "metadata": {},
     "output_type": "execute_result"
    }
   ],
   "source": [
    "my_list = []\n",
    "my_list.__len__()"
   ]
  },
  {
   "cell_type": "code",
   "execution_count": 14,
   "id": "11ff8edc",
   "metadata": {},
   "outputs": [
    {
     "data": {
      "text/plain": [
       "False"
      ]
     },
     "execution_count": 14,
     "metadata": {},
     "output_type": "execute_result"
    }
   ],
   "source": [
    "False and my_list"
   ]
  },
  {
   "cell_type": "code",
   "execution_count": 3,
   "id": "6897f79c",
   "metadata": {},
   "outputs": [
    {
     "data": {
      "text/plain": [
       "1"
      ]
     },
     "execution_count": 3,
     "metadata": {},
     "output_type": "execute_result"
    }
   ],
   "source": [
    "my_list = [0]\n",
    "my_list.__len__()"
   ]
  },
  {
   "cell_type": "code",
   "execution_count": 16,
   "id": "c0076176",
   "metadata": {},
   "outputs": [
    {
     "data": {
      "text/plain": [
       "[0]"
      ]
     },
     "execution_count": 16,
     "metadata": {},
     "output_type": "execute_result"
    }
   ],
   "source": [
    "False or my_list"
   ]
  },
  {
   "cell_type": "code",
   "execution_count": 29,
   "id": "d27d7a93",
   "metadata": {},
   "outputs": [
    {
     "name": "stdout",
     "output_type": "stream",
     "text": [
      "inside if block\n"
     ]
    }
   ],
   "source": [
    "my_list = []\n",
    "if my_list==True: # -> this line is the same as \"if my_list:\"\n",
    "    print('inside if block')\n",
    "else:\n",
    "    print('inside else block')"
   ]
  },
  {
   "cell_type": "code",
   "execution_count": 28,
   "id": "0f082f5d",
   "metadata": {},
   "outputs": [
    {
     "data": {
      "text/plain": [
       "0"
      ]
     },
     "execution_count": 28,
     "metadata": {},
     "output_type": "execute_result"
    }
   ],
   "source": [
    "len(my_list)"
   ]
  },
  {
   "cell_type": "code",
   "execution_count": 18,
   "id": "a4324ff3",
   "metadata": {},
   "outputs": [
    {
     "name": "stdout",
     "output_type": "stream",
     "text": [
      "inside if block\n"
     ]
    }
   ],
   "source": [
    "my_set = {0}\n",
    "if my_set: \n",
    "    print('inside if block')\n",
    "else:\n",
    "    print('inside else block')"
   ]
  },
  {
   "cell_type": "code",
   "execution_count": 20,
   "id": "c36e56ac",
   "metadata": {
    "scrolled": true
   },
   "outputs": [
    {
     "data": {
      "text/plain": [
       "1"
      ]
     },
     "execution_count": 20,
     "metadata": {},
     "output_type": "execute_result"
    }
   ],
   "source": [
    "len(my_set)"
   ]
  },
  {
   "cell_type": "code",
   "execution_count": 27,
   "id": "1e36a5b1",
   "metadata": {},
   "outputs": [
    {
     "name": "stdout",
     "output_type": "stream",
     "text": [
      "inside if block\n"
     ]
    }
   ],
   "source": [
    "abc = 0.00001\n",
    "if abc: \n",
    "    print('inside if block')\n",
    "else:\n",
    "    print('inside else block')"
   ]
  },
  {
   "cell_type": "code",
   "execution_count": 25,
   "id": "47a2a1f0",
   "metadata": {},
   "outputs": [
    {
     "data": {
      "text/plain": [
       "True"
      ]
     },
     "execution_count": 25,
     "metadata": {},
     "output_type": "execute_result"
    }
   ],
   "source": [
    "bool(abc)"
   ]
  },
  {
   "cell_type": "code",
   "execution_count": null,
   "id": "249cc3ff",
   "metadata": {},
   "outputs": [],
   "source": [
    "if True:\n",
    "    ...\n",
    "else:\n",
    "    ..."
   ]
  },
  {
   "cell_type": "markdown",
   "id": "bc55ecb5",
   "metadata": {},
   "source": [
    "#### Concept Check\n",
    "What do the following evaluate to? Why? Will they be considered True or False in a boolean expression?\n",
    "- `[]` -> False\n",
    "- `''` -> False\n",
    "- `[] and 100` -> False\n",
    "- `[] or None` -> False\n",
    "- `True and ''` -> False\n",
    "- `1 and 2` -> True\n",
    "- `[] or 8` -> True"
   ]
  },
  {
   "cell_type": "markdown",
   "id": "fc752b03",
   "metadata": {},
   "source": [
    "### Example\n",
    "Pitfall: Make sure that you are constructing your logical expressions correctly\n",
    "\n",
    "- `==\\<\\>\\<=\\>=` takes precedence over `and`, `or` and `not`"
   ]
  },
  {
   "cell_type": "code",
   "execution_count": 40,
   "id": "77e61ea7",
   "metadata": {},
   "outputs": [
    {
     "name": "stdout",
     "output_type": "stream",
     "text": [
      "Please enter a number: 20\n"
     ]
    }
   ],
   "source": [
    "user_input = int(input('Please enter a number: '))"
   ]
  },
  {
   "cell_type": "code",
   "execution_count": 41,
   "id": "73525d7d",
   "metadata": {},
   "outputs": [
    {
     "data": {
      "text/plain": [
       "20"
      ]
     },
     "execution_count": 41,
     "metadata": {},
     "output_type": "execute_result"
    }
   ],
   "source": [
    "user_input"
   ]
  },
  {
   "cell_type": "code",
   "execution_count": 43,
   "id": "96eaa1c9",
   "metadata": {},
   "outputs": [
    {
     "name": "stdout",
     "output_type": "stream",
     "text": [
      "number is less than 10 or equal to 100\n"
     ]
    }
   ],
   "source": [
    "# Incorrect solution\n",
    "if user_input < 10 or 100: # even if (user_input < 10) is False, False or 100 will be True\n",
    "    print('number is less than 10 or equal to 100')\n",
    "else:\n",
    "    print('number is greater than 10 and not equal to 100')"
   ]
  },
  {
   "cell_type": "code",
   "execution_count": 42,
   "id": "7daa9088",
   "metadata": {},
   "outputs": [
    {
     "name": "stdout",
     "output_type": "stream",
     "text": [
      "number is greater than 10 and not equal to 100\n"
     ]
    }
   ],
   "source": [
    "# Correct solution\n",
    "if user_input < 10 or user_input == 100: # False or False\n",
    "    print('number is less than 10 or equal to 100')\n",
    "else:\n",
    "    print('number is greater than 10 and not equal to 100')"
   ]
  },
  {
   "cell_type": "markdown",
   "id": "2a3989bc",
   "metadata": {},
   "source": [
    "## Conditional execution\n",
    "`if`, `elif` and `else` statements are used for conditional execution\n",
    "\n",
    "`if` block\n",
    "\n",
    "```\n",
    "if <condition>:\n",
    "    # block to execute if <condition> is True\n",
    "    <statement>\n",
    "    <statement>\n",
    "    ...\n",
    "```\n",
    "\n",
    "`if-else` block\n",
    "\n",
    "```\n",
    "if <condition>:\n",
    "    # block to execute if <condition> is True\n",
    "    <statement>\n",
    "    <statement>\n",
    "    ...\n",
    "else:\n",
    "    # block to execute if <condition> is False\n",
    "    <statement>\n",
    "    <statement>\n",
    "    ...  \n",
    "```\n",
    "\n",
    "`if-elif-else` block\n",
    "\n",
    "```\n",
    "if <condition>:\n",
    "    # block to execute if <condition> is True\n",
    "    <statement>\n",
    "    <statement>\n",
    "    ...\n",
    "elif <condition2>:\n",
    "    # block to execute if <condition2> is True\n",
    "    <statement>\n",
    "    <statement>\n",
    "    ...\n",
    "elif <condition3>:\n",
    "    # block to execute if <condition3> is True\n",
    "    <statement>\n",
    "    <statement>\n",
    "    ...\n",
    "...\n",
    "else:\n",
    "    # block to execute if none of the conditions above are True\n",
    "    <statement>\n",
    "    <statement>\n",
    "    ...  \n",
    "```"
   ]
  },
  {
   "cell_type": "markdown",
   "id": "47452882",
   "metadata": {},
   "source": [
    "Notes\n",
    "- Blocks are executed when the relevant boolean expression is True. \n",
    "- We can have an arbitrary number of elif statements. Order matters in elif\n",
    "- `elif` and `else` blocks are optional\n",
    "- Only one block of statements is executed. Boolean expressions are checked from top to bottom."
   ]
  },
  {
   "cell_type": "code",
   "execution_count": 4,
   "id": "06ae104f",
   "metadata": {},
   "outputs": [
    {
     "name": "stdout",
     "output_type": "stream",
     "text": [
      "Grade is B\n",
      "Thank you!\n"
     ]
    }
   ],
   "source": [
    "score = 85\n",
    "\n",
    "if score > 90:\n",
    "    print('Grade is A')\n",
    "elif score > 80:\n",
    "    print('Grade is B')\n",
    "elif score > 70:\n",
    "    print('Grade is C')\n",
    "elif score > 50:\n",
    "    print('Grade is D')\n",
    "else:\n",
    "    print('Grade is F')\n",
    "print('Thank you!')"
   ]
  },
  {
   "cell_type": "markdown",
   "id": "143c8dbf",
   "metadata": {},
   "source": [
    "#### Concept Check\n",
    "Write code that prints out the effective marginal tax rate for a UK tax payer. If they earn less than 12000 (the personal allowance), then the tax is 0. Standard rate of 20 percent applies between 12000 and 50000, and then a higher rate of 40 percent above that. "
   ]
  },
  {
   "cell_type": "code",
   "execution_count": 55,
   "id": "7050b708",
   "metadata": {},
   "outputs": [
    {
     "name": "stdout",
     "output_type": "stream",
     "text": [
      "tax rate is 20\n"
     ]
    }
   ],
   "source": [
    "income = 40000\n",
    "if income < 12000:\n",
    "    tax_rate = 0\n",
    "elif income > 50000:\n",
    "    tax_rate = 40\n",
    "else:\n",
    "    tax_rate = 20\n",
    "print('tax rate is', tax_rate)"
   ]
  },
  {
   "cell_type": "markdown",
   "id": "e812bb97",
   "metadata": {},
   "source": [
    "## Iteration and Looping\n",
    "- `for` loops\n",
    "- `while` loops"
   ]
  },
  {
   "cell_type": "markdown",
   "id": "d35da4f0",
   "metadata": {},
   "source": [
    "### `for` loop\n",
    "For loops are used to iterate through an iterable object one item at a time\n",
    "\n",
    "```\n",
    "for i in <iterable>:\n",
    "    <statement>\n",
    "    <statement>\n",
    "    ...\n",
    "```\n",
    "\n",
    "- Examples of iterable objects include lists, tuples, sets, dictionaries and strings\n",
    "- `i` is called the iterator variable"
   ]
  },
  {
   "cell_type": "code",
   "execution_count": 56,
   "id": "b4939f86",
   "metadata": {},
   "outputs": [
    {
     "name": "stdout",
     "output_type": "stream",
     "text": [
      "1\n",
      "2\n",
      "3\n",
      "4\n",
      "5\n",
      "6\n",
      "7\n",
      "8\n",
      "9\n",
      "10\n",
      "Finished!\n"
     ]
    }
   ],
   "source": [
    "# Iterate through a list\n",
    "list_a = [1,2,3,4,5,6,7,8,9,10]\n",
    "for item in list_a:\n",
    "    print(item)\n",
    "print('Finished!')"
   ]
  },
  {
   "cell_type": "code",
   "execution_count": 57,
   "id": "8e1415d1",
   "metadata": {},
   "outputs": [
    {
     "name": "stdout",
     "output_type": "stream",
     "text": [
      "DRINKING\n",
      "PLAYING\n",
      "SLEEPING\n",
      "EATING\n"
     ]
    }
   ],
   "source": [
    "# Iterate through a set\n",
    "set_a = {'sleeping', 'eating', 'drinking', 'playing'}\n",
    "for i in set_a:\n",
    "    print(i.upper())"
   ]
  },
  {
   "cell_type": "code",
   "execution_count": 69,
   "id": "75f45784",
   "metadata": {},
   "outputs": [
    {
     "name": "stdout",
     "output_type": "stream",
     "text": [
      "Matthew\t12345\n",
      "Caitlin\t67890\n",
      "James\t34567\n"
     ]
    }
   ],
   "source": [
    "# Iterate through a dictionary (printing keys)\n",
    "phone_book = {'Matthew': 12345, 'Caitlin': 67890, 'James':34567}\n",
    "for i in phone_book:\n",
    "    print(i + '\\t' + str(phone_book[i]))"
   ]
  },
  {
   "cell_type": "code",
   "execution_count": 73,
   "id": "a359859d",
   "metadata": {},
   "outputs": [
    {
     "name": "stdout",
     "output_type": "stream",
     "text": [
      "Matthew\n",
      "Caitlin\n",
      "James\n"
     ]
    }
   ],
   "source": [
    "# Iterate through a dictionary\n",
    "for i in phone_book:\n",
    "    print(i)"
   ]
  },
  {
   "cell_type": "code",
   "execution_count": 72,
   "id": "d0875afb",
   "metadata": {},
   "outputs": [
    {
     "name": "stdout",
     "output_type": "stream",
     "text": [
      "Matthew\n",
      "Caitlin\n",
      "James\n"
     ]
    }
   ],
   "source": [
    "# Iterate through the keys of a dictionary\n",
    "for i in phone_book.keys():\n",
    "    print(i)"
   ]
  },
  {
   "cell_type": "code",
   "execution_count": 74,
   "id": "5ef97a01",
   "metadata": {},
   "outputs": [
    {
     "name": "stdout",
     "output_type": "stream",
     "text": [
      "12345\n",
      "67890\n",
      "34567\n"
     ]
    }
   ],
   "source": [
    "# Iterate through the values of a dictionary\n",
    "for i in phone_book.values():\n",
    "    print(i)"
   ]
  },
  {
   "cell_type": "code",
   "execution_count": 76,
   "id": "80609512",
   "metadata": {},
   "outputs": [
    {
     "name": "stdout",
     "output_type": "stream",
     "text": [
      "('Matthew', 12345)\n",
      "('Caitlin', 67890)\n",
      "('James', 34567)\n"
     ]
    }
   ],
   "source": [
    "# Iterate through the items of a dictionary\n",
    "for i in phone_book.items():\n",
    "    print(i)\n",
    "    "
   ]
  },
  {
   "cell_type": "code",
   "execution_count": 77,
   "id": "44f946e0",
   "metadata": {},
   "outputs": [
    {
     "name": "stdout",
     "output_type": "stream",
     "text": [
      "Key is Matthew and Value is 12345\n",
      "Key is Caitlin and Value is 67890\n",
      "Key is James and Value is 34567\n"
     ]
    }
   ],
   "source": [
    "# Iterate through the items and unpack each item into key and value\n",
    "for key, value in phone_book.items():\n",
    "    print(f'Key is {key} and Value is {value}')"
   ]
  },
  {
   "cell_type": "markdown",
   "id": "68181912",
   "metadata": {},
   "source": [
    "Variable unpacking"
   ]
  },
  {
   "cell_type": "code",
   "execution_count": 86,
   "id": "fbfc213f",
   "metadata": {},
   "outputs": [],
   "source": [
    "a,b,c,d = ('Name','Gian','Number',12345)"
   ]
  },
  {
   "cell_type": "code",
   "execution_count": 83,
   "id": "2d4e055f",
   "metadata": {},
   "outputs": [
    {
     "name": "stdout",
     "output_type": "stream",
     "text": [
      "Name\n",
      "Gian\n",
      "Number\n",
      "12345\n"
     ]
    }
   ],
   "source": [
    "print(a)\n",
    "print(b)\n",
    "print(c)\n",
    "print(d)"
   ]
  },
  {
   "cell_type": "markdown",
   "id": "c911b245",
   "metadata": {},
   "source": [
    "#### Concept Check\n",
    "- Write a for loop to iterate through every second element of a sequence [1,2,3,4,5,6,7,8,9,10].\n",
    "- Every second element should be printed out."
   ]
  },
  {
   "cell_type": "code",
   "execution_count": 90,
   "id": "29b91724",
   "metadata": {},
   "outputs": [
    {
     "name": "stdout",
     "output_type": "stream",
     "text": [
      "b\n",
      "d\n"
     ]
    }
   ],
   "source": [
    "list_a = [1,2,3,4,5,6,7,8,9,10]\n",
    "list_b = ['a','b','c','d']\n",
    "for item in list_b[1::2]:\n",
    "    print(item)"
   ]
  },
  {
   "cell_type": "markdown",
   "id": "0327a275",
   "metadata": {},
   "source": [
    "Built-in function `range` that generates a range of numbers\n",
    "\n",
    "- range(n) generates numbers from 0 to n-1\n",
    "- range(m,n) generates numbers from m to n-1\n",
    "- range(m,n,s) generates numbers from m to n-1 with a step s"
   ]
  },
  {
   "cell_type": "code",
   "execution_count": 96,
   "id": "4d10aa43",
   "metadata": {},
   "outputs": [
    {
     "data": {
      "text/plain": [
       "[0, 1, 2, 3, 4, 5, 6, 7, 8, 9]"
      ]
     },
     "execution_count": 96,
     "metadata": {},
     "output_type": "execute_result"
    }
   ],
   "source": [
    "list(range(10))"
   ]
  },
  {
   "cell_type": "code",
   "execution_count": 97,
   "id": "a47b2a73",
   "metadata": {},
   "outputs": [
    {
     "data": {
      "text/plain": [
       "[10, 11, 12, 13, 14, 15, 16, 17, 18, 19]"
      ]
     },
     "execution_count": 97,
     "metadata": {},
     "output_type": "execute_result"
    }
   ],
   "source": [
    "list(range(10,20))"
   ]
  },
  {
   "cell_type": "code",
   "execution_count": 95,
   "id": "5a557261",
   "metadata": {},
   "outputs": [
    {
     "data": {
      "text/plain": [
       "[10, 12, 14, 16, 18]"
      ]
     },
     "execution_count": 95,
     "metadata": {},
     "output_type": "execute_result"
    }
   ],
   "source": [
    "list(range(10,20,2))"
   ]
  },
  {
   "cell_type": "code",
   "execution_count": 98,
   "id": "afb5bbcd",
   "metadata": {},
   "outputs": [
    {
     "name": "stdout",
     "output_type": "stream",
     "text": [
      "0\n",
      "1\n",
      "2\n",
      "3\n",
      "4\n",
      "5\n",
      "6\n",
      "7\n",
      "8\n",
      "9\n"
     ]
    }
   ],
   "source": [
    "for i in range(10):\n",
    "    print(i)"
   ]
  },
  {
   "cell_type": "code",
   "execution_count": 99,
   "id": "cdf555bb",
   "metadata": {},
   "outputs": [
    {
     "name": "stdout",
     "output_type": "stream",
     "text": [
      "150\n",
      "156\n",
      "162\n",
      "168\n",
      "174\n",
      "180\n",
      "186\n",
      "192\n",
      "198\n"
     ]
    }
   ],
   "source": [
    "for i in range(150,200,3):\n",
    "    if i%2==0:\n",
    "        print(i)"
   ]
  },
  {
   "cell_type": "markdown",
   "id": "c7c7fe5b",
   "metadata": {},
   "source": [
    "Using a counter to keep track of the loop count"
   ]
  },
  {
   "cell_type": "code",
   "execution_count": 102,
   "id": "f664c655",
   "metadata": {},
   "outputs": [
    {
     "name": "stdout",
     "output_type": "stream",
     "text": [
      "Count is 1 and Value is a\n",
      "Count is 2 and Value is b\n",
      "Count is 3 and Value is c\n",
      "Count is 4 and Value is d\n",
      "Count is 5 and Value is e\n",
      "Count is 6 and Value is f\n",
      "Count is 7 and Value is g\n",
      "Count is 8 and Value is h\n",
      "Count is 9 and Value is i\n",
      "Count is 10 and Value is j\n"
     ]
    }
   ],
   "source": [
    "my_list = ['a','b','c','d','e','f','g','h','i','j']\n",
    "count = 0\n",
    "for i in my_list:\n",
    "    count += 1  # same as count = count + 1\n",
    "    print(f'Count is {count} and Value is {i}')"
   ]
  },
  {
   "cell_type": "markdown",
   "id": "9838a478",
   "metadata": {},
   "source": [
    "`enumerate` function"
   ]
  },
  {
   "cell_type": "code",
   "execution_count": 107,
   "id": "d5f408c6",
   "metadata": {},
   "outputs": [
    {
     "data": {
      "text/plain": [
       "[(0, 'a'),\n",
       " (1, 'b'),\n",
       " (2, 'c'),\n",
       " (3, 'd'),\n",
       " (4, 'e'),\n",
       " (5, 'f'),\n",
       " (6, 'g'),\n",
       " (7, 'h'),\n",
       " (8, 'i'),\n",
       " (9, 'j')]"
      ]
     },
     "execution_count": 107,
     "metadata": {},
     "output_type": "execute_result"
    }
   ],
   "source": [
    "list(enumerate(my_list)) # creates tuples with count and the item "
   ]
  },
  {
   "cell_type": "code",
   "execution_count": 106,
   "id": "54b7df2d",
   "metadata": {},
   "outputs": [
    {
     "name": "stdout",
     "output_type": "stream",
     "text": [
      "Count is 1 and Value is a\n",
      "Count is 2 and Value is b\n",
      "Count is 3 and Value is c\n",
      "Count is 4 and Value is d\n",
      "Count is 5 and Value is e\n",
      "Count is 6 and Value is f\n",
      "Count is 7 and Value is g\n",
      "Count is 8 and Value is h\n",
      "Count is 9 and Value is i\n",
      "Count is 10 and Value is j\n"
     ]
    }
   ],
   "source": [
    "my_list = ['a','b','c','d','e','f','g','h','i','j']\n",
    "for count, i in enumerate(my_list):\n",
    "    print(f'Count is {count+1} and Value is {i}')"
   ]
  },
  {
   "cell_type": "markdown",
   "id": "0a79d4f3",
   "metadata": {},
   "source": [
    "#### Concept Check\n",
    "- Create a list of 20 random numbers between 1 and 100 (you can use `random.randint`)\n",
    "- 1st method: Use a separate counter and print the count and number multiplied by 10\n",
    "- 2nd method: Use `enumerate` and print the count and add 10 to the number\n",
    "- Store the new numbers in a list object"
   ]
  },
  {
   "cell_type": "code",
   "execution_count": 110,
   "id": "fe670187",
   "metadata": {},
   "outputs": [
    {
     "name": "stdout",
     "output_type": "stream",
     "text": [
      "[96, 36, 29, 39, 44, 96, 11, 26, 74, 78, 52, 20, 73, 1, 20, 42, 78, 66, 14, 6]\n",
      "[960, 360, 290, 390, 440, 960, 110, 260, 740, 780, 520, 200, 730, 10, 200, 420, 780, 660, 140, 60]\n",
      "count is 0 and value is 106\n",
      "count is 1 and value is 46\n",
      "count is 2 and value is 39\n",
      "count is 3 and value is 49\n",
      "count is 4 and value is 54\n",
      "count is 5 and value is 106\n",
      "count is 6 and value is 21\n",
      "count is 7 and value is 36\n",
      "count is 8 and value is 84\n",
      "count is 9 and value is 88\n",
      "count is 10 and value is 62\n",
      "count is 11 and value is 30\n",
      "count is 12 and value is 83\n",
      "count is 13 and value is 11\n",
      "count is 14 and value is 30\n",
      "count is 15 and value is 52\n",
      "count is 16 and value is 88\n",
      "count is 17 and value is 76\n",
      "count is 18 and value is 24\n",
      "count is 19 and value is 16\n",
      "[106, 46, 39, 49, 54, 106, 21, 36, 84, 88, 62, 30, 83, 11, 30, 52, 88, 76, 24, 16]\n"
     ]
    }
   ],
   "source": [
    "# Gian's solution\n",
    "import random\n",
    "\n",
    "random_list = []\n",
    "\n",
    "for i in range(0, 20):\n",
    "    random_list.append(random.randint(0, 100))\n",
    "print(random_list)\n",
    "\n",
    "\n",
    "\n",
    "\n",
    "count = 0\n",
    "list_x10 = []\n",
    "for i in random_list:\n",
    "    count +=1\n",
    "    list_x10.append(i*10)\n",
    "print(list_x10)\n",
    "\n",
    "list_plus10=[]\n",
    "for count, i in enumerate(random_list):\n",
    "    list_plus10.append(i+10)\n",
    "    print(f'count is {count} and value is {i+10}')\n",
    "print(list_plus10)"
   ]
  },
  {
   "cell_type": "markdown",
   "id": "43ba7dc5",
   "metadata": {},
   "source": [
    "Nested `for` loops\n",
    "\n",
    "- If you have an inner and an outer for loop, every one run of the outer loop, the inner loop runs to completion\n",
    "- In every iteration of the outer loop, the inner starts from the beginning"
   ]
  },
  {
   "cell_type": "code",
   "execution_count": 111,
   "id": "ffb2bc9a",
   "metadata": {},
   "outputs": [
    {
     "name": "stdout",
     "output_type": "stream",
     "text": [
      "***\n",
      "1 a\n",
      "---\n",
      "1 b\n",
      "---\n",
      "1 c\n",
      "---\n",
      "***\n",
      "2 a\n",
      "---\n",
      "2 b\n",
      "---\n",
      "2 c\n",
      "---\n",
      "***\n",
      "3 a\n",
      "---\n",
      "3 b\n",
      "---\n",
      "3 c\n",
      "---\n",
      "+++\n"
     ]
    }
   ],
   "source": [
    "list_i = [1,2,3]\n",
    "list_j = ['a','b','c']\n",
    "\n",
    "for i in list_i: # outer loop\n",
    "    print('***')\n",
    "    for j in list_j: # inner loop\n",
    "        print(i,j)\n",
    "        print('---')\n",
    "print('+++')"
   ]
  },
  {
   "cell_type": "markdown",
   "id": "77cbb8cb",
   "metadata": {},
   "source": [
    "### `While` loops"
   ]
  },
  {
   "cell_type": "markdown",
   "id": "e205329d",
   "metadata": {},
   "source": [
    "A while loop continues to execute until the condition (boolean expression) evaluates to `False`\n",
    "\n",
    "```\n",
    "while <condition>:\n",
    "    statement\n",
    "    statement\n",
    "    ...\n",
    "```"
   ]
  },
  {
   "cell_type": "code",
   "execution_count": 113,
   "id": "662dfa3c",
   "metadata": {},
   "outputs": [
    {
     "name": "stdout",
     "output_type": "stream",
     "text": [
      "10\n",
      "9\n",
      "8\n",
      "7\n",
      "6\n",
      "5\n",
      "4\n",
      "3\n",
      "2\n",
      "1\n",
      "Stopped!\n"
     ]
    }
   ],
   "source": [
    "n = 10\n",
    "while n > 0:\n",
    "    print(n)\n",
    "    n -= 1 # n = n - 1\n",
    "\n",
    "print('Stopped!')"
   ]
  },
  {
   "cell_type": "markdown",
   "id": "ca6a84d2",
   "metadata": {},
   "source": [
    "`break` statement can be used to break out of a loop (`break` works with both `for` and `while` loops)"
   ]
  },
  {
   "cell_type": "code",
   "execution_count": 115,
   "id": "f88c156c",
   "metadata": {},
   "outputs": [
    {
     "name": "stdout",
     "output_type": "stream",
     "text": [
      "10\n",
      "9\n",
      "8\n",
      "7\n",
      "6\n",
      "5\n",
      "4\n",
      "3\n",
      "2\n",
      "1\n",
      "0\n",
      "Stopped!\n"
     ]
    }
   ],
   "source": [
    "n = 10\n",
    "while True:\n",
    "    print(n)\n",
    "    n -= 1\n",
    "    if n < 0:\n",
    "        break\n",
    "print('Stopped!')"
   ]
  },
  {
   "cell_type": "code",
   "execution_count": 117,
   "id": "d0ccce52",
   "metadata": {},
   "outputs": [
    {
     "name": "stdout",
     "output_type": "stream",
     "text": [
      "1\n",
      "2\n",
      "3\n",
      "4\n",
      "5\n"
     ]
    }
   ],
   "source": [
    "my_list = [1,2,3,4,5,6,7,8,9,10] \n",
    "for i in my_list:\n",
    "    if i > 5:\n",
    "        break\n",
    "    print(i)\n"
   ]
  },
  {
   "cell_type": "markdown",
   "id": "f7851d62",
   "metadata": {},
   "source": [
    "`continue` statement can be used to skip the rest of the current iteration in a loop (`continue` also works with both `for` and `while` loops)"
   ]
  },
  {
   "cell_type": "code",
   "execution_count": 121,
   "id": "42dcd881",
   "metadata": {},
   "outputs": [
    {
     "name": "stdout",
     "output_type": "stream",
     "text": [
      "2\n",
      "4\n",
      "6\n",
      "8\n",
      "10\n"
     ]
    }
   ],
   "source": [
    "list_a = [1,2,3,4,5,6,7,8,9,10]\n",
    "n = 1\n",
    "while n <= 10:\n",
    "    n += 1\n",
    "    if n%2 == 1:\n",
    "        continue\n",
    "    print(n)\n",
    "    "
   ]
  },
  {
   "cell_type": "markdown",
   "id": "bfdbff29",
   "metadata": {},
   "source": [
    "#### Concept Check\n",
    "- In a while loop, keep generating random numbers (between 1 and 10), until you get a number greater than 7.\n",
    "- Print out all the random numbers generated"
   ]
  },
  {
   "cell_type": "code",
   "execution_count": 129,
   "id": "cde6b217",
   "metadata": {},
   "outputs": [
    {
     "name": "stdout",
     "output_type": "stream",
     "text": [
      "8\n"
     ]
    }
   ],
   "source": [
    "while True:\n",
    "    n = random.randint(1,10)\n",
    "    print(n)\n",
    "    if n>7:\n",
    "        break"
   ]
  },
  {
   "cell_type": "markdown",
   "id": "f82b0afa",
   "metadata": {},
   "source": [
    "## Exceptions\n",
    "When an error occurs during execution of your code, an exception is raised"
   ]
  },
  {
   "cell_type": "code",
   "execution_count": 130,
   "id": "eb0a6a4c",
   "metadata": {},
   "outputs": [
    {
     "ename": "ZeroDivisionError",
     "evalue": "float division by zero",
     "output_type": "error",
     "traceback": [
      "\u001b[1;31m---------------------------------------------------------------------------\u001b[0m",
      "\u001b[1;31mZeroDivisionError\u001b[0m                         Traceback (most recent call last)",
      "\u001b[1;32m<ipython-input-130-b0f50827644d>\u001b[0m in \u001b[0;36m<module>\u001b[1;34m\u001b[0m\n\u001b[1;32m----> 1\u001b[1;33m \u001b[1;36m5.5\u001b[0m\u001b[1;33m/\u001b[0m\u001b[1;36m0\u001b[0m\u001b[1;33m\u001b[0m\u001b[1;33m\u001b[0m\u001b[0m\n\u001b[0m",
      "\u001b[1;31mZeroDivisionError\u001b[0m: float division by zero"
     ]
    }
   ],
   "source": [
    "5.5/0"
   ]
  },
  {
   "cell_type": "code",
   "execution_count": 131,
   "id": "a5fcf2a3",
   "metadata": {},
   "outputs": [
    {
     "ename": "FileNotFoundError",
     "evalue": "[Errno 2] No such file or directory: 'non-existent-file.txt'",
     "output_type": "error",
     "traceback": [
      "\u001b[1;31m---------------------------------------------------------------------------\u001b[0m",
      "\u001b[1;31mFileNotFoundError\u001b[0m                         Traceback (most recent call last)",
      "\u001b[1;32m<ipython-input-131-99d13781a318>\u001b[0m in \u001b[0;36m<module>\u001b[1;34m\u001b[0m\n\u001b[1;32m----> 1\u001b[1;33m \u001b[0mf\u001b[0m \u001b[1;33m=\u001b[0m \u001b[0mopen\u001b[0m\u001b[1;33m(\u001b[0m\u001b[1;34m'non-existent-file.txt'\u001b[0m\u001b[1;33m,\u001b[0m\u001b[1;34m'r'\u001b[0m\u001b[1;33m)\u001b[0m\u001b[1;33m\u001b[0m\u001b[1;33m\u001b[0m\u001b[0m\n\u001b[0m",
      "\u001b[1;31mFileNotFoundError\u001b[0m: [Errno 2] No such file or directory: 'non-existent-file.txt'"
     ]
    }
   ],
   "source": [
    "f = open('non-existent-file.txt','r')"
   ]
  },
  {
   "cell_type": "code",
   "execution_count": 132,
   "id": "0162c883",
   "metadata": {},
   "outputs": [
    {
     "ename": "IndexError",
     "evalue": "list index out of range",
     "output_type": "error",
     "traceback": [
      "\u001b[1;31m---------------------------------------------------------------------------\u001b[0m",
      "\u001b[1;31mIndexError\u001b[0m                                Traceback (most recent call last)",
      "\u001b[1;32m<ipython-input-132-92a701105bdc>\u001b[0m in \u001b[0;36m<module>\u001b[1;34m\u001b[0m\n\u001b[0;32m      1\u001b[0m \u001b[0mmy_list\u001b[0m \u001b[1;33m=\u001b[0m \u001b[1;33m[\u001b[0m\u001b[1;36m1\u001b[0m\u001b[1;33m,\u001b[0m\u001b[1;36m2\u001b[0m\u001b[1;33m,\u001b[0m\u001b[1;36m3\u001b[0m\u001b[1;33m]\u001b[0m\u001b[1;33m\u001b[0m\u001b[1;33m\u001b[0m\u001b[0m\n\u001b[1;32m----> 2\u001b[1;33m \u001b[0mmy_list\u001b[0m\u001b[1;33m[\u001b[0m\u001b[1;36m3\u001b[0m\u001b[1;33m]\u001b[0m\u001b[1;33m\u001b[0m\u001b[1;33m\u001b[0m\u001b[0m\n\u001b[0m",
      "\u001b[1;31mIndexError\u001b[0m: list index out of range"
     ]
    }
   ],
   "source": [
    "my_list = [1,2,3]\n",
    "my_list[3]"
   ]
  },
  {
   "cell_type": "code",
   "execution_count": 165,
   "id": "1a021f7c",
   "metadata": {},
   "outputs": [
    {
     "ename": "KeyError",
     "evalue": "'location'",
     "output_type": "error",
     "traceback": [
      "\u001b[1;31m---------------------------------------------------------------------------\u001b[0m",
      "\u001b[1;31mKeyError\u001b[0m                                  Traceback (most recent call last)",
      "\u001b[1;32m<ipython-input-165-28a34e4ed780>\u001b[0m in \u001b[0;36m<module>\u001b[1;34m\u001b[0m\n\u001b[0;32m      1\u001b[0m \u001b[0mmy_dict\u001b[0m \u001b[1;33m=\u001b[0m \u001b[1;33m{\u001b[0m\u001b[1;34m'name'\u001b[0m\u001b[1;33m:\u001b[0m \u001b[1;34m'JohnSmith'\u001b[0m\u001b[1;33m,\u001b[0m\u001b[1;34m'number'\u001b[0m\u001b[1;33m:\u001b[0m\u001b[1;36m12345\u001b[0m\u001b[1;33m}\u001b[0m\u001b[1;33m\u001b[0m\u001b[1;33m\u001b[0m\u001b[0m\n\u001b[1;32m----> 2\u001b[1;33m \u001b[0mmy_dict\u001b[0m\u001b[1;33m[\u001b[0m\u001b[1;34m'location'\u001b[0m\u001b[1;33m]\u001b[0m\u001b[1;33m\u001b[0m\u001b[1;33m\u001b[0m\u001b[0m\n\u001b[0m",
      "\u001b[1;31mKeyError\u001b[0m: 'location'"
     ]
    }
   ],
   "source": [
    "my_dict = {'name': 'JohnSmith','number':12345}\n",
    "my_dict['location']"
   ]
  },
  {
   "cell_type": "code",
   "execution_count": 136,
   "id": "4ea3b237",
   "metadata": {},
   "outputs": [
    {
     "ename": "TypeError",
     "evalue": "unsupported operand type(s) for /: 'str' and 'str'",
     "output_type": "error",
     "traceback": [
      "\u001b[1;31m---------------------------------------------------------------------------\u001b[0m",
      "\u001b[1;31mTypeError\u001b[0m                                 Traceback (most recent call last)",
      "\u001b[1;32m<ipython-input-136-8e866ba59fb0>\u001b[0m in \u001b[0;36m<module>\u001b[1;34m\u001b[0m\n\u001b[1;32m----> 1\u001b[1;33m \u001b[1;34m'1'\u001b[0m\u001b[1;33m/\u001b[0m\u001b[1;34m'2'\u001b[0m\u001b[1;33m\u001b[0m\u001b[1;33m\u001b[0m\u001b[0m\n\u001b[0m",
      "\u001b[1;31mTypeError\u001b[0m: unsupported operand type(s) for /: 'str' and 'str'"
     ]
    }
   ],
   "source": [
    "'1'/'2'"
   ]
  },
  {
   "cell_type": "markdown",
   "id": "541d05e2",
   "metadata": {},
   "source": [
    "### Raising exceptions"
   ]
  },
  {
   "cell_type": "markdown",
   "id": "ffafcadd",
   "metadata": {},
   "source": [
    "Exceptions indicate errors and break out of the normal control flow of the program. Exceptions can be raised by using the `raise` statement"
   ]
  },
  {
   "cell_type": "code",
   "execution_count": 137,
   "id": "d169ee70",
   "metadata": {},
   "outputs": [],
   "source": [
    "def send_email(email_address):\n",
    "    if '@' not in email_address:\n",
    "        raise Exception('The email address is not valid!')\n",
    "    else:\n",
    "        # code to send email\n",
    "        print('Email has been sent!')"
   ]
  },
  {
   "cell_type": "code",
   "execution_count": 138,
   "id": "a009815c",
   "metadata": {},
   "outputs": [
    {
     "name": "stdout",
     "output_type": "stream",
     "text": [
      "Email has been sent!\n"
     ]
    }
   ],
   "source": [
    "send_email('johnsmith@kubrickgroup.com')"
   ]
  },
  {
   "cell_type": "code",
   "execution_count": 139,
   "id": "024a9315",
   "metadata": {},
   "outputs": [
    {
     "ename": "Exception",
     "evalue": "The email address is not valid!",
     "output_type": "error",
     "traceback": [
      "\u001b[1;31m---------------------------------------------------------------------------\u001b[0m",
      "\u001b[1;31mException\u001b[0m                                 Traceback (most recent call last)",
      "\u001b[1;32m<ipython-input-139-c7f45ee25c11>\u001b[0m in \u001b[0;36m<module>\u001b[1;34m\u001b[0m\n\u001b[1;32m----> 1\u001b[1;33m \u001b[0msend_email\u001b[0m\u001b[1;33m(\u001b[0m\u001b[1;34m'johnsmith#kubrickgroup.com'\u001b[0m\u001b[1;33m)\u001b[0m\u001b[1;33m\u001b[0m\u001b[1;33m\u001b[0m\u001b[0m\n\u001b[0m",
      "\u001b[1;32m<ipython-input-137-e13636d37ac8>\u001b[0m in \u001b[0;36msend_email\u001b[1;34m(email_address)\u001b[0m\n\u001b[0;32m      1\u001b[0m \u001b[1;32mdef\u001b[0m \u001b[0msend_email\u001b[0m\u001b[1;33m(\u001b[0m\u001b[0memail_address\u001b[0m\u001b[1;33m)\u001b[0m\u001b[1;33m:\u001b[0m\u001b[1;33m\u001b[0m\u001b[1;33m\u001b[0m\u001b[0m\n\u001b[0;32m      2\u001b[0m     \u001b[1;32mif\u001b[0m \u001b[1;34m'@'\u001b[0m \u001b[1;32mnot\u001b[0m \u001b[1;32min\u001b[0m \u001b[0memail_address\u001b[0m\u001b[1;33m:\u001b[0m\u001b[1;33m\u001b[0m\u001b[1;33m\u001b[0m\u001b[0m\n\u001b[1;32m----> 3\u001b[1;33m         \u001b[1;32mraise\u001b[0m \u001b[0mException\u001b[0m\u001b[1;33m(\u001b[0m\u001b[1;34m'The email address is not valid!'\u001b[0m\u001b[1;33m)\u001b[0m\u001b[1;33m\u001b[0m\u001b[1;33m\u001b[0m\u001b[0m\n\u001b[0m\u001b[0;32m      4\u001b[0m     \u001b[1;32melse\u001b[0m\u001b[1;33m:\u001b[0m\u001b[1;33m\u001b[0m\u001b[1;33m\u001b[0m\u001b[0m\n\u001b[0;32m      5\u001b[0m         \u001b[1;31m# code to send email\u001b[0m\u001b[1;33m\u001b[0m\u001b[1;33m\u001b[0m\u001b[1;33m\u001b[0m\u001b[0m\n",
      "\u001b[1;31mException\u001b[0m: The email address is not valid!"
     ]
    }
   ],
   "source": [
    "send_email('johnsmith#kubrickgroup.com')"
   ]
  },
  {
   "cell_type": "markdown",
   "id": "4f53f9c6",
   "metadata": {},
   "source": [
    "### Catching and handling exceptions\n",
    "Exceptions are caught and handled using the `try-except` block\n",
    "\n",
    "Execution stops in the try block as soon as an exception occurs, and jumps straight into the except block\n",
    "\n",
    "We can have multiple `except` blocks to handle different types of exceptions\n",
    "\n",
    "```\n",
    "try:\n",
    "    statement\n",
    "    statement\n",
    "except:\n",
    "    statement\n",
    "    statement\n",
    "```"
   ]
  },
  {
   "cell_type": "code",
   "execution_count": 159,
   "id": "453783de",
   "metadata": {},
   "outputs": [],
   "source": [
    "def divide(a,b):\n",
    "    try:\n",
    "        result = a/b\n",
    "        return result\n",
    "    except ZeroDivisionError:\n",
    "        print('Cannot divide by zero!')\n",
    "    except TypeError:\n",
    "        try:\n",
    "            result = float(a)/float(b)\n",
    "            return result\n",
    "        except:\n",
    "            print('Cannot divide the type provided!')"
   ]
  },
  {
   "cell_type": "code",
   "execution_count": 164,
   "id": "12ce0447",
   "metadata": {},
   "outputs": [
    {
     "name": "stdout",
     "output_type": "stream",
     "text": [
      "Cannot divide the type provided!\n",
      "None\n"
     ]
    }
   ],
   "source": [
    "c = divide(5,'g')\n",
    "print(c)"
   ]
  },
  {
   "attachments": {
    "exception-class-hierarchy.png": {
     "image/png": "[encoded data removed]"
    }
   },
   "cell_type": "markdown",
   "id": "78d90527",
   "metadata": {},
   "source": [
    "![exception-class-hierarchy.png](attachment:exception-class-hierarchy.png)"
   ]
  },
  {
   "cell_type": "code",
   "execution_count": null,
   "id": "ebe6282d",
   "metadata": {},
   "outputs": [],
   "source": []
  }
 ],
 "metadata": {
  "kernelspec": {
   "display_name": "Python 3",
   "language": "python",
   "name": "python3"
  },
  "language_info": {
   "codemirror_mode": {
    "name": "ipython",
    "version": 3
   },
   "file_extension": ".py",
   "mimetype": "text/x-python",
   "name": "python",
   "nbconvert_exporter": "python",
   "pygments_lexer": "ipython3",
   "version": "3.8.8"
  },
  "toc": {
   "base_numbering": 1,
   "nav_menu": {},
   "number_sections": true,
   "sideBar": true,
   "skip_h1_title": false,
   "title_cell": "Table of Contents",
   "title_sidebar": "Contents",
   "toc_cell": false,
   "toc_position": {},
   "toc_section_display": true,
   "toc_window_display": false
  },
  "varInspector": {
   "cols": {
    "lenName": 16,
    "lenType": 16,
    "lenVar": 40
   },
   "kernels_config": {
    "python": {
     "delete_cmd_postfix": "",
     "delete_cmd_prefix": "del ",
     "library": "var_list.py",
     "varRefreshCmd": "print(var_dic_list())"
    },
    "r": {
     "delete_cmd_postfix": ") ",
     "delete_cmd_prefix": "rm(",
     "library": "var_list.r",
     "varRefreshCmd": "cat(var_dic_list()) "
    }
   },
   "types_to_exclude": [
    "module",
    "function",
    "builtin_function_or_method",
    "instance",
    "_Feature"
   ],
   "window_display": false
  }
 },
 "nbformat": 4,
 "nbformat_minor": 5
}
