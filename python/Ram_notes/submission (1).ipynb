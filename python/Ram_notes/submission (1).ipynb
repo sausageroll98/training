{
 "cells": [
  {
   "cell_type": "markdown",
   "metadata": {},
   "source": [
    "\n",
    " # Instructions:\n",
    "- Please enter (and check!) your name and email address in the `get_consultant_name` function, just below this text.\n",
    "- Please enter in your answers 1-8 in the code cells starting with `# submit`.\n",
    "- You can use the code cells starting with `# scratch` to test your solutions. We won't run these.  \n",
    "- You can make more cells starting with `# submit` or `# scratch` as necessary.\n",
    "- Before you submit your file, please *restart your kernel*, and then run all cells from the top, \n",
    "making sure that there are no errors or unhandled exceptions. \n",
    "(Please handle, comment out, or delete, any source code that raises an Exception)\n",
    "- If this paper is being taken under test conditions, then:\n",
    "    - Normally **two-and-a half hours** is allowed to complete all questions. \n",
    "    - Your best 7 answers count, i.e. you will receive a mark out of thirty-five, scaled to a percentage.\n",
    "    - Normally this is an 'open book' test, i.e. access to your notes and on-line resources is allowed.\n",
    "    - Please ensure that this is only your own work: please don't accept help from others (or give it!)  \n",
    "\n",
    "## Hints:\n",
    "1) Make sure you are returning the right type of object that the question is asking for (and how this is not the same as printing out the answer from within the function.) \n",
    "\n",
    "2) In some questions, partial marks are awarded for satisfying the simpler test cases. Use your time wisely!"
   ]
  },
  {
   "cell_type": "code",
   "execution_count": null,
   "metadata": {},
   "outputs": [],
   "source": [
    "\n",
    "def get_consultant_name():\n",
    "    first_name = 'Jeevan'\n",
    "    surname = 'Rai'\n",
    "    email = 'jeevanrai@kubrickgroup.com'\n",
    "    return first_name, surname, email\n"
   ]
  },
  {
   "cell_type": "markdown",
   "metadata": {},
   "source": [
    "1. Split Odd and Even Elements\n",
    "-------------------------------\n",
    "Write a function that accepts a single input argument (a list) and returns a tuple of two lists. \n",
    "        The first list in the tuple should contain the even integers present in the input list. \n",
    "        The second list should contain  the odd integers present in the input list. \n",
    "        Non-integer elements of the input list should not be included in either output list. \n",
    "\n",
    "\n",
    "\n",
    "Required Signature:\n",
    "\n",
    "    def split_odd_even(x):  \n",
    "        pass  \n",
    "\n",
    "for example, calling `split_odd_even([5, 4, 3, 2, 1])` \n",
    " will return `([4,2], [5,3,1])`\n",
    "\n"
   ]
  },
  {
   "cell_type": "code",
   "execution_count": 9,
   "metadata": {},
   "outputs": [],
   "source": [
    "# submit (we will import your solution from this cell. Don't use Global Variables here.  )\n",
    "# ------------------------------------------------------------------------------\n",
    "def split_odd_even(x):\n",
    "    a = []\n",
    "    b = []\n",
    "    for i in x:\n",
    "        if type(i) == int:\n",
    "            if i%2 == 0:\n",
    "                a.append(i)\n",
    "            else:\n",
    "                b.append(i)\n",
    "    tuple1 = (a,b)\n",
    "    return tuple1\n",
    "    \n",
    "\n",
    "\n",
    "\n"
   ]
  },
  {
   "cell_type": "code",
   "execution_count": 10,
   "metadata": {},
   "outputs": [
    {
     "name": "stdout",
     "output_type": "stream",
     "text": [
      "([4, 2], [5, 3, 1])\n"
     ]
    }
   ],
   "source": [
    "# scratch (we will NOT mark this cell - use this for your own tests)\n",
    "# ------------------------------------------------------------------------------\n",
    "x = [5,4,3,2,1]\n",
    "print(split_odd_even(x))\n",
    "\n",
    "\n",
    "\n"
   ]
  },
  {
   "cell_type": "markdown",
   "metadata": {},
   "source": [
    "2. Flatten List\n",
    "-------------------------------\n",
    "Write a function that accepts a single input argument (a list) and returns a list. \n",
    "The elements in the input list are either integers, or sub-lists containing integers. \n",
    "The output list should contain all the integers in a single list, \n",
    "in the same order as originally presented. (4 marks)\n",
    "\n",
    "For one further mark, allow sub-lists to also contain sub-lists themselves, in addition to integers. \n",
    "The output is still expected to be a single list containing only the integers, \n",
    "in the same order as originally presented.\n",
    "\n",
    "\n",
    "\n",
    "\n",
    "Required Signature:\n",
    "\n",
    "    def flatten_list(x):  \n",
    "        pass  \n",
    "\n",
    "for example, calling `flatten_list([5, [4, 3, 2], 1])` \n",
    " will return `[5, 4, 3, 2, 1]`\n",
    "\n"
   ]
  },
  {
   "cell_type": "code",
   "execution_count": 22,
   "metadata": {},
   "outputs": [],
   "source": [
    "# submit (we will import your solution from this cell. Don't use Global Variables here.  )\n",
    "# ------------------------------------------------------------------------------\n",
    "def flatten_list(x):\n",
    "    a = []\n",
    "    for var1 in x:\n",
    "        if type(var1) == list:\n",
    "            for var2 in var1:\n",
    "                if type(var2) == list:\n",
    "                    for var3 in var2:\n",
    "                        a.append(var3)\n",
    "                else:\n",
    "                    a.append(var2)\n",
    "        else:\n",
    "            a.append(var1)\n",
    "    return a\n",
    "\n",
    "\n",
    "\n"
   ]
  },
  {
   "cell_type": "code",
   "execution_count": 26,
   "metadata": {},
   "outputs": [
    {
     "name": "stdout",
     "output_type": "stream",
     "text": [
      "[10, 9, 8, 7, 6, 5, 4, 3, 2, 1]\n"
     ]
    }
   ],
   "source": [
    "# scratch (we will NOT mark this cell - use this for your own tests)\n",
    "# ------------------------------------------------------------------------------\n",
    "x = [10,[9,[8,7,6],5,4],3,2,1]\n",
    "print(flatten_list(x))\n",
    "\n"
   ]
  },
  {
   "cell_type": "markdown",
   "metadata": {},
   "source": [
    "3. Card Dealer\n",
    "-------------------------------\n",
    "Write a function that returns a generator object that deals (yields) the 52 playing cards, one at a time.\n",
    "Each card is represented by a two or three character string, representing the rank (`2`-`10`, then `J`,`Q`,`K`,`A`) and the suit \n",
    "of the card: `S`, `C`, `H` and `D` for Spades, Clubs, Hearts and Diamonds respectively. \n",
    "For example, the 10 of Spades is represented as `10S`, the Ace of Diamonds is represented as `AD`, \n",
    "and the Jack of Hearts is given as `JH`.\n",
    "\n",
    "The 52 cards may be yielded in any order. \n",
    "\n",
    "2 (out of 5) marks are awarded if the function returns a list of card strings, rather than a generator object.\n",
    "\n",
    "\n",
    "\n",
    "Required Signature:\n",
    "\n",
    "    def card_dealer():  \n",
    "        pass  \n",
    "\n",
    "\n",
    "\n"
   ]
  },
  {
   "cell_type": "code",
   "execution_count": 205,
   "metadata": {},
   "outputs": [],
   "source": [
    "# submit (we will import your solution from this cell. Don't use Global Variables here.  )\n",
    "# ------------------------------------------------------------------------------\n",
    "import random\n",
    "card_list = []\n",
    "card_num = ['2','3','4','5','6','7','8','9','10','J','Q','K','A']\n",
    "card_suit = ['S','C','H','D']\n",
    "def card_dealer():\n",
    "    for i in card_num:\n",
    "        for j in card_suit:\n",
    "             card_list.append(i+j)\n",
    "    while True:\n",
    "        yield random.choice(card_list)\n",
    "\n",
    "    \n",
    "\n",
    "\n",
    "\n"
   ]
  },
  {
   "cell_type": "code",
   "execution_count": 206,
   "metadata": {},
   "outputs": [
    {
     "name": "stdout",
     "output_type": "stream",
     "text": [
      "6D\n",
      "QS\n",
      "JD\n",
      "10C\n",
      "KS\n",
      "9H\n",
      "5D\n",
      "JS\n",
      "4H\n",
      "10S\n",
      "5D\n",
      "QH\n",
      "3S\n",
      "7C\n",
      "10H\n",
      "AD\n",
      "5H\n",
      "7D\n",
      "7H\n",
      "10C\n",
      "3H\n",
      "3H\n",
      "5H\n",
      "AD\n",
      "3C\n",
      "8H\n",
      "3C\n",
      "2C\n",
      "7S\n",
      "10H\n",
      "JD\n",
      "3S\n",
      "2D\n",
      "6H\n",
      "QD\n",
      "7C\n",
      "8D\n",
      "2H\n",
      "AC\n",
      "KC\n",
      "2H\n",
      "8H\n",
      "9H\n",
      "5D\n",
      "KS\n",
      "JC\n",
      "10C\n",
      "KC\n",
      "QD\n",
      "3S\n",
      "10C\n",
      "QD\n",
      "6H\n",
      "JD\n",
      "JC\n",
      "5H\n",
      "JC\n",
      "7C\n",
      "AS\n",
      "QD\n",
      "8S\n",
      "10H\n",
      "KC\n",
      "JD\n",
      "JC\n",
      "JC\n",
      "4D\n",
      "2C\n",
      "3D\n",
      "6H\n",
      "9C\n",
      "2H\n",
      "4D\n",
      "8C\n",
      "5S\n",
      "3H\n",
      "3C\n",
      "9C\n",
      "KD\n",
      "8H\n",
      "8C\n",
      "QH\n",
      "AH\n",
      "KD\n",
      "9S\n",
      "4D\n",
      "KD\n",
      "JH\n",
      "4D\n",
      "5S\n",
      "9D\n",
      "9D\n",
      "AS\n",
      "10D\n",
      "5C\n",
      "4C\n",
      "AD\n",
      "9D\n",
      "AC\n",
      "5C\n"
     ]
    }
   ],
   "source": [
    "# scratch (we will NOT mark this cell - use this for your own tests)\n",
    "# ------------------------------------------------------------------------------\n",
    "n = card_dealer()\n",
    "for i in range(100):\n",
    "    print(next(n))\n",
    "    \n",
    "\n"
   ]
  },
  {
   "cell_type": "markdown",
   "metadata": {},
   "source": [
    "4. Tuples To Dict\n",
    "-------------------------------\n",
    "Write a function that takes in two tuples and returns a dictionary in which \n",
    "the elements of the first tuple are used as keys, and the corresponding elements of the second \n",
    "tuple are used as the values. (4 marks)\n",
    "\n",
    "For one further mark, ensure that if two or more elements in the first tuple have the same value, \n",
    "then it is the first element (and its corresponding element in the second tuple) that is used in the \n",
    "dictionary. \n",
    "\n",
    "\n",
    "\n",
    "Required Signature:\n",
    "\n",
    "    def tuples_to_dict(x,y):  \n",
    "        pass  \n",
    "\n",
    "for example, calling `tuples_to_dict(('a','b', 'c', 'a'), (1,2,3,4))` \n",
    " will return `{'a':1, 'b':2, 'c':3}`\n",
    "\n"
   ]
  },
  {
   "cell_type": "code",
   "execution_count": 33,
   "metadata": {},
   "outputs": [],
   "source": [
    "# submit (we will import your solution from this cell. Don't use Global Variables here.  )\n",
    "# ------------------------------------------------------------------------------\n",
    "def tuples_to_dict(x,y):\n",
    "    my_dict = {}\n",
    "    num_range = range(len(x))\n",
    "    for i in num_range:\n",
    "        if x[i] not in my_dict:\n",
    "            my_dict[x[i]] = y[i]\n",
    "    return my_dict\n",
    "\n",
    "\n",
    "\n"
   ]
  },
  {
   "cell_type": "code",
   "execution_count": 34,
   "metadata": {},
   "outputs": [
    {
     "name": "stdout",
     "output_type": "stream",
     "text": [
      "{'a': 1, 'b': 2, 'c': 3}\n"
     ]
    }
   ],
   "source": [
    "# scratch (we will NOT mark this cell - use this for your own tests)\n",
    "# ------------------------------------------------------------------------------\n",
    "x = ('a','b','c','a')\n",
    "y = (1,2,3,4)\n",
    "print(tuples_to_dict(x,y))\n",
    "\n",
    "\n"
   ]
  },
  {
   "cell_type": "markdown",
   "metadata": {},
   "source": [
    "5. Interests In Common\n",
    "-------------------------------\n",
    "Alice, Bob and Charlie have provided lists of their interests. Each interest is a lower-case string.\n",
    "Write a function that takes in these three lists, and returns a list of the interests they have in common. \n",
    "\n",
    "\n",
    "Required Signature:\n",
    "\n",
    "    def interests_in_common(a, b, c):  \n",
    "        pass  \n",
    "\n",
    "\n",
    "        for example, if \n",
    "```\n",
    "a=['hunting', 'shooting', 'fishing']\n",
    "b=['sewing', 'fishing', 'hunting']\n",
    "c =['fishing', 'knitting', 'sewing']\n",
    "```\n",
    "then calling `interests_in_common(a,b,c)` \n",
    " will return `['fishing']`\"\n",
    "\n",
    "\n"
   ]
  },
  {
   "cell_type": "code",
   "execution_count": 38,
   "metadata": {},
   "outputs": [],
   "source": [
    "# submit (we will import your solution from this cell. Don't use Global Variables here.  )\n",
    "# ------------------------------------------------------------------------------\n",
    "def interests_in_common(a,b,c):\n",
    "    seta = set(a)\n",
    "    setb = set(b)\n",
    "    setc = set(c)\n",
    "    return list(seta.intersection(setb,setc))\n",
    "\n",
    "\n",
    "\n",
    "\n"
   ]
  },
  {
   "cell_type": "code",
   "execution_count": 39,
   "metadata": {},
   "outputs": [
    {
     "name": "stdout",
     "output_type": "stream",
     "text": [
      "['fishing']\n"
     ]
    }
   ],
   "source": [
    "# scratch (we will NOT mark this cell - use this for your own tests)\n",
    "# ------------------------------------------------------------------------------\n",
    "a=['hunting', 'shooting', 'fishing']\n",
    "b=['sewing', 'fishing', 'hunting']\n",
    "c =['fishing', 'knitting', 'sewing']\n",
    "\n",
    "print(interests_in_common(a,b,c))\n"
   ]
  },
  {
   "cell_type": "markdown",
   "metadata": {},
   "source": [
    "6. Name Processing (5)\n",
    "-------------------------------\n",
    "Write a function that accepts an input argument list of `full_name` strings, \n",
    "each string consisting of a first name, optional middle name, and surname, separated by spaces. \n",
    "\n",
    "The function should return a list containing these same names, but with the surname written first, \n",
    "followed by a comma, then the first name. If a middle name is present, append only its first letter, \n",
    "followed by full-stop (4 marks).\n",
    "\n",
    "For one extra mark, ensure that the function works with more than one middle name, i.e. each middle name is \n",
    "replaced by its first initial and a full stop. \n",
    "\n",
    "\n",
    "Required Signature:\n",
    "\n",
    "    def name_processing5(list_of_names):  \n",
    "        pass  \n",
    "\n",
    "\n",
    "for example, using the following  list as input:\n",
    "\n",
    "`['James Bond', 'Zadie Smith', 'Arthur Conon Boyle'] `\n",
    "\n",
    "the function would return :\n",
    "\n",
    "`['Bond, James', 'Smith, Zadie', 'Boyle, Arthur C.']`\n",
    "\n",
    "\n",
    "\n",
    "\n"
   ]
  },
  {
   "cell_type": "code",
   "execution_count": 67,
   "metadata": {},
   "outputs": [],
   "source": [
    "# submit (we will import your solution from this cell. Don't use Global Variables here.  )\n",
    "# ------------------------------------------------------------------------------\n",
    "def name_processing5(list_of_names):\n",
    "    list_new = []\n",
    "    for i in list_of_names:\n",
    "        a = i.split()\n",
    "        if len(a) == 2:\n",
    "            for i in range(len(a)):\n",
    "                if i == 0:\n",
    "                    first_name = str(a[i])\n",
    "                else:\n",
    "                    last_name = str(a[i])\n",
    "            b = last_name + ', ' + first_name\n",
    "        else:\n",
    "            for i in range(len(a)):\n",
    "                if i == 0:\n",
    "                    first_name = str(a[i])\n",
    "                elif i == len(a)-1:\n",
    "                    last_name = str(a[i])\n",
    "                else:\n",
    "                    middle_name = str(a[i])\n",
    "            b = last_name + ', ' + first_name + ' ' + middle_name[0] + '.'\n",
    "        list_new.append(b)\n",
    "    return list_new\n",
    "            \n",
    "        \n",
    "\n",
    "\n",
    "\n"
   ]
  },
  {
   "cell_type": "code",
   "execution_count": 68,
   "metadata": {},
   "outputs": [
    {
     "name": "stdout",
     "output_type": "stream",
     "text": [
      "['Bond, James', 'Smith, Zadie', 'Boyle, Arthur C.']\n"
     ]
    }
   ],
   "source": [
    "# scratch (we will NOT mark this cell - use this for your own tests)\n",
    "# ------------------------------------------------------------------------------\n",
    "list_of_names = ['James Bond', 'Zadie Smith', 'Arthur Conon Boyle']\n",
    "name1 = ['James','Barry','Bond']\n",
    "#print(list(range(len(name1))))\n",
    "#print(len(name1))\n",
    "#print(str(name1[0])[0])\n",
    "print(name_processing5(list_of_names))\n",
    "\n",
    "\n",
    "\n"
   ]
  },
  {
   "cell_type": "markdown",
   "metadata": {},
   "source": [
    "7. Pub Table (1)\n",
    "-------------------------------\n",
    "Write a class to represent a pub table called `PubTable`.\n",
    "\n",
    "The `PubTable` class is initialized with two arguments, \n",
    "representing the number of seats it has (an integer) \n",
    "and whether it is inside or outside (a string).\n",
    "\n",
    "The class shall also implement two methods:\n",
    "\n",
    "Methods:\n",
    "- `reserve`: This method reserves a table for a party of guests.\n",
    "- `is_suitable`: This method will take either one or two arguments, \n",
    "and return either `True` or `False`:\n",
    "The first integer argument describes the size of the party needing a pub table. \n",
    "The second (optional) string argument describes their preference, either `'inside'` or `'outside'`.\n",
    "The table is considered to be suitable for the party if it not already reserved, \n",
    "it can accomodate all the guests and leave no more than two spare seats, \n",
    "and also if it fits with their preference for inside or outside (if stated).\n",
    "Invalid arguments should raise an Exception. \n",
    "\n",
    "\n",
    "\n",
    "Required Signature:\n",
    "\n",
    "    class PubTable():  \n",
    "        pass  \n",
    "\n",
    "\n",
    "Example usage:\n",
    "\n",
    "```\n",
    "table = PubTable(4, 'inside') # initializes table inside the pub with 4 seats.\n",
    "table.is_suitable(1) # returns False because too many spare seats\n",
    "table.reserve() \n",
    "table.is_suitable(3, 'inside') # returns False because table is not available \n",
    "table.is_suitable(4, 'Outside') # raises exception because input is not valid.\n",
    "```\n",
    "\n",
    "\n"
   ]
  },
  {
   "cell_type": "code",
   "execution_count": 96,
   "metadata": {},
   "outputs": [],
   "source": [
    "# submit (we will import your solution from this cell. Don't use Global Variables here.  )\n",
    "# ------------------------------------------------------------------------------\n",
    "class PubTable:\n",
    "    def __init__(self,seats: int,location: str):\n",
    "        self.seats = seats\n",
    "        self.location = location\n",
    "        self.booked = False\n",
    "        \n",
    "    def reserve(self):\n",
    "        self.booked = True\n",
    "    \n",
    "    def is_suitable(self,size,*args):\n",
    "        if args[0] != self.location:\n",
    "            raise Exception('Input not valid, no tables in this location')\n",
    "        else:\n",
    "            if size < self.seats-2:\n",
    "                return False\n",
    "            else:\n",
    "                if self.booked == True:\n",
    "                    return False\n",
    "                else:\n",
    "                    return True\n",
    "        \n",
    "        \n",
    "\n",
    "\n",
    "\n"
   ]
  },
  {
   "cell_type": "code",
   "execution_count": 100,
   "metadata": {},
   "outputs": [
    {
     "data": {
      "text/plain": [
       "True"
      ]
     },
     "execution_count": 100,
     "metadata": {},
     "output_type": "execute_result"
    }
   ],
   "source": [
    "# scratch (we will NOT mark this cell - use this for your own tests)\n",
    "# ------------------------------------------------------------------------------\n",
    "table = PubTable(4,'inside')\n",
    "table.is_suitable(3,'inside')\n",
    "\n",
    "\n",
    "\n"
   ]
  },
  {
   "cell_type": "markdown",
   "metadata": {},
   "source": [
    "8. Names to Tags\n",
    "-------------------------------\n",
    "Write a function that outputs a list of tagnames, given an input list of consultant names.\n",
    "Each consultant name is a string in the form '<first_name><space><surname>', e.g. `'John Smith'`.\n",
    "\n",
    "If a consultant's first name is unique (in the list), \n",
    "then their tagname is their first name (in lower case).\n",
    "\n",
    "If two or more consultants have the same first name, \n",
    "then their tagname is their first name, \n",
    "with the first letter of their surnames appended with underscore, e.g. `john_s` and `john_w`. \n",
    "\n",
    "If two or more consultants also share the same first-surname-letter, \n",
    "then a second letter of their surname is appended (if possible).... and so on. \n",
    "\n",
    "If they have identical first and surnames then we append arbitrary digits, \n",
    "e.g. `john_smith1` and `john_smith2`.\n",
    "\n",
    "\n",
    "\n",
    "\n",
    "Required Signature:\n",
    "\n",
    "    def names_to_tags(list_of_names):  \n",
    "        pass  \n",
    "\n",
    "\n",
    "1 mark for a solution that works for unique first names\n",
    "Example 1: input `['Alice Smith', 'Bob Jones', 'Charlie Zimmerman']`, output `['alice', 'bob', 'charlie']`\n",
    "\n",
    "2 marks for a solution that works if (first name + first letter of surname) is always unique\n",
    "Example 2: input `['Bob Dylan', 'Bob Willis', 'Bob Marley']`, output `['bob_d', 'bob_w', 'bob_m']`\n",
    "\n",
    "up to 5 marks awarded for solutions that work for various edge cases\n",
    "Example 3: input `['Bill Evan', 'Bill Evans', 'Bill Evans']`, output `['bill_evan', 'bill_evans1', 'bill_evans2']`\n",
    "\n",
    "\n",
    "\n",
    "\n"
   ]
  },
  {
   "cell_type": "code",
   "execution_count": 192,
   "metadata": {},
   "outputs": [],
   "source": [
    "# submit (we will import your solution from this cell. Don't use Global Variables here.  )\n",
    "# ------------------------------------------------------------------------------\n",
    "def names_to_tags(list_of_names):\n",
    "    list_names = []\n",
    "    count1 = 0\n",
    "    for i in list_of_names:\n",
    "        a = i.split()\n",
    "        count1 += i.count(a[0])\n",
    "    if count1 > 1:\n",
    "        for i in list_of_names:\n",
    "            a = i.split()\n",
    "            b = a[0].lower() + '_' + a[1][0].lower()\n",
    "            list_names.append(b)\n",
    "    else:\n",
    "        for i in list_of_names:\n",
    "            a = i.split()\n",
    "            b = a[0].lower()\n",
    "            list_names.append(b)\n",
    "    return list_names\n",
    "        \n",
    "        \n",
    "        #for i in list_of_names:\n",
    "        #    a = i.split()\n",
    "        #    for i in range(len(a[1])):\n",
    "        #        if list_of_names.count(a[1][0:i+1])\n",
    "                    \n",
    "    \n",
    "    \n",
    "        \n",
    "\n",
    "\n",
    "\n"
   ]
  },
  {
   "cell_type": "code",
   "execution_count": 195,
   "metadata": {},
   "outputs": [
    {
     "name": "stdout",
     "output_type": "stream",
     "text": [
      "['alice_d', 'bob_w', 'bob_m']\n"
     ]
    }
   ],
   "source": [
    "# scratch (we will NOT mark this cell - use this for your own tests)\n",
    "# ------------------------------------------------------------------------------\n",
    "x = ['Alice Dylan', 'Bob Willis', 'Bob Marley']\n",
    "#count1 = 0\n",
    "#for i in x:\n",
    "#    count1 += i.count('Bob')\n",
    "#print(count1)\n",
    "print(names_to_tags(x))\n",
    "    \n",
    "\n",
    "\n",
    "\n"
   ]
  },
  {
   "cell_type": "code",
   "execution_count": 189,
   "metadata": {},
   "outputs": [
    {
     "data": {
      "text/plain": [
       "''"
      ]
     },
     "execution_count": 189,
     "metadata": {},
     "output_type": "execute_result"
    }
   ],
   "source": [
    "str1 = 'Rai'\n",
    "str1[1:1]"
   ]
  },
  {
   "cell_type": "code",
   "execution_count": null,
   "metadata": {},
   "outputs": [],
   "source": []
  }
 ],
 "metadata": {
  "kernelspec": {
   "display_name": "Python 3",
   "language": "python",
   "name": "python3"
  },
  "language_info": {
   "codemirror_mode": {
    "name": "ipython",
    "version": 3
   },
   "file_extension": ".py",
   "mimetype": "text/x-python",
   "name": "python",
   "nbconvert_exporter": "python",
   "pygments_lexer": "ipython3",
   "version": "3.8.8"
  },
  "toc": {
   "base_numbering": 1,
   "nav_menu": {},
   "number_sections": true,
   "sideBar": true,
   "skip_h1_title": false,
   "title_cell": "Table of Contents",
   "title_sidebar": "Contents",
   "toc_cell": false,
   "toc_position": {},
   "toc_section_display": true,
   "toc_window_display": false
  }
 },
 "nbformat": 4,
 "nbformat_minor": 4
}
