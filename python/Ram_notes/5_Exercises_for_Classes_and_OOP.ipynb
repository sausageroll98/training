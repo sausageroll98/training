{
 "cells": [
  {
   "cell_type": "markdown",
   "metadata": {},
   "source": [
    "# 5. Classes \n",
    "\n",
    "Exercises. Remember that writing out solutions (without cutting and pasting) is part of the process!\n",
    "\n",
    "Do try to include as many 'object-oriented' concepts in your solutions as possible, e.g. inheritence.\n",
    "\n",
    "Items marked with (`*`) are more challenging. \n",
    "\n",
    "- Ex. 5.1 - 5.5: please could you complete these individually, in your copy of this notebook file.\n",
    "- Ex. 5.6: please could you complete this in your team, by creating separate python files and running your programs from the Anaconda Prompt. More details on these two on Friday morning. Team Git repo would be useful for this, too.... \n",
    "\n",
    "A general note about input and output: use `input()` to get a string input from the user and either `print()` or `display()` to output. You may be able to overwrite the previous output [see this example](https://stackoverflow.com/questions/38540395/overwrite-previous-output-in-jupyter-notebook) but there are some differences between operating systems, it seems"
   ]
  },
  {
   "cell_type": "markdown",
   "metadata": {},
   "source": [
    "## Exercise 5.1 - Guessing Game\n",
    "Create a class to play a guessing game:\n",
    "At the start of the game, a random number between 0 and 50 is chosen.\n",
    "The player has N attempts to guess this number.\n",
    "After a guess, several things can happen:\n",
    "- The player gets the number right and wins. The game terminates.\n",
    "- The player gets the number wrong. The number of attempts is decremented.\n",
    "  - If the number of attempts is zero, the player loses and the game terminates.\n",
    "  - Otherwise, the game tells the player whether the true number is higher or lower than the guess.\n",
    "\n",
    "You can use the 'input' built-in function to get input from the user. "
   ]
  },
  {
   "cell_type": "code",
   "execution_count": null,
   "metadata": {},
   "outputs": [],
   "source": []
  },
  {
   "cell_type": "markdown",
   "metadata": {},
   "source": [
    "---"
   ]
  },
  {
   "cell_type": "markdown",
   "metadata": {},
   "source": [
    "## Exercise 5.2 - Bank accounts (`*`)\n",
    "- Create a class called `StandardAccount`. The class should be initialized with:\n",
    "  - `balance`: the starting balance\n",
    "  - `interest_rate`: the interest rate e.g. 3.5% interest should be represented as 3.5\n",
    "- The class should implement the following:\n",
    "  - `withdraw(amount)`: If account balance is greater than (or equal to) amount, then balance is reduced by the amount, and returns the amount. Otherwise, balance is unchanged and zero is returned. If amount is negative than an exception is raised.\n",
    "  - `deposit(amount)`: adds the amount to the balance. If amount is negative than an exception is raised.\n",
    "  - `accrue_interest()`: adds/subtracts the interest from the current balance.\n",
    "- Create a class called `BadAccount`. The class should be the same as the `StandardAccount`, except that it is initialized with a transaction_fee.\n",
    "  - `withdraw(amount)`: Same as StandardAccount behaviour, but also deducts a transcation fee. For example, `BadAccount(100, 2.5, 1.0)` initializes a bank account with a starting balance of 100, an interest rate of 2.5% and a transaction fee of 1% per transaction.  Every time a user withdraws from the `BadAccount`, a transaction fee proportional to the amount is taken. Negative balances are still prohibited\n",
    "- Create a class called `PremierAccount`. The class should be the same as the StandardAccount, except that it is initialized with `overdraft_limit`.\n",
    "  - For example, `PremierAccount(100, 2.5, 200)` initializes a bank account with a starting balance of £100, an interest rate of 2.5%  and a overdraft_limit of £200.\n",
    "  - A user can make withdrawals that leave them with a negative balance, provided that their balance does not exceed the overdraft limit. \n",
    "  - Every time the user makes a non-zero withdrawal that leaves them with a positive balance, they get a point. Every time they accumulate 5 points, £5 is added to the account balance.\n",
    "  \n",
    "  \n",
    "Implement the appropriate error checks.\n"
   ]
  },
  {
   "cell_type": "code",
   "execution_count": null,
   "metadata": {},
   "outputs": [],
   "source": []
  },
  {
   "cell_type": "markdown",
   "metadata": {},
   "source": [
    "## Exercise 5.2b - Bank accounts (`*`)\n",
    "\n",
    "Create 5 instances of bank accounts and store them in a list.\n",
    "For each bank account, call the accrue interest method.\n",
    "\n"
   ]
  },
  {
   "cell_type": "code",
   "execution_count": null,
   "metadata": {},
   "outputs": [],
   "source": []
  },
  {
   "cell_type": "markdown",
   "metadata": {},
   "source": [
    "---"
   ]
  },
  {
   "cell_type": "markdown",
   "metadata": {},
   "source": [
    "## Exercise 5.3 - Naughts and Crosses\n",
    "Implement a class to play naughts and crosses.\n",
    "\n"
   ]
  },
  {
   "cell_type": "code",
   "execution_count": null,
   "metadata": {},
   "outputs": [],
   "source": []
  },
  {
   "cell_type": "markdown",
   "metadata": {},
   "source": [
    "---\n",
    "## Exercise 5.4 - Hangman\n",
    "Implement a class to play hangman.\n"
   ]
  },
  {
   "cell_type": "code",
   "execution_count": null,
   "metadata": {},
   "outputs": [],
   "source": []
  },
  {
   "cell_type": "markdown",
   "metadata": {},
   "source": [
    "---\n",
    "## Exercise 5.5\n",
    "Create a class called `CSVReader`. The class is intended to allow the user to get data from a csv file.\n",
    "- Implement the `__init__(self, file_path)` method which:\n",
    "  - Stores the path to the file\n",
    "  - Initializes the `columns` attribute to `None`.\n",
    "  - Initializes the `data` attribute to `None`.\n",
    "- Implement the `read(self)` function which:\n",
    "  - Reads the first line of the file and stores it into `self.columns` as a list.\n",
    "    For example, if the first line contains \"id, gender, occupation\", then `self.columns` should contain:\n",
    "    `['id', 'gender', 'occupation']`\n",
    "  - Reads all other lines of the file and stores them in self.data as a list of lists. Using example data, our data should contain:\n",
    "~~~  \n",
    "    [['1', 'm', 'brick layer'],\n",
    "     ['2', 'f', 'window cleaner'],\n",
    "     ['3', 'm', 'swimmer'],\n",
    "     ['4', 'f', 'astronaut']]\n",
    "~~~\n",
    "- Implement the `get(self, column_name, row_number)` function that returns the value for the given row and columns. For example, using the example data:\n",
    "~~~\n",
    "    reader.get('occupation', 0) # returns brick layer\n",
    "    reader.get('gender', 1)     # returns f\n",
    "~~~\n",
    "### Example Data:\n",
    "~~~\n",
    "id, gender, occupation\n",
    "1, m, brick layer\n",
    "2, f, window cleaner\n",
    "3, m, swimmer\n",
    "4, f, astronaut\n",
    "~~~\n"
   ]
  },
  {
   "cell_type": "code",
   "execution_count": null,
   "metadata": {},
   "outputs": [],
   "source": [
    "class CSVReader:\n",
    "    pass"
   ]
  },
  {
   "cell_type": "code",
   "execution_count": null,
   "metadata": {},
   "outputs": [],
   "source": [
    "# Verification\n",
    "if __name__ == '__main__':\n",
    "    import test_pypart5\n",
    "    test_pypart5.check_5_5a(CSVReader)\n",
    "    test_pypart5.check_5_5b(CSVReader)"
   ]
  },
  {
   "cell_type": "markdown",
   "metadata": {},
   "source": [
    "---"
   ]
  },
  {
   "cell_type": "markdown",
   "metadata": {},
   "source": [
    "## Exercise 5.6 - Connect 4 (`*`)\n",
    "\n",
    "Implement a class to play connect 4."
   ]
  },
  {
   "cell_type": "code",
   "execution_count": null,
   "metadata": {},
   "outputs": [],
   "source": []
  }
 ],
 "metadata": {
  "kernelspec": {
   "display_name": "Python 3",
   "language": "python",
   "name": "python3"
  },
  "language_info": {
   "codemirror_mode": {
    "name": "ipython",
    "version": 3
   },
   "file_extension": ".py",
   "mimetype": "text/x-python",
   "name": "python",
   "nbconvert_exporter": "python",
   "pygments_lexer": "ipython3",
   "version": "3.8.8"
  },
  "toc": {
   "base_numbering": 1,
   "nav_menu": {},
   "number_sections": true,
   "sideBar": true,
   "skip_h1_title": false,
   "title_cell": "Table of Contents",
   "title_sidebar": "Contents",
   "toc_cell": false,
   "toc_position": {},
   "toc_section_display": true,
   "toc_window_display": false
  }
 },
 "nbformat": 4,
 "nbformat_minor": 2
}
