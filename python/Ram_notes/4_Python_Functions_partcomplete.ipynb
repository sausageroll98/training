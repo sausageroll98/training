{
 "cells": [
  {
   "cell_type": "markdown",
   "id": "cb0a5ca0",
   "metadata": {},
   "source": [
    "## Introduction to Functions"
   ]
  },
  {
   "cell_type": "markdown",
   "id": "3b61ce9a",
   "metadata": {},
   "source": [
    "### Why do we need functions?\n",
    "- Functions allow us to encapsulate logic in our code\n",
    "- They can be defined using the `def` keyword"
   ]
  },
  {
   "cell_type": "code",
   "execution_count": null,
   "id": "c457a190",
   "metadata": {},
   "outputs": [
    {
     "name": "stdout",
     "output_type": "stream",
     "text": [
      "Grade for student 1 is B\n",
      "Grade for student 2 is D\n",
      "Grade for student 3 is D\n",
      "Grade for student 4 is F\n",
      "Grade for student 5 is B\n"
     ]
    }
   ],
   "source": [
    "# imagine a world without functions\n",
    "score = 85 # student_1\n",
    "\n",
    "if score > 90:\n",
    "    grade = 'A'\n",
    "elif score > 80:\n",
    "    grade = 'B'\n",
    "elif score > 70:\n",
    "    grade = 'C'\n",
    "elif score > 50:\n",
    "    grade = 'D'\n",
    "else:\n",
    "    grade = 'F'\n",
    "print(f'Grade for student 1 is {grade}')\n",
    "\n",
    "score = 68 # student_2\n",
    "\n",
    "if score > 90:\n",
    "    grade = 'A'\n",
    "elif score > 80:\n",
    "    grade = 'B'\n",
    "elif score > 70:\n",
    "    grade = 'C'\n",
    "elif score > 50:\n",
    "    grade = 'D'\n",
    "else:\n",
    "    grade = 'F'\n",
    "print(f'Grade for student 2 is {grade}')\n",
    "\n",
    "score = 55 # student_3\n",
    "\n",
    "if score > 90:\n",
    "    grade = 'A'\n",
    "elif score > 80:\n",
    "    grade = 'B'\n",
    "elif score > 70:\n",
    "    grade = 'C'\n",
    "elif score > 50:\n",
    "    grade = 'D'\n",
    "else:\n",
    "    grade = 'F'\n",
    "print(f'Grade for student 3 is {grade}')\n",
    "\n",
    "score = 45 # student_4\n",
    "\n",
    "if score > 90:\n",
    "    grade = 'A'\n",
    "elif score > 80:\n",
    "    grade = 'B'\n",
    "elif score > 70:\n",
    "    grade = 'C'\n",
    "elif score > 50:\n",
    "    grade = 'D'\n",
    "else:\n",
    "    grade = 'F'\n",
    "print(f'Grade for student 4 is {grade}')\n",
    "\n",
    "score = 90 # student_5\n",
    "\n",
    "if score > 90:\n",
    "    grade = 'A'\n",
    "elif score > 80:\n",
    "    grade = 'B'\n",
    "elif score > 70:\n",
    "    grade = 'C'\n",
    "elif score > 50:\n",
    "    grade = 'D'\n",
    "else:\n",
    "    grade = 'F'\n",
    "print(f'Grade for student 5 is {grade}')"
   ]
  },
  {
   "cell_type": "code",
   "execution_count": 6,
   "id": "05e61bd7",
   "metadata": {},
   "outputs": [
    {
     "name": "stdout",
     "output_type": "stream",
     "text": [
      "Grade for student 1 is B\n",
      "Grade for student 2 is D\n",
      "Grade for student 3 is C\n",
      "Grade for student 4 is F\n",
      "Grade for student 5 is D\n"
     ]
    }
   ],
   "source": [
    "# a world with functions is a lot nicer!\n",
    "def get_student_grade(score):\n",
    "    if score > 90:\n",
    "        grade = 'A'\n",
    "    elif score > 80:\n",
    "        grade = 'B'\n",
    "    elif score > 70:\n",
    "        grade = 'C'\n",
    "    elif score > 50:\n",
    "        grade = 'D'\n",
    "    else:\n",
    "        grade = 'F'\n",
    "    return grade\n",
    "        \n",
    "scores = [85,66,78,34,55]\n",
    "for n,i in enumerate(scores):\n",
    "    grade = get_student_grade(i)\n",
    "    print(f'Grade for student {n+1} is {grade}')"
   ]
  },
  {
   "cell_type": "markdown",
   "id": "5a08da7f",
   "metadata": {},
   "source": [
    "### Positional arguments\n",
    "Python will match the list of arguments (that you provide when you call a function) with a list of parameters (that are part of the function defintion)"
   ]
  },
  {
   "cell_type": "code",
   "execution_count": null,
   "id": "be2d85ed",
   "metadata": {},
   "outputs": [],
   "source": [
    "# Positional argument -> given by just the values \n",
    "my_func(1)\n",
    "my_func(1,2)"
   ]
  },
  {
   "cell_type": "code",
   "execution_count": 7,
   "id": "95ee0953",
   "metadata": {},
   "outputs": [],
   "source": [
    "def my_func(a,b,c): # a,b,c are the parameters because they are part of the function definition\n",
    "    print(f'a is {a}')\n",
    "    print(f'b is {b}')\n",
    "    print(f'c is {c}')\n",
    "    "
   ]
  },
  {
   "cell_type": "code",
   "execution_count": 8,
   "id": "5f239a41",
   "metadata": {},
   "outputs": [
    {
     "ename": "TypeError",
     "evalue": "my_func() missing 1 required positional argument: 'c'",
     "output_type": "error",
     "traceback": [
      "\u001b[1;31m---------------------------------------------------------------------------\u001b[0m",
      "\u001b[1;31mTypeError\u001b[0m                                 Traceback (most recent call last)",
      "\u001b[1;32m<ipython-input-8-d88eb33cdfd7>\u001b[0m in \u001b[0;36m<module>\u001b[1;34m\u001b[0m\n\u001b[1;32m----> 1\u001b[1;33m \u001b[0mmy_func\u001b[0m\u001b[1;33m(\u001b[0m\u001b[1;36m10\u001b[0m\u001b[1;33m,\u001b[0m\u001b[1;36m20\u001b[0m\u001b[1;33m)\u001b[0m\u001b[1;33m\u001b[0m\u001b[1;33m\u001b[0m\u001b[0m\n\u001b[0m",
      "\u001b[1;31mTypeError\u001b[0m: my_func() missing 1 required positional argument: 'c'"
     ]
    }
   ],
   "source": [
    "my_func(10,20)"
   ]
  },
  {
   "cell_type": "code",
   "execution_count": 9,
   "id": "964adb04",
   "metadata": {},
   "outputs": [
    {
     "name": "stdout",
     "output_type": "stream",
     "text": [
      "a is 10\n",
      "b is 20\n",
      "c is 30\n"
     ]
    }
   ],
   "source": [
    "my_func(10,20,30)"
   ]
  },
  {
   "cell_type": "code",
   "execution_count": 10,
   "id": "a91ff772",
   "metadata": {},
   "outputs": [
    {
     "name": "stdout",
     "output_type": "stream",
     "text": [
      "a is 10\n",
      "b is 20\n",
      "c is 30\n"
     ]
    }
   ],
   "source": [
    "a = 30\n",
    "b = 20\n",
    "c = 10\n",
    "my_func(c,b,a) "
   ]
  },
  {
   "cell_type": "markdown",
   "id": "4d1e036a",
   "metadata": {},
   "source": [
    "### Keyword arguments\n",
    "Keyword (or named) arguments are passed into the function along with a parameter name"
   ]
  },
  {
   "cell_type": "code",
   "execution_count": null,
   "id": "9ed59407",
   "metadata": {},
   "outputs": [],
   "source": [
    "# Keyword argument -> given as key-value pairs\n",
    "my_func(a=1)\n",
    "my_func(a=1,b=2)"
   ]
  },
  {
   "cell_type": "code",
   "execution_count": 11,
   "id": "585212ff",
   "metadata": {},
   "outputs": [
    {
     "name": "stdout",
     "output_type": "stream",
     "text": [
      "a is 10\n",
      "b is 20\n",
      "c is 30\n"
     ]
    }
   ],
   "source": [
    "my_func(a=10,b=20,c=30)"
   ]
  },
  {
   "cell_type": "code",
   "execution_count": 12,
   "id": "d6d2176f",
   "metadata": {},
   "outputs": [
    {
     "name": "stdout",
     "output_type": "stream",
     "text": [
      "a is 30\n",
      "b is 10\n",
      "c is 20\n"
     ]
    }
   ],
   "source": [
    "my_func(c=20,b=10,a=30)"
   ]
  },
  {
   "cell_type": "markdown",
   "id": "d35b5c45",
   "metadata": {},
   "source": [
    "### Default arguments\n",
    "Default arguments are optional (i.e. the user does not need to specify them when calling the function). \n",
    "\n",
    "They default to a value if they are not specified during function call. \n",
    "\n",
    "If the argument is provided during function call, the default value gets overridden."
   ]
  },
  {
   "cell_type": "code",
   "execution_count": 13,
   "id": "76cf0688",
   "metadata": {},
   "outputs": [],
   "source": [
    "def my_func(a=10):\n",
    "    print(a)"
   ]
  },
  {
   "cell_type": "code",
   "execution_count": 14,
   "id": "dc703bfe",
   "metadata": {},
   "outputs": [
    {
     "name": "stdout",
     "output_type": "stream",
     "text": [
      "20\n"
     ]
    }
   ],
   "source": [
    "my_func(20)"
   ]
  },
  {
   "cell_type": "code",
   "execution_count": 15,
   "id": "af41c482",
   "metadata": {},
   "outputs": [
    {
     "name": "stdout",
     "output_type": "stream",
     "text": [
      "Hello\n"
     ]
    }
   ],
   "source": [
    "my_func('Hello')"
   ]
  },
  {
   "cell_type": "code",
   "execution_count": 16,
   "id": "f272db4d",
   "metadata": {},
   "outputs": [
    {
     "name": "stdout",
     "output_type": "stream",
     "text": [
      "10\n"
     ]
    }
   ],
   "source": [
    "my_func() # no arguments are provided"
   ]
  },
  {
   "cell_type": "code",
   "execution_count": 17,
   "id": "549dfa5e",
   "metadata": {},
   "outputs": [
    {
     "name": "stdout",
     "output_type": "stream",
     "text": [
      "Hello\n"
     ]
    }
   ],
   "source": [
    "my_func(a='Hello')"
   ]
  },
  {
   "cell_type": "markdown",
   "id": "7f5f08f6",
   "metadata": {},
   "source": [
    "We can mix and match positional (non-default) and default arguments"
   ]
  },
  {
   "cell_type": "code",
   "execution_count": 21,
   "id": "bb70c67c",
   "metadata": {},
   "outputs": [],
   "source": [
    "def my_func(a,b='hello'):\n",
    "    print(a)\n",
    "    print(b)"
   ]
  },
  {
   "cell_type": "code",
   "execution_count": 19,
   "id": "367bca98",
   "metadata": {},
   "outputs": [
    {
     "name": "stdout",
     "output_type": "stream",
     "text": [
      "10\n",
      "20\n"
     ]
    }
   ],
   "source": [
    "my_func(10,20)"
   ]
  },
  {
   "cell_type": "code",
   "execution_count": 22,
   "id": "b07dc02f",
   "metadata": {},
   "outputs": [
    {
     "name": "stdout",
     "output_type": "stream",
     "text": [
      "HELLO\n",
      "hello\n"
     ]
    }
   ],
   "source": [
    "my_func('HELLO')"
   ]
  },
  {
   "cell_type": "markdown",
   "id": "dcd7e4ff",
   "metadata": {},
   "source": [
    "Note: A non-default argument cannot follow a default argument in the function definition"
   ]
  },
  {
   "cell_type": "code",
   "execution_count": 23,
   "id": "68061e79",
   "metadata": {},
   "outputs": [
    {
     "ename": "SyntaxError",
     "evalue": "non-default argument follows default argument (<ipython-input-23-f36d186f116b>, line 1)",
     "output_type": "error",
     "traceback": [
      "\u001b[1;36m  File \u001b[1;32m\"<ipython-input-23-f36d186f116b>\"\u001b[1;36m, line \u001b[1;32m1\u001b[0m\n\u001b[1;33m    def my_func(a=10,b):\u001b[0m\n\u001b[1;37m                ^\u001b[0m\n\u001b[1;31mSyntaxError\u001b[0m\u001b[1;31m:\u001b[0m non-default argument follows default argument\n"
     ]
    }
   ],
   "source": [
    "def my_func(a=10,b):\n",
    "    print(a)\n",
    "    print(b)"
   ]
  },
  {
   "cell_type": "code",
   "execution_count": 25,
   "id": "19b18c79",
   "metadata": {},
   "outputs": [],
   "source": [
    "def my_func(a,b,c,d=10,e=20,f=30):\n",
    "    pass"
   ]
  },
  {
   "cell_type": "code",
   "execution_count": null,
   "id": "c52e43dd",
   "metadata": {},
   "outputs": [],
   "source": []
  }
 ],
 "metadata": {
  "kernelspec": {
   "display_name": "Python 3",
   "language": "python",
   "name": "python3"
  },
  "language_info": {
   "codemirror_mode": {
    "name": "ipython",
    "version": 3
   },
   "file_extension": ".py",
   "mimetype": "text/x-python",
   "name": "python",
   "nbconvert_exporter": "python",
   "pygments_lexer": "ipython3",
   "version": "3.8.8"
  },
  "toc": {
   "base_numbering": 1,
   "nav_menu": {},
   "number_sections": true,
   "sideBar": true,
   "skip_h1_title": false,
   "title_cell": "Table of Contents",
   "title_sidebar": "Contents",
   "toc_cell": false,
   "toc_position": {},
   "toc_section_display": true,
   "toc_window_display": false
  },
  "varInspector": {
   "cols": {
    "lenName": 16,
    "lenType": 16,
    "lenVar": 40
   },
   "kernels_config": {
    "python": {
     "delete_cmd_postfix": "",
     "delete_cmd_prefix": "del ",
     "library": "var_list.py",
     "varRefreshCmd": "print(var_dic_list())"
    },
    "r": {
     "delete_cmd_postfix": ") ",
     "delete_cmd_prefix": "rm(",
     "library": "var_list.r",
     "varRefreshCmd": "cat(var_dic_list()) "
    }
   },
   "types_to_exclude": [
    "module",
    "function",
    "builtin_function_or_method",
    "instance",
    "_Feature"
   ],
   "window_display": false
  }
 },
 "nbformat": 4,
 "nbformat_minor": 5
}
