{
 "cells": [
  {
   "cell_type": "markdown",
   "id": "5b983c4c",
   "metadata": {},
   "source": [
    "## Introduction to Functions"
   ]
  },
  {
   "cell_type": "markdown",
   "id": "5fcb638e",
   "metadata": {},
   "source": [
    "### Why do we need functions?\n",
    "\n",
    "- Functions allow us to encapsulate logic in our code \n",
    "- They can be defined using the `def` keyword"
   ]
  },
  {
   "cell_type": "code",
   "execution_count": 1,
   "id": "bbb24dbf",
   "metadata": {},
   "outputs": [
    {
     "name": "stdout",
     "output_type": "stream",
     "text": [
      "Grade for student 1 is B\n",
      "Grade for student 2 is D\n",
      "Grade for student 3 is C\n",
      "Grade for student 4 is F\n",
      "Grade for student 5 is D\n"
     ]
    }
   ],
   "source": [
    "def get_student_grade(score):\n",
    "    if score > 90:\n",
    "        grade = 'A'\n",
    "    elif score > 80:\n",
    "        grade = 'B'\n",
    "    elif score > 70:\n",
    "        grade = 'C'\n",
    "    elif score > 50:\n",
    "        grade = 'D'\n",
    "    else:\n",
    "        grade = 'F'\n",
    "    return grade\n",
    "\n",
    "scores = [85,66,78,34,55]\n",
    "for n,i in enumerate(scores):\n",
    "    grade = get_student_grade(i)\n",
    "    print(f'Grade for student {n+1} is {grade}')"
   ]
  },
  {
   "cell_type": "markdown",
   "id": "34847369",
   "metadata": {},
   "source": [
    "### Positional arguments\n",
    "\n",
    "Python will match the list of arguments (that you provide when you call a function) with a list of parameters (that are part of the function definition). "
   ]
  },
  {
   "cell_type": "code",
   "execution_count": 2,
   "id": "a56e1912",
   "metadata": {},
   "outputs": [
    {
     "ename": "NameError",
     "evalue": "name 'my_func' is not defined",
     "output_type": "error",
     "traceback": [
      "\u001b[1;31m---------------------------------------------------------------------------\u001b[0m",
      "\u001b[1;31mNameError\u001b[0m                                 Traceback (most recent call last)",
      "\u001b[1;32m<ipython-input-2-7fe26065b0bd>\u001b[0m in \u001b[0;36m<module>\u001b[1;34m\u001b[0m\n\u001b[0;32m      1\u001b[0m \u001b[1;31m# Positional arguement -->\u001b[0m\u001b[1;33m\u001b[0m\u001b[1;33m\u001b[0m\u001b[1;33m\u001b[0m\u001b[0m\n\u001b[1;32m----> 2\u001b[1;33m \u001b[0mmy_func\u001b[0m\u001b[1;33m(\u001b[0m\u001b[1;36m1\u001b[0m\u001b[1;33m)\u001b[0m\u001b[1;33m\u001b[0m\u001b[1;33m\u001b[0m\u001b[0m\n\u001b[0m\u001b[0;32m      3\u001b[0m \u001b[0mmy_func\u001b[0m\u001b[1;33m(\u001b[0m\u001b[1;36m1\u001b[0m\u001b[1;33m,\u001b[0m\u001b[1;36m2\u001b[0m\u001b[1;33m)\u001b[0m\u001b[1;33m\u001b[0m\u001b[1;33m\u001b[0m\u001b[0m\n",
      "\u001b[1;31mNameError\u001b[0m: name 'my_func' is not defined"
     ]
    }
   ],
   "source": [
    "# Positional arguement -->\n",
    "my_func(1)\n",
    "my_func(1,2)"
   ]
  },
  {
   "cell_type": "code",
   "execution_count": 3,
   "id": "a6dbcb3a",
   "metadata": {},
   "outputs": [
    {
     "ename": "NameError",
     "evalue": "name 'my_func' is not defined",
     "output_type": "error",
     "traceback": [
      "\u001b[1;31m---------------------------------------------------------------------------\u001b[0m",
      "\u001b[1;31mNameError\u001b[0m                                 Traceback (most recent call last)",
      "\u001b[1;32m<ipython-input-3-76b3846cca08>\u001b[0m in \u001b[0;36m<module>\u001b[1;34m\u001b[0m\n\u001b[0;32m      1\u001b[0m \u001b[1;31m# Keyword arguement -->\u001b[0m\u001b[1;33m\u001b[0m\u001b[1;33m\u001b[0m\u001b[1;33m\u001b[0m\u001b[0m\n\u001b[1;32m----> 2\u001b[1;33m \u001b[0mmy_func\u001b[0m\u001b[1;33m(\u001b[0m\u001b[0ma\u001b[0m\u001b[1;33m=\u001b[0m\u001b[1;36m1\u001b[0m\u001b[1;33m)\u001b[0m\u001b[1;33m\u001b[0m\u001b[1;33m\u001b[0m\u001b[0m\n\u001b[0m\u001b[0;32m      3\u001b[0m \u001b[0mmy_func\u001b[0m\u001b[1;33m(\u001b[0m\u001b[0ma\u001b[0m\u001b[1;33m=\u001b[0m\u001b[1;36m1\u001b[0m\u001b[1;33m,\u001b[0m\u001b[0mb\u001b[0m\u001b[1;33m=\u001b[0m\u001b[1;36m2\u001b[0m\u001b[1;33m)\u001b[0m\u001b[1;33m\u001b[0m\u001b[1;33m\u001b[0m\u001b[0m\n",
      "\u001b[1;31mNameError\u001b[0m: name 'my_func' is not defined"
     ]
    }
   ],
   "source": [
    "# Keyword arguement -->\n",
    "my_func(a=1)\n",
    "my_func(a=1,b=2)"
   ]
  },
  {
   "cell_type": "code",
   "execution_count": 10,
   "id": "18bf0697",
   "metadata": {},
   "outputs": [],
   "source": [
    "def my_func(a,b,c): # a,b,c are the parameters because they are part of the function definition\n",
    "    print(f'a is {a}')\n",
    "    print(f'b is {b}')\n",
    "    print(f'c is {c}')"
   ]
  },
  {
   "cell_type": "code",
   "execution_count": 7,
   "id": "db2231d2",
   "metadata": {},
   "outputs": [
    {
     "ename": "TypeError",
     "evalue": "my_func() missing 1 required positional argument: 'c'",
     "output_type": "error",
     "traceback": [
      "\u001b[1;31m---------------------------------------------------------------------------\u001b[0m",
      "\u001b[1;31mTypeError\u001b[0m                                 Traceback (most recent call last)",
      "\u001b[1;32m<ipython-input-7-d88eb33cdfd7>\u001b[0m in \u001b[0;36m<module>\u001b[1;34m\u001b[0m\n\u001b[1;32m----> 1\u001b[1;33m \u001b[0mmy_func\u001b[0m\u001b[1;33m(\u001b[0m\u001b[1;36m10\u001b[0m\u001b[1;33m,\u001b[0m\u001b[1;36m20\u001b[0m\u001b[1;33m)\u001b[0m\u001b[1;33m\u001b[0m\u001b[1;33m\u001b[0m\u001b[0m\n\u001b[0m",
      "\u001b[1;31mTypeError\u001b[0m: my_func() missing 1 required positional argument: 'c'"
     ]
    }
   ],
   "source": [
    "my_func(10,20)"
   ]
  },
  {
   "cell_type": "code",
   "execution_count": 11,
   "id": "239ad0f2",
   "metadata": {},
   "outputs": [
    {
     "name": "stdout",
     "output_type": "stream",
     "text": [
      "a is 10\n",
      "b is 20\n",
      "c is 30\n"
     ]
    }
   ],
   "source": [
    "my_func(10,20,30)"
   ]
  },
  {
   "cell_type": "code",
   "execution_count": 12,
   "id": "0241bf46",
   "metadata": {},
   "outputs": [
    {
     "name": "stdout",
     "output_type": "stream",
     "text": [
      "a is 10\n",
      "b is 20\n",
      "c is 30\n"
     ]
    }
   ],
   "source": [
    "a = 30\n",
    "b = 20\n",
    "c = 10\n",
    "my_func(c,b,a)"
   ]
  },
  {
   "cell_type": "markdown",
   "id": "a12b3604",
   "metadata": {},
   "source": [
    "### Keword arguments \n",
    "\n",
    "Keyword (or named) arguments are passed into the function along with a parameter name."
   ]
  },
  {
   "cell_type": "code",
   "execution_count": 13,
   "id": "a57ceec1",
   "metadata": {},
   "outputs": [
    {
     "ename": "TypeError",
     "evalue": "my_func() missing 2 required positional arguments: 'b' and 'c'",
     "output_type": "error",
     "traceback": [
      "\u001b[1;31m---------------------------------------------------------------------------\u001b[0m",
      "\u001b[1;31mTypeError\u001b[0m                                 Traceback (most recent call last)",
      "\u001b[1;32m<ipython-input-13-76b3846cca08>\u001b[0m in \u001b[0;36m<module>\u001b[1;34m\u001b[0m\n\u001b[0;32m      1\u001b[0m \u001b[1;31m# Keyword arguement -->\u001b[0m\u001b[1;33m\u001b[0m\u001b[1;33m\u001b[0m\u001b[1;33m\u001b[0m\u001b[0m\n\u001b[1;32m----> 2\u001b[1;33m \u001b[0mmy_func\u001b[0m\u001b[1;33m(\u001b[0m\u001b[0ma\u001b[0m\u001b[1;33m=\u001b[0m\u001b[1;36m1\u001b[0m\u001b[1;33m)\u001b[0m\u001b[1;33m\u001b[0m\u001b[1;33m\u001b[0m\u001b[0m\n\u001b[0m\u001b[0;32m      3\u001b[0m \u001b[0mmy_func\u001b[0m\u001b[1;33m(\u001b[0m\u001b[0ma\u001b[0m\u001b[1;33m=\u001b[0m\u001b[1;36m1\u001b[0m\u001b[1;33m,\u001b[0m\u001b[0mb\u001b[0m\u001b[1;33m=\u001b[0m\u001b[1;36m2\u001b[0m\u001b[1;33m)\u001b[0m\u001b[1;33m\u001b[0m\u001b[1;33m\u001b[0m\u001b[0m\n",
      "\u001b[1;31mTypeError\u001b[0m: my_func() missing 2 required positional arguments: 'b' and 'c'"
     ]
    }
   ],
   "source": [
    "# Keyword arguement -->\n",
    "my_func(a=1)\n",
    "my_func(a=1,b=2)"
   ]
  },
  {
   "cell_type": "code",
   "execution_count": 14,
   "id": "475ebec8",
   "metadata": {},
   "outputs": [
    {
     "name": "stdout",
     "output_type": "stream",
     "text": [
      "a is 10\n",
      "b is 20\n",
      "c is 30\n"
     ]
    }
   ],
   "source": [
    "my_func(a=10,b=20,c=30)"
   ]
  },
  {
   "cell_type": "code",
   "execution_count": 15,
   "id": "0f8cbf29",
   "metadata": {},
   "outputs": [
    {
     "name": "stdout",
     "output_type": "stream",
     "text": [
      "a is 30\n",
      "b is 10\n",
      "c is 20\n"
     ]
    }
   ],
   "source": [
    "my_func(c=20,b=10,a=30)"
   ]
  },
  {
   "cell_type": "markdown",
   "id": "d8b2f170",
   "metadata": {},
   "source": [
    "### Default arguments\n",
    "\n",
    "Default arguments are optional (i.e. the user does not need to specify them when calling the function). They default to a value if they are not specified during function call."
   ]
  },
  {
   "cell_type": "code",
   "execution_count": 16,
   "id": "cbdf5c49",
   "metadata": {},
   "outputs": [],
   "source": [
    "def my_func(a=10):\n",
    "    print(a)"
   ]
  },
  {
   "cell_type": "code",
   "execution_count": 17,
   "id": "d7eabcdf",
   "metadata": {},
   "outputs": [
    {
     "name": "stdout",
     "output_type": "stream",
     "text": [
      "20\n"
     ]
    }
   ],
   "source": [
    "my_func(20)"
   ]
  },
  {
   "cell_type": "code",
   "execution_count": 18,
   "id": "530f7041",
   "metadata": {},
   "outputs": [
    {
     "name": "stdout",
     "output_type": "stream",
     "text": [
      "Hello\n"
     ]
    }
   ],
   "source": [
    "my_func('Hello')"
   ]
  },
  {
   "cell_type": "code",
   "execution_count": 19,
   "id": "c7b91524",
   "metadata": {},
   "outputs": [
    {
     "name": "stdout",
     "output_type": "stream",
     "text": [
      "10\n"
     ]
    }
   ],
   "source": [
    "my_func()"
   ]
  },
  {
   "cell_type": "code",
   "execution_count": 22,
   "id": "40ef3dfd",
   "metadata": {},
   "outputs": [
    {
     "name": "stdout",
     "output_type": "stream",
     "text": [
      "Hello\n"
     ]
    }
   ],
   "source": [
    "my_func(a='Hello')"
   ]
  },
  {
   "cell_type": "markdown",
   "id": "69b9e16c",
   "metadata": {},
   "source": [
    "We can mix and match positional (non-default) and default arguments"
   ]
  },
  {
   "cell_type": "code",
   "execution_count": 23,
   "id": "800fa1bd",
   "metadata": {},
   "outputs": [],
   "source": [
    "def my_func(a,b='Hello'):\n",
    "    print(a)\n",
    "    print(b)"
   ]
  },
  {
   "cell_type": "code",
   "execution_count": 24,
   "id": "4fa5dde1",
   "metadata": {},
   "outputs": [
    {
     "name": "stdout",
     "output_type": "stream",
     "text": [
      "10\n",
      "20\n"
     ]
    }
   ],
   "source": [
    "my_func(10,20)"
   ]
  },
  {
   "cell_type": "code",
   "execution_count": 25,
   "id": "4dd2fde7",
   "metadata": {},
   "outputs": [
    {
     "name": "stdout",
     "output_type": "stream",
     "text": [
      "HELLO\n",
      "Hello\n"
     ]
    }
   ],
   "source": [
    "my_func('HELLO')"
   ]
  },
  {
   "cell_type": "markdown",
   "id": "3181d456",
   "metadata": {},
   "source": [
    "Note: a non-default argument cannot follow a default argument in the function definition"
   ]
  },
  {
   "cell_type": "code",
   "execution_count": 26,
   "id": "f7cfb49c",
   "metadata": {},
   "outputs": [
    {
     "ename": "SyntaxError",
     "evalue": "non-default argument follows default argument (<ipython-input-26-f36d186f116b>, line 1)",
     "output_type": "error",
     "traceback": [
      "\u001b[1;36m  File \u001b[1;32m\"<ipython-input-26-f36d186f116b>\"\u001b[1;36m, line \u001b[1;32m1\u001b[0m\n\u001b[1;33m    def my_func(a=10,b):\u001b[0m\n\u001b[1;37m                ^\u001b[0m\n\u001b[1;31mSyntaxError\u001b[0m\u001b[1;31m:\u001b[0m non-default argument follows default argument\n"
     ]
    }
   ],
   "source": [
    "def my_func(a=10,b):\n",
    "    print(a)\n",
    "    print(b)"
   ]
  },
  {
   "cell_type": "code",
   "execution_count": 27,
   "id": "9007b429",
   "metadata": {},
   "outputs": [],
   "source": [
    "def my_func(a,b,c,d=10,e=20,f=30):\n",
    "    pass"
   ]
  },
  {
   "cell_type": "markdown",
   "id": "c8ddf8f8",
   "metadata": {},
   "source": [
    "### Pitfall: Mutable default arguments\n",
    "\n",
    "We need to be careful when we use mutable default arguments. This is because default arguments are created only when the function is defined. When you make changes to this mutable default argument, this will also persist across function calls."
   ]
  },
  {
   "cell_type": "code",
   "execution_count": 28,
   "id": "a576ad10",
   "metadata": {},
   "outputs": [],
   "source": [
    "# Example without a default argument\n",
    "def append_to_list(x, my_list):\n",
    "    my_list.append(x)\n",
    "    return my_list"
   ]
  },
  {
   "cell_type": "code",
   "execution_count": 29,
   "id": "2680caf1",
   "metadata": {},
   "outputs": [
    {
     "data": {
      "text/plain": [
       "[10]"
      ]
     },
     "execution_count": 29,
     "metadata": {},
     "output_type": "execute_result"
    }
   ],
   "source": [
    "append_to_list(10,[])"
   ]
  },
  {
   "cell_type": "code",
   "execution_count": 36,
   "id": "84389403",
   "metadata": {},
   "outputs": [
    {
     "data": {
      "text/plain": [
       "[20]"
      ]
     },
     "execution_count": 36,
     "metadata": {},
     "output_type": "execute_result"
    }
   ],
   "source": [
    "append_to_list(20,[])"
   ]
  },
  {
   "cell_type": "code",
   "execution_count": 31,
   "id": "7e89a7ac",
   "metadata": {},
   "outputs": [
    {
     "data": {
      "text/plain": [
       "[5, 10, 15, 20]"
      ]
     },
     "execution_count": 31,
     "metadata": {},
     "output_type": "execute_result"
    }
   ],
   "source": [
    "append_to_list(20,[5,10,15])"
   ]
  },
  {
   "cell_type": "code",
   "execution_count": 32,
   "id": "c5d76311",
   "metadata": {},
   "outputs": [],
   "source": [
    "# Example with a mutable default argument\n",
    "def dodgy_append_to_list(x, my_list=[]):\n",
    "    my_list.append(x)\n",
    "    return my_list"
   ]
  },
  {
   "cell_type": "code",
   "execution_count": 33,
   "id": "3803f5ee",
   "metadata": {},
   "outputs": [
    {
     "data": {
      "text/plain": [
       "[10]"
      ]
     },
     "execution_count": 33,
     "metadata": {},
     "output_type": "execute_result"
    }
   ],
   "source": [
    "dodgy_append_to_list(10)"
   ]
  },
  {
   "cell_type": "code",
   "execution_count": 37,
   "id": "72eeb523",
   "metadata": {},
   "outputs": [
    {
     "data": {
      "text/plain": [
       "[10, 20, 20, 20]"
      ]
     },
     "execution_count": 37,
     "metadata": {},
     "output_type": "execute_result"
    }
   ],
   "source": [
    "dodgy_append_to_list(20) # expect the answer to be [20]"
   ]
  },
  {
   "cell_type": "markdown",
   "id": "8954bbbc",
   "metadata": {},
   "source": [
    "What happens is that when a function is defined, a new list is created. But the same list is reused in each successive calls to the function.\n",
    "\n",
    "\n",
    "**The default arguments are only evaluated once when the function is defined, not each time when the function is called.** So if we use a mutable default argument (such as a list), then it will get mutated each time we call a function."
   ]
  },
  {
   "cell_type": "code",
   "execution_count": 38,
   "id": "de745d2f",
   "metadata": {},
   "outputs": [],
   "source": [
    "def append_to_list_2(x, my_list=None):\n",
    "    if my_list is None:\n",
    "        my_list = []\n",
    "    my_list.append(x)\n",
    "    return my_list "
   ]
  },
  {
   "cell_type": "markdown",
   "id": "40354798",
   "metadata": {},
   "source": [
    "#### Concept check"
   ]
  },
  {
   "cell_type": "code",
   "execution_count": 39,
   "id": "d21ddb14",
   "metadata": {},
   "outputs": [],
   "source": [
    "def f(x):\n",
    "    return (3*x*x)+(2*x)-5"
   ]
  },
  {
   "cell_type": "code",
   "execution_count": 69,
   "id": "50e1a007",
   "metadata": {},
   "outputs": [],
   "source": [
    "def func_key_time(f, x, eps = 0.00000000001):\n",
    "    slope1 = (f(x+eps) - f(x)) /(eps)\n",
    "    print(slope1)\n",
    "    \n",
    "    accuracy_def = slope1 - (6*x + 2)\n",
    "    accuracy_percent = (accuracy_def/slope1)*100\n",
    "    print(f'The percentage difference between this method and the actual answer is {accuracy_percent}%')\n",
    "    "
   ]
  },
  {
   "cell_type": "code",
   "execution_count": 70,
   "id": "2333eb55",
   "metadata": {},
   "outputs": [
    {
     "name": "stdout",
     "output_type": "stream",
     "text": [
      "8.000000661922968\n",
      "The percentage difference between this method and the actual answer is 8.274036415312195e-06%\n"
     ]
    }
   ],
   "source": [
    "func_key_time(f,1)"
   ]
  },
  {
   "cell_type": "markdown",
   "id": "3686d73b",
   "metadata": {},
   "source": [
    "## Variable number of arguments\n",
    "\n",
    "We can define a function with a variable number of arguments by using the `*args` and `**kwargs` syntax.\n",
    "\n",
    "- `*args` - arbitrary number of positional arguments\n",
    "- `**kwargs` - arbitrary number of keyword arguments"
   ]
  },
  {
   "cell_type": "markdown",
   "id": "609f9dfb",
   "metadata": {},
   "source": [
    "### Using `*args`\n",
    "\n",
    "Example: Say you want to write a function that adds a set of numbers whose count is unknown"
   ]
  },
  {
   "cell_type": "code",
   "execution_count": 71,
   "id": "4522d5b6",
   "metadata": {},
   "outputs": [],
   "source": [
    "def args_example(*args):\n",
    "    print(f'type(args): {type(args)}')\n",
    "    print(args)\n",
    "    print('****')\n",
    "    return args"
   ]
  },
  {
   "cell_type": "code",
   "execution_count": 72,
   "id": "c43ce7d7",
   "metadata": {},
   "outputs": [
    {
     "name": "stdout",
     "output_type": "stream",
     "text": [
      "type(args): <class 'tuple'>\n",
      "(1, 2, 3, 4, 5)\n",
      "****\n"
     ]
    }
   ],
   "source": [
    "args = args_example(1,2,3,4,5)"
   ]
  },
  {
   "cell_type": "code",
   "execution_count": 73,
   "id": "b8776822",
   "metadata": {},
   "outputs": [
    {
     "name": "stdout",
     "output_type": "stream",
     "text": [
      "type(args): <class 'tuple'>\n",
      "(1, 2, 3)\n",
      "****\n"
     ]
    }
   ],
   "source": [
    "args = args_example(1,2,3)"
   ]
  },
  {
   "cell_type": "code",
   "execution_count": 74,
   "id": "b3acff71",
   "metadata": {},
   "outputs": [
    {
     "name": "stdout",
     "output_type": "stream",
     "text": [
      "type(args): <class 'tuple'>\n",
      "(10, 20, 'CE02', 'Caitlin', 'Magnus', [])\n",
      "****\n"
     ]
    }
   ],
   "source": [
    "args = args_example(10,20,'CE02','Caitlin','Magnus',[])"
   ]
  },
  {
   "cell_type": "markdown",
   "id": "30ccca49",
   "metadata": {},
   "source": [
    "We can also mix positional and `*args`"
   ]
  },
  {
   "cell_type": "code",
   "execution_count": 75,
   "id": "4e428a2b",
   "metadata": {},
   "outputs": [],
   "source": [
    "def mix_positional_and_args(a,b,*args):\n",
    "    print(f'a is {a}')\n",
    "    print(f'b is {b}')\n",
    "    print(f'args are {args}')\n"
   ]
  },
  {
   "cell_type": "code",
   "execution_count": 76,
   "id": "599e9bfe",
   "metadata": {},
   "outputs": [
    {
     "name": "stdout",
     "output_type": "stream",
     "text": [
      "a is Hello\n",
      "b is 12\n",
      "args are ([], 1234, 'World', 'CE02')\n"
     ]
    }
   ],
   "source": [
    "mix_positional_and_args('Hello',12,[],1234,'World','CE02')"
   ]
  },
  {
   "cell_type": "markdown",
   "id": "fdfc9739",
   "metadata": {},
   "source": [
    "We cannot have `*args` before the positional arguments"
   ]
  },
  {
   "cell_type": "code",
   "execution_count": 77,
   "id": "1fc6779c",
   "metadata": {},
   "outputs": [],
   "source": [
    "def incorrect_mix_positional_and_args(*args,a,b,c):\n",
    "    pass"
   ]
  },
  {
   "cell_type": "code",
   "execution_count": 78,
   "id": "4c1e4330",
   "metadata": {},
   "outputs": [
    {
     "ename": "TypeError",
     "evalue": "incorrect_mix_positional_and_args() missing 3 required keyword-only arguments: 'a', 'b', and 'c'",
     "output_type": "error",
     "traceback": [
      "\u001b[1;31m---------------------------------------------------------------------------\u001b[0m",
      "\u001b[1;31mTypeError\u001b[0m                                 Traceback (most recent call last)",
      "\u001b[1;32m<ipython-input-78-f1fb95af307e>\u001b[0m in \u001b[0;36m<module>\u001b[1;34m\u001b[0m\n\u001b[1;32m----> 1\u001b[1;33m \u001b[0mincorrect_mix_positional_and_args\u001b[0m\u001b[1;33m(\u001b[0m\u001b[1;34m'Hello'\u001b[0m\u001b[1;33m,\u001b[0m\u001b[1;36m12\u001b[0m\u001b[1;33m,\u001b[0m\u001b[1;33m[\u001b[0m\u001b[1;33m]\u001b[0m\u001b[1;33m,\u001b[0m\u001b[1;36m1234\u001b[0m\u001b[1;33m,\u001b[0m\u001b[1;34m'World'\u001b[0m\u001b[1;33m,\u001b[0m\u001b[1;34m'CE02'\u001b[0m\u001b[1;33m)\u001b[0m\u001b[1;33m\u001b[0m\u001b[1;33m\u001b[0m\u001b[0m\n\u001b[0m",
      "\u001b[1;31mTypeError\u001b[0m: incorrect_mix_positional_and_args() missing 3 required keyword-only arguments: 'a', 'b', and 'c'"
     ]
    }
   ],
   "source": [
    "incorrect_mix_positional_and_args('Hello',12,[],1234,'World','CE02')"
   ]
  },
  {
   "cell_type": "markdown",
   "id": "e495916f",
   "metadata": {},
   "source": [
    "Example: say you want to write a function that adds a collection of numbers whose count is unknown"
   ]
  },
  {
   "cell_type": "code",
   "execution_count": 81,
   "id": "33ee3627",
   "metadata": {},
   "outputs": [],
   "source": [
    "def sum_of_numbers(*args):\n",
    "    total_sum = 0\n",
    "    for i in args:\n",
    "        total_sum = total_sum + i\n",
    "    print(total_sum)"
   ]
  },
  {
   "cell_type": "code",
   "execution_count": 82,
   "id": "33e963f8",
   "metadata": {},
   "outputs": [
    {
     "name": "stdout",
     "output_type": "stream",
     "text": [
      "21\n"
     ]
    }
   ],
   "source": [
    "sum_of_numbers(1,2,3,4,5,6)"
   ]
  },
  {
   "cell_type": "markdown",
   "id": "303e2bcf",
   "metadata": {},
   "source": [
    "### Using `**kwargs`"
   ]
  },
  {
   "cell_type": "code",
   "execution_count": 83,
   "id": "e04e4545",
   "metadata": {},
   "outputs": [],
   "source": [
    "def kwargs_example(**kwargs):\n",
    "    print(f'type(kwargs): {type(kwargs)}')\n",
    "    print(kwargs)\n",
    "    print('****')"
   ]
  },
  {
   "cell_type": "code",
   "execution_count": 84,
   "id": "1b7e5df8",
   "metadata": {},
   "outputs": [
    {
     "name": "stdout",
     "output_type": "stream",
     "text": [
      "type(kwargs): <class 'dict'>\n",
      "{'x': 1, 'y': 2, 'z': 3, 'name': 'jeevan'}\n",
      "****\n"
     ]
    }
   ],
   "source": [
    "kwargs_example(x=1,y=2,z=3,name='jeevan')"
   ]
  },
  {
   "cell_type": "code",
   "execution_count": 85,
   "id": "9ad49145",
   "metadata": {},
   "outputs": [
    {
     "ename": "TypeError",
     "evalue": "kwargs_example() takes 0 positional arguments but 4 were given",
     "output_type": "error",
     "traceback": [
      "\u001b[1;31m---------------------------------------------------------------------------\u001b[0m",
      "\u001b[1;31mTypeError\u001b[0m                                 Traceback (most recent call last)",
      "\u001b[1;32m<ipython-input-85-cb459e87367c>\u001b[0m in \u001b[0;36m<module>\u001b[1;34m\u001b[0m\n\u001b[1;32m----> 1\u001b[1;33m \u001b[0mkwargs_example\u001b[0m\u001b[1;33m(\u001b[0m\u001b[1;36m1\u001b[0m\u001b[1;33m,\u001b[0m\u001b[1;36m2\u001b[0m\u001b[1;33m,\u001b[0m\u001b[1;36m3\u001b[0m\u001b[1;33m,\u001b[0m\u001b[1;34m'jeevan'\u001b[0m\u001b[1;33m)\u001b[0m\u001b[1;33m\u001b[0m\u001b[1;33m\u001b[0m\u001b[0m\n\u001b[0m",
      "\u001b[1;31mTypeError\u001b[0m: kwargs_example() takes 0 positional arguments but 4 were given"
     ]
    }
   ],
   "source": [
    "kwargs_example(1,2,3,'jeevan')"
   ]
  },
  {
   "cell_type": "code",
   "execution_count": 86,
   "id": "b7569cc4",
   "metadata": {},
   "outputs": [
    {
     "name": "stdout",
     "output_type": "stream",
     "text": [
      "type(kwargs): <class 'dict'>\n",
      "{'test': 'Test'}\n",
      "****\n"
     ]
    }
   ],
   "source": [
    "kwargs_example(test='Test')"
   ]
  },
  {
   "cell_type": "markdown",
   "id": "c4917e35",
   "metadata": {},
   "source": [
    "- kwargs are useful when we may only want to change a subset of the total number of arguments from their default values\n",
    "- They are also useful when we have functions that call other functions"
   ]
  },
  {
   "cell_type": "code",
   "execution_count": 94,
   "id": "f9af8396",
   "metadata": {},
   "outputs": [],
   "source": [
    "import matplotlib.pyplot as plt\n",
    "import numpy as np\n",
    "def plot_this_data(data, **kwargs):\n",
    "    x = data[0]\n",
    "    y = data[1]\n",
    "    y1 = np.log(y)\n",
    "    \n",
    "    plt.plot(x,y1,**kwargs)"
   ]
  },
  {
   "cell_type": "code",
   "execution_count": 95,
   "id": "91b28f54",
   "metadata": {},
   "outputs": [],
   "source": [
    "data = np.array([[1,2,3,4,5],[10,100,1000,10000,100000]])"
   ]
  },
  {
   "cell_type": "code",
   "execution_count": 96,
   "id": "860a8655",
   "metadata": {},
   "outputs": [
    {
     "data": {
      "image/png": "[encoded data removed]",
      "text/plain": [
       "<Figure size 432x288 with 1 Axes>"
      ]
     },
     "metadata": {
      "needs_background": "light"
     },
     "output_type": "display_data"
    }
   ],
   "source": [
    "plot_this_data(data,color='green', linestyle='--')"
   ]
  },
  {
   "cell_type": "code",
   "execution_count": 97,
   "id": "64bc7e56",
   "metadata": {},
   "outputs": [
    {
     "data": {
      "image/png": "[encoded data removed]",
      "text/plain": [
       "<Figure size 432x288 with 1 Axes>"
      ]
     },
     "metadata": {
      "needs_background": "light"
     },
     "output_type": "display_data"
    }
   ],
   "source": [
    "plot_this_data(data, color='red')"
   ]
  },
  {
   "cell_type": "code",
   "execution_count": 98,
   "id": "41bd3b95",
   "metadata": {},
   "outputs": [
    {
     "data": {
      "image/png": "[encoded data removed]",
      "text/plain": [
       "<Figure size 432x288 with 1 Axes>"
      ]
     },
     "metadata": {
      "needs_background": "light"
     },
     "output_type": "display_data"
    }
   ],
   "source": [
    "plot_this_data(data, color='red', linewidth='20', linestyle='--')"
   ]
  },
  {
   "cell_type": "markdown",
   "id": "9d09c913",
   "metadata": {},
   "source": [
    "### A general template for a function"
   ]
  },
  {
   "cell_type": "code",
   "execution_count": 99,
   "id": "0e4b2246",
   "metadata": {},
   "outputs": [],
   "source": [
    "def my_func(*args, **kwargs):\n",
    "    print(args)\n",
    "    print(kwargs)"
   ]
  },
  {
   "cell_type": "code",
   "execution_count": 101,
   "id": "4115a1f9",
   "metadata": {},
   "outputs": [
    {
     "name": "stdout",
     "output_type": "stream",
     "text": [
      "(1, 2)\n",
      "{'a': 1, 'b': 35, 'c': 'Hello'}\n"
     ]
    }
   ],
   "source": [
    "my_func(1,2,a=1,b=35,c='Hello')"
   ]
  },
  {
   "cell_type": "markdown",
   "id": "dc48ae71",
   "metadata": {},
   "source": [
    "Note: Positional arguments cannot follow keyword arguments"
   ]
  },
  {
   "cell_type": "code",
   "execution_count": 104,
   "id": "e91da8ac",
   "metadata": {},
   "outputs": [
    {
     "ename": "SyntaxError",
     "evalue": "positional argument follows keyword argument (<ipython-input-104-6820301141ef>, line 1)",
     "output_type": "error",
     "traceback": [
      "\u001b[1;36m  File \u001b[1;32m\"<ipython-input-104-6820301141ef>\"\u001b[1;36m, line \u001b[1;32m1\u001b[0m\n\u001b[1;33m    my_func(a=1,b=2,3,4)\u001b[0m\n\u001b[1;37m                    ^\u001b[0m\n\u001b[1;31mSyntaxError\u001b[0m\u001b[1;31m:\u001b[0m positional argument follows keyword argument\n"
     ]
    }
   ],
   "source": [
    "my_func(a=1,b=2,3,4)"
   ]
  },
  {
   "cell_type": "markdown",
   "id": "87cd54ab",
   "metadata": {},
   "source": [
    "We can also mix and match standard positional and keyword arguments and `*args` and `**kwargs`"
   ]
  },
  {
   "cell_type": "code",
   "execution_count": 107,
   "id": "43abb8c0",
   "metadata": {},
   "outputs": [],
   "source": [
    "def my_func_mix(a,b,*args,x=5,y=10,**kwargs):\n",
    "    print(a)\n",
    "    print(b)\n",
    "    print(args)\n",
    "    print(x)\n",
    "    print(y)\n",
    "    print(kwargs)"
   ]
  },
  {
   "cell_type": "code",
   "execution_count": 108,
   "id": "a6a1a33e",
   "metadata": {
    "scrolled": true
   },
   "outputs": [
    {
     "name": "stdout",
     "output_type": "stream",
     "text": [
      "1\n",
      "2\n",
      "(3, 4)\n",
      "10\n",
      "20\n",
      "{'z': 30, 'abc': 40}\n"
     ]
    }
   ],
   "source": [
    "my_func_mix(1,2,3,4,x=10,y=20,z=30,abc=40)"
   ]
  },
  {
   "cell_type": "markdown",
   "id": "20502385",
   "metadata": {},
   "source": [
    "Using the * to unroll a list or tuple into positional arguments"
   ]
  },
  {
   "cell_type": "code",
   "execution_count": 109,
   "id": "4e0609b2",
   "metadata": {},
   "outputs": [],
   "source": [
    "def my_func(name,loc):\n",
    "    print(name)\n",
    "    print(loc)"
   ]
  },
  {
   "cell_type": "code",
   "execution_count": 112,
   "id": "feb95285",
   "metadata": {},
   "outputs": [
    {
     "name": "stdout",
     "output_type": "stream",
     "text": [
      "['Jeevan', 'Derby']\n",
      "Jeevan Derby\n"
     ]
    }
   ],
   "source": [
    "my_list = ['Jeevan','Derby']\n",
    "print(my_list)\n",
    "print(*my_list)"
   ]
  },
  {
   "cell_type": "code",
   "execution_count": 111,
   "id": "c52897d2",
   "metadata": {},
   "outputs": [
    {
     "name": "stdout",
     "output_type": "stream",
     "text": [
      "Jeevan\n",
      "Derby\n"
     ]
    }
   ],
   "source": [
    "my_func(*my_list)"
   ]
  },
  {
   "cell_type": "markdown",
   "id": "29e0e69f",
   "metadata": {},
   "source": [
    "Using the `**` to unroll a dictionary into keyword arguments"
   ]
  },
  {
   "cell_type": "code",
   "execution_count": 302,
   "id": "0b9db4ac",
   "metadata": {},
   "outputs": [
    {
     "name": "stdout",
     "output_type": "stream",
     "text": [
      "{'name': ['James', 'Dandison'], 'loc': ['New York', 'Chicago']}\n"
     ]
    }
   ],
   "source": [
    "my_dict = {'name':['James','Dandison'],'loc':['New York','Chicago']}\n",
    "print(my_dict)"
   ]
  },
  {
   "cell_type": "code",
   "execution_count": 114,
   "id": "434babe6",
   "metadata": {},
   "outputs": [
    {
     "name": "stdout",
     "output_type": "stream",
     "text": [
      "['James', 'Dandison']\n",
      "['New York', 'Chicago']\n"
     ]
    }
   ],
   "source": [
    "my_func(**my_dict)"
   ]
  },
  {
   "cell_type": "code",
   "execution_count": 119,
   "id": "fe070559",
   "metadata": {},
   "outputs": [
    {
     "name": "stdout",
     "output_type": "stream",
     "text": [
      "['James', 'Dandison']\n",
      "['New York', 'Chicago']\n"
     ]
    }
   ],
   "source": [
    "# Above code is the same as this:\n",
    "my_func(name=['James','Dandison'],loc=['New York','Chicago'])"
   ]
  },
  {
   "cell_type": "markdown",
   "id": "18b00a66",
   "metadata": {},
   "source": [
    "## Parameter Passing\n",
    "\n",
    "When passing a mutable object into a function, the mutable object can be potentially modified within the function. Functions that mutate (change the value of) their inputs or other parts of the program can have unintended side effects."
   ]
  },
  {
   "cell_type": "code",
   "execution_count": 120,
   "id": "b9646496",
   "metadata": {},
   "outputs": [
    {
     "name": "stdout",
     "output_type": "stream",
     "text": [
      "15\n"
     ]
    }
   ],
   "source": [
    "# Example: function without side effects\n",
    "# assume x is an int or a float\n",
    "def add_five(x):\n",
    "    return x+5\n",
    "\n",
    "x = 10\n",
    "print(add_five(x))"
   ]
  },
  {
   "cell_type": "code",
   "execution_count": 121,
   "id": "9d0a7a87",
   "metadata": {},
   "outputs": [
    {
     "name": "stdout",
     "output_type": "stream",
     "text": [
      "x:  10\n"
     ]
    }
   ],
   "source": [
    "print('x: ',x)"
   ]
  },
  {
   "cell_type": "code",
   "execution_count": 122,
   "id": "f33c51db",
   "metadata": {},
   "outputs": [],
   "source": [
    "# Example: function with a side effect\n",
    "# assume x is a list\n",
    "def print_list(x):\n",
    "    while x:\n",
    "        value = x.pop()\n",
    "        print(value)"
   ]
  },
  {
   "cell_type": "code",
   "execution_count": 123,
   "id": "fd3977fa",
   "metadata": {},
   "outputs": [
    {
     "name": "stdout",
     "output_type": "stream",
     "text": [
      "8\n",
      "6\n",
      "4\n",
      "2\n"
     ]
    }
   ],
   "source": [
    "x = [2,4,6,8]\n",
    "print_list(x)"
   ]
  },
  {
   "cell_type": "code",
   "execution_count": 124,
   "id": "135e582e",
   "metadata": {},
   "outputs": [
    {
     "name": "stdout",
     "output_type": "stream",
     "text": [
      "x:  []\n"
     ]
    }
   ],
   "source": [
    "print('x: ',x)"
   ]
  },
  {
   "cell_type": "markdown",
   "id": "dd90fece",
   "metadata": {},
   "source": [
    "## Return values\n",
    "\n",
    "The return statement specifies what we want to return to the caller. The return value is the output of the function.\n",
    "\n",
    "If there is no explicit return statement, then `None` is returned when the function terminates."
   ]
  },
  {
   "cell_type": "code",
   "execution_count": 125,
   "id": "1feff866",
   "metadata": {},
   "outputs": [],
   "source": [
    "def return_example():\n",
    "    print('Test')\n",
    "    return 25\n",
    "    print('This statement will not print!')"
   ]
  },
  {
   "cell_type": "code",
   "execution_count": 127,
   "id": "b0408a28",
   "metadata": {},
   "outputs": [
    {
     "name": "stdout",
     "output_type": "stream",
     "text": [
      "Test\n"
     ]
    }
   ],
   "source": [
    "return_value = return_example()"
   ]
  },
  {
   "cell_type": "code",
   "execution_count": 128,
   "id": "916667a0",
   "metadata": {},
   "outputs": [
    {
     "name": "stdout",
     "output_type": "stream",
     "text": [
      "25\n"
     ]
    }
   ],
   "source": [
    "print(return_value)"
   ]
  },
  {
   "cell_type": "code",
   "execution_count": 129,
   "id": "ccb931d4",
   "metadata": {},
   "outputs": [],
   "source": [
    "def return_example():\n",
    "    print('Test')\n",
    "    # return 25\n",
    "    print('This statement will not print!')"
   ]
  },
  {
   "cell_type": "code",
   "execution_count": 130,
   "id": "58aa9426",
   "metadata": {},
   "outputs": [
    {
     "name": "stdout",
     "output_type": "stream",
     "text": [
      "Test\n",
      "This statement will not print!\n"
     ]
    }
   ],
   "source": [
    "return_value = return_example()"
   ]
  },
  {
   "cell_type": "code",
   "execution_count": 131,
   "id": "efa4abfc",
   "metadata": {},
   "outputs": [
    {
     "name": "stdout",
     "output_type": "stream",
     "text": [
      "None\n"
     ]
    }
   ],
   "source": [
    "print(return_value)"
   ]
  },
  {
   "cell_type": "markdown",
   "id": "e2970c9f",
   "metadata": {},
   "source": [
    "You can also return multiple values. It is generally good practice to return multiple values in a tuple."
   ]
  },
  {
   "cell_type": "code",
   "execution_count": 132,
   "id": "28a57cf8",
   "metadata": {},
   "outputs": [],
   "source": [
    "def multiple_return_example():\n",
    "    a = 10\n",
    "    b = 20\n",
    "    return(a,b)"
   ]
  },
  {
   "cell_type": "code",
   "execution_count": 133,
   "id": "408eb269",
   "metadata": {},
   "outputs": [],
   "source": [
    "return_value1, return_value2 = multiple_return_example()"
   ]
  },
  {
   "cell_type": "code",
   "execution_count": 134,
   "id": "334ed881",
   "metadata": {},
   "outputs": [
    {
     "name": "stdout",
     "output_type": "stream",
     "text": [
      "10\n",
      "20\n"
     ]
    }
   ],
   "source": [
    "print(return_value1)\n",
    "print(return_value2)"
   ]
  },
  {
   "cell_type": "code",
   "execution_count": 135,
   "id": "55f71113",
   "metadata": {},
   "outputs": [],
   "source": [
    "def none_return_example():\n",
    "    print('This statement will print!')"
   ]
  },
  {
   "cell_type": "code",
   "execution_count": 136,
   "id": "1ecb9284",
   "metadata": {},
   "outputs": [
    {
     "name": "stdout",
     "output_type": "stream",
     "text": [
      "This statement will print!\n",
      "None\n"
     ]
    }
   ],
   "source": [
    "return_val = none_return_example()\n",
    "print(return_val)"
   ]
  },
  {
   "cell_type": "code",
   "execution_count": 137,
   "id": "dbae20c3",
   "metadata": {},
   "outputs": [],
   "source": [
    "def none_return_example():\n",
    "    print('This statement will print!')\n",
    "    return 0"
   ]
  },
  {
   "cell_type": "code",
   "execution_count": 138,
   "id": "fe3d1621",
   "metadata": {},
   "outputs": [
    {
     "name": "stdout",
     "output_type": "stream",
     "text": [
      "This statement will print!\n",
      "0\n"
     ]
    }
   ],
   "source": [
    "return_val = none_return_example()\n",
    "print(return_val)"
   ]
  },
  {
   "cell_type": "markdown",
   "id": "c6fde8a5",
   "metadata": {},
   "source": [
    "## Scoping rules\n",
    "\n",
    "When a function is executed, a new namespace is created.\n",
    "\n",
    "The namespace is a local environment that contains the names of function parameters and variables."
   ]
  },
  {
   "cell_type": "markdown",
   "id": "8d95a312",
   "metadata": {},
   "source": [
    "#### Example 1\n",
    "\n",
    "Local variables ovveride global variables inside the local scope"
   ]
  },
  {
   "cell_type": "code",
   "execution_count": 139,
   "id": "81c4d930",
   "metadata": {},
   "outputs": [],
   "source": [
    "a = 10\n",
    "b = 20\n",
    "\n",
    "def my_func(a,b):\n",
    "    print('Local variable a: ',a)\n",
    "    print('Local variable b: ',b)"
   ]
  },
  {
   "cell_type": "code",
   "execution_count": 141,
   "id": "7d0be7f7",
   "metadata": {},
   "outputs": [
    {
     "name": "stdout",
     "output_type": "stream",
     "text": [
      "Local variable a:  100\n",
      "Local variable b:  200\n",
      "10\n",
      "20\n"
     ]
    }
   ],
   "source": [
    "my_func(100,200)\n",
    "print(a)\n",
    "print(b)"
   ]
  },
  {
   "cell_type": "markdown",
   "id": "fbfe2d54",
   "metadata": {},
   "source": [
    "#### Example 2"
   ]
  },
  {
   "cell_type": "code",
   "execution_count": 142,
   "id": "f8dc0b6f",
   "metadata": {},
   "outputs": [],
   "source": [
    "a = 123\n",
    "def my_func():\n",
    "    a = 789\n",
    "    print('a inside my_func: ',a)\n",
    "    print('id(a) inside my_func: ', id(a))"
   ]
  },
  {
   "cell_type": "code",
   "execution_count": 143,
   "id": "f9b9dcc6",
   "metadata": {},
   "outputs": [
    {
     "name": "stdout",
     "output_type": "stream",
     "text": [
      "a inside my_func:  789\n",
      "id(a) inside my_func:  2149559516272\n"
     ]
    }
   ],
   "source": [
    "my_func()"
   ]
  },
  {
   "cell_type": "code",
   "execution_count": 144,
   "id": "4a9880c1",
   "metadata": {},
   "outputs": [
    {
     "name": "stdout",
     "output_type": "stream",
     "text": [
      "a outside my_func:  123\n",
      "id(a) outside my_func:  140716918388336\n"
     ]
    }
   ],
   "source": [
    "print('a outside my_func: ',a)\n",
    "print('id(a) outside my_func: ', id(a))"
   ]
  },
  {
   "cell_type": "markdown",
   "id": "9ed06a4c",
   "metadata": {},
   "source": [
    "#### Example 3\n",
    "\n",
    "You can modify variables in the global scope from a local scope by explicitly using the `global` keyword."
   ]
  },
  {
   "cell_type": "code",
   "execution_count": 145,
   "id": "a34b9998",
   "metadata": {},
   "outputs": [],
   "source": [
    "a = 4\n",
    "b = 6\n",
    "\n",
    "def my_func():\n",
    "    global b\n",
    "    a = 40\n",
    "    b = 60\n",
    "    print('a inside my_func: ',a)\n",
    "    print('b inside my_func: ',b)\n",
    "    "
   ]
  },
  {
   "cell_type": "code",
   "execution_count": 146,
   "id": "d174ebee",
   "metadata": {},
   "outputs": [
    {
     "name": "stdout",
     "output_type": "stream",
     "text": [
      "a inside my_func:  40\n",
      "b inside my_func:  60\n"
     ]
    }
   ],
   "source": [
    "my_func()"
   ]
  },
  {
   "cell_type": "code",
   "execution_count": 147,
   "id": "7f2f1af2",
   "metadata": {},
   "outputs": [
    {
     "name": "stdout",
     "output_type": "stream",
     "text": [
      "a outside my_func:  4\n",
      "b outside my_func:  60\n"
     ]
    }
   ],
   "source": [
    "print('a outside my_func: ',a)\n",
    "print('b outside my_func: ',b)"
   ]
  },
  {
   "cell_type": "markdown",
   "id": "56804aab",
   "metadata": {},
   "source": [
    "#### Example 4\n",
    "\n",
    "If the variable is not in the local scope, Python looks at the level above"
   ]
  },
  {
   "cell_type": "code",
   "execution_count": 148,
   "id": "3dc8a341",
   "metadata": {},
   "outputs": [],
   "source": [
    "z1 = 25\n",
    "def my_func():\n",
    "    print(z1)"
   ]
  },
  {
   "cell_type": "code",
   "execution_count": 149,
   "id": "31b06214",
   "metadata": {},
   "outputs": [
    {
     "name": "stdout",
     "output_type": "stream",
     "text": [
      "25\n"
     ]
    }
   ],
   "source": [
    "my_func()"
   ]
  },
  {
   "cell_type": "markdown",
   "id": "a8c790d0",
   "metadata": {},
   "source": [
    "#### Example 5 \n",
    "\n",
    "Modifying variables in the global scope is possible for mutable objects"
   ]
  },
  {
   "cell_type": "code",
   "execution_count": 155,
   "id": "896e076b",
   "metadata": {},
   "outputs": [],
   "source": [
    "a = [1,2,3]\n",
    "def my_func():\n",
    "    a.append(4)"
   ]
  },
  {
   "cell_type": "code",
   "execution_count": 156,
   "id": "e0f285f8",
   "metadata": {},
   "outputs": [
    {
     "name": "stdout",
     "output_type": "stream",
     "text": [
      "[1, 2, 3, 4]\n"
     ]
    }
   ],
   "source": [
    "my_func()\n",
    "print(a)"
   ]
  },
  {
   "cell_type": "markdown",
   "id": "fb9d1ef7",
   "metadata": {},
   "source": [
    "## Decorators\n",
    "\n",
    "(Not in the assessment)\n",
    "\n",
    "A decorator is a function whose primary purpose is to decorate or modify another function.\n",
    "\n",
    "Decorators are denoted by the `@` symbol"
   ]
  },
  {
   "cell_type": "markdown",
   "id": "13271adb",
   "metadata": {},
   "source": [
    "```\n",
    "# The add_five function is decorated by my_decorator\n",
    "@my_simple_decorator\n",
    "def add_five(x):\n",
    "    return x+5\n",
    "```\n",
    "```\n",
    "The above code is equivalent to the following:\n",
    "def add_five(x):\n",
    "    return x+5\n",
    "add_five = my_simple_decorator(add_five) # my decorator returns the modified/decorated version of add five.\n",
    "```"
   ]
  },
  {
   "cell_type": "markdown",
   "id": "fe2619ba",
   "metadata": {},
   "source": [
    "Thing to keep in mind: **The input to the decorator is a function, and the output of the decorator is a modified version of the same function**"
   ]
  },
  {
   "cell_type": "code",
   "execution_count": 160,
   "id": "3fe839eb",
   "metadata": {},
   "outputs": [],
   "source": [
    "# General template for a decorator\n",
    "def my_decorator(my_func):\n",
    "    def modify_my_func(*args, **kwargs):\n",
    "        print('Some code to decorate my_func before it executes')\n",
    "        result = my_func(*args, **kwargs)\n",
    "        print('Some code to decorate my_func after it executes')\n",
    "        return result\n",
    "    return modify_my_func"
   ]
  },
  {
   "cell_type": "code",
   "execution_count": 161,
   "id": "ae262bee",
   "metadata": {},
   "outputs": [],
   "source": [
    "def add_five(x):\n",
    "    print(x+5)"
   ]
  },
  {
   "cell_type": "code",
   "execution_count": 163,
   "id": "602001af",
   "metadata": {},
   "outputs": [
    {
     "name": "stdout",
     "output_type": "stream",
     "text": [
      "105\n"
     ]
    }
   ],
   "source": [
    "add_five(100)"
   ]
  },
  {
   "cell_type": "code",
   "execution_count": 164,
   "id": "2300b51f",
   "metadata": {},
   "outputs": [],
   "source": [
    "# A decorated function\n",
    "@my_decorator\n",
    "def add_five(x):\n",
    "    print(x+5)"
   ]
  },
  {
   "cell_type": "code",
   "execution_count": 165,
   "id": "fcd529ae",
   "metadata": {},
   "outputs": [
    {
     "name": "stdout",
     "output_type": "stream",
     "text": [
      "Some code to decorate my_func before it executes\n",
      "105\n",
      "Some code to decorate my_func after it executes\n"
     ]
    }
   ],
   "source": [
    "add_five(100)"
   ]
  },
  {
   "cell_type": "code",
   "execution_count": 170,
   "id": "e0bba189",
   "metadata": {},
   "outputs": [],
   "source": [
    "# Another decorator example\n",
    "\n",
    "def decorative_borders(f):\n",
    "    def modified_f(*args, **kwargs):\n",
    "        print('****************')\n",
    "        print('----------------')\n",
    "        result = f(*args,**kwargs)\n",
    "        print('----------------')\n",
    "        print('****************')\n",
    "        return result\n",
    "    return modified_f\n",
    "    "
   ]
  },
  {
   "cell_type": "code",
   "execution_count": 171,
   "id": "613e6376",
   "metadata": {},
   "outputs": [],
   "source": [
    "@decorative_borders\n",
    "def print_message(text):\n",
    "    print(text)"
   ]
  },
  {
   "cell_type": "code",
   "execution_count": 172,
   "id": "c9084c74",
   "metadata": {},
   "outputs": [
    {
     "name": "stdout",
     "output_type": "stream",
     "text": [
      "****************\n",
      "----------------\n",
      "You have won a grand prize!\n",
      "----------------\n",
      "****************\n"
     ]
    }
   ],
   "source": [
    "print_message('You have won a grand prize!')"
   ]
  },
  {
   "cell_type": "code",
   "execution_count": 173,
   "id": "ab7a60e2",
   "metadata": {},
   "outputs": [],
   "source": [
    "# yet another decorator example\n",
    "\n",
    "def my_divide(a,b):\n",
    "    print(a/b)"
   ]
  },
  {
   "cell_type": "code",
   "execution_count": 174,
   "id": "d7210cf9",
   "metadata": {},
   "outputs": [
    {
     "ename": "ZeroDivisionError",
     "evalue": "division by zero",
     "output_type": "error",
     "traceback": [
      "\u001b[1;31m---------------------------------------------------------------------------\u001b[0m",
      "\u001b[1;31mZeroDivisionError\u001b[0m                         Traceback (most recent call last)",
      "\u001b[1;32m<ipython-input-174-0c1338a7d78b>\u001b[0m in \u001b[0;36m<module>\u001b[1;34m\u001b[0m\n\u001b[1;32m----> 1\u001b[1;33m \u001b[0mmy_divide\u001b[0m\u001b[1;33m(\u001b[0m\u001b[1;36m5\u001b[0m\u001b[1;33m,\u001b[0m\u001b[1;36m0\u001b[0m\u001b[1;33m)\u001b[0m\u001b[1;33m\u001b[0m\u001b[1;33m\u001b[0m\u001b[0m\n\u001b[0m",
      "\u001b[1;32m<ipython-input-173-9a7e280fb800>\u001b[0m in \u001b[0;36mmy_divide\u001b[1;34m(a, b)\u001b[0m\n\u001b[0;32m      2\u001b[0m \u001b[1;33m\u001b[0m\u001b[0m\n\u001b[0;32m      3\u001b[0m \u001b[1;32mdef\u001b[0m \u001b[0mmy_divide\u001b[0m\u001b[1;33m(\u001b[0m\u001b[0ma\u001b[0m\u001b[1;33m,\u001b[0m\u001b[0mb\u001b[0m\u001b[1;33m)\u001b[0m\u001b[1;33m:\u001b[0m\u001b[1;33m\u001b[0m\u001b[1;33m\u001b[0m\u001b[0m\n\u001b[1;32m----> 4\u001b[1;33m     \u001b[0mprint\u001b[0m\u001b[1;33m(\u001b[0m\u001b[0ma\u001b[0m\u001b[1;33m/\u001b[0m\u001b[0mb\u001b[0m\u001b[1;33m)\u001b[0m\u001b[1;33m\u001b[0m\u001b[1;33m\u001b[0m\u001b[0m\n\u001b[0m",
      "\u001b[1;31mZeroDivisionError\u001b[0m: division by zero"
     ]
    }
   ],
   "source": [
    "my_divide(5,0)"
   ]
  },
  {
   "cell_type": "code",
   "execution_count": 307,
   "id": "5f9164f8",
   "metadata": {},
   "outputs": [],
   "source": [
    "# decorator to check for zero division \n",
    "def check_for_zero_division(my_func):\n",
    "    def modified_my_func(a,b):\n",
    "        if b==0: \n",
    "            print('Cannot divide by zero!')\n",
    "            return None\n",
    "        return my_func(a,b)\n",
    "    return modified_my_func\n"
   ]
  },
  {
   "cell_type": "code",
   "execution_count": 308,
   "id": "4d034b30",
   "metadata": {},
   "outputs": [],
   "source": [
    "@check_for_zero_division\n",
    "def my_divide(a,b):\n",
    "    print(a/b)"
   ]
  },
  {
   "cell_type": "code",
   "execution_count": 309,
   "id": "923a9f90",
   "metadata": {},
   "outputs": [
    {
     "name": "stdout",
     "output_type": "stream",
     "text": [
      "5.0\n"
     ]
    }
   ],
   "source": [
    "my_divide(5,1)"
   ]
  },
  {
   "cell_type": "markdown",
   "id": "bf878f15",
   "metadata": {},
   "source": [
    "#### Concept check"
   ]
  },
  {
   "cell_type": "code",
   "execution_count": 212,
   "id": "35a0c1f4",
   "metadata": {},
   "outputs": [],
   "source": [
    "def time_decorator(my_func):\n",
    "    def modified_my_func(*args,**kwargs):\n",
    "\n",
    "        import datetime as dt\n",
    "        import time\n",
    "        start = dt.datetime.now()\n",
    "        result = my_func(*args,**kwargs)\n",
    "        time.sleep(1) # as an example, this function takes 1 seconds to execute\n",
    "        end = dt.datetime.now()\n",
    "        print(end-start)\n",
    "        return result\n",
    "    return modified_my_func"
   ]
  },
  {
   "cell_type": "code",
   "execution_count": 213,
   "id": "9163fd61",
   "metadata": {},
   "outputs": [],
   "source": [
    "@time_decorator\n",
    "def my_divide(a,b):\n",
    "    print(a/b)"
   ]
  },
  {
   "cell_type": "code",
   "execution_count": 214,
   "id": "9230d6ed",
   "metadata": {},
   "outputs": [
    {
     "name": "stdout",
     "output_type": "stream",
     "text": [
      "4.0\n",
      "0:00:01.000677\n"
     ]
    }
   ],
   "source": [
    "my_divide(20,5)"
   ]
  },
  {
   "cell_type": "markdown",
   "id": "326b3dad",
   "metadata": {},
   "source": [
    "## Generators\n",
    "\n",
    "Generator functions use `yield` keyword to return values. They return an iterable sequence of values.\n",
    "\n",
    "They are very useful because they allow us to iterate through the values without creating and storing the entire sequence in memory."
   ]
  },
  {
   "cell_type": "code",
   "execution_count": 215,
   "id": "cd0e18aa",
   "metadata": {},
   "outputs": [],
   "source": [
    "def countdown(n):\n",
    "    while n>0:\n",
    "        yield n # yield instead of return\n",
    "        n-=1"
   ]
  },
  {
   "cell_type": "code",
   "execution_count": 216,
   "id": "b089cca9",
   "metadata": {},
   "outputs": [
    {
     "data": {
      "text/plain": [
       "generator"
      ]
     },
     "execution_count": 216,
     "metadata": {},
     "output_type": "execute_result"
    }
   ],
   "source": [
    "g = countdown(10)\n",
    "type(g)"
   ]
  },
  {
   "cell_type": "code",
   "execution_count": 219,
   "id": "e9994d87",
   "metadata": {},
   "outputs": [
    {
     "data": {
      "text/plain": [
       "8"
      ]
     },
     "execution_count": 219,
     "metadata": {},
     "output_type": "execute_result"
    }
   ],
   "source": [
    "next(g) #yields the next value in the generator"
   ]
  },
  {
   "cell_type": "code",
   "execution_count": 221,
   "id": "58f233cd",
   "metadata": {},
   "outputs": [],
   "source": [
    "g = countdown(5)"
   ]
  },
  {
   "cell_type": "code",
   "execution_count": 222,
   "id": "93bd3430",
   "metadata": {},
   "outputs": [
    {
     "name": "stdout",
     "output_type": "stream",
     "text": [
      "5\n",
      "4\n",
      "3\n",
      "2\n",
      "1\n"
     ]
    }
   ],
   "source": [
    "for i in g: # g is an iterable object so it can be used in a for loop\n",
    "    print(i)"
   ]
  },
  {
   "cell_type": "code",
   "execution_count": 223,
   "id": "2197f2c9",
   "metadata": {},
   "outputs": [
    {
     "data": {
      "text/plain": [
       "[15, 14, 13, 12, 11, 10, 9, 8, 7, 6, 5, 4, 3, 2, 1]"
      ]
     },
     "execution_count": 223,
     "metadata": {},
     "output_type": "execute_result"
    }
   ],
   "source": [
    "# convert a generator into a list\n",
    "g = countdown(15)\n",
    "list(g)"
   ]
  },
  {
   "cell_type": "markdown",
   "id": "1493b905",
   "metadata": {},
   "source": [
    "Once all elements are yielded, the generator will throw a `StopeIterationError` if called again"
   ]
  },
  {
   "cell_type": "code",
   "execution_count": 228,
   "id": "e84442e4",
   "metadata": {},
   "outputs": [],
   "source": [
    "def print_names():\n",
    "    yield 'Matthew'\n",
    "    yield 'Dandison'\n",
    "    yield 'Micheal'\n",
    "    yield 'Gian'\n",
    "    yield 'Caitlin'\n",
    "    yield 'Finn'"
   ]
  },
  {
   "cell_type": "code",
   "execution_count": 229,
   "id": "04c498a3",
   "metadata": {},
   "outputs": [],
   "source": [
    "g = print_names()"
   ]
  },
  {
   "cell_type": "code",
   "execution_count": 232,
   "id": "00a85797",
   "metadata": {},
   "outputs": [
    {
     "data": {
      "text/plain": [
       "'Micheal'"
      ]
     },
     "execution_count": 232,
     "metadata": {},
     "output_type": "execute_result"
    }
   ],
   "source": [
    "next(g) # result after running this command 3 times"
   ]
  },
  {
   "cell_type": "code",
   "execution_count": 234,
   "id": "a361b314",
   "metadata": {},
   "outputs": [
    {
     "data": {
      "text/plain": [
       "[]"
      ]
     },
     "execution_count": 234,
     "metadata": {},
     "output_type": "execute_result"
    }
   ],
   "source": [
    "list(g) # remaining items on the list"
   ]
  },
  {
   "cell_type": "markdown",
   "id": "c93f7228",
   "metadata": {},
   "source": [
    "## Comprehensions "
   ]
  },
  {
   "cell_type": "markdown",
   "id": "cbb6ce24",
   "metadata": {},
   "source": [
    "### List comprehensions\n",
    "\n",
    "List comprehensions give us an easy way to apply a function to all elements in an iterable object.\n",
    "\n",
    "Results are returned as a list, i.e. the comprehension pattern is enclosed by a pair of square `[]` brackets"
   ]
  },
  {
   "cell_type": "code",
   "execution_count": 235,
   "id": "6e4f4736",
   "metadata": {},
   "outputs": [
    {
     "name": "stdout",
     "output_type": "stream",
     "text": [
      "[20, 40, 60, 80, 100, 120, 140, 160, 180, 200]\n"
     ]
    }
   ],
   "source": [
    "# Multiply all numbers from 1 to 10 by 20 and store it in a list (long way)\n",
    "result = []\n",
    "for i in range(1,11):\n",
    "    result.append(i*20)\n",
    "print(result)"
   ]
  },
  {
   "cell_type": "code",
   "execution_count": 236,
   "id": "617a05de",
   "metadata": {},
   "outputs": [
    {
     "data": {
      "text/plain": [
       "[20, 40, 60, 80, 100, 120, 140, 160, 180, 200]"
      ]
     },
     "execution_count": 236,
     "metadata": {},
     "output_type": "execute_result"
    }
   ],
   "source": [
    "# List comprehension (short way)\n",
    "[i*20 for i in range (1,11)]"
   ]
  },
  {
   "cell_type": "markdown",
   "id": "dbdd8bbd",
   "metadata": {},
   "source": [
    "We can also use the `if` keyword for filtering (e.g. perform operation for only even numbers)"
   ]
  },
  {
   "cell_type": "code",
   "execution_count": 237,
   "id": "20999784",
   "metadata": {},
   "outputs": [
    {
     "data": {
      "text/plain": [
       "[40, 80, 120, 160, 200]"
      ]
     },
     "execution_count": 237,
     "metadata": {},
     "output_type": "execute_result"
    }
   ],
   "source": [
    "[i*20 for i in range (1,11) if i%2==0]"
   ]
  },
  {
   "cell_type": "markdown",
   "id": "fa8920ac",
   "metadata": {},
   "source": [
    "We can also apply a custom function to each element in this iterable object "
   ]
  },
  {
   "cell_type": "code",
   "execution_count": 238,
   "id": "b7c2f7c1",
   "metadata": {},
   "outputs": [],
   "source": [
    "def my_func(x):\n",
    "    return x**2 + 5*x + 6"
   ]
  },
  {
   "cell_type": "code",
   "execution_count": 239,
   "id": "3b7a3cb6",
   "metadata": {},
   "outputs": [
    {
     "name": "stdout",
     "output_type": "stream",
     "text": [
      "[12, 20, 30, 42, 56]\n"
     ]
    }
   ],
   "source": [
    "my_list = [my_func(x) for x in [1,2,3,4,5]]\n",
    "print(my_list)"
   ]
  },
  {
   "cell_type": "markdown",
   "id": "b46b7d49",
   "metadata": {},
   "source": [
    "#### Concept check"
   ]
  },
  {
   "cell_type": "code",
   "execution_count": 240,
   "id": "0492ee30",
   "metadata": {},
   "outputs": [
    {
     "data": {
      "text/plain": [
       "[203, 210, 217, 224, 231, 238, 245, 252, 259, 266, 273, 280, 287, 294]"
      ]
     },
     "execution_count": 240,
     "metadata": {},
     "output_type": "execute_result"
    }
   ],
   "source": [
    "[i for i in range (200,301) if i%7 == 0]"
   ]
  },
  {
   "cell_type": "markdown",
   "id": "c3b145c4",
   "metadata": {},
   "source": [
    "### Generator comprehensions\n",
    "\n",
    "Very similar to list comprehensions, except the results are returned as a generator rather than a list.\n",
    "\n",
    "We enclose the comprehension pattern with `()` rather than `[]`."
   ]
  },
  {
   "cell_type": "code",
   "execution_count": 243,
   "id": "9541cf04",
   "metadata": {},
   "outputs": [],
   "source": [
    "def squared(x):\n",
    "    return x**2"
   ]
  },
  {
   "cell_type": "code",
   "execution_count": 246,
   "id": "db4720a7",
   "metadata": {},
   "outputs": [],
   "source": [
    "g = (squared(num) for num in (1,2,3,4,5))"
   ]
  },
  {
   "cell_type": "code",
   "execution_count": 245,
   "id": "c3b010b3",
   "metadata": {},
   "outputs": [
    {
     "data": {
      "text/plain": [
       "[1, 4, 9, 16, 25]"
      ]
     },
     "execution_count": 245,
     "metadata": {},
     "output_type": "execute_result"
    }
   ],
   "source": [
    "list(g)"
   ]
  },
  {
   "cell_type": "code",
   "execution_count": 247,
   "id": "8ab3edf4",
   "metadata": {},
   "outputs": [
    {
     "name": "stdout",
     "output_type": "stream",
     "text": [
      "1\n",
      "4\n",
      "9\n",
      "16\n",
      "25\n"
     ]
    }
   ],
   "source": [
    "for num in g:\n",
    "    print(num)"
   ]
  },
  {
   "cell_type": "markdown",
   "id": "3470a001",
   "metadata": {},
   "source": [
    "## Lambda functions\n",
    "\n",
    "Lambda function are also known as anonymous functions. They are used for ad-hoc function definitions."
   ]
  },
  {
   "cell_type": "code",
   "execution_count": 248,
   "id": "33cdb208",
   "metadata": {},
   "outputs": [
    {
     "data": {
      "text/plain": [
       "27"
      ]
     },
     "execution_count": 248,
     "metadata": {},
     "output_type": "execute_result"
    }
   ],
   "source": [
    "# normal way to define a function\n",
    "def cube(x):\n",
    "    return x**3\n",
    "\n",
    "cube(3)"
   ]
  },
  {
   "cell_type": "code",
   "execution_count": 250,
   "id": "63baad3f",
   "metadata": {},
   "outputs": [
    {
     "data": {
      "text/plain": [
       "27"
      ]
     },
     "execution_count": 250,
     "metadata": {},
     "output_type": "execute_result"
    }
   ],
   "source": [
    "# The above can be written as a lambda function:\n",
    "cube = lambda x : x**3\n",
    "cube(3)"
   ]
  },
  {
   "cell_type": "code",
   "execution_count": 252,
   "id": "8378f38c",
   "metadata": {},
   "outputs": [
    {
     "name": "stdout",
     "output_type": "stream",
     "text": [
      "24.999735614983365\n",
      "The percentage difference between this method and the actual answer is -148.0026227271014%\n"
     ]
    }
   ],
   "source": [
    "func_key_time(lambda x : x**2 + 5*x + 6, 10)"
   ]
  },
  {
   "cell_type": "markdown",
   "id": "0751429b",
   "metadata": {},
   "source": [
    "You can also have multiple parameters in a lambda function"
   ]
  },
  {
   "cell_type": "code",
   "execution_count": 253,
   "id": "02f14486",
   "metadata": {},
   "outputs": [],
   "source": [
    "def power(x,y):\n",
    "    if y>0:\n",
    "        return x**y\n",
    "    else:\n",
    "        return None"
   ]
  },
  {
   "cell_type": "code",
   "execution_count": 257,
   "id": "3196d37b",
   "metadata": {},
   "outputs": [],
   "source": [
    "power_lambda = lambda x,y : x**y if y>0 else None"
   ]
  },
  {
   "cell_type": "markdown",
   "id": "f4c76363",
   "metadata": {},
   "source": [
    "`lamda <inputs> : <return_if_true> if <condition> else <return_if_false>`"
   ]
  },
  {
   "cell_type": "code",
   "execution_count": 258,
   "id": "f6e328f8",
   "metadata": {},
   "outputs": [
    {
     "data": {
      "text/plain": [
       "8"
      ]
     },
     "execution_count": 258,
     "metadata": {},
     "output_type": "execute_result"
    }
   ],
   "source": [
    "power_lambda(2,3)"
   ]
  },
  {
   "cell_type": "markdown",
   "id": "ff4873f4",
   "metadata": {},
   "source": [
    "## Other convenience functions\n",
    "\n",
    "- Zip\n",
    "- Map \n",
    "- Filter"
   ]
  },
  {
   "cell_type": "markdown",
   "id": "83084b5e",
   "metadata": {},
   "source": [
    "### Zip\n",
    "\n",
    "Zip function allows us to combine two (or more) collections into a collection of tuples\n",
    "- It provides us with a way of pairing together the elements from multiple iterables.\n",
    "- `zip` only works as far as the shortest iterable by length."
   ]
  },
  {
   "cell_type": "code",
   "execution_count": 310,
   "id": "07ee2b07",
   "metadata": {},
   "outputs": [],
   "source": [
    "name = ['Tony stark','Peter Parker','Bruce Banner','Steve Rogers']\n",
    "alias = ['Iron man', 'Spiderman', 'Hulk','Captain America']\n",
    "number = [1,2,3,4]"
   ]
  },
  {
   "cell_type": "code",
   "execution_count": 312,
   "id": "c3189124",
   "metadata": {},
   "outputs": [
    {
     "name": "stdout",
     "output_type": "stream",
     "text": [
      "[('Tony stark', 'Iron man'), ('Peter Parker', 'Spiderman'), ('Bruce Banner', 'Hulk'), ('Steve Rogers', 'Captain America')]\n"
     ]
    }
   ],
   "source": [
    "my_zip = list(zip(name,alias))\n",
    "print(my_zip)"
   ]
  },
  {
   "cell_type": "code",
   "execution_count": 273,
   "id": "e6f3e511",
   "metadata": {},
   "outputs": [
    {
     "name": "stdout",
     "output_type": "stream",
     "text": [
      "[('Tony stark', 'Iron man', 1), ('Peter Parker', 'Spiderman', 2), ('Bruce Banner', 'Hulk', 3), ('Steve Rogers', 'Captain America', 4)]\n"
     ]
    }
   ],
   "source": [
    "my_zip2 = list(zip(name,alias,number))\n",
    "print(my_zip2)"
   ]
  },
  {
   "cell_type": "markdown",
   "id": "3bc415d1",
   "metadata": {},
   "source": [
    "`zip` only works as far as the shortest iterable"
   ]
  },
  {
   "cell_type": "code",
   "execution_count": 260,
   "id": "b2051c81",
   "metadata": {},
   "outputs": [
    {
     "data": {
      "text/plain": [
       "[(2, 1), (4, 3), (6, 5)]"
      ]
     },
     "execution_count": 260,
     "metadata": {},
     "output_type": "execute_result"
    }
   ],
   "source": [
    "tuple_a = (2,4,6)\n",
    "tuple_b = (1,3,5,7)\n",
    "list(zip(tuple_a,tuple_b))"
   ]
  },
  {
   "cell_type": "markdown",
   "id": "cde37757",
   "metadata": {},
   "source": [
    "`zip` objects can be used directly for iteration"
   ]
  },
  {
   "cell_type": "code",
   "execution_count": 270,
   "id": "74180235",
   "metadata": {},
   "outputs": [
    {
     "name": "stdout",
     "output_type": "stream",
     "text": [
      "Tony stark is Iron man\n",
      "Peter Parker is Spiderman\n",
      "Bruce Banner is Hulk\n",
      "Steve Rogers is Captain America\n"
     ]
    }
   ],
   "source": [
    "for a,b in my_zip:\n",
    "    print(f'{a} is {b}')"
   ]
  },
  {
   "cell_type": "markdown",
   "id": "2a4483cf",
   "metadata": {},
   "source": [
    "You can also create a dictionary from a list of tuples"
   ]
  },
  {
   "cell_type": "code",
   "execution_count": 274,
   "id": "c63e33a5",
   "metadata": {},
   "outputs": [
    {
     "name": "stdout",
     "output_type": "stream",
     "text": [
      "{'Tony stark': 'Iron man', 'Peter Parker': 'Spiderman', 'Bruce Banner': 'Hulk', 'Steve Rogers': 'Captain America'}\n"
     ]
    }
   ],
   "source": [
    "my_dict = dict(zip(name,alias))\n",
    "print(my_dict)"
   ]
  },
  {
   "cell_type": "markdown",
   "id": "edd197aa",
   "metadata": {},
   "source": [
    "### Map \n",
    "The map function allows us to apply a function to each element in an iterable object, returning a generator-like object, that in turn can be iterated over."
   ]
  },
  {
   "cell_type": "code",
   "execution_count": 280,
   "id": "c51ca240",
   "metadata": {},
   "outputs": [],
   "source": [
    "my_list = [1,2,3,4,5]\n",
    "def square(x):\n",
    "    return x**2"
   ]
  },
  {
   "cell_type": "code",
   "execution_count": 285,
   "id": "74a85976",
   "metadata": {},
   "outputs": [],
   "source": [
    "my_map = map(square, my_list) # This returns a map object"
   ]
  },
  {
   "cell_type": "code",
   "execution_count": 282,
   "id": "56b43ed3",
   "metadata": {},
   "outputs": [
    {
     "data": {
      "text/plain": [
       "map"
      ]
     },
     "execution_count": 282,
     "metadata": {},
     "output_type": "execute_result"
    }
   ],
   "source": [
    "type(my_map)"
   ]
  },
  {
   "cell_type": "code",
   "execution_count": 283,
   "id": "47e4fc5a",
   "metadata": {},
   "outputs": [
    {
     "name": "stdout",
     "output_type": "stream",
     "text": [
      "1\n",
      "4\n",
      "9\n",
      "16\n",
      "25\n"
     ]
    }
   ],
   "source": [
    "for i in my_map:\n",
    "    print(i)"
   ]
  },
  {
   "cell_type": "code",
   "execution_count": 286,
   "id": "f9bd7737",
   "metadata": {},
   "outputs": [
    {
     "data": {
      "text/plain": [
       "[1, 4, 9, 16, 25]"
      ]
     },
     "execution_count": 286,
     "metadata": {},
     "output_type": "execute_result"
    }
   ],
   "source": [
    "list(my_map)"
   ]
  },
  {
   "cell_type": "markdown",
   "id": "42e3bc18",
   "metadata": {},
   "source": [
    "#### Concept check"
   ]
  },
  {
   "cell_type": "code",
   "execution_count": 287,
   "id": "ec8f7dec",
   "metadata": {},
   "outputs": [
    {
     "data": {
      "text/plain": [
       "[1.0, 1.4142135623730951, 1.7320508075688772, 2.0, 2.23606797749979]"
      ]
     },
     "execution_count": 287,
     "metadata": {},
     "output_type": "execute_result"
    }
   ],
   "source": [
    "list(map(lambda x: x**0.5, my_list))"
   ]
  },
  {
   "cell_type": "markdown",
   "id": "45b799c3",
   "metadata": {},
   "source": [
    "### Filter\n",
    "The filter function is used to filter an iterable object by condition"
   ]
  },
  {
   "cell_type": "code",
   "execution_count": 296,
   "id": "b3f8fced",
   "metadata": {},
   "outputs": [],
   "source": [
    "my_list = [1,2,3,4,5,6,7,8,9,10]\n",
    "my_filter = filter(lambda x : x%2==1,my_list)"
   ]
  },
  {
   "cell_type": "code",
   "execution_count": 293,
   "id": "0d352568",
   "metadata": {},
   "outputs": [
    {
     "data": {
      "text/plain": [
       "filter"
      ]
     },
     "execution_count": 293,
     "metadata": {},
     "output_type": "execute_result"
    }
   ],
   "source": [
    "type(my_filter)"
   ]
  },
  {
   "cell_type": "code",
   "execution_count": 294,
   "id": "6c35efd3",
   "metadata": {},
   "outputs": [
    {
     "name": "stdout",
     "output_type": "stream",
     "text": [
      "1\n",
      "3\n",
      "5\n",
      "7\n",
      "9\n"
     ]
    }
   ],
   "source": [
    "for i in my_filter:\n",
    "    print(i)"
   ]
  },
  {
   "cell_type": "code",
   "execution_count": 297,
   "id": "0a3932e4",
   "metadata": {},
   "outputs": [
    {
     "data": {
      "text/plain": [
       "[1, 3, 5, 7, 9]"
      ]
     },
     "execution_count": 297,
     "metadata": {},
     "output_type": "execute_result"
    }
   ],
   "source": [
    "list(my_filter)"
   ]
  }
 ],
 "metadata": {
  "kernelspec": {
   "display_name": "Python 3",
   "language": "python",
   "name": "python3"
  },
  "language_info": {
   "codemirror_mode": {
    "name": "ipython",
    "version": 3
   },
   "file_extension": ".py",
   "mimetype": "text/x-python",
   "name": "python",
   "nbconvert_exporter": "python",
   "pygments_lexer": "ipython3",
   "version": "3.8.8"
  },
  "toc": {
   "base_numbering": 1,
   "nav_menu": {},
   "number_sections": true,
   "sideBar": true,
   "skip_h1_title": false,
   "title_cell": "Table of Contents",
   "title_sidebar": "Contents",
   "toc_cell": false,
   "toc_position": {},
   "toc_section_display": true,
   "toc_window_display": false
  }
 },
 "nbformat": 4,
 "nbformat_minor": 5
}
