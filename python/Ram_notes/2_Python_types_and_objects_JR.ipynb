{
 "cells": [
  {
   "cell_type": "markdown",
   "id": "892ae8b7",
   "metadata": {},
   "source": [
    "# Introduction and Terminology"
   ]
  },
  {
   "cell_type": "markdown",
   "id": "8ad157d3",
   "metadata": {},
   "source": [
    "## Object - Identity, Type and Value\n",
    "\n",
    "Every piece of data in python is an object. Each object has the following:\n",
    "\n",
    " - An identity (id)\n",
    " - A type\n",
    " - A value\n",
    "\n",
    "When an object is created, its ID and type cannot be changed.\n",
    "\n",
    "The id of an object can be returned using  the in-built function `id`.\n"
   ]
  },
  {
   "cell_type": "code",
   "execution_count": 1,
   "id": "441f3a5d",
   "metadata": {},
   "outputs": [
    {
     "name": "stdout",
     "output_type": "stream",
     "text": [
      "140716918384720\n"
     ]
    }
   ],
   "source": [
    "x = 10\n",
    "print(id(x))"
   ]
  },
  {
   "cell_type": "code",
   "execution_count": 2,
   "id": "bdad2618",
   "metadata": {},
   "outputs": [
    {
     "name": "stdout",
     "output_type": "stream",
     "text": [
      "140716918385040\n"
     ]
    }
   ],
   "source": [
    "y = 20\n",
    "print((id(y)))"
   ]
  },
  {
   "cell_type": "code",
   "execution_count": 3,
   "id": "0f2ca0a2",
   "metadata": {},
   "outputs": [
    {
     "name": "stdout",
     "output_type": "stream",
     "text": [
      "140716918384880\n"
     ]
    }
   ],
   "source": [
    "x = x+5\n",
    "print (id(x)) # id of this int variable changes when the value is changed "
   ]
  },
  {
   "cell_type": "markdown",
   "id": "b0242b31",
   "metadata": {},
   "source": [
    "The type of an object can be returned using the in-built function `type`."
   ]
  },
  {
   "cell_type": "code",
   "execution_count": 4,
   "id": "26585763",
   "metadata": {},
   "outputs": [
    {
     "data": {
      "text/plain": [
       "int"
      ]
     },
     "execution_count": 4,
     "metadata": {},
     "output_type": "execute_result"
    }
   ],
   "source": [
    "type(x)"
   ]
  },
  {
   "cell_type": "code",
   "execution_count": 5,
   "id": "aa1a35ac",
   "metadata": {},
   "outputs": [],
   "source": [
    "def print_id_type(var):\n",
    "    '''\n",
    "    Function to print out id and type of variable 'var'\n",
    "    '''\n",
    "    print(f'id of the variable is {id(var)}')\n",
    "    print(f'type of the variable is {type(var)}')"
   ]
  },
  {
   "cell_type": "code",
   "execution_count": 6,
   "id": "0a80cb7e",
   "metadata": {},
   "outputs": [
    {
     "name": "stdout",
     "output_type": "stream",
     "text": [
      "id of the variable is 140716918384880\n",
      "type of the variable is <class 'int'>\n"
     ]
    }
   ],
   "source": [
    "print_id_type(x)"
   ]
  },
  {
   "cell_type": "code",
   "execution_count": 7,
   "id": "0c42ed1f",
   "metadata": {},
   "outputs": [
    {
     "name": "stdout",
     "output_type": "stream",
     "text": [
      "id of the variable is 2607709382464\n",
      "type of the variable is <class 'list'>\n"
     ]
    }
   ],
   "source": [
    "x = [1,2,3]\n",
    "y = [1,2,3]\n",
    "\n",
    "print_id_type(x)"
   ]
  },
  {
   "cell_type": "code",
   "execution_count": 8,
   "id": "dd872574",
   "metadata": {},
   "outputs": [
    {
     "name": "stdout",
     "output_type": "stream",
     "text": [
      "x and y have different ids\n"
     ]
    }
   ],
   "source": [
    "if id(x) == id(y):\n",
    "    print('x and y have the same id')\n",
    "else:\n",
    "    print('x and y have different ids')"
   ]
  },
  {
   "cell_type": "code",
   "execution_count": 14,
   "id": "3277f16d",
   "metadata": {},
   "outputs": [
    {
     "name": "stdout",
     "output_type": "stream",
     "text": [
      "x and y have the same id\n"
     ]
    }
   ],
   "source": [
    "x = [1,2,3]\n",
    "y = x\n",
    "if id(x) == id(y):\n",
    "    print('x and y have the same id')\n",
    "else:\n",
    "    print('x and y have different ids')"
   ]
  },
  {
   "cell_type": "code",
   "execution_count": 15,
   "id": "1e6abe82",
   "metadata": {},
   "outputs": [
    {
     "name": "stdout",
     "output_type": "stream",
     "text": [
      "[1, 2, 3, 4]\n",
      "[1, 2, 3, 4]\n"
     ]
    }
   ],
   "source": [
    "x.append(4)\n",
    "print(x)\n",
    "print(y) # the value of y also changes with x without having to explicitly change it"
   ]
  },
  {
   "cell_type": "markdown",
   "id": "6431e835",
   "metadata": {},
   "source": [
    "### Mutability and Immutability\n",
    "\n",
    "If an objects value can be changed, it is mutable. Otherwise, it is immutable. <br/>\n",
    "Examples of mutable objects are lists, sets and dictionaries. This means that multiple references to the same object will reflect changes made by any of the references.\n",
    "\n",
    "Examples of immutable objects are Tuples, ints, floats and strings. This means that multiple references to the same object will then refer to different objects, should any of them change."
   ]
  },
  {
   "cell_type": "code",
   "execution_count": 16,
   "id": "bd15d094",
   "metadata": {},
   "outputs": [
    {
     "name": "stdout",
     "output_type": "stream",
     "text": [
      "x and y have the same id\n"
     ]
    }
   ],
   "source": [
    "x = [1,2,3]\n",
    "y = x\n",
    "if id(x) == id(y):\n",
    "    print('x and y have the same id')\n",
    "else:\n",
    "    print('x and y have different ids')"
   ]
  },
  {
   "cell_type": "markdown",
   "id": "7b286661",
   "metadata": {},
   "source": [
    "### Concept check\n",
    "\n",
    "1. 10\n",
    "2. [1]\n",
    "3. 11\n",
    "4. 10\n",
    "5. 10\n",
    "6. 20"
   ]
  },
  {
   "cell_type": "markdown",
   "id": "7b47715f",
   "metadata": {},
   "source": [
    "### References and copies\n",
    "\n",
    "When you use the assignment operator e.g. var1 = var2, a new reference to var2 is created. <br/>\n",
    "if var2 is immutable, this effectively creates a copy of var2. If var2 is mutable, then the reference is copied."
   ]
  },
  {
   "cell_type": "markdown",
   "id": "6619d348",
   "metadata": {},
   "source": [
    "Immuatble example"
   ]
  },
  {
   "cell_type": "code",
   "execution_count": 25,
   "id": "0bbc51d4",
   "metadata": {},
   "outputs": [
    {
     "name": "stdout",
     "output_type": "stream",
     "text": [
      "5\n"
     ]
    }
   ],
   "source": [
    "a = 5\n",
    "b = a \n",
    "a = 6\n",
    "# here, b is not affected\n",
    "print(b)"
   ]
  },
  {
   "cell_type": "markdown",
   "id": "8c397011",
   "metadata": {},
   "source": [
    "Mutable example"
   ]
  },
  {
   "cell_type": "code",
   "execution_count": 26,
   "id": "eeca6698",
   "metadata": {},
   "outputs": [
    {
     "name": "stdout",
     "output_type": "stream",
     "text": [
      "[5, 6, 7, 8]\n"
     ]
    }
   ],
   "source": [
    "a = [5,6,7]\n",
    "b = a\n",
    "a.append(8)\n",
    "# here, b is affected\n",
    "print(b)"
   ]
  },
  {
   "cell_type": "markdown",
   "id": "539ae216",
   "metadata": {},
   "source": [
    "### Reference counting\n",
    "\n",
    "Python keeps track of the number of references for each object. We can get the count by using `sys.getrefcount()`.\n",
    "\n",
    "If we need to delete objects, we use the `del` keyword."
   ]
  },
  {
   "cell_type": "code",
   "execution_count": 30,
   "id": "dfcd6896",
   "metadata": {},
   "outputs": [
    {
     "data": {
      "text/plain": [
       "2"
      ]
     },
     "execution_count": 30,
     "metadata": {},
     "output_type": "execute_result"
    }
   ],
   "source": [
    "import sys\n",
    "a = []\n",
    "sys.getrefcount(a)"
   ]
  },
  {
   "cell_type": "code",
   "execution_count": 31,
   "id": "68f650f1",
   "metadata": {},
   "outputs": [
    {
     "data": {
      "text/plain": [
       "5"
      ]
     },
     "execution_count": 31,
     "metadata": {},
     "output_type": "execute_result"
    }
   ],
   "source": [
    "b = a \n",
    "c = a\n",
    "d = a\n",
    "sys.getrefcount(a)"
   ]
  },
  {
   "cell_type": "code",
   "execution_count": 32,
   "id": "ef771880",
   "metadata": {},
   "outputs": [
    {
     "data": {
      "text/plain": [
       "4"
      ]
     },
     "execution_count": 32,
     "metadata": {},
     "output_type": "execute_result"
    }
   ],
   "source": [
    "del c\n",
    "sys.getrefcount(a)"
   ]
  },
  {
   "cell_type": "code",
   "execution_count": 33,
   "id": "35b98d74",
   "metadata": {},
   "outputs": [
    {
     "data": {
      "text/plain": [
       "3"
      ]
     },
     "execution_count": 33,
     "metadata": {},
     "output_type": "execute_result"
    }
   ],
   "source": [
    "del d\n",
    "sys.getrefcount(a)"
   ]
  },
  {
   "cell_type": "markdown",
   "id": "1e2dad05",
   "metadata": {},
   "source": [
    "### Comparing Objects\n",
    "\n",
    "- `==` operator compares the value of two objects\n",
    "- `is` operator compares the ids of two objects"
   ]
  },
  {
   "cell_type": "code",
   "execution_count": 34,
   "id": "24787764",
   "metadata": {},
   "outputs": [],
   "source": [
    "a = [1,2,3]\n",
    "b = [1,2,3]"
   ]
  },
  {
   "cell_type": "code",
   "execution_count": 35,
   "id": "efdcc0e0",
   "metadata": {},
   "outputs": [
    {
     "data": {
      "text/plain": [
       "True"
      ]
     },
     "execution_count": 35,
     "metadata": {},
     "output_type": "execute_result"
    }
   ],
   "source": [
    "a == b"
   ]
  },
  {
   "cell_type": "code",
   "execution_count": 36,
   "id": "220cd4d6",
   "metadata": {},
   "outputs": [
    {
     "data": {
      "text/plain": [
       "False"
      ]
     },
     "execution_count": 36,
     "metadata": {},
     "output_type": "execute_result"
    }
   ],
   "source": [
    "a is b"
   ]
  },
  {
   "cell_type": "code",
   "execution_count": 37,
   "id": "aa4f503d",
   "metadata": {},
   "outputs": [
    {
     "name": "stdout",
     "output_type": "stream",
     "text": [
      "2607725324736\n",
      "2607725254400\n"
     ]
    }
   ],
   "source": [
    "print(id(a))\n",
    "print(id(b))"
   ]
  },
  {
   "cell_type": "code",
   "execution_count": 38,
   "id": "09854709",
   "metadata": {},
   "outputs": [],
   "source": [
    "c = ['a','b','d']\n",
    "d = c"
   ]
  },
  {
   "cell_type": "code",
   "execution_count": 39,
   "id": "40aef05c",
   "metadata": {},
   "outputs": [
    {
     "data": {
      "text/plain": [
       "True"
      ]
     },
     "execution_count": 39,
     "metadata": {},
     "output_type": "execute_result"
    }
   ],
   "source": [
    "c == d"
   ]
  },
  {
   "cell_type": "code",
   "execution_count": 40,
   "id": "46a2c873",
   "metadata": {},
   "outputs": [
    {
     "data": {
      "text/plain": [
       "True"
      ]
     },
     "execution_count": 40,
     "metadata": {},
     "output_type": "execute_result"
    }
   ],
   "source": [
    "c is d"
   ]
  },
  {
   "cell_type": "code",
   "execution_count": 41,
   "id": "a4ea2a40",
   "metadata": {},
   "outputs": [
    {
     "name": "stdout",
     "output_type": "stream",
     "text": [
      "2607725379392\n",
      "2607725379392\n"
     ]
    }
   ],
   "source": [
    "print(id(c))\n",
    "print(id(d))"
   ]
  },
  {
   "cell_type": "markdown",
   "id": "edf1783a",
   "metadata": {},
   "source": [
    "## First class objects\n",
    "\n",
    "In python, all objects are said to be 'first class'. What this means is that all variables have equal status. The objects can be treated like data and can be included in collections, arguements, named variables, etc."
   ]
  },
  {
   "cell_type": "code",
   "execution_count": 43,
   "id": "65733aac",
   "metadata": {},
   "outputs": [],
   "source": [
    "my_list = ['a', 123, 1.5,[],{'key1':'value1'}, set([1,2,3]), print_id_type, sys]"
   ]
  },
  {
   "cell_type": "code",
   "execution_count": 44,
   "id": "a1a69482",
   "metadata": {},
   "outputs": [
    {
     "name": "stdout",
     "output_type": "stream",
     "text": [
      "['a', 123, 1.5, [], {'key1': 'value1'}, {1, 2, 3}, <function print_id_type at 0x0000025F2795A8B0>, <module 'sys' (built-in)>]\n"
     ]
    }
   ],
   "source": [
    "print(my_list)"
   ]
  },
  {
   "cell_type": "code",
   "execution_count": 45,
   "id": "1c966c83",
   "metadata": {},
   "outputs": [],
   "source": [
    "# Example: Pass one function as an arguement into another function\n",
    "def run_this_function(function_to_run, first_arguement):\n",
    "    return function_to_run(first_arguement)"
   ]
  },
  {
   "cell_type": "code",
   "execution_count": 46,
   "id": "b9543e8c",
   "metadata": {},
   "outputs": [
    {
     "name": "stdout",
     "output_type": "stream",
     "text": [
      "Hello World!\n"
     ]
    }
   ],
   "source": [
    "run_this_function(print,'Hello World!')"
   ]
  },
  {
   "cell_type": "code",
   "execution_count": 47,
   "id": "70ce7319",
   "metadata": {},
   "outputs": [
    {
     "data": {
      "text/plain": [
       "[1, 2, 3]"
      ]
     },
     "execution_count": 47,
     "metadata": {},
     "output_type": "execute_result"
    }
   ],
   "source": [
    "run_this_function(list,{1,2,3}) # list({1,2,3})"
   ]
  },
  {
   "cell_type": "markdown",
   "id": "e9256b28",
   "metadata": {},
   "source": [
    "# Built-in types for representing data\n",
    "\n",
    "In python, data falls under different categories:\n",
    "- None\n",
    "- Numbers (int, float, complex, bool)\n",
    "- Sequences (list, tuple, string)\n",
    "- Mappings (dict)\n",
    "- Sets (set, frozenset)"
   ]
  },
  {
   "cell_type": "markdown",
   "id": "8fa88262",
   "metadata": {},
   "source": [
    "## None\n",
    "\n",
    "The `None` object is used to represent null values"
   ]
  },
  {
   "cell_type": "code",
   "execution_count": 48,
   "id": "20b8a204",
   "metadata": {},
   "outputs": [
    {
     "name": "stdout",
     "output_type": "stream",
     "text": [
      "my_var has a null value\n"
     ]
    }
   ],
   "source": [
    "my_var = None \n",
    "if my_var is None:\n",
    "    print('my_var has a null value')"
   ]
  },
  {
   "cell_type": "code",
   "execution_count": 49,
   "id": "eb639c2c",
   "metadata": {},
   "outputs": [],
   "source": [
    "def multiply(a,b):\n",
    "    return a*b"
   ]
  },
  {
   "cell_type": "code",
   "execution_count": 50,
   "id": "d8c20547",
   "metadata": {},
   "outputs": [
    {
     "name": "stdout",
     "output_type": "stream",
     "text": [
      "50\n"
     ]
    }
   ],
   "source": [
    "c = multiply(10,5)\n",
    "print(c)"
   ]
  },
  {
   "cell_type": "code",
   "execution_count": 51,
   "id": "4b972689",
   "metadata": {},
   "outputs": [],
   "source": [
    "def multiply(a,b):\n",
    "    print(a*b)"
   ]
  },
  {
   "cell_type": "code",
   "execution_count": 52,
   "id": "0de65d05",
   "metadata": {},
   "outputs": [
    {
     "name": "stdout",
     "output_type": "stream",
     "text": [
      "50\n"
     ]
    }
   ],
   "source": [
    "c = multiply(10,5)"
   ]
  },
  {
   "cell_type": "code",
   "execution_count": 53,
   "id": "2e266de5",
   "metadata": {},
   "outputs": [
    {
     "name": "stdout",
     "output_type": "stream",
     "text": [
      "None\n"
     ]
    }
   ],
   "source": [
    "print(c)"
   ]
  },
  {
   "cell_type": "markdown",
   "id": "3dfe1597",
   "metadata": {},
   "source": [
    "## Numbers\n",
    "\n",
    "We can perform arithmetic operations on different types of numbers"
   ]
  },
  {
   "cell_type": "markdown",
   "id": "c952e2d4",
   "metadata": {},
   "source": [
    "### Integers"
   ]
  },
  {
   "cell_type": "code",
   "execution_count": 54,
   "id": "4d45c7e1",
   "metadata": {},
   "outputs": [
    {
     "name": "stdout",
     "output_type": "stream",
     "text": [
      "9\n",
      "<class 'int'>\n"
     ]
    }
   ],
   "source": [
    "# int + int: returns int (same for subtraction and multiplication)\n",
    "print(5+4)\n",
    "print(type(5+4))"
   ]
  },
  {
   "cell_type": "code",
   "execution_count": 56,
   "id": "a10e7a4c",
   "metadata": {},
   "outputs": [
    {
     "name": "stdout",
     "output_type": "stream",
     "text": [
      "1.0\n",
      "<class 'float'>\n"
     ]
    }
   ],
   "source": [
    "# int / int: returns float\n",
    "print(5/5)\n",
    "print(type(5/5))"
   ]
  },
  {
   "cell_type": "code",
   "execution_count": 249,
   "id": "dc9b395e",
   "metadata": {},
   "outputs": [
    {
     "name": "stdout",
     "output_type": "stream",
     "text": [
      "2\n",
      "<class 'int'>\n"
     ]
    }
   ],
   "source": [
    "# floor division\n",
    "print(9//4)\n",
    "print(type(5//4))"
   ]
  },
  {
   "cell_type": "code",
   "execution_count": 59,
   "id": "da0e228c",
   "metadata": {},
   "outputs": [
    {
     "data": {
      "text/plain": [
       "4"
      ]
     },
     "execution_count": 59,
     "metadata": {},
     "output_type": "execute_result"
    }
   ],
   "source": [
    "# module (percent sign)\n",
    "14%5"
   ]
  },
  {
   "cell_type": "markdown",
   "id": "34d8a874",
   "metadata": {},
   "source": [
    "### Floating point numbers"
   ]
  },
  {
   "cell_type": "code",
   "execution_count": 61,
   "id": "70dbc967",
   "metadata": {},
   "outputs": [
    {
     "name": "stdout",
     "output_type": "stream",
     "text": [
      "210.0\n",
      "<class 'float'>\n"
     ]
    }
   ],
   "source": [
    "# float * int : returns float\n",
    "print(10.5*20)\n",
    "print(type(10.5*20))"
   ]
  },
  {
   "cell_type": "markdown",
   "id": "b0c1b82b",
   "metadata": {},
   "source": [
    "### Boolean\n",
    "\n",
    "`True` or `False`, numerically equivalent to 1 and 0 respectively."
   ]
  },
  {
   "cell_type": "code",
   "execution_count": 65,
   "id": "cc16e0cf",
   "metadata": {},
   "outputs": [
    {
     "data": {
      "text/plain": [
       "str"
      ]
     },
     "execution_count": 65,
     "metadata": {},
     "output_type": "execute_result"
    }
   ],
   "source": [
    "type('True') # not boolean"
   ]
  },
  {
   "cell_type": "code",
   "execution_count": 66,
   "id": "f631c34b",
   "metadata": {},
   "outputs": [
    {
     "data": {
      "text/plain": [
       "bool"
      ]
     },
     "execution_count": 66,
     "metadata": {},
     "output_type": "execute_result"
    }
   ],
   "source": [
    "type(True) # Boolean"
   ]
  },
  {
   "cell_type": "code",
   "execution_count": 67,
   "id": "3144adb7",
   "metadata": {},
   "outputs": [
    {
     "data": {
      "text/plain": [
       "int"
      ]
     },
     "execution_count": 67,
     "metadata": {},
     "output_type": "execute_result"
    }
   ],
   "source": [
    "type(True - False)"
   ]
  },
  {
   "cell_type": "code",
   "execution_count": 68,
   "id": "7c0b5056",
   "metadata": {},
   "outputs": [
    {
     "data": {
      "text/plain": [
       "3"
      ]
     },
     "execution_count": 68,
     "metadata": {},
     "output_type": "execute_result"
    }
   ],
   "source": [
    "True - False + True + True"
   ]
  },
  {
   "cell_type": "markdown",
   "id": "40e7649e",
   "metadata": {},
   "source": [
    "## Sequences\n",
    "\n",
    "Sequences can be indexed using non-negative numbers (i.e. starting from 0). Examples of sequences are lists, tuples and strings. All sequences support indexing, slicing and iteration.\n",
    "\n",
    "Operations on sequences include:\n",
    "- Concatenation (`+`)\n",
    "- Copying (`*`)\n",
    "- Slicing"
   ]
  },
  {
   "cell_type": "markdown",
   "id": "924a78a4",
   "metadata": {},
   "source": [
    "### Concatenation "
   ]
  },
  {
   "cell_type": "code",
   "execution_count": 70,
   "id": "adba8d2a",
   "metadata": {},
   "outputs": [
    {
     "data": {
      "text/plain": [
       "[1, 2, 3, 'a', 'b', 'c']"
      ]
     },
     "execution_count": 70,
     "metadata": {},
     "output_type": "execute_result"
    }
   ],
   "source": [
    "list_1 = [1,2,3]\n",
    "list_2 = ['a','b','c']\n",
    "list_1 + list_2"
   ]
  },
  {
   "cell_type": "code",
   "execution_count": 72,
   "id": "09c4fe90",
   "metadata": {},
   "outputs": [
    {
     "data": {
      "text/plain": [
       "'Hello World'"
      ]
     },
     "execution_count": 72,
     "metadata": {},
     "output_type": "execute_result"
    }
   ],
   "source": [
    "str1 = 'Hello '\n",
    "str2 = 'World'\n",
    "str1 + str2"
   ]
  },
  {
   "cell_type": "markdown",
   "id": "6750ab49",
   "metadata": {},
   "source": [
    "### Copying"
   ]
  },
  {
   "cell_type": "code",
   "execution_count": 74,
   "id": "f5a2b4d1",
   "metadata": {},
   "outputs": [
    {
     "data": {
      "text/plain": [
       "[1, 2, 3, 1, 2, 3]"
      ]
     },
     "execution_count": 74,
     "metadata": {},
     "output_type": "execute_result"
    }
   ],
   "source": [
    "list_1 = [1,2,3]\n",
    "list_1*2"
   ]
  },
  {
   "cell_type": "code",
   "execution_count": 75,
   "id": "c97442fb",
   "metadata": {},
   "outputs": [
    {
     "data": {
      "text/plain": [
       "('a', 'b', 'c', 'a', 'b', 'c', 'a', 'b', 'c', 'a', 'b', 'c')"
      ]
     },
     "execution_count": 75,
     "metadata": {},
     "output_type": "execute_result"
    }
   ],
   "source": [
    "tuple_1 = ('a','b','c')\n",
    "tuple_1*4"
   ]
  },
  {
   "cell_type": "code",
   "execution_count": 77,
   "id": "84f3ecdd",
   "metadata": {},
   "outputs": [
    {
     "data": {
      "text/plain": [
       "'bake off bake off bake off '"
      ]
     },
     "execution_count": 77,
     "metadata": {},
     "output_type": "execute_result"
    }
   ],
   "source": [
    "str_1 = 'bake off '\n",
    "str_1*3"
   ]
  },
  {
   "cell_type": "markdown",
   "id": "847d4d72",
   "metadata": {},
   "source": [
    "### Indexing"
   ]
  },
  {
   "cell_type": "code",
   "execution_count": 78,
   "id": "7fc5a8e2",
   "metadata": {},
   "outputs": [
    {
     "data": {
      "text/plain": [
       "2"
      ]
     },
     "execution_count": 78,
     "metadata": {},
     "output_type": "execute_result"
    }
   ],
   "source": [
    "list_1 = [1,2,3]\n",
    "list_1[1] # -> indexing starts from 0"
   ]
  },
  {
   "cell_type": "code",
   "execution_count": 235,
   "id": "3298f4f3",
   "metadata": {},
   "outputs": [
    {
     "data": {
      "text/plain": [
       "'W'"
      ]
     },
     "execution_count": 235,
     "metadata": {},
     "output_type": "execute_result"
    }
   ],
   "source": [
    "my_str = 'HelloWorld'\n",
    "my_str[5]"
   ]
  },
  {
   "cell_type": "markdown",
   "id": "603dd08a",
   "metadata": {},
   "source": [
    "### Slicing\n",
    "\n",
    "Slicing is done by `[start:stop]`"
   ]
  },
  {
   "cell_type": "code",
   "execution_count": 88,
   "id": "2052ae53",
   "metadata": {},
   "outputs": [
    {
     "data": {
      "text/plain": [
       "'Hello'"
      ]
     },
     "execution_count": 88,
     "metadata": {},
     "output_type": "execute_result"
    }
   ],
   "source": [
    "my_str = 'HelloWorld'\n",
    "my_str[0:5]"
   ]
  },
  {
   "cell_type": "code",
   "execution_count": 81,
   "id": "4ff6c25b",
   "metadata": {},
   "outputs": [
    {
     "data": {
      "text/plain": [
       "'loWo'"
      ]
     },
     "execution_count": 81,
     "metadata": {},
     "output_type": "execute_result"
    }
   ],
   "source": [
    "my_str[3:7]"
   ]
  },
  {
   "cell_type": "markdown",
   "id": "ace3a733",
   "metadata": {},
   "source": [
    "You can also include a `step` given by `[start:stop:step]` to slice every n'th element from the sequence (assuming your step is n)"
   ]
  },
  {
   "cell_type": "code",
   "execution_count": 82,
   "id": "e33bc8a3",
   "metadata": {},
   "outputs": [
    {
     "data": {
      "text/plain": [
       "'Hloo'"
      ]
     },
     "execution_count": 82,
     "metadata": {},
     "output_type": "execute_result"
    }
   ],
   "source": [
    "my_str[0:7:2]"
   ]
  },
  {
   "cell_type": "code",
   "execution_count": 89,
   "id": "365dfb6d",
   "metadata": {},
   "outputs": [
    {
     "data": {
      "text/plain": [
       "'eo'"
      ]
     },
     "execution_count": 89,
     "metadata": {},
     "output_type": "execute_result"
    }
   ],
   "source": [
    "my_str[1:6:3]"
   ]
  },
  {
   "cell_type": "markdown",
   "id": "25d9abd5",
   "metadata": {},
   "source": [
    "You can also omit `start` and/or `stop`"
   ]
  },
  {
   "cell_type": "code",
   "execution_count": 90,
   "id": "e2513007",
   "metadata": {},
   "outputs": [
    {
     "data": {
      "text/plain": [
       "'Wrd'"
      ]
     },
     "execution_count": 90,
     "metadata": {},
     "output_type": "execute_result"
    }
   ],
   "source": [
    "my_str[5::2]"
   ]
  },
  {
   "cell_type": "code",
   "execution_count": 91,
   "id": "2fe2830d",
   "metadata": {},
   "outputs": [
    {
     "data": {
      "text/plain": [
       "'Hlool'"
      ]
     },
     "execution_count": 91,
     "metadata": {},
     "output_type": "execute_result"
    }
   ],
   "source": [
    "my_str[::2]"
   ]
  },
  {
   "cell_type": "markdown",
   "id": "be67b66d",
   "metadata": {},
   "source": [
    "You can also use negative indices. Negative indices count from the back of the sequence."
   ]
  },
  {
   "cell_type": "code",
   "execution_count": 92,
   "id": "53f7f535",
   "metadata": {},
   "outputs": [
    {
     "data": {
      "text/plain": [
       "'d'"
      ]
     },
     "execution_count": 92,
     "metadata": {},
     "output_type": "execute_result"
    }
   ],
   "source": [
    "my_str[-1]"
   ]
  },
  {
   "cell_type": "code",
   "execution_count": 93,
   "id": "e84caf7f",
   "metadata": {},
   "outputs": [
    {
     "data": {
      "text/plain": [
       "'roWolleH'"
      ]
     },
     "execution_count": 93,
     "metadata": {},
     "output_type": "execute_result"
    }
   ],
   "source": [
    "my_str[-3::-1]"
   ]
  },
  {
   "cell_type": "markdown",
   "id": "c1bbfb96",
   "metadata": {},
   "source": [
    "Reversing a sequence using a negative step"
   ]
  },
  {
   "cell_type": "code",
   "execution_count": 94,
   "id": "cd2fd090",
   "metadata": {},
   "outputs": [
    {
     "data": {
      "text/plain": [
       "'20EC'"
      ]
     },
     "execution_count": 94,
     "metadata": {},
     "output_type": "execute_result"
    }
   ],
   "source": [
    "my_str = 'CE02'\n",
    "my_str[::-1]"
   ]
  },
  {
   "cell_type": "markdown",
   "id": "dee7b77e",
   "metadata": {},
   "source": [
    "All of the above also works with other sequences, e.g. lists"
   ]
  },
  {
   "cell_type": "code",
   "execution_count": 95,
   "id": "1757cd8f",
   "metadata": {},
   "outputs": [
    {
     "data": {
      "text/plain": [
       "['b', 'a', 6, 5, 4, 3, 2, 1]"
      ]
     },
     "execution_count": 95,
     "metadata": {},
     "output_type": "execute_result"
    }
   ],
   "source": [
    "my_list = [1,2,3,4,5,6,'a','b']\n",
    "my_list[::-1]"
   ]
  },
  {
   "cell_type": "markdown",
   "id": "069f2286",
   "metadata": {},
   "source": [
    "#### Concept check"
   ]
  },
  {
   "cell_type": "code",
   "execution_count": 96,
   "id": "cb43718a",
   "metadata": {},
   "outputs": [],
   "source": [
    "my_activities = ['Football', 'Gaming', 'Sleeping']\n",
    "friend_activities = ['Running', 'Badminton', 'Being a knob']"
   ]
  },
  {
   "cell_type": "code",
   "execution_count": 106,
   "id": "16b28a51",
   "metadata": {},
   "outputs": [],
   "source": [
    "combined_list = my_activities + friend_activities"
   ]
  },
  {
   "cell_type": "code",
   "execution_count": 101,
   "id": "987707d3",
   "metadata": {},
   "outputs": [
    {
     "name": "stdout",
     "output_type": "stream",
     "text": [
      "['Football', 'Gaming', 'Sleeping', 'Football', 'Gaming', 'Sleeping', 'Football', 'Gaming', 'Sleeping']\n"
     ]
    }
   ],
   "source": [
    "combined_list_x3 = my_activities*3\n",
    "print(combined_list_x3)"
   ]
  },
  {
   "cell_type": "code",
   "execution_count": 102,
   "id": "702ab1b3",
   "metadata": {},
   "outputs": [
    {
     "name": "stdout",
     "output_type": "stream",
     "text": [
      "2607726392384\n",
      "2607725014016\n"
     ]
    }
   ],
   "source": [
    "print(id(my_activities))\n",
    "print(id(combined_list_x3))"
   ]
  },
  {
   "cell_type": "code",
   "execution_count": 107,
   "id": "3abd2ed5",
   "metadata": {},
   "outputs": [
    {
     "data": {
      "text/plain": [
       "['Running', 'Badminton', 'Being a knob']"
      ]
     },
     "execution_count": 107,
     "metadata": {},
     "output_type": "execute_result"
    }
   ],
   "source": [
    "combined_list[-3::]"
   ]
  },
  {
   "cell_type": "markdown",
   "id": "39620fad",
   "metadata": {},
   "source": [
    "### Membership (`in` operator)"
   ]
  },
  {
   "cell_type": "code",
   "execution_count": 109,
   "id": "2995c119",
   "metadata": {},
   "outputs": [
    {
     "name": "stdout",
     "output_type": "stream",
     "text": [
      "brick is in Kubrick Group\n"
     ]
    }
   ],
   "source": [
    "my_str = 'Kubrick Group'\n",
    "if 'brick' in my_str:\n",
    "    print('brick is in Kubrick Group')"
   ]
  },
  {
   "cell_type": "code",
   "execution_count": 110,
   "id": "42dbebf8",
   "metadata": {},
   "outputs": [
    {
     "name": "stdout",
     "output_type": "stream",
     "text": [
      "text is not in Kubrick Group\n"
     ]
    }
   ],
   "source": [
    "if 'text' not in my_str:\n",
    "    print('text is not in Kubrick Group')"
   ]
  },
  {
   "cell_type": "markdown",
   "id": "f58c9171",
   "metadata": {},
   "source": [
    "### Aggregation (reducing a sequence in to a single value)\n",
    "\n",
    "- Built-in functions (`len`, `min`, `max`)\n",
    "- Other methods  (`str.count()`)\n",
    "- Functions from other packages, e.g. numpy"
   ]
  },
  {
   "cell_type": "code",
   "execution_count": 119,
   "id": "74aaf62c",
   "metadata": {},
   "outputs": [],
   "source": [
    "my_list = [1,2,3,4,5,5,5,5,5,6,7,8,9,10]"
   ]
  },
  {
   "cell_type": "code",
   "execution_count": 120,
   "id": "3055d577",
   "metadata": {},
   "outputs": [
    {
     "name": "stdout",
     "output_type": "stream",
     "text": [
      "14\n"
     ]
    }
   ],
   "source": [
    "print(len(my_list))"
   ]
  },
  {
   "cell_type": "code",
   "execution_count": 121,
   "id": "e052ad19",
   "metadata": {},
   "outputs": [
    {
     "name": "stdout",
     "output_type": "stream",
     "text": [
      "1\n"
     ]
    }
   ],
   "source": [
    "print(min(my_list))"
   ]
  },
  {
   "cell_type": "code",
   "execution_count": 122,
   "id": "d1cadec0",
   "metadata": {},
   "outputs": [],
   "source": [
    "my_tuple = ('a','b','c','d','A','B','C','D')"
   ]
  },
  {
   "cell_type": "code",
   "execution_count": 123,
   "id": "15587da8",
   "metadata": {},
   "outputs": [
    {
     "name": "stdout",
     "output_type": "stream",
     "text": [
      "8\n"
     ]
    }
   ],
   "source": [
    "print(len(my_tuple))"
   ]
  },
  {
   "cell_type": "code",
   "execution_count": 124,
   "id": "44c3164d",
   "metadata": {},
   "outputs": [
    {
     "name": "stdout",
     "output_type": "stream",
     "text": [
      "A\n"
     ]
    }
   ],
   "source": [
    "print(min(my_tuple))"
   ]
  },
  {
   "cell_type": "code",
   "execution_count": 125,
   "id": "014f7df2",
   "metadata": {},
   "outputs": [
    {
     "name": "stdout",
     "output_type": "stream",
     "text": [
      "d\n"
     ]
    }
   ],
   "source": [
    "print(max(my_tuple))"
   ]
  },
  {
   "cell_type": "code",
   "execution_count": 126,
   "id": "fa9d6ba3",
   "metadata": {},
   "outputs": [
    {
     "data": {
      "text/plain": [
       "5"
      ]
     },
     "execution_count": 126,
     "metadata": {},
     "output_type": "execute_result"
    }
   ],
   "source": [
    "my_list.count(5)"
   ]
  },
  {
   "cell_type": "markdown",
   "id": "f08bdbc3",
   "metadata": {},
   "source": [
    "## Mapping\n",
    "\n",
    "- A mapping object represents a collection of key-value pairs (e.g. dictionaries)\n",
    "- Objects in the collection are indexed by keys\n",
    "- Keys in a dictionary need to be unique and hashable\n",
    "- All immutable types in Python are hashable\n"
   ]
  },
  {
   "cell_type": "code",
   "execution_count": 127,
   "id": "4f47e882",
   "metadata": {},
   "outputs": [],
   "source": [
    "my_dict = {1:'Hello', 2:'World'}"
   ]
  },
  {
   "cell_type": "code",
   "execution_count": 128,
   "id": "774ed5e0",
   "metadata": {},
   "outputs": [
    {
     "ename": "TypeError",
     "evalue": "unhashable type: 'list'",
     "output_type": "error",
     "traceback": [
      "\u001b[1;31m---------------------------------------------------------------------------\u001b[0m",
      "\u001b[1;31mTypeError\u001b[0m                                 Traceback (most recent call last)",
      "\u001b[1;32m<ipython-input-128-d2e3f9596807>\u001b[0m in \u001b[0;36m<module>\u001b[1;34m\u001b[0m\n\u001b[1;32m----> 1\u001b[1;33m \u001b[0mmy_dict\u001b[0m \u001b[1;33m=\u001b[0m \u001b[1;33m{\u001b[0m\u001b[1;33m[\u001b[0m\u001b[1;36m1\u001b[0m\u001b[1;33m,\u001b[0m\u001b[1;36m2\u001b[0m\u001b[1;33m,\u001b[0m\u001b[1;36m3\u001b[0m\u001b[1;33m]\u001b[0m\u001b[1;33m:\u001b[0m\u001b[1;34m'Hello'\u001b[0m\u001b[1;33m,\u001b[0m \u001b[1;36m2\u001b[0m\u001b[1;33m:\u001b[0m\u001b[1;34m'World'\u001b[0m\u001b[1;33m}\u001b[0m \u001b[1;31m# This does not work because a list (mutable so unhashable) cannot be used as a key\u001b[0m\u001b[1;33m\u001b[0m\u001b[1;33m\u001b[0m\u001b[0m\n\u001b[0m",
      "\u001b[1;31mTypeError\u001b[0m: unhashable type: 'list'"
     ]
    }
   ],
   "source": [
    "my_dict = {[1,2,3]:'Hello', 2:'World'} # This does not work because a list (mutable so unhashable) cannot be used as a key"
   ]
  },
  {
   "cell_type": "code",
   "execution_count": 238,
   "id": "c54d43c1",
   "metadata": {},
   "outputs": [],
   "source": [
    "my_dict = {1.5: 'Hello', 2.5: [1,2,3]} # The value can be mutable, keys must be immutable"
   ]
  },
  {
   "cell_type": "code",
   "execution_count": 239,
   "id": "e4be3e54",
   "metadata": {},
   "outputs": [
    {
     "data": {
      "text/plain": [
       "[1.5, 2.5]"
      ]
     },
     "execution_count": 239,
     "metadata": {},
     "output_type": "execute_result"
    }
   ],
   "source": [
    "# List the keys in the dictionary\n",
    "list(my_dict.keys())"
   ]
  },
  {
   "cell_type": "code",
   "execution_count": 240,
   "id": "d1ae53bc",
   "metadata": {},
   "outputs": [
    {
     "data": {
      "text/plain": [
       "['Hello', [1, 2, 3]]"
      ]
     },
     "execution_count": 240,
     "metadata": {},
     "output_type": "execute_result"
    }
   ],
   "source": [
    "# List the values in the dictionary\n",
    "list(my_dict.values())"
   ]
  },
  {
   "cell_type": "code",
   "execution_count": 245,
   "id": "225e8696",
   "metadata": {},
   "outputs": [
    {
     "data": {
      "text/plain": [
       "[(1.5, 'Hello'), (2.5, [1, 2, 3])]"
      ]
     },
     "execution_count": 245,
     "metadata": {},
     "output_type": "execute_result"
    }
   ],
   "source": [
    "# List the items in the dictionary (key-value pairs)\n",
    "list(my_dict.items())"
   ]
  },
  {
   "cell_type": "code",
   "execution_count": 248,
   "id": "dfb9d9bd",
   "metadata": {},
   "outputs": [
    {
     "data": {
      "text/plain": [
       "2"
      ]
     },
     "execution_count": 248,
     "metadata": {},
     "output_type": "execute_result"
    }
   ],
   "source": [
    "list(my_dict.items())[1][1][1]"
   ]
  },
  {
   "cell_type": "code",
   "execution_count": 141,
   "id": "d21f524d",
   "metadata": {},
   "outputs": [
    {
     "name": "stdout",
     "output_type": "stream",
     "text": [
      "2\n"
     ]
    },
    {
     "data": {
      "text/plain": [
       "2"
      ]
     },
     "execution_count": 141,
     "metadata": {},
     "output_type": "execute_result"
    }
   ],
   "source": [
    "# return the number 2 from the list\n",
    "my_var = list(my_dict.items())\n",
    "my_var1 = my_var[1]\n",
    "my_var2 = my_var1[1]\n",
    "my_var3 = my_var2[1]\n",
    "print(my_var3)\n",
    "# or\n",
    "my_var[1][1][1]"
   ]
  },
  {
   "cell_type": "code",
   "execution_count": 142,
   "id": "d8843b9d",
   "metadata": {},
   "outputs": [
    {
     "data": {
      "text/plain": [
       "'Hello'"
      ]
     },
     "execution_count": 142,
     "metadata": {},
     "output_type": "execute_result"
    }
   ],
   "source": [
    "# Accessing an individual value given its key\n",
    "my_dict = {1.5: 'Hello', 2.5: [1,2,3]}\n",
    "my_dict[1.5]"
   ]
  },
  {
   "cell_type": "markdown",
   "id": "6aa59870",
   "metadata": {},
   "source": [
    "Adding a new key-value pair to an existing dictionary"
   ]
  },
  {
   "cell_type": "code",
   "execution_count": 143,
   "id": "c3791aae",
   "metadata": {},
   "outputs": [
    {
     "data": {
      "text/plain": [
       "{1.5: 'Hello', 2.5: [1, 2, 3]}"
      ]
     },
     "execution_count": 143,
     "metadata": {},
     "output_type": "execute_result"
    }
   ],
   "source": [
    "my_dict"
   ]
  },
  {
   "cell_type": "code",
   "execution_count": 144,
   "id": "871ec7d4",
   "metadata": {},
   "outputs": [
    {
     "name": "stdout",
     "output_type": "stream",
     "text": [
      "{1.5: 'Hello', 2.5: [1, 2, 3], 3.5: 'World'}\n"
     ]
    }
   ],
   "source": [
    "# Add {3.5:'World'} to my_dict\n",
    "my_dict[3.5] = 'World'\n",
    "print(my_dict)"
   ]
  },
  {
   "cell_type": "markdown",
   "id": "2ce38dcc",
   "metadata": {},
   "source": [
    "Deleting a key-value pair from a dictionary"
   ]
  },
  {
   "cell_type": "code",
   "execution_count": 145,
   "id": "f9020806",
   "metadata": {},
   "outputs": [
    {
     "name": "stdout",
     "output_type": "stream",
     "text": [
      "{1.5: 'Hello', 3.5: 'World'}\n"
     ]
    }
   ],
   "source": [
    "del my_dict[2.5]\n",
    "print(my_dict)"
   ]
  },
  {
   "cell_type": "markdown",
   "id": "0806191a",
   "metadata": {},
   "source": [
    "Adding more key-value pairs to this dictionary"
   ]
  },
  {
   "cell_type": "code",
   "execution_count": 146,
   "id": "5158ce1c",
   "metadata": {},
   "outputs": [],
   "source": [
    "my_dict2 = {4.5: 'CE02', 5.5: 'Python'}"
   ]
  },
  {
   "cell_type": "code",
   "execution_count": 147,
   "id": "47e347d0",
   "metadata": {},
   "outputs": [
    {
     "name": "stdout",
     "output_type": "stream",
     "text": [
      "{1.5: 'Hello', 3.5: 'World', 4.5: 'CE02', 5.5: 'Python'}\n"
     ]
    }
   ],
   "source": [
    "my_dict.update(my_dict2)\n",
    "print(my_dict)"
   ]
  },
  {
   "cell_type": "markdown",
   "id": "d536cd99",
   "metadata": {},
   "source": [
    "Creating an empty dictionary"
   ]
  },
  {
   "cell_type": "code",
   "execution_count": 148,
   "id": "ce6e8839",
   "metadata": {},
   "outputs": [
    {
     "name": "stdout",
     "output_type": "stream",
     "text": [
      "{}\n",
      "<class 'dict'>\n"
     ]
    }
   ],
   "source": [
    "my_dict_new = dict()\n",
    "print(my_dict_new)\n",
    "print(type(my_dict_new))"
   ]
  },
  {
   "cell_type": "code",
   "execution_count": 149,
   "id": "17fcfca4",
   "metadata": {},
   "outputs": [
    {
     "name": "stdout",
     "output_type": "stream",
     "text": [
      "{'name': 'Jeevan'}\n"
     ]
    }
   ],
   "source": [
    "my_dict_new['name'] = 'Jeevan'\n",
    "print(my_dict_new)"
   ]
  },
  {
   "cell_type": "markdown",
   "id": "32ec5258",
   "metadata": {},
   "source": [
    "## Sets\n",
    "\n",
    "Unordered collection of unique items. Common operations include:\n",
    "\n",
    "- Union\n",
    "- Intersection\n",
    "- Difference\n",
    "- Subset"
   ]
  },
  {
   "cell_type": "code",
   "execution_count": 152,
   "id": "1c87a800",
   "metadata": {},
   "outputs": [
    {
     "name": "stdout",
     "output_type": "stream",
     "text": [
      "{'c', 'd', 'a', 'b', 'e'}\n",
      "{'c', 'd', 'h', 'g', 'f'}\n"
     ]
    }
   ],
   "source": [
    "set_a = {'a','b','c','d','e'}\n",
    "set_b = {'c','c','c','d','f','g','g','h'}\n",
    "\n",
    "print(set_a)\n",
    "print(set_b)"
   ]
  },
  {
   "cell_type": "markdown",
   "id": "eb39e8f3",
   "metadata": {},
   "source": [
    "### Set  (all unique values in both sets)"
   ]
  },
  {
   "cell_type": "code",
   "execution_count": 153,
   "id": "efaa1589",
   "metadata": {},
   "outputs": [
    {
     "data": {
      "text/plain": [
       "{'a', 'b', 'c', 'd', 'e', 'f', 'g', 'h'}"
      ]
     },
     "execution_count": 153,
     "metadata": {},
     "output_type": "execute_result"
    }
   ],
   "source": [
    "set_a.union(set_b)"
   ]
  },
  {
   "cell_type": "markdown",
   "id": "116ca23b",
   "metadata": {},
   "source": [
    "### Set Intersection (all common values in both sets)"
   ]
  },
  {
   "cell_type": "code",
   "execution_count": 154,
   "id": "fc92a910",
   "metadata": {},
   "outputs": [
    {
     "data": {
      "text/plain": [
       "{'c', 'd'}"
      ]
     },
     "execution_count": 154,
     "metadata": {},
     "output_type": "execute_result"
    }
   ],
   "source": [
    "set_a.intersection(set_b)"
   ]
  },
  {
   "cell_type": "markdown",
   "id": "386f5d39",
   "metadata": {},
   "source": [
    "### Set Difference (all values in the first set not in the second set)"
   ]
  },
  {
   "cell_type": "code",
   "execution_count": 155,
   "id": "3ed279bd",
   "metadata": {},
   "outputs": [
    {
     "data": {
      "text/plain": [
       "{'a', 'b', 'e'}"
      ]
     },
     "execution_count": 155,
     "metadata": {},
     "output_type": "execute_result"
    }
   ],
   "source": [
    "set_a.difference(set_b)"
   ]
  },
  {
   "cell_type": "markdown",
   "id": "e111c5e7",
   "metadata": {},
   "source": [
    "### Subset Checking (check if the first set is a subset of the second set)"
   ]
  },
  {
   "cell_type": "code",
   "execution_count": 157,
   "id": "28f3294c",
   "metadata": {},
   "outputs": [
    {
     "data": {
      "text/plain": [
       "False"
      ]
     },
     "execution_count": 157,
     "metadata": {},
     "output_type": "execute_result"
    }
   ],
   "source": [
    "set_a.issubset(set_b)"
   ]
  },
  {
   "cell_type": "code",
   "execution_count": 158,
   "id": "ae39358b",
   "metadata": {},
   "outputs": [],
   "source": [
    "set_c = {'a','b'}\n",
    "set_d = {'a','b','c','d'}"
   ]
  },
  {
   "cell_type": "code",
   "execution_count": 161,
   "id": "770d006e",
   "metadata": {},
   "outputs": [
    {
     "data": {
      "text/plain": [
       "True"
      ]
     },
     "execution_count": 161,
     "metadata": {},
     "output_type": "execute_result"
    }
   ],
   "source": [
    "set_c.issubset(set_d)"
   ]
  },
  {
   "cell_type": "code",
   "execution_count": 162,
   "id": "0dc59c4c",
   "metadata": {},
   "outputs": [
    {
     "data": {
      "text/plain": [
       "False"
      ]
     },
     "execution_count": 162,
     "metadata": {},
     "output_type": "execute_result"
    }
   ],
   "source": [
    "set_d.issubset(set_c)"
   ]
  },
  {
   "cell_type": "markdown",
   "id": "e94e1e14",
   "metadata": {},
   "source": [
    "### Disjoint checking (Check if two sets are disjoint (i.e. they have no elements in common)"
   ]
  },
  {
   "cell_type": "code",
   "execution_count": 163,
   "id": "4c10c31f",
   "metadata": {},
   "outputs": [
    {
     "data": {
      "text/plain": [
       "False"
      ]
     },
     "execution_count": 163,
     "metadata": {},
     "output_type": "execute_result"
    }
   ],
   "source": [
    "set_c.isdisjoint(set_d)"
   ]
  },
  {
   "cell_type": "code",
   "execution_count": 164,
   "id": "d49d7bc9",
   "metadata": {},
   "outputs": [
    {
     "data": {
      "text/plain": [
       "True"
      ]
     },
     "execution_count": 164,
     "metadata": {},
     "output_type": "execute_result"
    }
   ],
   "source": [
    "set_b.isdisjoint(set_c)"
   ]
  },
  {
   "cell_type": "markdown",
   "id": "705a5f93",
   "metadata": {},
   "source": [
    "## Converting between data types\n",
    "\n",
    "Converting from a tuple to a list or a list to a set etc."
   ]
  },
  {
   "cell_type": "code",
   "execution_count": 166,
   "id": "fa883d1b",
   "metadata": {},
   "outputs": [
    {
     "name": "stdout",
     "output_type": "stream",
     "text": [
      "[1, 2, 3]\n"
     ]
    }
   ],
   "source": [
    "my_tuple = (1,2,3)\n",
    "my_list = list(my_tuple)\n",
    "print(my_list)"
   ]
  },
  {
   "cell_type": "code",
   "execution_count": 167,
   "id": "812011af",
   "metadata": {},
   "outputs": [
    {
     "name": "stdout",
     "output_type": "stream",
     "text": [
      "{1, 2, 3, 4, 5, 7, 8, 9, 10}\n",
      "[1, 2, 3, 4, 5, 7, 8, 9, 10]\n"
     ]
    }
   ],
   "source": [
    "my_list = [1,1,2,3,4,4,4,5,5,7,8,8,8,9,10]\n",
    "my_set = set(my_list)\n",
    "print(my_set)\n",
    "my_list2 = list(my_set)\n",
    "print(my_list2)"
   ]
  },
  {
   "cell_type": "markdown",
   "id": "be037f42",
   "metadata": {},
   "source": [
    "Converting from an integer to a string"
   ]
  },
  {
   "cell_type": "code",
   "execution_count": 169,
   "id": "5435ca98",
   "metadata": {},
   "outputs": [
    {
     "name": "stdout",
     "output_type": "stream",
     "text": [
      "123\n"
     ]
    },
    {
     "data": {
      "text/plain": [
       "str"
      ]
     },
     "execution_count": 169,
     "metadata": {},
     "output_type": "execute_result"
    }
   ],
   "source": [
    "a = 123\n",
    "b = str(a) # 123 is converted to '123'\n",
    "print(b)\n",
    "type(b)"
   ]
  },
  {
   "cell_type": "code",
   "execution_count": 170,
   "id": "225eb5b5",
   "metadata": {},
   "outputs": [
    {
     "data": {
      "text/plain": [
       "3"
      ]
     },
     "execution_count": 170,
     "metadata": {},
     "output_type": "execute_result"
    }
   ],
   "source": [
    "1 + 2"
   ]
  },
  {
   "cell_type": "code",
   "execution_count": 171,
   "id": "a5463a77",
   "metadata": {},
   "outputs": [
    {
     "data": {
      "text/plain": [
       "'12'"
      ]
     },
     "execution_count": 171,
     "metadata": {},
     "output_type": "execute_result"
    }
   ],
   "source": [
    "'1' + '2'"
   ]
  },
  {
   "cell_type": "code",
   "execution_count": 172,
   "id": "cbbcfbcd",
   "metadata": {},
   "outputs": [
    {
     "data": {
      "text/plain": [
       "3"
      ]
     },
     "execution_count": 172,
     "metadata": {},
     "output_type": "execute_result"
    }
   ],
   "source": [
    "int('1') + int('2')"
   ]
  },
  {
   "cell_type": "code",
   "execution_count": 173,
   "id": "32d82a90",
   "metadata": {},
   "outputs": [
    {
     "data": {
      "text/plain": [
       "'12'"
      ]
     },
     "execution_count": 173,
     "metadata": {},
     "output_type": "execute_result"
    }
   ],
   "source": [
    "str(1) + str(2)"
   ]
  },
  {
   "cell_type": "code",
   "execution_count": 174,
   "id": "5d549029",
   "metadata": {},
   "outputs": [
    {
     "data": {
      "text/plain": [
       "50.0"
      ]
     },
     "execution_count": 174,
     "metadata": {},
     "output_type": "execute_result"
    }
   ],
   "source": [
    "float(50)"
   ]
  },
  {
   "cell_type": "code",
   "execution_count": 175,
   "id": "0d35bede",
   "metadata": {},
   "outputs": [
    {
     "data": {
      "text/plain": [
       "3"
      ]
     },
     "execution_count": 175,
     "metadata": {},
     "output_type": "execute_result"
    }
   ],
   "source": [
    "int(3.1415)"
   ]
  },
  {
   "cell_type": "code",
   "execution_count": 176,
   "id": "1df77d4c",
   "metadata": {},
   "outputs": [
    {
     "data": {
      "text/plain": [
       "'12.965'"
      ]
     },
     "execution_count": 176,
     "metadata": {},
     "output_type": "execute_result"
    }
   ],
   "source": [
    "str(12.965)"
   ]
  },
  {
   "cell_type": "markdown",
   "id": "d1123c56",
   "metadata": {},
   "source": [
    "#### Concept check"
   ]
  },
  {
   "cell_type": "code",
   "execution_count": 184,
   "id": "7a418261",
   "metadata": {},
   "outputs": [
    {
     "data": {
      "text/plain": [
       "{'Gaming'}"
      ]
     },
     "execution_count": 184,
     "metadata": {},
     "output_type": "execute_result"
    }
   ],
   "source": [
    "my_activities = {'Football', 'Gaming', 'Sleeping'}\n",
    "friend_activities = {'Running', 'Gaming', 'Being a knob'}\n",
    "my_activities.intersection(friend_activities)"
   ]
  },
  {
   "cell_type": "markdown",
   "id": "6276ef37",
   "metadata": {},
   "source": [
    "## String methods\n",
    "\n",
    "We will look at some of the commonly used string methods"
   ]
  },
  {
   "cell_type": "code",
   "execution_count": 197,
   "id": "7a4cf3c6",
   "metadata": {},
   "outputs": [],
   "source": [
    "my_str = 'The quick brown fox jumped over the lazy dog'"
   ]
  },
  {
   "cell_type": "code",
   "execution_count": 186,
   "id": "d0547cd3",
   "metadata": {},
   "outputs": [
    {
     "data": {
      "text/plain": [
       "1"
      ]
     },
     "execution_count": 186,
     "metadata": {},
     "output_type": "execute_result"
    }
   ],
   "source": [
    "# count occurences\n",
    "my_str.count('t')"
   ]
  },
  {
   "cell_type": "code",
   "execution_count": 189,
   "id": "10752ce9",
   "metadata": {},
   "outputs": [
    {
     "name": "stdout",
     "output_type": "stream",
     "text": [
      "2\n",
      "8\n",
      "1\n"
     ]
    }
   ],
   "source": [
    "print(my_str.count('he'))\n",
    "print(my_str.count(' '))\n",
    "print(my_str.count('ck br'))"
   ]
  },
  {
   "cell_type": "code",
   "execution_count": 232,
   "id": "3d29a1f1",
   "metadata": {},
   "outputs": [
    {
     "name": "stdout",
     "output_type": "stream",
     "text": [
      "the word fox occurs at index 16\n"
     ]
    }
   ],
   "source": [
    "idx = my_str.find('fox')\n",
    "print(f'the word fox occurs at index {idx}')"
   ]
  },
  {
   "cell_type": "code",
   "execution_count": 196,
   "id": "4d7b542c",
   "metadata": {},
   "outputs": [
    {
     "name": "stdout",
     "output_type": "stream",
     "text": [
      "The quick brown fox jumped over the sleeping dog\n"
     ]
    }
   ],
   "source": [
    "my_str2 = my_str.replace('lazy','sleeping')\n",
    "print(my_str2)"
   ]
  },
  {
   "cell_type": "code",
   "execution_count": 199,
   "id": "11e85cce",
   "metadata": {},
   "outputs": [
    {
     "name": "stdout",
     "output_type": "stream",
     "text": [
      "\n",
      "\n",
      "\n",
      "\n",
      "\t\tHello World\n",
      "\n",
      "\n",
      "\t\n"
     ]
    }
   ],
   "source": [
    "my_str3 = '\\n\\n\\n\\n\\t\\tHello World\\n\\n\\n\\t'\n",
    "print(my_str3)"
   ]
  },
  {
   "cell_type": "code",
   "execution_count": 200,
   "id": "e1ef08b4",
   "metadata": {},
   "outputs": [
    {
     "name": "stdout",
     "output_type": "stream",
     "text": [
      "Hello World\n"
     ]
    }
   ],
   "source": [
    "print(my_str3.strip()) # removes all leading and trailing whitespaces"
   ]
  },
  {
   "cell_type": "code",
   "execution_count": 201,
   "id": "30b526a0",
   "metadata": {},
   "outputs": [
    {
     "name": "stdout",
     "output_type": "stream",
     "text": [
      "['The', 'quick', 'brown', 'fox', 'jumped', 'over', 'the', 'lazy', 'dog']\n"
     ]
    }
   ],
   "source": [
    "words = my_str.split()\n",
    "print(words)"
   ]
  },
  {
   "cell_type": "code",
   "execution_count": 202,
   "id": "71110a82",
   "metadata": {},
   "outputs": [
    {
     "data": {
      "text/plain": [
       "'The quick brown fox jumped over the lazy dog'"
      ]
     },
     "execution_count": 202,
     "metadata": {},
     "output_type": "execute_result"
    }
   ],
   "source": [
    "' '.join(words)"
   ]
  },
  {
   "cell_type": "code",
   "execution_count": 203,
   "id": "0c67e55f",
   "metadata": {},
   "outputs": [
    {
     "data": {
      "text/plain": [
       "'THE QUICK BROWN FOX JUMPED OVER THE LAZY DOG'"
      ]
     },
     "execution_count": 203,
     "metadata": {},
     "output_type": "execute_result"
    }
   ],
   "source": [
    "my_str.upper()"
   ]
  },
  {
   "cell_type": "code",
   "execution_count": 207,
   "id": "abe16236",
   "metadata": {},
   "outputs": [
    {
     "name": "stdout",
     "output_type": "stream",
     "text": [
      "The quick brown fox jumped over the lazy dog\n"
     ]
    }
   ],
   "source": [
    "my_str.lower()\n",
    "my_str[0].upper()\n",
    "print(my_str)"
   ]
  },
  {
   "cell_type": "markdown",
   "id": "08a220a4",
   "metadata": {},
   "source": [
    "# Built-in types for representing programming structure\n",
    "\n",
    "There are several categories of types for representing programming structure:\n",
    "\n",
    "- Classes\n",
    "- Callables\n",
    "- Modules and Packages"
   ]
  },
  {
   "cell_type": "markdown",
   "id": "841657ea",
   "metadata": {},
   "source": [
    "## Classes"
   ]
  },
  {
   "cell_type": "code",
   "execution_count": 208,
   "id": "9d6e5e5c",
   "metadata": {},
   "outputs": [],
   "source": [
    "class Dog:\n",
    "    def bark(self):\n",
    "        print('woof')"
   ]
  },
  {
   "cell_type": "code",
   "execution_count": 209,
   "id": "24e5817c",
   "metadata": {},
   "outputs": [
    {
     "name": "stdout",
     "output_type": "stream",
     "text": [
      "woof\n"
     ]
    }
   ],
   "source": [
    "maltese = Dog()\n",
    "maltese.bark()"
   ]
  },
  {
   "cell_type": "markdown",
   "id": "a7895514",
   "metadata": {},
   "source": [
    "## Callables\n",
    "\n",
    "Callables are objects that support the function call operation. This includes functions and methods. <br/>\n",
    "Hint: If you can put round brackets after the object, then it is callable"
   ]
  },
  {
   "cell_type": "code",
   "execution_count": 211,
   "id": "f4ab59e7",
   "metadata": {},
   "outputs": [
    {
     "data": {
      "text/plain": [
       "4"
      ]
     },
     "execution_count": 211,
     "metadata": {},
     "output_type": "execute_result"
    }
   ],
   "source": [
    "len([1,2,3,4])"
   ]
  },
  {
   "cell_type": "markdown",
   "id": "245218ed",
   "metadata": {},
   "source": [
    "You can check if an object is callable by using the in-built `callable` function"
   ]
  },
  {
   "cell_type": "code",
   "execution_count": 212,
   "id": "37eee3cd",
   "metadata": {},
   "outputs": [
    {
     "data": {
      "text/plain": [
       "True"
      ]
     },
     "execution_count": 212,
     "metadata": {},
     "output_type": "execute_result"
    }
   ],
   "source": [
    "callable(len)"
   ]
  },
  {
   "cell_type": "code",
   "execution_count": 213,
   "id": "ad107111",
   "metadata": {},
   "outputs": [
    {
     "data": {
      "text/plain": [
       "False"
      ]
     },
     "execution_count": 213,
     "metadata": {},
     "output_type": "execute_result"
    }
   ],
   "source": [
    "callable(10) #10(5)"
   ]
  },
  {
   "cell_type": "code",
   "execution_count": 214,
   "id": "3fdae554",
   "metadata": {},
   "outputs": [
    {
     "data": {
      "text/plain": [
       "True"
      ]
     },
     "execution_count": 214,
     "metadata": {},
     "output_type": "execute_result"
    }
   ],
   "source": [
    "callable(Dog)"
   ]
  },
  {
   "cell_type": "code",
   "execution_count": 216,
   "id": "6d9589d8",
   "metadata": {},
   "outputs": [
    {
     "data": {
      "text/plain": [
       "True"
      ]
     },
     "execution_count": 216,
     "metadata": {},
     "output_type": "execute_result"
    }
   ],
   "source": [
    "callable(multiply)"
   ]
  },
  {
   "cell_type": "code",
   "execution_count": 217,
   "id": "91a36dc8",
   "metadata": {},
   "outputs": [
    {
     "data": {
      "text/plain": [
       "True"
      ]
     },
     "execution_count": 217,
     "metadata": {},
     "output_type": "execute_result"
    }
   ],
   "source": [
    "callable(print_id_type)"
   ]
  },
  {
   "cell_type": "code",
   "execution_count": 218,
   "id": "65123600",
   "metadata": {},
   "outputs": [
    {
     "name": "stdout",
     "output_type": "stream",
     "text": [
      "id of the variable is 2607737825696\n",
      "type of the variable is <class '__main__.Dog'>\n"
     ]
    }
   ],
   "source": [
    "print_id_type(maltese)"
   ]
  },
  {
   "cell_type": "code",
   "execution_count": 219,
   "id": "38c02791",
   "metadata": {},
   "outputs": [
    {
     "data": {
      "text/plain": [
       "True"
      ]
     },
     "execution_count": 219,
     "metadata": {},
     "output_type": "execute_result"
    }
   ],
   "source": [
    "callable(list)"
   ]
  },
  {
   "cell_type": "code",
   "execution_count": 220,
   "id": "4dae7568",
   "metadata": {},
   "outputs": [
    {
     "data": {
      "text/plain": [
       "True"
      ]
     },
     "execution_count": 220,
     "metadata": {},
     "output_type": "execute_result"
    }
   ],
   "source": [
    "callable(callable)"
   ]
  },
  {
   "cell_type": "code",
   "execution_count": 221,
   "id": "62baed1c",
   "metadata": {},
   "outputs": [
    {
     "data": {
      "text/plain": [
       "False"
      ]
     },
     "execution_count": 221,
     "metadata": {},
     "output_type": "execute_result"
    }
   ],
   "source": [
    "x = 10\n",
    "callable(x)"
   ]
  },
  {
   "cell_type": "code",
   "execution_count": 222,
   "id": "4d3b6ff3",
   "metadata": {},
   "outputs": [
    {
     "data": {
      "text/plain": [
       "False"
      ]
     },
     "execution_count": 222,
     "metadata": {},
     "output_type": "execute_result"
    }
   ],
   "source": [
    "x = [1,2,3]\n",
    "callable(x)"
   ]
  },
  {
   "cell_type": "code",
   "execution_count": 224,
   "id": "edd58da4",
   "metadata": {},
   "outputs": [
    {
     "data": {
      "text/plain": [
       "False"
      ]
     },
     "execution_count": 224,
     "metadata": {},
     "output_type": "execute_result"
    }
   ],
   "source": [
    "callable(words)"
   ]
  },
  {
   "cell_type": "markdown",
   "id": "4633249f",
   "metadata": {},
   "source": [
    "## Modules and Packages"
   ]
  },
  {
   "cell_type": "code",
   "execution_count": 225,
   "id": "43528e2b",
   "metadata": {},
   "outputs": [
    {
     "data": {
      "text/plain": [
       "4.0"
      ]
     },
     "execution_count": 225,
     "metadata": {},
     "output_type": "execute_result"
    }
   ],
   "source": [
    "import math\n",
    "math.sqrt(16)"
   ]
  },
  {
   "cell_type": "code",
   "execution_count": 226,
   "id": "9ae86862",
   "metadata": {},
   "outputs": [],
   "source": [
    "import seaborn as sns"
   ]
  },
  {
   "cell_type": "code",
   "execution_count": 227,
   "id": "77d33e78",
   "metadata": {},
   "outputs": [],
   "source": [
    "import sklearn"
   ]
  },
  {
   "cell_type": "code",
   "execution_count": 228,
   "id": "1452eef8",
   "metadata": {},
   "outputs": [
    {
     "ename": "ModuleNotFoundError",
     "evalue": "No module named 'flask_restful'",
     "output_type": "error",
     "traceback": [
      "\u001b[1;31m---------------------------------------------------------------------------\u001b[0m",
      "\u001b[1;31mModuleNotFoundError\u001b[0m                       Traceback (most recent call last)",
      "\u001b[1;32m<ipython-input-228-461a09463df0>\u001b[0m in \u001b[0;36m<module>\u001b[1;34m\u001b[0m\n\u001b[1;32m----> 1\u001b[1;33m \u001b[1;32mfrom\u001b[0m \u001b[0mflask_restful\u001b[0m \u001b[1;32mimport\u001b[0m \u001b[0mResource\u001b[0m\u001b[1;33m\u001b[0m\u001b[1;33m\u001b[0m\u001b[0m\n\u001b[0m",
      "\u001b[1;31mModuleNotFoundError\u001b[0m: No module named 'flask_restful'"
     ]
    }
   ],
   "source": [
    "from flask_restful import Resource"
   ]
  },
  {
   "cell_type": "code",
   "execution_count": null,
   "id": "ab2d04b2",
   "metadata": {},
   "outputs": [],
   "source": []
  }
 ],
 "metadata": {
  "kernelspec": {
   "display_name": "Python 3",
   "language": "python",
   "name": "python3"
  },
  "language_info": {
   "codemirror_mode": {
    "name": "ipython",
    "version": 3
   },
   "file_extension": ".py",
   "mimetype": "text/x-python",
   "name": "python",
   "nbconvert_exporter": "python",
   "pygments_lexer": "ipython3",
   "version": "3.8.8"
  },
  "toc": {
   "base_numbering": 1,
   "nav_menu": {},
   "number_sections": true,
   "sideBar": true,
   "skip_h1_title": false,
   "title_cell": "Table of Contents",
   "title_sidebar": "Contents",
   "toc_cell": false,
   "toc_position": {},
   "toc_section_display": true,
   "toc_window_display": false
  }
 },
 "nbformat": 4,
 "nbformat_minor": 5
}
