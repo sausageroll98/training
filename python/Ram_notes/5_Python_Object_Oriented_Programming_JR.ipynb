{
 "cells": [
  {
   "cell_type": "markdown",
   "id": "55f98280",
   "metadata": {},
   "source": [
    "## Introduction to Classes\n",
    "Classes are the mechanism we use to create new kinds of object types in python.\n",
    "\n",
    "We can think of classes as blueprints/templates to create custom object types.\n",
    "\n",
    "In the context of OOP, an object refers to an instance of the class."
   ]
  },
  {
   "cell_type": "code",
   "execution_count": 1,
   "id": "901d79fd",
   "metadata": {},
   "outputs": [],
   "source": [
    "class Car:\n",
    "    def __init__(self, make, model, year, colour, fuel):\n",
    "    # The __init__ method is run everytime we create a new instance\n",
    "    # The purpose of __init__ method is to initialise an object\n",
    "    # The following are called instance attributes/variables\n",
    "        self.make = make\n",
    "        self.model = model\n",
    "        self.year = year\n",
    "        self.colour = colour\n",
    "        self.fuel = fuel\n",
    "    \n",
    "    # This is an instance method\n",
    "    def description(self):\n",
    "        print(f'The car is {self.colour} {self.make} {self.model} from {self.year}')\n",
    "    \n",
    "    # This is another instance method\n",
    "    def is_electric(self):\n",
    "        if self.fuel == 'battery':\n",
    "            print('Yay, it is an electric car!')\n",
    "        else:\n",
    "            print('You hate turtles...')\n",
    "    \n",
    "    #This is incorrect \n",
    "    def description_2(self):\n",
    "        print(f'The car is {colour} {make} {model} from {year}')\n",
    "    "
   ]
  },
  {
   "cell_type": "code",
   "execution_count": 2,
   "id": "92468aba",
   "metadata": {},
   "outputs": [],
   "source": [
    "matts_car = Car('Mazda','2',2016,'Navy','Petrol')"
   ]
  },
  {
   "cell_type": "code",
   "execution_count": 3,
   "id": "c846e2d5",
   "metadata": {},
   "outputs": [
    {
     "data": {
      "text/plain": [
       "'Petrol'"
      ]
     },
     "execution_count": 3,
     "metadata": {},
     "output_type": "execute_result"
    }
   ],
   "source": [
    "matts_car.fuel"
   ]
  },
  {
   "cell_type": "code",
   "execution_count": 4,
   "id": "fb48d639",
   "metadata": {},
   "outputs": [],
   "source": [
    "my_car = Car('Tesla','Model X',2020,'White','battery')"
   ]
  },
  {
   "cell_type": "code",
   "execution_count": 5,
   "id": "884459a6",
   "metadata": {},
   "outputs": [
    {
     "data": {
      "text/plain": [
       "'White'"
      ]
     },
     "execution_count": 5,
     "metadata": {},
     "output_type": "execute_result"
    }
   ],
   "source": [
    "my_car.colour"
   ]
  },
  {
   "cell_type": "code",
   "execution_count": 6,
   "id": "d7b0a887",
   "metadata": {},
   "outputs": [
    {
     "name": "stdout",
     "output_type": "stream",
     "text": [
      "Yay, it is an electric car!\n"
     ]
    }
   ],
   "source": [
    "my_car.is_electric()"
   ]
  },
  {
   "cell_type": "code",
   "execution_count": 7,
   "id": "48740479",
   "metadata": {},
   "outputs": [
    {
     "name": "stdout",
     "output_type": "stream",
     "text": [
      "You hate turtles...\n"
     ]
    }
   ],
   "source": [
    "matts_car.is_electric()"
   ]
  },
  {
   "cell_type": "code",
   "execution_count": 8,
   "id": "4d88cc54",
   "metadata": {},
   "outputs": [
    {
     "name": "stdout",
     "output_type": "stream",
     "text": [
      "The car is White Tesla Model X from 2020\n"
     ]
    }
   ],
   "source": [
    "my_car.description()"
   ]
  },
  {
   "cell_type": "code",
   "execution_count": 9,
   "id": "67febc35",
   "metadata": {},
   "outputs": [
    {
     "ename": "NameError",
     "evalue": "name 'colour' is not defined",
     "output_type": "error",
     "traceback": [
      "\u001b[1;31m---------------------------------------------------------------------------\u001b[0m",
      "\u001b[1;31mNameError\u001b[0m                                 Traceback (most recent call last)",
      "\u001b[1;32m<ipython-input-9-df3b0f922e8e>\u001b[0m in \u001b[0;36m<module>\u001b[1;34m\u001b[0m\n\u001b[1;32m----> 1\u001b[1;33m \u001b[0mmy_car\u001b[0m\u001b[1;33m.\u001b[0m\u001b[0mdescription_2\u001b[0m\u001b[1;33m(\u001b[0m\u001b[1;33m)\u001b[0m\u001b[1;33m\u001b[0m\u001b[1;33m\u001b[0m\u001b[0m\n\u001b[0m",
      "\u001b[1;32m<ipython-input-1-5887f47e99f9>\u001b[0m in \u001b[0;36mdescription_2\u001b[1;34m(self)\u001b[0m\n\u001b[0;32m     23\u001b[0m     \u001b[1;31m#This is incorrect\u001b[0m\u001b[1;33m\u001b[0m\u001b[1;33m\u001b[0m\u001b[1;33m\u001b[0m\u001b[0m\n\u001b[0;32m     24\u001b[0m     \u001b[1;32mdef\u001b[0m \u001b[0mdescription_2\u001b[0m\u001b[1;33m(\u001b[0m\u001b[0mself\u001b[0m\u001b[1;33m)\u001b[0m\u001b[1;33m:\u001b[0m\u001b[1;33m\u001b[0m\u001b[1;33m\u001b[0m\u001b[0m\n\u001b[1;32m---> 25\u001b[1;33m         \u001b[0mprint\u001b[0m\u001b[1;33m(\u001b[0m\u001b[1;34mf'The car is {colour} {make} {model} from {year}'\u001b[0m\u001b[1;33m)\u001b[0m\u001b[1;33m\u001b[0m\u001b[1;33m\u001b[0m\u001b[0m\n\u001b[0m\u001b[0;32m     26\u001b[0m \u001b[1;33m\u001b[0m\u001b[0m\n",
      "\u001b[1;31mNameError\u001b[0m: name 'colour' is not defined"
     ]
    }
   ],
   "source": [
    "my_car.description_2()"
   ]
  },
  {
   "cell_type": "code",
   "execution_count": null,
   "id": "f4ae3d81",
   "metadata": {},
   "outputs": [],
   "source": [
    "dir(my_car)"
   ]
  },
  {
   "cell_type": "markdown",
   "id": "63ebb7f8",
   "metadata": {},
   "source": [
    "You can use `isinstance(instance,class)` to check if `instance` is an instance of `class`"
   ]
  },
  {
   "cell_type": "code",
   "execution_count": null,
   "id": "62ddea99",
   "metadata": {},
   "outputs": [],
   "source": [
    "isinstance(matts_car,Car)"
   ]
  },
  {
   "cell_type": "code",
   "execution_count": null,
   "id": "9f3f2ad7",
   "metadata": {},
   "outputs": [],
   "source": [
    "class Person:\n",
    "    pass\n",
    "    "
   ]
  },
  {
   "cell_type": "code",
   "execution_count": null,
   "id": "65eb5511",
   "metadata": {},
   "outputs": [],
   "source": [
    "isinstance(my_car,Person)"
   ]
  },
  {
   "cell_type": "code",
   "execution_count": null,
   "id": "d353e7cb",
   "metadata": {},
   "outputs": [],
   "source": [
    "a = 10"
   ]
  },
  {
   "cell_type": "code",
   "execution_count": null,
   "id": "d6c22268",
   "metadata": {},
   "outputs": [],
   "source": [
    "isinstance(a,Car)"
   ]
  },
  {
   "cell_type": "markdown",
   "id": "6f83dd26",
   "metadata": {},
   "source": [
    "### Scoping rules for classes\n",
    "Classes do not create a scope for names inside their bodies and methods. When a method is called, the instance is passed back into the method as self.\n",
    "\n",
    "We need to be very explicit when referring to attributes and methods in a class."
   ]
  },
  {
   "cell_type": "code",
   "execution_count": 50,
   "id": "64671817",
   "metadata": {},
   "outputs": [],
   "source": [
    "class TestClass:\n",
    "    def __init__(self, value):\n",
    "        self.val = value\n",
    "        \n",
    "    def method1(self):\n",
    "        print('method1 has been called')\n",
    "        \n",
    "    def method2(self):\n",
    "        method1()\n",
    "        \n",
    "    def method3(self):\n",
    "        self.method1()"
   ]
  },
  {
   "cell_type": "code",
   "execution_count": 51,
   "id": "4f567466",
   "metadata": {},
   "outputs": [],
   "source": [
    "tc = TestClass('CE02')"
   ]
  },
  {
   "cell_type": "code",
   "execution_count": 52,
   "id": "d4c894d8",
   "metadata": {},
   "outputs": [
    {
     "data": {
      "text/plain": [
       "'CE02'"
      ]
     },
     "execution_count": 52,
     "metadata": {},
     "output_type": "execute_result"
    }
   ],
   "source": [
    "tc.val"
   ]
  },
  {
   "cell_type": "code",
   "execution_count": 53,
   "id": "e1f3f46f",
   "metadata": {},
   "outputs": [
    {
     "name": "stdout",
     "output_type": "stream",
     "text": [
      "method1 has been called\n"
     ]
    }
   ],
   "source": [
    "tc.method1()"
   ]
  },
  {
   "cell_type": "code",
   "execution_count": 54,
   "id": "375d35a4",
   "metadata": {},
   "outputs": [
    {
     "ename": "NameError",
     "evalue": "name 'method1' is not defined",
     "output_type": "error",
     "traceback": [
      "\u001b[1;31m---------------------------------------------------------------------------\u001b[0m",
      "\u001b[1;31mNameError\u001b[0m                                 Traceback (most recent call last)",
      "\u001b[1;32m<ipython-input-54-319634e6d01c>\u001b[0m in \u001b[0;36m<module>\u001b[1;34m\u001b[0m\n\u001b[1;32m----> 1\u001b[1;33m \u001b[0mtc\u001b[0m\u001b[1;33m.\u001b[0m\u001b[0mmethod2\u001b[0m\u001b[1;33m(\u001b[0m\u001b[1;33m)\u001b[0m\u001b[1;33m\u001b[0m\u001b[1;33m\u001b[0m\u001b[0m\n\u001b[0m",
      "\u001b[1;32m<ipython-input-50-7136a3b1869c>\u001b[0m in \u001b[0;36mmethod2\u001b[1;34m(self)\u001b[0m\n\u001b[0;32m      7\u001b[0m \u001b[1;33m\u001b[0m\u001b[0m\n\u001b[0;32m      8\u001b[0m     \u001b[1;32mdef\u001b[0m \u001b[0mmethod2\u001b[0m\u001b[1;33m(\u001b[0m\u001b[0mself\u001b[0m\u001b[1;33m)\u001b[0m\u001b[1;33m:\u001b[0m\u001b[1;33m\u001b[0m\u001b[1;33m\u001b[0m\u001b[0m\n\u001b[1;32m----> 9\u001b[1;33m         \u001b[0mmethod1\u001b[0m\u001b[1;33m(\u001b[0m\u001b[1;33m)\u001b[0m\u001b[1;33m\u001b[0m\u001b[1;33m\u001b[0m\u001b[0m\n\u001b[0m\u001b[0;32m     10\u001b[0m \u001b[1;33m\u001b[0m\u001b[0m\n\u001b[0;32m     11\u001b[0m     \u001b[1;32mdef\u001b[0m \u001b[0mmethod3\u001b[0m\u001b[1;33m(\u001b[0m\u001b[0mself\u001b[0m\u001b[1;33m)\u001b[0m\u001b[1;33m:\u001b[0m\u001b[1;33m\u001b[0m\u001b[1;33m\u001b[0m\u001b[0m\n",
      "\u001b[1;31mNameError\u001b[0m: name 'method1' is not defined"
     ]
    }
   ],
   "source": [
    "tc.method2()"
   ]
  },
  {
   "cell_type": "code",
   "execution_count": 55,
   "id": "02d9f545",
   "metadata": {},
   "outputs": [
    {
     "name": "stdout",
     "output_type": "stream",
     "text": [
      "method1 has been called\n"
     ]
    }
   ],
   "source": [
    "tc.method3()"
   ]
  },
  {
   "cell_type": "markdown",
   "id": "80be30d9",
   "metadata": {},
   "source": [
    "#### Concept check"
   ]
  },
  {
   "cell_type": "code",
   "execution_count": null,
   "id": "6a763410",
   "metadata": {},
   "outputs": [],
   "source": [
    "import random\n",
    "def scramble_text(text):\n",
    "    text_list = list(text)\n",
    "    random.shuffle(text_list)\n",
    "    return ''.join(text_list)"
   ]
  },
  {
   "cell_type": "code",
   "execution_count": null,
   "id": "017efddb",
   "metadata": {},
   "outputs": [],
   "source": [
    "class Teacher:\n",
    "    def __init__(self,is_angry = 0,is_drunk = 0):\n",
    "        self.is_angry = is_angry                  \n",
    "        self.is_drunk = is_drunk                  \n",
    "        \n",
    "    def teach(self):\n",
    "        lesson = 'Python is great!'\n",
    "        angry_text = lesson.upper()\n",
    "        drunk_text = scramble_text(lesson)\n",
    "        angry_and_drunk = scramble_text(angry_text)\n",
    "        if self.is_angry == True and self.is_drunk == True:\n",
    "            print(angry_and_drunk)\n",
    "        elif self.is_angry == True and self.is_drunk == False:\n",
    "            print(angry_text)\n",
    "        elif self.is_angry == False and self.is_drunk == True:\n",
    "            print(scramble_text(drunk_text))\n",
    "            self.is_angry = True\n",
    "        else:\n",
    "            print(lesson)\n",
    "            self.is_angry = True\n",
    "            \n",
    "    \n",
    "    def drink_booze(self):\n",
    "        self.is_drunk = True\n",
    "        self.is_angry = False\n",
    "        self.teach()\n",
    "    \n",
    "    def drink_water(self):\n",
    "        self.is_drunk = False\n",
    "        self.teach()\n",
    "        \n",
    "    def therapy(self):\n",
    "        self.is_angry = False\n",
    "        self.is_drunk = False\n",
    "        self.teach()\n",
    "        "
   ]
  },
  {
   "cell_type": "code",
   "execution_count": null,
   "id": "64008491",
   "metadata": {},
   "outputs": [],
   "source": [
    "Teacher1 = Teacher()"
   ]
  },
  {
   "cell_type": "code",
   "execution_count": null,
   "id": "ce687815",
   "metadata": {},
   "outputs": [],
   "source": [
    "Teacher1.teach()"
   ]
  },
  {
   "cell_type": "code",
   "execution_count": null,
   "id": "7d8e920c",
   "metadata": {},
   "outputs": [],
   "source": [
    "Teacher2 = Teacher(True,True)"
   ]
  },
  {
   "cell_type": "code",
   "execution_count": null,
   "id": "426d0a1f",
   "metadata": {},
   "outputs": [],
   "source": [
    "Teacher2.teach()"
   ]
  },
  {
   "cell_type": "code",
   "execution_count": null,
   "id": "7616c96d",
   "metadata": {},
   "outputs": [],
   "source": [
    "Teacher2.drink_water()"
   ]
  },
  {
   "cell_type": "code",
   "execution_count": null,
   "id": "315d6be0",
   "metadata": {},
   "outputs": [],
   "source": [
    "Teacher1.drink_booze()"
   ]
  },
  {
   "cell_type": "markdown",
   "id": "3537ae31",
   "metadata": {},
   "source": [
    "## OOP Idea #1: Inheritance\n",
    "Inheritance allows us to create classes which specialise or modify the behaviour of an existing class.\n",
    "\n",
    "The existing class that you inherit from: **Parent Class/Super Class/Base Class**\n",
    "\n",
    "The new class that inherits from the Parent class: **Child Class/Sub Class**"
   ]
  },
  {
   "cell_type": "code",
   "execution_count": null,
   "id": "73dd50e0",
   "metadata": {},
   "outputs": [],
   "source": [
    "class DataConsultant:\n",
    "    def __init__(self,fname,lname):\n",
    "        self.fname = fname\n",
    "        self.lname = lname\n",
    "        self.email = self.fname.lower() + self.lname.lower() + '@kubrickgroup.com'\n",
    "        \n",
    "    def print_email(self):\n",
    "        print(self.email)\n",
    "        \n",
    "    def learn_python(self):\n",
    "        print('Learning Python...')\n",
    "        "
   ]
  },
  {
   "cell_type": "code",
   "execution_count": null,
   "id": "2d7cfae5",
   "metadata": {},
   "outputs": [],
   "source": [
    "class CEConsultant(DataConsultant): # CE consultant inherits from DataConsultant\n",
    "    def __init__(self,fname,lname):\n",
    "        super().__init__(fname,lname)\n",
    "        self.practice = 'Cloud Engineering'\n",
    "        \n",
    "    def learn_azure(self):\n",
    "        print('Learning Azure...')\n",
    "        \n",
    "    # you can ovveride methods that you inherit    \n",
    "    def learn_python(self):\n",
    "        print('Learning Python tailored to a CE Consultant')\n",
    "    "
   ]
  },
  {
   "cell_type": "code",
   "execution_count": null,
   "id": "58c7b12b",
   "metadata": {},
   "outputs": [],
   "source": [
    "# Create an instance of a CEConsultant\n",
    "jeevan = CEConsultant('Jeevan','Rai')"
   ]
  },
  {
   "cell_type": "code",
   "execution_count": null,
   "id": "a5ec8556",
   "metadata": {},
   "outputs": [],
   "source": [
    "jeevan.email"
   ]
  },
  {
   "cell_type": "code",
   "execution_count": null,
   "id": "3dd546b4",
   "metadata": {},
   "outputs": [],
   "source": [
    "jeevan.practice"
   ]
  },
  {
   "cell_type": "code",
   "execution_count": null,
   "id": "743282c3",
   "metadata": {},
   "outputs": [],
   "source": [
    "james = DataConsultant('James','Whitehouse')"
   ]
  },
  {
   "cell_type": "code",
   "execution_count": null,
   "id": "fa6dd6cc",
   "metadata": {},
   "outputs": [],
   "source": [
    "james.email"
   ]
  },
  {
   "cell_type": "code",
   "execution_count": null,
   "id": "ae2521e2",
   "metadata": {},
   "outputs": [],
   "source": [
    "james.practice"
   ]
  },
  {
   "cell_type": "code",
   "execution_count": null,
   "id": "0e66a5b6",
   "metadata": {},
   "outputs": [],
   "source": [
    "james.learn_python()"
   ]
  },
  {
   "cell_type": "code",
   "execution_count": null,
   "id": "546032e4",
   "metadata": {},
   "outputs": [],
   "source": [
    "jeevan.learn_python()"
   ]
  },
  {
   "cell_type": "code",
   "execution_count": null,
   "id": "4be02f98",
   "metadata": {},
   "outputs": [],
   "source": [
    "jeevan.learn_azure()"
   ]
  },
  {
   "cell_type": "code",
   "execution_count": null,
   "id": "92dbbea9",
   "metadata": {},
   "outputs": [],
   "source": [
    "james.learn_azure()"
   ]
  },
  {
   "cell_type": "markdown",
   "id": "92a63c1f",
   "metadata": {},
   "source": [
    "### Multiple Inheritance\n",
    "A class can inherit from multiple parent classes."
   ]
  },
  {
   "cell_type": "code",
   "execution_count": null,
   "id": "bb2becd6",
   "metadata": {},
   "outputs": [],
   "source": [
    "class KubrickEmployee:\n",
    "    def __init__(self,employee_number,is_hq=True):\n",
    "        self.employee_number = employee_number\n",
    "        self.is_hq = is_hq\n",
    "        \n",
    "    def print_is_hq(self):\n",
    "        if self.is_hq:\n",
    "            print('HQ employee')\n",
    "        else:\n",
    "            print('Non-HQ employee')"
   ]
  },
  {
   "cell_type": "code",
   "execution_count": null,
   "id": "a0fff1b4",
   "metadata": {},
   "outputs": [],
   "source": [
    "class MLEConsultant(KubrickEmployee, DataConsultant):\n",
    "    def __init__(self,fname,lname,employee_number):\n",
    "        KubrickEmployee.__init__(self,employee_number, is_hq=False)\n",
    "        DataConsultant.__init__(self,fname,lname)\n",
    "        \n",
    "    def learn_ML(self):\n",
    "        print('Learning Machine learning...')"
   ]
  },
  {
   "cell_type": "code",
   "execution_count": null,
   "id": "b07c39c8",
   "metadata": {},
   "outputs": [],
   "source": [
    "ram = MLEConsultant('ram','varadarajan',1234)"
   ]
  },
  {
   "cell_type": "code",
   "execution_count": null,
   "id": "a8631630",
   "metadata": {},
   "outputs": [],
   "source": [
    "ram.print_is_hq()"
   ]
  },
  {
   "cell_type": "code",
   "execution_count": null,
   "id": "5a155f90",
   "metadata": {},
   "outputs": [],
   "source": [
    "ram.learn_ML()"
   ]
  },
  {
   "cell_type": "code",
   "execution_count": null,
   "id": "510b4d5e",
   "metadata": {},
   "outputs": [],
   "source": [
    "ram.email"
   ]
  },
  {
   "cell_type": "code",
   "execution_count": null,
   "id": "11f1d2e3",
   "metadata": {},
   "outputs": [],
   "source": [
    "ram.is_hq"
   ]
  },
  {
   "cell_type": "code",
   "execution_count": 10,
   "id": "86c5794c",
   "metadata": {},
   "outputs": [
    {
     "ename": "NameError",
     "evalue": "name 'ram' is not defined",
     "output_type": "error",
     "traceback": [
      "\u001b[1;31m---------------------------------------------------------------------------\u001b[0m",
      "\u001b[1;31mNameError\u001b[0m                                 Traceback (most recent call last)",
      "\u001b[1;32m<ipython-input-10-4ee83d84675f>\u001b[0m in \u001b[0;36m<module>\u001b[1;34m\u001b[0m\n\u001b[1;32m----> 1\u001b[1;33m \u001b[0mram\u001b[0m\u001b[1;33m.\u001b[0m\u001b[0memployee_number\u001b[0m\u001b[1;33m\u001b[0m\u001b[1;33m\u001b[0m\u001b[0m\n\u001b[0m",
      "\u001b[1;31mNameError\u001b[0m: name 'ram' is not defined"
     ]
    }
   ],
   "source": [
    "ram.employee_number"
   ]
  },
  {
   "cell_type": "markdown",
   "id": "68f72cf5",
   "metadata": {},
   "source": [
    "## OOP Idea #2: Polymorphism, Dynamic Binding and Duck Typing\n",
    "Polymorphism/Dynamic binding is the capability to use an instance without regard to its type. As long as it has the right interface, it will run."
   ]
  },
  {
   "cell_type": "code",
   "execution_count": null,
   "id": "00ecfc92",
   "metadata": {
    "scrolled": true
   },
   "outputs": [],
   "source": [
    "# Operator polymorphism ('+')\n",
    "#int+int --> adds\n",
    "#str+str --> concatenates\n",
    "print(1+1)\n",
    "print('1'+'1')"
   ]
  },
  {
   "cell_type": "code",
   "execution_count": null,
   "id": "0734bd35",
   "metadata": {},
   "outputs": [],
   "source": [
    "# Function polymorphism ('len')\n",
    "print(len((1,2,3))) # tuple\n",
    "print(len([1,2,3])) # list\n",
    "print(len('123')) # string\n",
    "print(len({'1':1,'b':2,'c':3})) # dictionary\n"
   ]
  },
  {
   "cell_type": "code",
   "execution_count": null,
   "id": "535c77c7",
   "metadata": {},
   "outputs": [],
   "source": [
    "# Example of polymorphism\n",
    "class Circle:\n",
    "    def __init__(self,radius):\n",
    "        self.radius = radius\n",
    "    \n",
    "    def area(self):\n",
    "        return 3.14 * self.radius**2\n",
    "\n",
    "class Rectangle:\n",
    "   \n",
    "    def __init__(self,length,width):\n",
    "        self.length = length\n",
    "        self.width = width\n",
    "   \n",
    "    def area(self):\n",
    "        return self.length * self.width\n",
    "\n",
    "class Square(Rectangle):\n",
    "    \n",
    "    def __init__(self, side):\n",
    "        Rectangle.__init__(self,side,side)"
   ]
  },
  {
   "cell_type": "code",
   "execution_count": null,
   "id": "efcd24e6",
   "metadata": {},
   "outputs": [],
   "source": [
    "circle1 = Circle(5)\n",
    "rect1 = Rectangle(10,20)\n",
    "sqr1 = Square(50)"
   ]
  },
  {
   "cell_type": "code",
   "execution_count": null,
   "id": "5aeaa43b",
   "metadata": {},
   "outputs": [],
   "source": [
    "for item in [circle1,rect1,sqr1]:\n",
    "    print(item.area())"
   ]
  },
  {
   "cell_type": "markdown",
   "id": "8420a24d",
   "metadata": {},
   "source": [
    "## Class methods and Static methods\n",
    "In a class definition, methods are assumed to operate on the class instance (self)\n",
    "\n",
    "Class methods and static methods are exceptions:\n",
    "- Class methods are methods that operate on the class (as opposed to an instance)\n",
    "    - Created using the decorator `@classmethod`\n",
    "    - Includes a parameter `cls` to refer to the class\n",
    "  \n",
    "- Static methods are functions that live inside a class. They do not interact with the attributes of the class.\n",
    "    - Created using the decorator `@staticmethod`\n",
    "    - Do not have `self` or `cls` arguments"
   ]
  },
  {
   "cell_type": "code",
   "execution_count": null,
   "id": "8bf21325",
   "metadata": {},
   "outputs": [],
   "source": [
    "# Examples of class variables, class method and static method\n",
    "class Person:\n",
    "    # class variables/attributes (shared among all instances)\n",
    "    counter = 0 # keeps track of the number of instances we have created with this class\n",
    "    \n",
    "    def __init__(self,name,location):\n",
    "        self.name = name\n",
    "        self.location = location\n",
    "        self.increment_counter()\n",
    "    \n",
    "    # instance method\n",
    "    def description(self):\n",
    "        print(f\"The person's name is {self.name} and they live in {self.location}\")\n",
    "   \n",
    "    # static method\n",
    "    @staticmethod\n",
    "    def is_adult(age):\n",
    "        if age>18:\n",
    "            print('person is an adult')\n",
    "        else:\n",
    "            print('person is a child')\n",
    "    \n",
    "    # class method        \n",
    "    @classmethod\n",
    "    def increment_counter(cls):\n",
    "        cls.counter += 1 # cls is Person, this will run Person.counter += 1"
   ]
  },
  {
   "cell_type": "code",
   "execution_count": null,
   "id": "f34aff05",
   "metadata": {},
   "outputs": [],
   "source": [
    "person1 = Person('Finn','Paris')"
   ]
  },
  {
   "cell_type": "code",
   "execution_count": null,
   "id": "8921296c",
   "metadata": {},
   "outputs": [],
   "source": [
    "Person.is_adult(60)"
   ]
  },
  {
   "cell_type": "code",
   "execution_count": null,
   "id": "b43ea41c",
   "metadata": {},
   "outputs": [],
   "source": [
    "Person.is_adult(10)"
   ]
  },
  {
   "cell_type": "code",
   "execution_count": null,
   "id": "994f5a2c",
   "metadata": {},
   "outputs": [],
   "source": [
    "person1.is_adult(10)"
   ]
  },
  {
   "cell_type": "code",
   "execution_count": null,
   "id": "7858b1c0",
   "metadata": {},
   "outputs": [],
   "source": [
    "Person.counter"
   ]
  },
  {
   "cell_type": "code",
   "execution_count": null,
   "id": "65927341",
   "metadata": {},
   "outputs": [],
   "source": [
    "person2 = Person('Abdullah','London')"
   ]
  },
  {
   "cell_type": "code",
   "execution_count": null,
   "id": "d4e07433",
   "metadata": {},
   "outputs": [],
   "source": [
    "Person.counter"
   ]
  },
  {
   "cell_type": "markdown",
   "id": "9fb4127d",
   "metadata": {},
   "source": [
    "#### Concept check"
   ]
  },
  {
   "cell_type": "code",
   "execution_count": 14,
   "id": "8fc7b369",
   "metadata": {},
   "outputs": [],
   "source": [
    "class Student:\n",
    "    counter = 0\n",
    "    class_intelligence = 0\n",
    "    def __init__(self, name, intelligence = 0):\n",
    "        self.name = name\n",
    "        self.intelligence = intelligence\n",
    "        Student.class_intelligence = self.intelligence\n",
    "        self.inc_counter()\n",
    "        \n",
    "    def go_boozing(self):\n",
    "        self.intelligence -= 10\n",
    "        Student.class_intelligence -= 10\n",
    "        \n",
    "    def study(self):\n",
    "        self.intelligence += 5 \n",
    "        Student.class_intelligence += 5\n",
    "        \n",
    "    @classmethod\n",
    "    def inc_counter(cls):\n",
    "        cls.counter += 1 "
   ]
  },
  {
   "cell_type": "code",
   "execution_count": 15,
   "id": "6e7d49bc",
   "metadata": {},
   "outputs": [],
   "source": [
    "student1 = Student('Jeevan',0)"
   ]
  },
  {
   "cell_type": "code",
   "execution_count": 16,
   "id": "710f0bda",
   "metadata": {
    "scrolled": true
   },
   "outputs": [
    {
     "data": {
      "text/plain": [
       "0"
      ]
     },
     "execution_count": 16,
     "metadata": {},
     "output_type": "execute_result"
    }
   ],
   "source": [
    "student1.intelligence"
   ]
  },
  {
   "cell_type": "code",
   "execution_count": null,
   "id": "43196f36",
   "metadata": {},
   "outputs": [],
   "source": [
    "student1.study()"
   ]
  },
  {
   "cell_type": "code",
   "execution_count": null,
   "id": "7c672e34",
   "metadata": {},
   "outputs": [],
   "source": [
    "student1.intelligence"
   ]
  },
  {
   "cell_type": "code",
   "execution_count": null,
   "id": "b6cc4c08",
   "metadata": {},
   "outputs": [],
   "source": [
    "student1.class_intelligence"
   ]
  },
  {
   "cell_type": "code",
   "execution_count": 17,
   "id": "7c6d93ff",
   "metadata": {},
   "outputs": [],
   "source": [
    "student2 = Student('Tom',20)"
   ]
  },
  {
   "cell_type": "code",
   "execution_count": 18,
   "id": "8d3c26bf",
   "metadata": {},
   "outputs": [
    {
     "data": {
      "text/plain": [
       "20"
      ]
     },
     "execution_count": 18,
     "metadata": {},
     "output_type": "execute_result"
    }
   ],
   "source": [
    "Student.class_intelligence"
   ]
  },
  {
   "cell_type": "code",
   "execution_count": 19,
   "id": "9ade263a",
   "metadata": {},
   "outputs": [
    {
     "data": {
      "text/plain": [
       "2"
      ]
     },
     "execution_count": 19,
     "metadata": {},
     "output_type": "execute_result"
    }
   ],
   "source": [
    "Student.counter"
   ]
  },
  {
   "cell_type": "code",
   "execution_count": 20,
   "id": "273cbd0a",
   "metadata": {},
   "outputs": [],
   "source": [
    "student2.study()"
   ]
  },
  {
   "cell_type": "code",
   "execution_count": 21,
   "id": "54515f64",
   "metadata": {},
   "outputs": [
    {
     "data": {
      "text/plain": [
       "25"
      ]
     },
     "execution_count": 21,
     "metadata": {},
     "output_type": "execute_result"
    }
   ],
   "source": [
    "Student.class_intelligence"
   ]
  },
  {
   "cell_type": "markdown",
   "id": "7f8069a6",
   "metadata": {},
   "source": [
    "## OOP idea #3: Data encapsulation and private attributes/methods\n",
    "Private methods/attributes are those that you don't want to expose to the outside world.\n",
    "- In Python, private attributes start with a double underscore or dunder (`__`)\n",
    "- Python obfuscates the names of these private attributes, so that it is harder to use them\n",
    "- They should not be accessed from outside the class\n",
    "\n",
    "Protected attributes begin with a single underscore (`_`)\n",
    "- It is recommended that they are not accessed from the outside, these attributes may change from one release version to another."
   ]
  },
  {
   "cell_type": "code",
   "execution_count": 30,
   "id": "deeff7f2",
   "metadata": {},
   "outputs": [],
   "source": [
    "class BankAccount:\n",
    "    def __init__(self,password):\n",
    "        self._pin = 123 #_pin is a protected attribute \n",
    "        self.__password = password # __password is a private attribute\n",
    "        self.balance = 0\n",
    "        \n",
    "    def deposit(self,amount):\n",
    "        if amount >0:\n",
    "            self.balance += amount \n",
    "            \n",
    "    def withdraw(self,amount,password):\n",
    "        if self.__password == password:\n",
    "            self.balance -= amount\n",
    "            print('Withdraw successful')\n",
    "            return amount\n",
    "        else:\n",
    "            print('Withdraw unsuccessful - incorrect password')\n",
    "            return 0"
   ]
  },
  {
   "cell_type": "code",
   "execution_count": 31,
   "id": "a25974d3",
   "metadata": {},
   "outputs": [],
   "source": [
    "ba = BankAccount('1234')"
   ]
  },
  {
   "cell_type": "code",
   "execution_count": 24,
   "id": "76f0c4bb",
   "metadata": {},
   "outputs": [
    {
     "data": {
      "text/plain": [
       "0"
      ]
     },
     "execution_count": 24,
     "metadata": {},
     "output_type": "execute_result"
    }
   ],
   "source": [
    "ba.balance"
   ]
  },
  {
   "cell_type": "code",
   "execution_count": 35,
   "id": "1f192cb2",
   "metadata": {},
   "outputs": [],
   "source": [
    "ba.deposit(1000)"
   ]
  },
  {
   "cell_type": "code",
   "execution_count": 26,
   "id": "ff957cf5",
   "metadata": {},
   "outputs": [
    {
     "data": {
      "text/plain": [
       "1000"
      ]
     },
     "execution_count": 26,
     "metadata": {},
     "output_type": "execute_result"
    }
   ],
   "source": [
    "ba.balance"
   ]
  },
  {
   "cell_type": "code",
   "execution_count": 32,
   "id": "fd75221e",
   "metadata": {},
   "outputs": [
    {
     "name": "stdout",
     "output_type": "stream",
     "text": [
      "Withdraw unsuccessful - incorrect password\n",
      "0\n"
     ]
    }
   ],
   "source": [
    "amount = ba.withdraw(500,'5678')\n",
    "print(amount)"
   ]
  },
  {
   "cell_type": "code",
   "execution_count": 33,
   "id": "ab326615",
   "metadata": {},
   "outputs": [
    {
     "name": "stdout",
     "output_type": "stream",
     "text": [
      "Withdraw successful\n",
      "500\n"
     ]
    }
   ],
   "source": [
    "amount = ba.withdraw(500,'1234')\n",
    "print(amount)"
   ]
  },
  {
   "cell_type": "code",
   "execution_count": 36,
   "id": "e38b9b8e",
   "metadata": {},
   "outputs": [
    {
     "data": {
      "text/plain": [
       "500"
      ]
     },
     "execution_count": 36,
     "metadata": {},
     "output_type": "execute_result"
    }
   ],
   "source": [
    "ba.balance"
   ]
  },
  {
   "cell_type": "code",
   "execution_count": 37,
   "id": "08c3c9cf",
   "metadata": {},
   "outputs": [
    {
     "ename": "AttributeError",
     "evalue": "'BankAccount' object has no attribute 'password'",
     "output_type": "error",
     "traceback": [
      "\u001b[1;31m---------------------------------------------------------------------------\u001b[0m",
      "\u001b[1;31mAttributeError\u001b[0m                            Traceback (most recent call last)",
      "\u001b[1;32m<ipython-input-37-f3d2f3556370>\u001b[0m in \u001b[0;36m<module>\u001b[1;34m\u001b[0m\n\u001b[0;32m      1\u001b[0m \u001b[1;31m# Get the private attribute '__password' of this instance ba\u001b[0m\u001b[1;33m\u001b[0m\u001b[1;33m\u001b[0m\u001b[1;33m\u001b[0m\u001b[0m\n\u001b[1;32m----> 2\u001b[1;33m \u001b[0mba\u001b[0m\u001b[1;33m.\u001b[0m\u001b[0mpassword\u001b[0m\u001b[1;33m\u001b[0m\u001b[1;33m\u001b[0m\u001b[0m\n\u001b[0m",
      "\u001b[1;31mAttributeError\u001b[0m: 'BankAccount' object has no attribute 'password'"
     ]
    }
   ],
   "source": [
    "# Get the private attribute '__password' of this instance ba\n",
    "ba.password"
   ]
  },
  {
   "cell_type": "code",
   "execution_count": 38,
   "id": "b8a97f19",
   "metadata": {},
   "outputs": [
    {
     "ename": "AttributeError",
     "evalue": "'BankAccount' object has no attribute '__password'",
     "output_type": "error",
     "traceback": [
      "\u001b[1;31m---------------------------------------------------------------------------\u001b[0m",
      "\u001b[1;31mAttributeError\u001b[0m                            Traceback (most recent call last)",
      "\u001b[1;32m<ipython-input-38-575540c3d48b>\u001b[0m in \u001b[0;36m<module>\u001b[1;34m\u001b[0m\n\u001b[1;32m----> 1\u001b[1;33m \u001b[0mba\u001b[0m\u001b[1;33m.\u001b[0m\u001b[0m__password\u001b[0m\u001b[1;33m\u001b[0m\u001b[1;33m\u001b[0m\u001b[0m\n\u001b[0m",
      "\u001b[1;31mAttributeError\u001b[0m: 'BankAccount' object has no attribute '__password'"
     ]
    }
   ],
   "source": [
    "ba.__password"
   ]
  },
  {
   "cell_type": "code",
   "execution_count": 39,
   "id": "dc94a86e",
   "metadata": {},
   "outputs": [
    {
     "data": {
      "text/plain": [
       "['_BankAccount__password',\n",
       " '__class__',\n",
       " '__delattr__',\n",
       " '__dict__',\n",
       " '__dir__',\n",
       " '__doc__',\n",
       " '__eq__',\n",
       " '__format__',\n",
       " '__ge__',\n",
       " '__getattribute__',\n",
       " '__gt__',\n",
       " '__hash__',\n",
       " '__init__',\n",
       " '__init_subclass__',\n",
       " '__le__',\n",
       " '__lt__',\n",
       " '__module__',\n",
       " '__ne__',\n",
       " '__new__',\n",
       " '__reduce__',\n",
       " '__reduce_ex__',\n",
       " '__repr__',\n",
       " '__setattr__',\n",
       " '__sizeof__',\n",
       " '__str__',\n",
       " '__subclasshook__',\n",
       " '__weakref__',\n",
       " '_pin',\n",
       " 'balance',\n",
       " 'deposit',\n",
       " 'withdraw']"
      ]
     },
     "execution_count": 39,
     "metadata": {},
     "output_type": "execute_result"
    }
   ],
   "source": [
    "dir(ba)"
   ]
  },
  {
   "cell_type": "code",
   "execution_count": 40,
   "id": "6cd44f96",
   "metadata": {},
   "outputs": [
    {
     "data": {
      "text/plain": [
       "'1234'"
      ]
     },
     "execution_count": 40,
     "metadata": {},
     "output_type": "execute_result"
    }
   ],
   "source": [
    "ba._BankAccount__password"
   ]
  },
  {
   "cell_type": "code",
   "execution_count": 41,
   "id": "0bfbc7f9",
   "metadata": {},
   "outputs": [
    {
     "data": {
      "text/plain": [
       "123"
      ]
     },
     "execution_count": 41,
     "metadata": {},
     "output_type": "execute_result"
    }
   ],
   "source": [
    "ba._pin"
   ]
  },
  {
   "cell_type": "markdown",
   "id": "df75e6a8",
   "metadata": {},
   "source": [
    "## Class properties\n",
    "A property is a special kind of attribute that computes its value when it is accessed.\n",
    "To define a property we use the `@property` decorator."
   ]
  },
  {
   "cell_type": "code",
   "execution_count": 43,
   "id": "01ed110a",
   "metadata": {},
   "outputs": [],
   "source": [
    "class Circle:\n",
    "    def __init__(self,radius):\n",
    "        self.radius = radius\n",
    "        self.area = 3.14 * radius**2"
   ]
  },
  {
   "cell_type": "code",
   "execution_count": 44,
   "id": "43b95b7b",
   "metadata": {},
   "outputs": [],
   "source": [
    "circ1 = Circle(5)"
   ]
  },
  {
   "cell_type": "code",
   "execution_count": 45,
   "id": "38519d09",
   "metadata": {},
   "outputs": [
    {
     "data": {
      "text/plain": [
       "5"
      ]
     },
     "execution_count": 45,
     "metadata": {},
     "output_type": "execute_result"
    }
   ],
   "source": [
    "circ1.radius"
   ]
  },
  {
   "cell_type": "code",
   "execution_count": 46,
   "id": "7dcf02f9",
   "metadata": {},
   "outputs": [
    {
     "data": {
      "text/plain": [
       "78.5"
      ]
     },
     "execution_count": 46,
     "metadata": {},
     "output_type": "execute_result"
    }
   ],
   "source": [
    "circ1.area"
   ]
  },
  {
   "cell_type": "code",
   "execution_count": 47,
   "id": "0065e06e",
   "metadata": {},
   "outputs": [],
   "source": [
    "circ1.radius = 10"
   ]
  },
  {
   "cell_type": "code",
   "execution_count": 48,
   "id": "668e1daa",
   "metadata": {},
   "outputs": [
    {
     "data": {
      "text/plain": [
       "78.5"
      ]
     },
     "execution_count": 48,
     "metadata": {},
     "output_type": "execute_result"
    }
   ],
   "source": [
    "circ1.area"
   ]
  },
  {
   "cell_type": "code",
   "execution_count": null,
   "id": "b9b02404",
   "metadata": {},
   "outputs": [],
   "source": []
  }
 ],
 "metadata": {
  "kernelspec": {
   "display_name": "Python 3",
   "language": "python",
   "name": "python3"
  },
  "language_info": {
   "codemirror_mode": {
    "name": "ipython",
    "version": 3
   },
   "file_extension": ".py",
   "mimetype": "text/x-python",
   "name": "python",
   "nbconvert_exporter": "python",
   "pygments_lexer": "ipython3",
   "version": "3.8.8"
  },
  "toc": {
   "base_numbering": 1,
   "nav_menu": {},
   "number_sections": true,
   "sideBar": true,
   "skip_h1_title": false,
   "title_cell": "Table of Contents",
   "title_sidebar": "Contents",
   "toc_cell": false,
   "toc_position": {},
   "toc_section_display": true,
   "toc_window_display": false
  }
 },
 "nbformat": 4,
 "nbformat_minor": 5
}
