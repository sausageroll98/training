{
 "cells": [
  {
   "cell_type": "markdown",
   "id": "e38eab60",
   "metadata": {},
   "source": [
    "## Introduction to Jupyter notebooks"
   ]
  },
  {
   "cell_type": "markdown",
   "id": "6ca7d8eb",
   "metadata": {},
   "source": [
    "There are two types of cell modes in Jupyter:\n",
    "    \n",
    "- Command mode (blue box)\n",
    "- Edit mode (green box)\n",
    "    \n",
    "To run a cell, press shift (or ctrl) + Enter\n",
    "\n",
    "In command mode (after pressing Esc),\n",
    "\n",
    "- click 'm' to go to Markdown cell type\n",
    "- click 'y' to go to Python code cell type\n",
    "\n",
    "To create a cell above the current cell, press 'a'.\n",
    "To create a cell below the current cell, press 'b'.\n",
    "To delere a cell, use 'd, d'\n",
    "\n",
    "For a markdown guide, use https://www.markdownguide.org/cheat-sheet/"
   ]
  },
  {
   "cell_type": "markdown",
   "id": "271d40c4",
   "metadata": {},
   "source": [
    "## Variables and Arithmetic Expressions"
   ]
  },
  {
   "cell_type": "code",
   "execution_count": 1,
   "id": "ec3019de",
   "metadata": {},
   "outputs": [
    {
     "data": {
      "text/plain": [
       "21"
      ]
     },
     "execution_count": 1,
     "metadata": {},
     "output_type": "execute_result"
    }
   ],
   "source": [
    "6+3*5"
   ]
  },
  {
   "cell_type": "markdown",
   "id": "12af3bfb",
   "metadata": {},
   "source": [
    "Equals '=' sign is called the assignment operator. It assigns the value to its right to the variable to the left."
   ]
  },
  {
   "cell_type": "code",
   "execution_count": 16,
   "id": "200c16ee",
   "metadata": {},
   "outputs": [],
   "source": [
    "a = 10"
   ]
  },
  {
   "cell_type": "code",
   "execution_count": 15,
   "id": "13973ca8",
   "metadata": {},
   "outputs": [
    {
     "name": "stdout",
     "output_type": "stream",
     "text": [
      "10\n"
     ]
    }
   ],
   "source": [
    "print(a)"
   ]
  },
  {
   "cell_type": "code",
   "execution_count": 17,
   "id": "cec8716e",
   "metadata": {},
   "outputs": [
    {
     "name": "stdout",
     "output_type": "stream",
     "text": [
      "Hello\n"
     ]
    }
   ],
   "source": [
    "b = 'Hello'\n",
    "print(b)"
   ]
  },
  {
   "cell_type": "code",
   "execution_count": 18,
   "id": "7f99d0e4",
   "metadata": {},
   "outputs": [
    {
     "name": "stdout",
     "output_type": "stream",
     "text": [
      "50\n"
     ]
    }
   ],
   "source": [
    "a = 5\n",
    "b = 10\n",
    "c = a*b\n",
    "print(c)"
   ]
  },
  {
   "cell_type": "markdown",
   "id": "4e594d77",
   "metadata": {},
   "source": [
    "### Rules for creating variable names"
   ]
  },
  {
   "cell_type": "markdown",
   "id": "1385d0be",
   "metadata": {},
   "source": [
    "- Only letters, numbers and underscore (\\_) characters in the names\n",
    "- Variable name cannot begin with a number\n",
    "- Variable name cannot be a python keyword (Check help('keywords') for these keywords)\n",
    "- Variable names are case-sensitive\n",
    "\n",
    "### Conventions\n",
    "- Use lowercase rather than uppercase\n",
    "- Variable names starting with '_' have a special role in python\n"
   ]
  },
  {
   "cell_type": "code",
   "execution_count": 19,
   "id": "a4d8c523",
   "metadata": {},
   "outputs": [
    {
     "name": "stdout",
     "output_type": "stream",
     "text": [
      "\n",
      "Here is a list of the Python keywords.  Enter any keyword to get more help.\n",
      "\n",
      "False               class               from                or\n",
      "None                continue            global              pass\n",
      "True                def                 if                  raise\n",
      "and                 del                 import              return\n",
      "as                  elif                in                  try\n",
      "assert              else                is                  while\n",
      "async               except              lambda              with\n",
      "await               finally             nonlocal            yield\n",
      "break               for                 not                 \n",
      "\n"
     ]
    }
   ],
   "source": [
    "help('keywords')"
   ]
  },
  {
   "cell_type": "markdown",
   "id": "9980c958",
   "metadata": {},
   "source": [
    "#### Concept check\n",
    "\n",
    "Which of the below will give errors?"
   ]
  },
  {
   "cell_type": "code",
   "execution_count": null,
   "id": "5371eb94",
   "metadata": {},
   "outputs": [],
   "source": [
    "for = 2 # error\n",
    "for1 = 2\n",
    "FOR = 2\n",
    "For = 2\n",
    "for_ = 2\n",
    "1for = 2 # error\n",
    "for_abc£ = 2 # error"
   ]
  },
  {
   "cell_type": "code",
   "execution_count": 22,
   "id": "5a104583",
   "metadata": {},
   "outputs": [
    {
     "name": "stdout",
     "output_type": "stream",
     "text": [
      "Variable   Type    Data/Info\n",
      "----------------------------\n",
      "a          int     5\n",
      "b          int     10\n",
      "c          int     50\n"
     ]
    }
   ],
   "source": [
    "# helpful function to list all variables created so far, sometimes needs a % sign in front\n",
    "%whos"
   ]
  },
  {
   "cell_type": "markdown",
   "id": "3e2b569e",
   "metadata": {},
   "source": [
    "## Strings\n",
    "String data type holds a sequence of characters (letters, numbers, punctuations, symbols etc.)\n",
    "\n",
    "There are different ways to create a string:\n",
    "- Single quotes (')\n",
    "- Double quotes (\")\n",
    "- Three single/double quotes (''' or \"\"\")"
   ]
  },
  {
   "cell_type": "code",
   "execution_count": 24,
   "id": "9abe9092",
   "metadata": {},
   "outputs": [
    {
     "name": "stdout",
     "output_type": "stream",
     "text": [
      "Hello CE02\n"
     ]
    }
   ],
   "source": [
    "my_str1 = 'Hello CE02'\n",
    "print(my_str1)"
   ]
  },
  {
   "cell_type": "code",
   "execution_count": 25,
   "id": "919558fb",
   "metadata": {},
   "outputs": [
    {
     "name": "stdout",
     "output_type": "stream",
     "text": [
      "We are learning python\n"
     ]
    }
   ],
   "source": [
    "my_str2 = \"We are learning python\"\n",
    "print(my_str2)"
   ]
  },
  {
   "cell_type": "code",
   "execution_count": 26,
   "id": "c41f8ffb",
   "metadata": {},
   "outputs": [
    {
     "name": "stdout",
     "output_type": "stream",
     "text": [
      "This is a triple quote line\n"
     ]
    }
   ],
   "source": [
    "my_str3 = '''This is a triple quote line'''\n",
    "print(my_str3)"
   ]
  },
  {
   "cell_type": "code",
   "execution_count": 29,
   "id": "62f4f7b0",
   "metadata": {},
   "outputs": [
    {
     "name": "stdout",
     "output_type": "stream",
     "text": [
      "Ram said, 'This is going to be a fun week!'\n"
     ]
    }
   ],
   "source": [
    "my_str4 = \"Ram said, 'This is going to be a fun week!'\"\n",
    "print(my_str4)"
   ]
  },
  {
   "cell_type": "code",
   "execution_count": 30,
   "id": "f244ac90",
   "metadata": {},
   "outputs": [
    {
     "name": "stdout",
     "output_type": "stream",
     "text": [
      "\n",
      "This\n",
      "is\n",
      "a\n",
      "multi-line\n",
      "string\n"
     ]
    }
   ],
   "source": [
    "my_str5 = '''\n",
    "This\n",
    "is\n",
    "a\n",
    "multi-line\n",
    "string'''\n",
    "print(my_str5)"
   ]
  },
  {
   "cell_type": "code",
   "execution_count": 32,
   "id": "f955ee41",
   "metadata": {},
   "outputs": [
    {
     "name": "stdout",
     "output_type": "stream",
     "text": [
      "Ram's sister said, \"This is a string\"\n"
     ]
    }
   ],
   "source": [
    "my_str6 = '''Ram's sister said, \"This is a string\"'''\n",
    "print(my_str6)"
   ]
  },
  {
   "cell_type": "markdown",
   "id": "8ec53457",
   "metadata": {},
   "source": [
    "### Formatting strings\n",
    "\n",
    "Formatting strings is useful if you have a string with placeholders and you want to replace the placeholders with variable names.\n",
    "Placeholders are created in the string using curly brackets {}"
   ]
  },
  {
   "cell_type": "code",
   "execution_count": 33,
   "id": "e132f294",
   "metadata": {},
   "outputs": [
    {
     "name": "stdout",
     "output_type": "stream",
     "text": [
      "Hi, my name is Finn and my number is 0795 xxx xxx\n"
     ]
    }
   ],
   "source": [
    "# old way\n",
    "name = 'Finn'\n",
    "number = '0795 xxx xxx'\n",
    "print('Hi, my name is {} and my number is {}'.format(name, number))"
   ]
  },
  {
   "cell_type": "code",
   "execution_count": 34,
   "id": "845dbc9b",
   "metadata": {},
   "outputs": [
    {
     "name": "stdout",
     "output_type": "stream",
     "text": [
      "Hi, my name is Finn and my number is 0795 xxx xxx\n"
     ]
    }
   ],
   "source": [
    "# new way (f-string)\n",
    "print(f'Hi, my name is {name} and my number is {number}')"
   ]
  },
  {
   "cell_type": "code",
   "execution_count": 37,
   "id": "082c5bc6",
   "metadata": {},
   "outputs": [
    {
     "name": "stdout",
     "output_type": "stream",
     "text": [
      "This is a message\n",
      "\n",
      "\n",
      "\tThis is another message\n"
     ]
    }
   ],
   "source": [
    "# Raw string literals (r-strings)\n",
    "print('This is a message\\n\\n\\n\\tThis is another message')"
   ]
  },
  {
   "cell_type": "code",
   "execution_count": 38,
   "id": "2b31937c",
   "metadata": {},
   "outputs": [
    {
     "name": "stdout",
     "output_type": "stream",
     "text": [
      "This is a message\\n\\n\\n\\tThis is another message\n"
     ]
    }
   ],
   "source": [
    "print(r'This is a message\\n\\n\\n\\tThis is another message')"
   ]
  },
  {
   "cell_type": "code",
   "execution_count": 46,
   "id": "8b791f12",
   "metadata": {},
   "outputs": [
    {
     "name": "stdout",
     "output_type": "stream",
     "text": [
      "5.0\n"
     ]
    }
   ],
   "source": [
    "import math\n",
    "base = 3\n",
    "height = 4\n",
    "hypotenuse = math.sqrt(base**2 + height**2)\n",
    "print(hypotenuse)"
   ]
  },
  {
   "cell_type": "code",
   "execution_count": 48,
   "id": "ba1a111c",
   "metadata": {},
   "outputs": [
    {
     "name": "stdout",
     "output_type": "stream",
     "text": [
      "24\n"
     ]
    }
   ],
   "source": [
    "a = 5\n",
    "b = 7\n",
    "perimeter = 2*a + 2*b\n",
    "print(perimeter)"
   ]
  },
  {
   "cell_type": "markdown",
   "id": "4110adcd",
   "metadata": {},
   "source": [
    "## Conditional statements\n",
    "\n",
    "Syntax for `if` statement:\n",
    "\n",
    "``` \n",
    "if <condition>:\n",
    "    statement to execute if condition is satisfied\n",
    "```\n",
    "There is an optional `else` statement that works with `if`:\n",
    "\n",
    "``` \n",
    "if <condition>:\n",
    "    statement to execute if condition is satisfied\n",
    "else:\n",
    "    statement to execute if condition is not satisfied\n",
    "```\n"
   ]
  },
  {
   "cell_type": "code",
   "execution_count": 49,
   "id": "3f43eb43",
   "metadata": {},
   "outputs": [
    {
     "name": "stdout",
     "output_type": "stream",
     "text": [
      "a is greater than 5\n"
     ]
    }
   ],
   "source": [
    "a = 10\n",
    "if a>5:\n",
    "    print('a is greater than 5')"
   ]
  },
  {
   "cell_type": "code",
   "execution_count": 52,
   "id": "b57fe621",
   "metadata": {},
   "outputs": [
    {
     "name": "stdout",
     "output_type": "stream",
     "text": [
      "a is greater than b\n",
      "the condition is not satisfied\n",
      "Exiting the conditional branch\n"
     ]
    }
   ],
   "source": [
    "a = 15\n",
    "b = 10\n",
    "\n",
    "if a<b:\n",
    "    print('a is smaller than b')\n",
    "    print('the condition is satisfied')\n",
    "else:\n",
    "    print('a is greater than b')\n",
    "    print('the condition is not satisfied')\n",
    "\n",
    "print('Exiting the conditional branch')"
   ]
  },
  {
   "cell_type": "code",
   "execution_count": 65,
   "id": "5c544da1",
   "metadata": {},
   "outputs": [
    {
     "name": "stdout",
     "output_type": "stream",
     "text": [
      "$-1811.36 owed\n"
     ]
    }
   ],
   "source": [
    "principal = -1000\n",
    "rate = 0.02\n",
    "years = 30\n",
    "\n",
    "amount = principal*((1+rate)**years)\n",
    "\n",
    "if amount<0:\n",
    "    print(f'${amount:.2f} owed')\n",
    "else:\n",
    "    print(f'${amount:.2f} in bank account')\n"
   ]
  },
  {
   "cell_type": "markdown",
   "id": "a81dd40d",
   "metadata": {},
   "source": [
    "### Collections\n",
    "There are four main data types in python for storing multiple values in a single variable\n",
    "- Lists\n",
    "- Tuples\n",
    "- Sets\n",
    "- Dictionaries\n",
    "\n",
    "Three main properties associated with each collection:\n",
    "- Mutability - whether you can change the value of the collection after creation\n",
    "- Ordering - whether the values are ordered\n",
    "- Uniqueness - whether there can be more than one of the same value in the collection\n",
    "\n",
    "\n"
   ]
  },
  {
   "cell_type": "markdown",
   "id": "70edfc41",
   "metadata": {},
   "source": [
    "### Lists\n",
    "\n",
    "- Used to store a sequence of items\n",
    "- **Mutable**, **ordered** collection of values\n",
    "- Created using a pair of square brackets `[]`"
   ]
  },
  {
   "cell_type": "code",
   "execution_count": 66,
   "id": "09a75176",
   "metadata": {},
   "outputs": [
    {
     "name": "stdout",
     "output_type": "stream",
     "text": [
      "[1, 2, 3]\n"
     ]
    }
   ],
   "source": [
    "my_list = [1,2,3]\n",
    "print(my_list)"
   ]
  },
  {
   "cell_type": "code",
   "execution_count": 67,
   "id": "e9d0d678",
   "metadata": {},
   "outputs": [
    {
     "name": "stdout",
     "output_type": "stream",
     "text": [
      "['a', 'b', 'c']\n"
     ]
    }
   ],
   "source": [
    "my_list2 = ['a','b','c']\n",
    "print(my_list2)"
   ]
  },
  {
   "cell_type": "code",
   "execution_count": 68,
   "id": "cab905fd",
   "metadata": {},
   "outputs": [
    {
     "name": "stdout",
     "output_type": "stream",
     "text": [
      "[1, 2, 3, 4]\n"
     ]
    }
   ],
   "source": [
    "# Adding elements to a list. Use .append() to add element to the end of a list\n",
    "my_list.append(4)\n",
    "print(my_list)"
   ]
  },
  {
   "cell_type": "code",
   "execution_count": 69,
   "id": "cc798418",
   "metadata": {},
   "outputs": [
    {
     "data": {
      "text/plain": [
       "1"
      ]
     },
     "execution_count": 69,
     "metadata": {},
     "output_type": "execute_result"
    }
   ],
   "source": [
    "# First element of a list on python has an index 0 using [ ]\n",
    "my_list[0]"
   ]
  },
  {
   "cell_type": "code",
   "execution_count": 70,
   "id": "7d8727b4",
   "metadata": {},
   "outputs": [
    {
     "ename": "IndexError",
     "evalue": "list index out of range",
     "output_type": "error",
     "traceback": [
      "\u001b[1;31m---------------------------------------------------------------------------\u001b[0m",
      "\u001b[1;31mIndexError\u001b[0m                                Traceback (most recent call last)",
      "\u001b[1;32m<ipython-input-70-79c43ae8594a>\u001b[0m in \u001b[0;36m<module>\u001b[1;34m\u001b[0m\n\u001b[1;32m----> 1\u001b[1;33m \u001b[0mmy_list\u001b[0m\u001b[1;33m[\u001b[0m\u001b[1;36m4\u001b[0m\u001b[1;33m]\u001b[0m \u001b[1;31m#this will return an error as there is no fifth value in the list\u001b[0m\u001b[1;33m\u001b[0m\u001b[1;33m\u001b[0m\u001b[0m\n\u001b[0m",
      "\u001b[1;31mIndexError\u001b[0m: list index out of range"
     ]
    }
   ],
   "source": [
    "my_list[4] #this will return an error as there is no fifth value in the list"
   ]
  },
  {
   "cell_type": "code",
   "execution_count": 71,
   "id": "b71de156",
   "metadata": {},
   "outputs": [
    {
     "name": "stdout",
     "output_type": "stream",
     "text": [
      "['z', 'a', 'b', 'c']\n"
     ]
    }
   ],
   "source": [
    "# Insert elements in to a list using .insert(loc, value)\n",
    "my_list2.insert(0,'z')\n",
    "print(my_list2)"
   ]
  },
  {
   "cell_type": "code",
   "execution_count": 72,
   "id": "64e73d5d",
   "metadata": {},
   "outputs": [
    {
     "name": "stdout",
     "output_type": "stream",
     "text": [
      "['a', 'b', 'c']\n"
     ]
    }
   ],
   "source": [
    "# Remove an item from a list usng .remove('value')\n",
    "my_list2.remove('z')\n",
    "print(my_list2)"
   ]
  },
  {
   "cell_type": "code",
   "execution_count": 73,
   "id": "df1b2943",
   "metadata": {},
   "outputs": [
    {
     "name": "stdout",
     "output_type": "stream",
     "text": [
      "[1, 2, 3, 4, 1, 2, 3, 4, 1, 2, 3, 4]\n"
     ]
    }
   ],
   "source": [
    "# Concatenate two lists using +\n",
    "my_list_concat = my_list + my_list + my_list\n",
    "print(my_list_concat)"
   ]
  },
  {
   "cell_type": "code",
   "execution_count": 74,
   "id": "729f0507",
   "metadata": {},
   "outputs": [
    {
     "name": "stdout",
     "output_type": "stream",
     "text": [
      "[2, 3, 4, 1, 2, 3, 4, 1, 2, 3, 4]\n"
     ]
    }
   ],
   "source": [
    "my_list_concat.remove(1)\n",
    "print(my_list_concat)"
   ]
  },
  {
   "cell_type": "code",
   "execution_count": 80,
   "id": "bafb0621",
   "metadata": {},
   "outputs": [
    {
     "name": "stdout",
     "output_type": "stream",
     "text": [
      "['Finn', 'James', 'Nathan', 'Matt', 'Jeevan']\n",
      "['Finn', 'James', 'Jeevan', 'Matt', 'Nathan']\n",
      "['Nathan', 'Matt', 'Jeevan', 'James', 'Finn']\n"
     ]
    }
   ],
   "source": [
    "my_list_test = ['Finn', 'James', 'Nathan', 'Matt', 'Jeevan']\n",
    "print(my_list_test)\n",
    "\n",
    "my_list_test.sort()\n",
    "print(my_list_test)\n",
    "\n",
    "my_list_test.sort(reverse=True)\n",
    "print(my_list_test)\n"
   ]
  },
  {
   "cell_type": "code",
   "execution_count": 81,
   "id": "af718a25",
   "metadata": {
    "scrolled": true
   },
   "outputs": [
    {
     "name": "stdout",
     "output_type": "stream",
     "text": [
      "['Charlie', 'Delta', 'alpha', 'bravo', 'echo']\n"
     ]
    }
   ],
   "source": [
    "names1 = ['alpha', 'bravo', 'Charlie','Delta','echo']\n",
    "names1.sort()\n",
    "print(names1) # Capitals and lowercase sorted separately"
   ]
  },
  {
   "cell_type": "markdown",
   "id": "5a6d2224",
   "metadata": {},
   "source": [
    "### Tuples\n",
    "\n",
    "- Similar to lists with the exception that they are **immutable**\n",
    "- Created using round brackets `()`"
   ]
  },
  {
   "cell_type": "code",
   "execution_count": 82,
   "id": "06766922",
   "metadata": {},
   "outputs": [
    {
     "name": "stdout",
     "output_type": "stream",
     "text": [
      "(1, 2, 3)\n"
     ]
    }
   ],
   "source": [
    "my_tuple = (1,2,3)\n",
    "print(my_tuple)"
   ]
  },
  {
   "cell_type": "code",
   "execution_count": 84,
   "id": "98adc30e",
   "metadata": {},
   "outputs": [
    {
     "data": {
      "text/plain": [
       "1"
      ]
     },
     "execution_count": 84,
     "metadata": {},
     "output_type": "execute_result"
    }
   ],
   "source": [
    "my_tuple[0]"
   ]
  },
  {
   "cell_type": "markdown",
   "id": "29c9a226",
   "metadata": {},
   "source": [
    "Tuples are useful for grouping different variables together"
   ]
  },
  {
   "cell_type": "code",
   "execution_count": 85,
   "id": "8cbe417c",
   "metadata": {},
   "outputs": [
    {
     "name": "stdout",
     "output_type": "stream",
     "text": [
      "('Nathan', '07723 xxx xxx', 'London')\n"
     ]
    }
   ],
   "source": [
    "person = ('Nathan', '07723 xxx xxx', 'London')\n",
    "print(person)"
   ]
  },
  {
   "cell_type": "code",
   "execution_count": 86,
   "id": "2e189338",
   "metadata": {},
   "outputs": [
    {
     "name": "stdout",
     "output_type": "stream",
     "text": [
      "('Ram', '07712 xxx xxx', 'Liverpool')\n"
     ]
    }
   ],
   "source": [
    "name = 'Ram'\n",
    "number = '07712 xxx xxx'\n",
    "city = 'Liverpool'\n",
    "person1 = (name, number, city)\n",
    "print(person1)"
   ]
  },
  {
   "cell_type": "markdown",
   "id": "8a5bd333",
   "metadata": {},
   "source": [
    "Concatenate two tuples using `+`"
   ]
  },
  {
   "cell_type": "code",
   "execution_count": 87,
   "id": "f66ee870",
   "metadata": {},
   "outputs": [
    {
     "data": {
      "text/plain": [
       "('Nathan', '07723 xxx xxx', 'London', 'Ram', '07712 xxx xxx', 'Liverpool')"
      ]
     },
     "execution_count": 87,
     "metadata": {},
     "output_type": "execute_result"
    }
   ],
   "source": [
    "person + person1"
   ]
  },
  {
   "cell_type": "code",
   "execution_count": null,
   "id": "8fc9cf4a",
   "metadata": {},
   "outputs": [],
   "source": [
    "print(person)"
   ]
  },
  {
   "cell_type": "code",
   "execution_count": 88,
   "id": "64b350c4",
   "metadata": {},
   "outputs": [
    {
     "name": "stdout",
     "output_type": "stream",
     "text": [
      "['Nathan', '07723 xxx xxx', 'London']\n"
     ]
    }
   ],
   "source": [
    "# convert from a tuple to a list\n",
    "\n",
    "person_list = list(person)\n",
    "print(person_list)"
   ]
  },
  {
   "cell_type": "code",
   "execution_count": 89,
   "id": "dd9eb6df",
   "metadata": {},
   "outputs": [
    {
     "name": "stdout",
     "output_type": "stream",
     "text": [
      "('Nathan', '07723 xxx xxx', 'London')\n"
     ]
    }
   ],
   "source": [
    "# convert from a list to a tuple\n",
    "person_tuple = tuple(person_list)\n",
    "print(person_tuple)"
   ]
  },
  {
   "cell_type": "markdown",
   "id": "f6f83005",
   "metadata": {},
   "source": [
    "### Sets\n",
    "- Sets are **mutable**, **unordered** collections of **unique** values\n",
    "- Created using curly brackets `{}`"
   ]
  },
  {
   "cell_type": "code",
   "execution_count": 90,
   "id": "256efe71",
   "metadata": {},
   "outputs": [
    {
     "name": "stdout",
     "output_type": "stream",
     "text": [
      "{1, 2, 3, 4, 5, 6, 7, 8}\n"
     ]
    }
   ],
   "source": [
    "my_set = {1,2,3,4,4,4,4,5,6,7,7,8}\n",
    "print(my_set)"
   ]
  },
  {
   "cell_type": "code",
   "execution_count": 91,
   "id": "85ee81b9",
   "metadata": {},
   "outputs": [
    {
     "name": "stdout",
     "output_type": "stream",
     "text": [
      "[2, 3, 4, 1, 2, 3, 4, 1, 2, 3, 4]\n",
      "{1, 2, 3, 4}\n"
     ]
    }
   ],
   "source": [
    "print(my_list_concat)\n",
    "my_set2 = set(my_list_concat)\n",
    "print(my_set2)"
   ]
  },
  {
   "cell_type": "code",
   "execution_count": 92,
   "id": "13f0c08b",
   "metadata": {},
   "outputs": [
    {
     "name": "stdout",
     "output_type": "stream",
     "text": [
      "{1, 2, 3, 4, 5}\n"
     ]
    }
   ],
   "source": [
    "my_set2.add(5)\n",
    "print(my_set2)"
   ]
  },
  {
   "cell_type": "code",
   "execution_count": 93,
   "id": "b046338c",
   "metadata": {},
   "outputs": [
    {
     "name": "stdout",
     "output_type": "stream",
     "text": [
      "{1, 2, 3, 4, 5}\n"
     ]
    }
   ],
   "source": [
    "my_set2.add(4)\n",
    "print(my_set2)"
   ]
  },
  {
   "cell_type": "markdown",
   "id": "96b37986",
   "metadata": {},
   "source": [
    "### Dictionaries \n",
    "\n",
    "- A **mutable** collection of **key-value pairs** created by enclosing them with curly brackets `{}`\n",
    "\n",
    "`{key1: value1, key2: value2}`\n",
    "In this case, `key1: value1` corresponds to `item1` in the dictionary\n"
   ]
  },
  {
   "cell_type": "code",
   "execution_count": 1,
   "id": "3b382e0c",
   "metadata": {},
   "outputs": [
    {
     "name": "stdout",
     "output_type": "stream",
     "text": [
      "{'name': 'MattM', 'location': 'New York'}\n"
     ]
    }
   ],
   "source": [
    "my_dict = {'name': 'MattM', 'location': 'New York'}\n",
    "print(my_dict)"
   ]
  },
  {
   "cell_type": "code",
   "execution_count": 2,
   "id": "3df4528d",
   "metadata": {},
   "outputs": [
    {
     "data": {
      "text/plain": [
       "'MattM'"
      ]
     },
     "execution_count": 2,
     "metadata": {},
     "output_type": "execute_result"
    }
   ],
   "source": [
    "my_dict['name']"
   ]
  },
  {
   "cell_type": "code",
   "execution_count": 3,
   "id": "59e1811a",
   "metadata": {},
   "outputs": [
    {
     "data": {
      "text/plain": [
       "'New York'"
      ]
     },
     "execution_count": 3,
     "metadata": {},
     "output_type": "execute_result"
    }
   ],
   "source": [
    "my_dict['location']"
   ]
  },
  {
   "cell_type": "code",
   "execution_count": 4,
   "id": "cb540a15",
   "metadata": {},
   "outputs": [
    {
     "data": {
      "text/plain": [
       "dict_keys(['name', 'location'])"
      ]
     },
     "execution_count": 4,
     "metadata": {},
     "output_type": "execute_result"
    }
   ],
   "source": [
    "my_dict.keys()"
   ]
  },
  {
   "cell_type": "code",
   "execution_count": 5,
   "id": "82fc2cbe",
   "metadata": {},
   "outputs": [
    {
     "data": {
      "text/plain": [
       "dict_values(['MattM', 'New York'])"
      ]
     },
     "execution_count": 5,
     "metadata": {},
     "output_type": "execute_result"
    }
   ],
   "source": [
    "my_dict.values()"
   ]
  },
  {
   "cell_type": "code",
   "execution_count": 11,
   "id": "dae6d73a",
   "metadata": {},
   "outputs": [
    {
     "data": {
      "text/plain": [
       "dict_items([('name', 'MattM'), ('location', 'New York')])"
      ]
     },
     "execution_count": 11,
     "metadata": {},
     "output_type": "execute_result"
    }
   ],
   "source": [
    "my_dict.items()"
   ]
  },
  {
   "cell_type": "code",
   "execution_count": 13,
   "id": "14332814",
   "metadata": {},
   "outputs": [
    {
     "name": "stdout",
     "output_type": "stream",
     "text": [
      "{'names': ['MattM', 'MattT', 'Abhishek']}\n"
     ]
    },
    {
     "data": {
      "text/plain": [
       "'Abhishek'"
      ]
     },
     "execution_count": 13,
     "metadata": {},
     "output_type": "execute_result"
    }
   ],
   "source": [
    "my_dict2 = {'names':['MattM', 'MattT','Abhishek']}\n",
    "print(my_dict2)\n",
    "my_dict2['names'][2]"
   ]
  },
  {
   "cell_type": "markdown",
   "id": "6d0d457a",
   "metadata": {},
   "source": [
    "## Iteration and looping\n",
    "\n",
    "Iteration means going through a collection one element at a time"
   ]
  },
  {
   "cell_type": "markdown",
   "id": "53e3ec1e",
   "metadata": {},
   "source": [
    "### Iterating through items in a list \n"
   ]
  },
  {
   "cell_type": "code",
   "execution_count": 106,
   "id": "568e0ea0",
   "metadata": {},
   "outputs": [
    {
     "name": "stdout",
     "output_type": "stream",
     "text": [
      "['apple', 'banana', 'orange']\n"
     ]
    }
   ],
   "source": [
    "fruits = ['apple', 'banana', 'orange']\n",
    "print(fruits)"
   ]
  },
  {
   "cell_type": "code",
   "execution_count": 108,
   "id": "c0da87eb",
   "metadata": {},
   "outputs": [
    {
     "name": "stdout",
     "output_type": "stream",
     "text": [
      "apple\n",
      "______\n",
      "banana\n",
      "______\n",
      "orange\n",
      "______\n",
      "xxxxxxxxxxx\n"
     ]
    }
   ],
   "source": [
    "for i in fruits:\n",
    "    print(i)\n",
    "    print('______')\n",
    "    \n",
    "print('xxxxxxxxxxx')"
   ]
  },
  {
   "cell_type": "markdown",
   "id": "7dd537c3",
   "metadata": {},
   "source": [
    "### Iterating through items in a tuple"
   ]
  },
  {
   "cell_type": "code",
   "execution_count": 109,
   "id": "73cf178a",
   "metadata": {},
   "outputs": [
    {
     "name": "stdout",
     "output_type": "stream",
     "text": [
      "POTATOES\n",
      "CARROT\n",
      "AUBERGINE\n"
     ]
    }
   ],
   "source": [
    "veggies = ('potatoes', 'carrot', 'aubergine')\n",
    "for item in veggies:\n",
    "    print(item.upper())"
   ]
  },
  {
   "cell_type": "markdown",
   "id": "b96e3b3b",
   "metadata": {},
   "source": [
    "### Iterating through items in a dictionary"
   ]
  },
  {
   "cell_type": "code",
   "execution_count": 110,
   "id": "93ef12d6",
   "metadata": {},
   "outputs": [
    {
     "name": "stdout",
     "output_type": "stream",
     "text": [
      "Key is name and Value is James\n",
      "Key is location and Value is Toyko\n"
     ]
    }
   ],
   "source": [
    "my_dict = {'name': 'James', 'location': 'Toyko'}\n",
    "for key in my_dict:\n",
    "    print(f'Key is {key} and Value is {my_dict[key]}')\n"
   ]
  },
  {
   "cell_type": "code",
   "execution_count": 111,
   "id": "60c57ddc",
   "metadata": {},
   "outputs": [
    {
     "name": "stdout",
     "output_type": "stream",
     "text": [
      "name\n",
      "location\n"
     ]
    }
   ],
   "source": [
    "for item in my_dict:\n",
    "    print(item)"
   ]
  },
  {
   "cell_type": "markdown",
   "id": "3c8d67b3",
   "metadata": {},
   "source": [
    "## Functions\n",
    "\n",
    "Functions are useful for encapsulting logic in a program.\n",
    "They are created using the `def` keyword."
   ]
  },
  {
   "cell_type": "code",
   "execution_count": 112,
   "id": "f1886c03",
   "metadata": {},
   "outputs": [],
   "source": [
    "def multiply(a,b):\n",
    "    result = a*b\n",
    "    return result"
   ]
  },
  {
   "cell_type": "code",
   "execution_count": 113,
   "id": "bd8dfad8",
   "metadata": {},
   "outputs": [
    {
     "name": "stdout",
     "output_type": "stream",
     "text": [
      "260\n"
     ]
    }
   ],
   "source": [
    "c = multiply(20,13)\n",
    "print(c)"
   ]
  },
  {
   "cell_type": "code",
   "execution_count": 114,
   "id": "a94e0507",
   "metadata": {},
   "outputs": [
    {
     "name": "stdout",
     "output_type": "stream",
     "text": [
      "91.35\n"
     ]
    }
   ],
   "source": [
    "d = multiply(8.7,10.5)\n",
    "print(d)"
   ]
  },
  {
   "cell_type": "code",
   "execution_count": 118,
   "id": "67112b6c",
   "metadata": {},
   "outputs": [],
   "source": [
    "def say_hello(name):\n",
    "    print(f'Hello {name}, welcome to Kubrick!')"
   ]
  },
  {
   "cell_type": "code",
   "execution_count": 116,
   "id": "d76b9a30",
   "metadata": {},
   "outputs": [
    {
     "name": "stdout",
     "output_type": "stream",
     "text": [
      "Hello Jeevan, welcome to Kubrick!\n"
     ]
    }
   ],
   "source": [
    "say_hello('Jeevan')"
   ]
  },
  {
   "cell_type": "markdown",
   "id": "5edc19af",
   "metadata": {},
   "source": [
    "## File I/O\n",
    "\n",
    "We can use Python to read/write to files\n",
    "- Different modes for files handling - 'w', 'r', 'a'\n",
    "- In the examples below, we only specify the filename which means that it will get saved in to the same folder as our notebook."
   ]
  },
  {
   "cell_type": "code",
   "execution_count": 119,
   "id": "d855567a",
   "metadata": {},
   "outputs": [],
   "source": [
    "# write to file\n",
    "text = 'This is a sentence to write to a file'\n",
    "my_file = open('example.txt', 'w')\n",
    "my_file.write(text)\n",
    "my_file.close()"
   ]
  },
  {
   "cell_type": "code",
   "execution_count": 120,
   "id": "fc644617",
   "metadata": {},
   "outputs": [
    {
     "name": "stdout",
     "output_type": "stream",
     "text": [
      "This is a sentence to write to a file\n"
     ]
    }
   ],
   "source": [
    "# read from file\n",
    "my_file = open('example.txt', 'r')\n",
    "text_1 = my_file.read()\n",
    "my_file.close\n",
    "print(text_1)"
   ]
  },
  {
   "cell_type": "code",
   "execution_count": 121,
   "id": "21e8fdf4",
   "metadata": {},
   "outputs": [
    {
     "data": {
      "text/plain": [
       "'C:\\\\ce02\\\\python\\\\notebook'"
      ]
     },
     "execution_count": 121,
     "metadata": {},
     "output_type": "execute_result"
    }
   ],
   "source": [
    "import os\n",
    "os.getcwd()"
   ]
  },
  {
   "cell_type": "code",
   "execution_count": 131,
   "id": "98fb1a53",
   "metadata": {},
   "outputs": [],
   "source": [
    "# write to file\n",
    "text = 'This is a sentence to write to a file.'\n",
    "my_file = open(r'C:\\ce02\\python\\notebook\\example.txt', 'w')\n",
    "my_file.write(text)\n",
    "my_file.close()"
   ]
  },
  {
   "cell_type": "code",
   "execution_count": 126,
   "id": "d2450484",
   "metadata": {},
   "outputs": [],
   "source": [
    "# my_file = open(r'..\\example.txt','w')\n",
    "# This saves file to the parent folder (folder above current)"
   ]
  },
  {
   "cell_type": "code",
   "execution_count": 127,
   "id": "727907be",
   "metadata": {},
   "outputs": [],
   "source": [
    "text2 = ' This is another sentence.'\n",
    "my_file = open(r'C:\\ce02\\python\\notebook\\example.txt', 'a')\n",
    "my_file.write(text2)\n",
    "my_file.close()"
   ]
  },
  {
   "cell_type": "code",
   "execution_count": 128,
   "id": "af029053",
   "metadata": {},
   "outputs": [],
   "source": [
    "with open ('example2.txt','w') as my_file:\n",
    "    my_file.write(text2)"
   ]
  },
  {
   "cell_type": "code",
   "execution_count": 156,
   "id": "5167c49e",
   "metadata": {},
   "outputs": [
    {
     "name": "stdout",
     "output_type": "stream",
     "text": [
      "['Finn', 'Matt', 'James', 'Nathan', 'Alfie']\n"
     ]
    }
   ],
   "source": [
    "names = ['Finn', 'Matt', 'James', 'Nathan', 'Alfie']\n",
    "print(names)"
   ]
  },
  {
   "cell_type": "code",
   "execution_count": 165,
   "id": "7a3c79ec",
   "metadata": {},
   "outputs": [],
   "source": [
    "def name_file(names_list, file_name):\n",
    "\n",
    "    my_names = open(file_name, 'w')\n",
    "    for i in names_list:\n",
    "        my_names.write(i)\n",
    "        my_names.write('\\n')\n",
    "\n",
    "my_names.close()"
   ]
  },
  {
   "cell_type": "code",
   "execution_count": 163,
   "id": "1b788aba",
   "metadata": {},
   "outputs": [],
   "source": [
    "file_name = 'names.txt'"
   ]
  },
  {
   "cell_type": "code",
   "execution_count": 167,
   "id": "ce149252",
   "metadata": {},
   "outputs": [],
   "source": [
    "name_file(names, file_name)"
   ]
  },
  {
   "cell_type": "markdown",
   "id": "528aa2fb",
   "metadata": {},
   "source": [
    "## Objects and Classes\n",
    "\n"
   ]
  },
  {
   "cell_type": "code",
   "execution_count": 177,
   "id": "0dfd6986",
   "metadata": {},
   "outputs": [],
   "source": [
    "person1 = ('Ram', '07797 xxx xxx', 'London')\n",
    "person2 = ('Mike', '07486 xxx xxx', 'Singapore')\n",
    "person1 = ('Gian', '07948 xxx xxx', 'Canada')"
   ]
  },
  {
   "cell_type": "code",
   "execution_count": 172,
   "id": "5a7b2a50",
   "metadata": {},
   "outputs": [],
   "source": [
    "class Person:\n",
    "    def __init__(self, name, number, location):\n",
    "        self.name = name\n",
    "        self.number = number\n",
    "        self.location = location\n",
    "    def say_hello(self):\n",
    "        print(f'Hello {self.name}, welcome to Kubrick!')\n",
    "    def print_salary(self, salary):\n",
    "        print(f\"{self.name}'s salary is £{salary}\")\n"
   ]
  },
  {
   "cell_type": "code",
   "execution_count": 179,
   "id": "51e7a9c3",
   "metadata": {},
   "outputs": [],
   "source": [
    "person1 = Person('Ram', '07797 xxx xxx', 'London')"
   ]
  },
  {
   "cell_type": "code",
   "execution_count": 180,
   "id": "4a3d2a96",
   "metadata": {},
   "outputs": [
    {
     "name": "stdout",
     "output_type": "stream",
     "text": [
      "Hello Ram, welcome to Kubrick!\n"
     ]
    }
   ],
   "source": [
    "person1.say_hello()"
   ]
  },
  {
   "cell_type": "code",
   "execution_count": 181,
   "id": "7fc4a317",
   "metadata": {},
   "outputs": [
    {
     "name": "stdout",
     "output_type": "stream",
     "text": [
      "Ram's salary is £190000\n"
     ]
    }
   ],
   "source": [
    "person1.print_salary(190000)"
   ]
  },
  {
   "cell_type": "code",
   "execution_count": 182,
   "id": "22a880d1",
   "metadata": {},
   "outputs": [
    {
     "data": {
      "text/plain": [
       "__main__.Person"
      ]
     },
     "execution_count": 182,
     "metadata": {},
     "output_type": "execute_result"
    }
   ],
   "source": [
    "type(person1)"
   ]
  },
  {
   "cell_type": "code",
   "execution_count": 183,
   "id": "b4e4afac",
   "metadata": {},
   "outputs": [
    {
     "data": {
      "text/plain": [
       "'London'"
      ]
     },
     "execution_count": 183,
     "metadata": {},
     "output_type": "execute_result"
    }
   ],
   "source": [
    "person1.location"
   ]
  },
  {
   "cell_type": "code",
   "execution_count": 184,
   "id": "c8eb99b4",
   "metadata": {},
   "outputs": [],
   "source": [
    "Movie1 = ('Terminator', '1984', 'Action')\n",
    "Movie2 = ('Avatar', '2009', 'Sci-fi')\n",
    "Movie3 = ('Avatar2', 'TBA', 'Documentary')"
   ]
  },
  {
   "cell_type": "code",
   "execution_count": 3,
   "id": "bd1bc967",
   "metadata": {},
   "outputs": [],
   "source": [
    "class Movie:\n",
    "    def __init__(self, title, year, genre):\n",
    "        self.title = title\n",
    "        self.year = year\n",
    "        self.genre = genre\n",
    "    def print_details(self):\n",
    "        print(f\"{self.title} is a {self.genre} movie that was released in the year {self.year}\")"
   ]
  },
  {
   "cell_type": "code",
   "execution_count": 4,
   "id": "39983f0a",
   "metadata": {},
   "outputs": [],
   "source": [
    "movie1 = Movie('Terminator', '1984', 'Action')\n",
    "movie2 = Movie('Avatar', '2009', 'Sci-fi')\n",
    "movie3 = Movie('Avatar 2', 'TBA', 'Historical Drama')"
   ]
  },
  {
   "cell_type": "code",
   "execution_count": 196,
   "id": "b3f3f850",
   "metadata": {},
   "outputs": [
    {
     "name": "stdout",
     "output_type": "stream",
     "text": [
      "Terminator is a Action movie that was released in the year 1984\n"
     ]
    }
   ],
   "source": [
    "movie1.print_details()"
   ]
  },
  {
   "cell_type": "markdown",
   "id": "38166b04",
   "metadata": {},
   "source": [
    "## Exceptions\n",
    "\n",
    "Exceptions are raised when something is wrong in our program"
   ]
  },
  {
   "cell_type": "code",
   "execution_count": 5,
   "id": "8d492502",
   "metadata": {},
   "outputs": [
    {
     "ename": "FileNotFoundError",
     "evalue": "[Errno 2] No such file or directory: 'example_awesome.txt'",
     "output_type": "error",
     "traceback": [
      "\u001b[1;31m---------------------------------------------------------------------------\u001b[0m",
      "\u001b[1;31mFileNotFoundError\u001b[0m                         Traceback (most recent call last)",
      "\u001b[1;32m<ipython-input-5-d6551c97ef32>\u001b[0m in \u001b[0;36m<module>\u001b[1;34m\u001b[0m\n\u001b[1;32m----> 1\u001b[1;33m \u001b[1;32mwith\u001b[0m \u001b[0mopen\u001b[0m\u001b[1;33m(\u001b[0m\u001b[1;34m'example_awesome.txt'\u001b[0m\u001b[1;33m,\u001b[0m \u001b[1;34m'r'\u001b[0m\u001b[1;33m)\u001b[0m \u001b[1;32mas\u001b[0m \u001b[0mfile\u001b[0m\u001b[1;33m:\u001b[0m\u001b[1;33m\u001b[0m\u001b[1;33m\u001b[0m\u001b[0m\n\u001b[0m\u001b[0;32m      2\u001b[0m     \u001b[0mline\u001b[0m \u001b[1;33m=\u001b[0m \u001b[0mfile\u001b[0m\u001b[1;33m.\u001b[0m\u001b[0mread\u001b[0m\u001b[1;33m(\u001b[0m\u001b[1;33m)\u001b[0m\u001b[1;33m\u001b[0m\u001b[1;33m\u001b[0m\u001b[0m\n",
      "\u001b[1;31mFileNotFoundError\u001b[0m: [Errno 2] No such file or directory: 'example_awesome.txt'"
     ]
    }
   ],
   "source": [
    "with open('example_awesome.txt', 'r') as file:\n",
    "    line = file.read()"
   ]
  },
  {
   "cell_type": "code",
   "execution_count": 6,
   "id": "2309c40a",
   "metadata": {},
   "outputs": [
    {
     "ename": "ZeroDivisionError",
     "evalue": "division by zero",
     "output_type": "error",
     "traceback": [
      "\u001b[1;31m---------------------------------------------------------------------------\u001b[0m",
      "\u001b[1;31mZeroDivisionError\u001b[0m                         Traceback (most recent call last)",
      "\u001b[1;32m<ipython-input-6-9e1622b385b6>\u001b[0m in \u001b[0;36m<module>\u001b[1;34m\u001b[0m\n\u001b[1;32m----> 1\u001b[1;33m \u001b[1;36m1\u001b[0m\u001b[1;33m/\u001b[0m\u001b[1;36m0\u001b[0m\u001b[1;33m\u001b[0m\u001b[1;33m\u001b[0m\u001b[0m\n\u001b[0m",
      "\u001b[1;31mZeroDivisionError\u001b[0m: division by zero"
     ]
    }
   ],
   "source": [
    "1/0"
   ]
  },
  {
   "cell_type": "markdown",
   "id": "2e04e792",
   "metadata": {},
   "source": [
    "Exceptions can be handled using a try/except block"
   ]
  },
  {
   "cell_type": "code",
   "execution_count": 7,
   "id": "b760e507",
   "metadata": {},
   "outputs": [
    {
     "name": "stdout",
     "output_type": "stream",
     "text": [
      "Cannot divide by 0\n"
     ]
    }
   ],
   "source": [
    "try:\n",
    "    a = 1/0\n",
    "except:\n",
    "    print('Cannot divide by 0')"
   ]
  },
  {
   "cell_type": "markdown",
   "id": "16e34d21",
   "metadata": {},
   "source": [
    "## Modules and Packages\n",
    "\n",
    "So far we have only been working with built-in functions and classes. However, there are many more fucntions and classes that we can import into our programs. Python makes these available as modules and packages."
   ]
  },
  {
   "cell_type": "code",
   "execution_count": 8,
   "id": "ab6c8f65",
   "metadata": {},
   "outputs": [
    {
     "data": {
      "text/plain": [
       "'C:\\\\ce02\\\\python\\\\notebook'"
      ]
     },
     "execution_count": 8,
     "metadata": {},
     "output_type": "execute_result"
    }
   ],
   "source": [
    "import os\n",
    "os.getcwd()"
   ]
  },
  {
   "cell_type": "code",
   "execution_count": 9,
   "id": "bfa2b07d",
   "metadata": {},
   "outputs": [
    {
     "name": "stdout",
     "output_type": "stream",
     "text": [
      "3.141592653589793\n"
     ]
    }
   ],
   "source": [
    "import math\n",
    "pi = math.pi\n",
    "print(pi)"
   ]
  },
  {
   "cell_type": "code",
   "execution_count": 10,
   "id": "bf72fd1a",
   "metadata": {},
   "outputs": [
    {
     "data": {
      "text/plain": [
       "4.0"
      ]
     },
     "execution_count": 10,
     "metadata": {},
     "output_type": "execute_result"
    }
   ],
   "source": [
    "math.sqrt(16)"
   ]
  },
  {
   "cell_type": "code",
   "execution_count": 12,
   "id": "ec9c9f63",
   "metadata": {},
   "outputs": [
    {
     "data": {
      "text/plain": [
       "1"
      ]
     },
     "execution_count": 12,
     "metadata": {},
     "output_type": "execute_result"
    }
   ],
   "source": [
    "import random\n",
    "random.randint(1,10)"
   ]
  },
  {
   "cell_type": "code",
   "execution_count": 13,
   "id": "c8f75710",
   "metadata": {},
   "outputs": [
    {
     "name": "stdout",
     "output_type": "stream",
     "text": [
      "Help on method randint in module random:\n",
      "\n",
      "randint(a, b) method of random.Random instance\n",
      "    Return random integer in range [a, b], including both end points.\n",
      "\n"
     ]
    }
   ],
   "source": [
    "help(random.randint)"
   ]
  },
  {
   "cell_type": "code",
   "execution_count": 14,
   "id": "cafa1174",
   "metadata": {},
   "outputs": [],
   "source": [
    "import matplotlib.pyplot as plt"
   ]
  },
  {
   "cell_type": "code",
   "execution_count": 15,
   "id": "5b85ff7f",
   "metadata": {},
   "outputs": [
    {
     "data": {
      "text/plain": [
       "[<matplotlib.lines.Line2D at 0x1af9ee590a0>]"
      ]
     },
     "execution_count": 15,
     "metadata": {},
     "output_type": "execute_result"
    },
    {
     "data": {
      "image/png": "[encoded data removed]",
      "text/plain": [
       "<Figure size 432x288 with 1 Axes>"
      ]
     },
     "metadata": {
      "needs_background": "light"
     },
     "output_type": "display_data"
    }
   ],
   "source": [
    "y = [1,2,3,4,5,6,7,8,9,10]\n",
    "plt.plot(y)"
   ]
  },
  {
   "cell_type": "markdown",
   "id": "6b6ffce5",
   "metadata": {},
   "source": [
    "## Conventions and Syntax"
   ]
  },
  {
   "cell_type": "markdown",
   "id": "165cc5fe",
   "metadata": {},
   "source": [
    "### Termination of statements\n",
    "\n",
    "Statements are terminated by new lines <br/>\n",
    "We cannot have multiple statements on the same line"
   ]
  },
  {
   "cell_type": "code",
   "execution_count": 16,
   "id": "9b9e9ca4",
   "metadata": {},
   "outputs": [
    {
     "ename": "SyntaxError",
     "evalue": "invalid syntax (<ipython-input-16-8de4594cef2e>, line 1)",
     "output_type": "error",
     "traceback": [
      "\u001b[1;36m  File \u001b[1;32m\"<ipython-input-16-8de4594cef2e>\"\u001b[1;36m, line \u001b[1;32m1\u001b[0m\n\u001b[1;33m    a = 5 b = 10\u001b[0m\n\u001b[1;37m          ^\u001b[0m\n\u001b[1;31mSyntaxError\u001b[0m\u001b[1;31m:\u001b[0m invalid syntax\n"
     ]
    }
   ],
   "source": [
    "a = 5 b = 10"
   ]
  },
  {
   "cell_type": "markdown",
   "id": "cfcd39c1",
   "metadata": {},
   "source": [
    "### Indentation\n",
    "\n",
    "- Indentation and whitespace are very important in Python.\n",
    "- Unexpected indentation causes errors.\n",
    "- Code blocks in different scopes are differentiated using indentation."
   ]
  },
  {
   "cell_type": "code",
   "execution_count": 18,
   "id": "5ea87abd",
   "metadata": {},
   "outputs": [
    {
     "ename": "IndentationError",
     "evalue": "unexpected indent (<ipython-input-18-8043b3fc879b>, line 2)",
     "output_type": "error",
     "traceback": [
      "\u001b[1;36m  File \u001b[1;32m\"<ipython-input-18-8043b3fc879b>\"\u001b[1;36m, line \u001b[1;32m2\u001b[0m\n\u001b[1;33m    b = 1\u001b[0m\n\u001b[1;37m    ^\u001b[0m\n\u001b[1;31mIndentationError\u001b[0m\u001b[1;31m:\u001b[0m unexpected indent\n"
     ]
    }
   ],
   "source": [
    "a = 2\n",
    " b = 10\n"
   ]
  },
  {
   "cell_type": "code",
   "execution_count": 21,
   "id": "3eb18499",
   "metadata": {},
   "outputs": [
    {
     "name": "stdout",
     "output_type": "stream",
     "text": [
      "a is equal to 5\n",
      "a is equal to 5 and b is equal to 10!\n",
      "The end!\n"
     ]
    }
   ],
   "source": [
    "a = 5\n",
    "b = 10\n",
    "if a == 5:\n",
    "    print('a is equal to 5')\n",
    "    if b == 10:\n",
    "        print('a is equal to 5 and b is equal to 10!')\n",
    "print('The end!')"
   ]
  },
  {
   "cell_type": "markdown",
   "id": "9c853e75",
   "metadata": {},
   "source": [
    "## Operators\n",
    "\n",
    "- Arithmetic operators\n",
    "- Logical operators\n",
    "- Comparison operators"
   ]
  },
  {
   "cell_type": "code",
   "execution_count": 22,
   "id": "44edaaa3",
   "metadata": {},
   "outputs": [
    {
     "data": {
      "text/plain": [
       "25"
      ]
     },
     "execution_count": 22,
     "metadata": {},
     "output_type": "execute_result"
    }
   ],
   "source": [
    "# Power operator\n",
    "5**2"
   ]
  },
  {
   "cell_type": "code",
   "execution_count": 23,
   "id": "7a6ae774",
   "metadata": {},
   "outputs": [
    {
     "data": {
      "text/plain": [
       "2"
      ]
     },
     "execution_count": 23,
     "metadata": {},
     "output_type": "execute_result"
    }
   ],
   "source": [
    "# Module operator\n",
    "5%3"
   ]
  },
  {
   "cell_type": "code",
   "execution_count": 24,
   "id": "d649cdb3",
   "metadata": {},
   "outputs": [
    {
     "data": {
      "text/plain": [
       "1"
      ]
     },
     "execution_count": 24,
     "metadata": {},
     "output_type": "execute_result"
    }
   ],
   "source": [
    "# Floor operator\n",
    "5//3"
   ]
  },
  {
   "cell_type": "code",
   "execution_count": 25,
   "id": "78d67bf8",
   "metadata": {},
   "outputs": [
    {
     "data": {
      "text/plain": [
       "True"
      ]
     },
     "execution_count": 25,
     "metadata": {},
     "output_type": "execute_result"
    }
   ],
   "source": [
    "2<=3"
   ]
  },
  {
   "cell_type": "code",
   "execution_count": 26,
   "id": "30495521",
   "metadata": {},
   "outputs": [
    {
     "data": {
      "text/plain": [
       "True"
      ]
     },
     "execution_count": 26,
     "metadata": {},
     "output_type": "execute_result"
    }
   ],
   "source": [
    "5==5"
   ]
  },
  {
   "cell_type": "markdown",
   "id": "2b1a355d",
   "metadata": {},
   "source": [
    "### Documentation strings\n",
    "\n",
    "A docstring is a string literal that occurs as the first statement in a module, function, class or a method definition."
   ]
  },
  {
   "cell_type": "code",
   "execution_count": 29,
   "id": "328ea09d",
   "metadata": {},
   "outputs": [],
   "source": [
    "def multiply(a,b):\n",
    "    '''\n",
    "    This function takes two variables a and b and returns their product\n",
    "    '''\n",
    "    c = a*b\n",
    "    return c"
   ]
  },
  {
   "cell_type": "code",
   "execution_count": 28,
   "id": "1970822c",
   "metadata": {},
   "outputs": [
    {
     "name": "stdout",
     "output_type": "stream",
     "text": [
      "Help on function multiply in module __main__:\n",
      "\n",
      "multiply(a, b)\n",
      "    This function takes two variables a and b and returns their product\n",
      "\n"
     ]
    }
   ],
   "source": [
    "help(multiply)"
   ]
  },
  {
   "cell_type": "code",
   "execution_count": 30,
   "id": "2d3ab827",
   "metadata": {},
   "outputs": [
    {
     "ename": "NameError",
     "evalue": "name 'c' is not defined",
     "output_type": "error",
     "traceback": [
      "\u001b[1;31m---------------------------------------------------------------------------\u001b[0m",
      "\u001b[1;31mNameError\u001b[0m                                 Traceback (most recent call last)",
      "\u001b[1;32m<ipython-input-30-1dd5973cae19>\u001b[0m in \u001b[0;36m<module>\u001b[1;34m\u001b[0m\n\u001b[1;32m----> 1\u001b[1;33m \u001b[0mprint\u001b[0m\u001b[1;33m(\u001b[0m\u001b[0mc\u001b[0m\u001b[1;33m)\u001b[0m\u001b[1;33m\u001b[0m\u001b[1;33m\u001b[0m\u001b[0m\n\u001b[0m",
      "\u001b[1;31mNameError\u001b[0m: name 'c' is not defined"
     ]
    }
   ],
   "source": []
  },
  {
   "cell_type": "code",
   "execution_count": null,
   "id": "60bf40c4",
   "metadata": {},
   "outputs": [],
   "source": []
  }
 ],
 "metadata": {
  "kernelspec": {
   "display_name": "Python 3",
   "language": "python",
   "name": "python3"
  },
  "language_info": {
   "codemirror_mode": {
    "name": "ipython",
    "version": 3
   },
   "file_extension": ".py",
   "mimetype": "text/x-python",
   "name": "python",
   "nbconvert_exporter": "python",
   "pygments_lexer": "ipython3",
   "version": "3.8.8"
  },
  "toc": {
   "base_numbering": 1,
   "nav_menu": {},
   "number_sections": true,
   "sideBar": true,
   "skip_h1_title": false,
   "title_cell": "Table of Contents",
   "title_sidebar": "Contents",
   "toc_cell": false,
   "toc_position": {},
   "toc_section_display": true,
   "toc_window_display": false
  }
 },
 "nbformat": 4,
 "nbformat_minor": 5
}
