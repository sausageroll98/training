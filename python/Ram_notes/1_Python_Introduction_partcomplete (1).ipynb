{
 "cells": [
  {
   "cell_type": "markdown",
   "id": "a72fee8b",
   "metadata": {},
   "source": [
    "## Introduction to Jupyter notebooks"
   ]
  },
  {
   "cell_type": "markdown",
   "id": "2da8726e",
   "metadata": {},
   "source": [
    "There are two types of cell modes in Jupyter:\n",
    "- Command mode (with a blue box)\n",
    "- Edit mode (with a green box)\n",
    "\n",
    "To run a cell, press Shift+Enter\n",
    "\n",
    "In command mode (after pressing Esc), \n",
    "- click 'm' to go into Markdown cell type\n",
    "- click 'y' to switch to Python code cell type\n",
    "\n",
    "To create a cell above the current cell, press 'a'.  \n",
    "To create a cell below the current cell, press 'b'.  \n",
    "To delete a cell, press 'd' twice in command mode\n",
    "\n",
    "For Markdown guide, use www.markdownguide.org/cheat-sheet"
   ]
  },
  {
   "cell_type": "markdown",
   "id": "30f47400",
   "metadata": {},
   "source": [
    "## Variables and Arithmetic Expressions"
   ]
  },
  {
   "cell_type": "code",
   "execution_count": 7,
   "id": "ae6936ef",
   "metadata": {},
   "outputs": [
    {
     "data": {
      "text/plain": [
       "21"
      ]
     },
     "execution_count": 7,
     "metadata": {},
     "output_type": "execute_result"
    }
   ],
   "source": [
    "6+3*5"
   ]
  },
  {
   "cell_type": "markdown",
   "id": "74f0e41d",
   "metadata": {},
   "source": [
    "Equals `=` sign is called the assignment operator. It assigns the value to its right to the variable to its left. "
   ]
  },
  {
   "cell_type": "code",
   "execution_count": 4,
   "id": "3bd59eaf",
   "metadata": {},
   "outputs": [],
   "source": [
    "a = 10"
   ]
  },
  {
   "cell_type": "code",
   "execution_count": 5,
   "id": "d98a6a30",
   "metadata": {},
   "outputs": [
    {
     "name": "stdout",
     "output_type": "stream",
     "text": [
      "10\n"
     ]
    }
   ],
   "source": [
    "print(a)"
   ]
  },
  {
   "cell_type": "code",
   "execution_count": 6,
   "id": "639f2aa5",
   "metadata": {},
   "outputs": [
    {
     "name": "stdout",
     "output_type": "stream",
     "text": [
      "Hello\n"
     ]
    }
   ],
   "source": [
    "b = 'Hello'\n",
    "print(b)"
   ]
  },
  {
   "cell_type": "markdown",
   "id": "7e9abcf6",
   "metadata": {},
   "source": [
    "### Combining variable assignment with arithmetic expressions"
   ]
  },
  {
   "cell_type": "code",
   "execution_count": 14,
   "id": "b01cece1",
   "metadata": {},
   "outputs": [
    {
     "name": "stdout",
     "output_type": "stream",
     "text": [
      "50\n"
     ]
    }
   ],
   "source": [
    "a = 5\n",
    "b = 10\n",
    "c = a*b\n",
    "print(c)"
   ]
  },
  {
   "cell_type": "markdown",
   "id": "7b7ed349",
   "metadata": {},
   "source": [
    "### Rules for creating variable names\n",
    "\n",
    "- Only letters, numbers and underscore (\\_) characters in the names\n",
    "- Variable name cannot begin with a number\n",
    "- Variable name cannot be a Python keyword\n",
    "- Variable names are case-sensitive\n",
    "\n",
    "### Conventions\n",
    "- Use lowercase rather than uppercase\n",
    "- Variable names starting with '_' have a special role in Python\n",
    "- Descriptive yet concise"
   ]
  },
  {
   "cell_type": "code",
   "execution_count": 15,
   "id": "0c224436",
   "metadata": {},
   "outputs": [],
   "source": [
    "abc = 20\n",
    "abc12 = 30\n",
    "a12_3 = 4.5"
   ]
  },
  {
   "cell_type": "code",
   "execution_count": 16,
   "id": "799e2a00",
   "metadata": {},
   "outputs": [
    {
     "ename": "SyntaxError",
     "evalue": "invalid syntax (<ipython-input-16-7acd9157b695>, line 1)",
     "output_type": "error",
     "traceback": [
      "\u001b[1;36m  File \u001b[1;32m\"<ipython-input-16-7acd9157b695>\"\u001b[1;36m, line \u001b[1;32m1\u001b[0m\n\u001b[1;33m    1abc = 20\u001b[0m\n\u001b[1;37m     ^\u001b[0m\n\u001b[1;31mSyntaxError\u001b[0m\u001b[1;31m:\u001b[0m invalid syntax\n"
     ]
    }
   ],
   "source": [
    "1abc = 20"
   ]
  },
  {
   "cell_type": "code",
   "execution_count": 19,
   "id": "edefa0f2",
   "metadata": {},
   "outputs": [],
   "source": [
    "# This is a comment\n",
    "# Variable names starting with '_' have a special role in Python\n",
    "_abc = 10"
   ]
  },
  {
   "cell_type": "code",
   "execution_count": 20,
   "id": "44ff8249",
   "metadata": {},
   "outputs": [
    {
     "name": "stdout",
     "output_type": "stream",
     "text": [
      "\n",
      "Here is a list of the Python keywords.  Enter any keyword to get more help.\n",
      "\n",
      "False               class               from                or\n",
      "None                continue            global              pass\n",
      "True                def                 if                  raise\n",
      "and                 del                 import              return\n",
      "as                  elif                in                  try\n",
      "assert              else                is                  while\n",
      "async               except              lambda              with\n",
      "await               finally             nonlocal            yield\n",
      "break               for                 not                 \n",
      "\n"
     ]
    }
   ],
   "source": [
    "help('keywords')"
   ]
  },
  {
   "cell_type": "code",
   "execution_count": 23,
   "id": "f372911a",
   "metadata": {},
   "outputs": [
    {
     "ename": "SyntaxError",
     "evalue": "invalid syntax (<ipython-input-23-81f260bd2c61>, line 1)",
     "output_type": "error",
     "traceback": [
      "\u001b[1;36m  File \u001b[1;32m\"<ipython-input-23-81f260bd2c61>\"\u001b[1;36m, line \u001b[1;32m1\u001b[0m\n\u001b[1;33m    for = 2\u001b[0m\n\u001b[1;37m        ^\u001b[0m\n\u001b[1;31mSyntaxError\u001b[0m\u001b[1;31m:\u001b[0m invalid syntax\n"
     ]
    }
   ],
   "source": [
    "for = 2"
   ]
  },
  {
   "cell_type": "code",
   "execution_count": 24,
   "id": "b2f08fe6",
   "metadata": {},
   "outputs": [],
   "source": [
    "xyz = 10\n",
    "XYZ = 20\n",
    "XyZ = 30"
   ]
  },
  {
   "cell_type": "code",
   "execution_count": 25,
   "id": "f443a776",
   "metadata": {},
   "outputs": [],
   "source": [
    "this_is_a_variable_name = 10"
   ]
  },
  {
   "cell_type": "markdown",
   "id": "8cece9dd",
   "metadata": {},
   "source": [
    "#### Concept Check \n",
    "Which of the following variable names will give errors?"
   ]
  },
  {
   "cell_type": "code",
   "execution_count": 26,
   "id": "661683d5",
   "metadata": {},
   "outputs": [
    {
     "ename": "SyntaxError",
     "evalue": "invalid syntax (<ipython-input-26-e56f0fa4e17e>, line 1)",
     "output_type": "error",
     "traceback": [
      "\u001b[1;36m  File \u001b[1;32m\"<ipython-input-26-e56f0fa4e17e>\"\u001b[1;36m, line \u001b[1;32m1\u001b[0m\n\u001b[1;33m    for = 2 # error\u001b[0m\n\u001b[1;37m        ^\u001b[0m\n\u001b[1;31mSyntaxError\u001b[0m\u001b[1;31m:\u001b[0m invalid syntax\n"
     ]
    }
   ],
   "source": [
    "for = 2 # error\n",
    "for1 = 2\n",
    "FOR = 2\n",
    "For = 2\n",
    "for_ = 2\n",
    "1for = 2 # error\n",
    "for_abc£ = 2 # error"
   ]
  },
  {
   "cell_type": "code",
   "execution_count": 28,
   "id": "ea05ce7d",
   "metadata": {},
   "outputs": [
    {
     "name": "stdout",
     "output_type": "stream",
     "text": [
      "Variable                  Type                          Data/Info\n",
      "-----------------------------------------------------------------\n",
      "NamespaceMagics           MetaHasTraits                 <class 'IPython.core.magi<...>mespace.NamespaceMagics'>\n",
      "XYZ                       int                           20\n",
      "XyZ                       int                           30\n",
      "a                         int                           5\n",
      "a12_3                     float                         4.5\n",
      "abc                       int                           20\n",
      "abc12                     int                           30\n",
      "b                         int                           10\n",
      "c                         int                           50\n",
      "d                         int                           10\n",
      "for12                     int                           2\n",
      "get_ipython               function                      <function get_ipython at 0x00000228954A58B0>\n",
      "getsizeof                 builtin_function_or_method    <built-in function getsizeof>\n",
      "json                      module                        <module 'json' from 'C:\\\\<...>\\lib\\\\json\\\\__init__.py'>\n",
      "np                        module                        <module 'numpy' from 'C:\\<...>ges\\\\numpy\\\\__init__.py'>\n",
      "this_is_a_variable_name   int                           10\n",
      "var_dic_list              function                      <function var_dic_list at 0x00000228995AB280>\n",
      "xyz                       int                           10\n"
     ]
    }
   ],
   "source": [
    "# Helpful function to list all the variables created so far\n",
    "whos\n",
    "# if the above command does not work, try %whos"
   ]
  },
  {
   "cell_type": "markdown",
   "id": "40773043",
   "metadata": {},
   "source": [
    "## Strings\n",
    "String data type holds a sequence of characters (letters, numbers, punctuations, symbols etc.)\n",
    "\n",
    "There are different ways to create a string:\n",
    "- single quotes (')\n",
    "- double quotes (\")\n",
    "- three single/double quotes (''' or \"\"\")"
   ]
  },
  {
   "cell_type": "code",
   "execution_count": 29,
   "id": "84c9b446",
   "metadata": {},
   "outputs": [
    {
     "name": "stdout",
     "output_type": "stream",
     "text": [
      "Hello CE02\n"
     ]
    }
   ],
   "source": [
    "my_str1 = 'Hello CE02' # using single quotes\n",
    "print(my_str1)"
   ]
  },
  {
   "cell_type": "code",
   "execution_count": 30,
   "id": "73d70f10",
   "metadata": {},
   "outputs": [
    {
     "name": "stdout",
     "output_type": "stream",
     "text": [
      "We are learning Python\n"
     ]
    }
   ],
   "source": [
    "my_str2 = \"We are learning Python\" # double quotes\n",
    "print(my_str2)"
   ]
  },
  {
   "cell_type": "code",
   "execution_count": 32,
   "id": "60151694",
   "metadata": {},
   "outputs": [
    {
     "name": "stdout",
     "output_type": "stream",
     "text": [
      "This is going to be a fun week!!!\n"
     ]
    }
   ],
   "source": [
    "my_str3 = '''This is going to be a fun week!!!''' # three single quotes\n",
    "print(my_str3)"
   ]
  },
  {
   "cell_type": "code",
   "execution_count": 33,
   "id": "7691b007",
   "metadata": {},
   "outputs": [
    {
     "name": "stdout",
     "output_type": "stream",
     "text": [
      "Ram said, \"Hello CE02\"\n"
     ]
    }
   ],
   "source": [
    "my_str4 = 'Ram said, \"Hello CE02\"'\n",
    "print(my_str4)"
   ]
  },
  {
   "cell_type": "code",
   "execution_count": 36,
   "id": "99afc4ae",
   "metadata": {},
   "outputs": [
    {
     "name": "stdout",
     "output_type": "stream",
     "text": [
      "\n",
      "This\n",
      "is\n",
      "a\n",
      "multi-line\n",
      "string\n"
     ]
    }
   ],
   "source": [
    "my_str5 = \"\"\"\n",
    "This\n",
    "is\n",
    "a\n",
    "multi-line\n",
    "string\"\"\"\n",
    "print(my_str5)"
   ]
  },
  {
   "cell_type": "code",
   "execution_count": 37,
   "id": "d6cb4242",
   "metadata": {},
   "outputs": [
    {
     "name": "stdout",
     "output_type": "stream",
     "text": [
      "Ram's sister said, \"This is a string\"\n"
     ]
    }
   ],
   "source": [
    "my_str6 = '''Ram's sister said, \"This is a string\"'''\n",
    "print(my_str6)"
   ]
  },
  {
   "cell_type": "markdown",
   "id": "202d84b0",
   "metadata": {},
   "source": [
    "### Formatting strings\n",
    "Formatting strings is useful if you have a string with placeholders and you want to replace the placeholders with variable names.  \n",
    "Placeholders are created in the string using curly brackets `{}`"
   ]
  },
  {
   "cell_type": "code",
   "execution_count": 40,
   "id": "77628b3c",
   "metadata": {},
   "outputs": [
    {
     "name": "stdout",
     "output_type": "stream",
     "text": [
      "Hi, my name is Finn and my number is 0795 xxx xxx\n"
     ]
    }
   ],
   "source": [
    "name = 'Finn'\n",
    "number = '0795 xxx xxx'\n",
    "print('Hi, my name is {} and my number is {}'.format(name, number)) # old way"
   ]
  },
  {
   "cell_type": "markdown",
   "id": "67955a8f",
   "metadata": {},
   "source": [
    "### Using f-strings"
   ]
  },
  {
   "cell_type": "code",
   "execution_count": 41,
   "id": "efa95f7a",
   "metadata": {},
   "outputs": [
    {
     "name": "stdout",
     "output_type": "stream",
     "text": [
      "Hi, my name is Finn and my number is 0795 xxx xxx\n"
     ]
    }
   ],
   "source": [
    "print(f'Hi, my name is {name} and my number is {number}')"
   ]
  },
  {
   "cell_type": "markdown",
   "id": "4e12e823",
   "metadata": {},
   "source": [
    "### Raw string literals (r-strings)"
   ]
  },
  {
   "cell_type": "code",
   "execution_count": 43,
   "id": "4c9f7927",
   "metadata": {},
   "outputs": [
    {
     "name": "stdout",
     "output_type": "stream",
     "text": [
      "This is a message\n",
      "\n",
      "\n",
      "\tThis is another message\n"
     ]
    }
   ],
   "source": [
    "print('This is a message\\n\\n\\n\\tThis is another message')"
   ]
  },
  {
   "cell_type": "markdown",
   "id": "074e81c6",
   "metadata": {},
   "source": [
    "Escape sequence: https://docs.python.org/3/reference/lexical_analysis.html"
   ]
  },
  {
   "cell_type": "code",
   "execution_count": 44,
   "id": "d5bbf262",
   "metadata": {},
   "outputs": [
    {
     "name": "stdout",
     "output_type": "stream",
     "text": [
      "This is a message\\n\\n\\n\\tThis is another message\n"
     ]
    }
   ],
   "source": [
    "print(r'This is a message\\n\\n\\n\\tThis is another message')"
   ]
  },
  {
   "cell_type": "markdown",
   "id": "9f51ab14",
   "metadata": {},
   "source": [
    "#### Concept Check\n",
    "- Create two variables 'base' and 'height' (assume they are two sides of a right angled triangle)\n",
    "- Find the hypotenuse of this triangle using the formula `hypotenuse**2 = height**2 + base**2`"
   ]
  },
  {
   "cell_type": "markdown",
   "id": "970c03c5",
   "metadata": {},
   "source": [
    "#### Concept Check \n",
    "Write a single expression for the perimeter of a rectangle, given width `a` and height `b`"
   ]
  },
  {
   "cell_type": "markdown",
   "id": "8004eaa2",
   "metadata": {},
   "source": [
    "## Conditional statements\n",
    "\n",
    "Syntax for if statement: \n",
    "\n",
    "```\n",
    "if <condition>:\n",
    "    statements to execute if condition is satisfied\n",
    "```\n",
    "\n",
    "Thereis an optional `else` statement that works with `if`\n",
    "\n",
    "```\n",
    "if <condition>:\n",
    "    statements to execute if condition is satisfied\n",
    "else:\n",
    "    statements to execute if condition is not satisfied\n",
    "```"
   ]
  },
  {
   "cell_type": "code",
   "execution_count": 46,
   "id": "de9ec040",
   "metadata": {},
   "outputs": [],
   "source": [
    "a = 1\n",
    "if a>5:\n",
    "    print('a is greater than 5')"
   ]
  },
  {
   "cell_type": "code",
   "execution_count": 48,
   "id": "c50f78f5",
   "metadata": {},
   "outputs": [
    {
     "name": "stdout",
     "output_type": "stream",
     "text": [
      "a is smaller than b\n",
      "The condition is satisfied!!\n",
      "Exiting the conditional branch\n"
     ]
    }
   ],
   "source": [
    "a = 15\n",
    "b = 10\n",
    "\n",
    "if a>b:\n",
    "    print('a is smaller than b')\n",
    "    print('The condition is satisfied!!')\n",
    "else:\n",
    "    print('a is greater than b')\n",
    "    print('The condition is not satisfied!!!')\n",
    "    \n",
    "print('Exiting the conditional branch')"
   ]
  },
  {
   "cell_type": "markdown",
   "id": "c0732f1b",
   "metadata": {},
   "source": [
    "#### Concept Check\n",
    "Here, we will write some basic code to calculate the amount in a bank account after interest.\n",
    "\n",
    "1. Create several variables and assign them values:\n",
    "- principal (the initial amount in the account)\n",
    "- rate (the yearly interest rate)\n",
    "- years (number of years to do compounding)\n",
    "\n",
    "2. Calculate the amount in the bank account if principal compounds at the specified rate' over years.\n",
    "Assign this to variable new_principal.\n",
    "\n",
    "3. Print the amount in the bank account, specifying whether the money is owed or not. For example, \n",
    "- If new_principal is -50, then print \"\\$50 owed\".\n",
    "- If new_principal is 50, then print \"\\$50 in account\"."
   ]
  },
  {
   "cell_type": "code",
   "execution_count": 6,
   "id": "ac4e039d",
   "metadata": {},
   "outputs": [
    {
     "name": "stdout",
     "output_type": "stream",
     "text": [
      "£11.27 In the account\n"
     ]
    }
   ],
   "source": [
    "# Will's solution\n",
    "principal = 10\n",
    "rate = 0.01\n",
    "years = 12\n",
    "\n",
    "new_principal = principal * (1+rate) ** years\n",
    "\n",
    "if new_principal > 0:\n",
    "    print(f'£{new_principal:.2f} In the account')\n",
    "else:\n",
    "    print(f'£{new_principal:.2f} owed')"
   ]
  },
  {
   "cell_type": "markdown",
   "id": "a172d91a",
   "metadata": {},
   "source": [
    "## Collections\n",
    "There are four main data types in Python for storing multiple values in a single variable\n",
    "- Lists\n",
    "- Tuples\n",
    "- Sets\n",
    "- Dictionaries\n",
    "\n",
    "Three main properties associated with each collection:\n",
    "- **Mutability** - whether you can change the value of the collection after creation\n",
    "- **Ordering** - whether the values are ordered\n",
    "- **Uniqueness** - where there can be more than one of the same value in the collection"
   ]
  },
  {
   "cell_type": "markdown",
   "id": "9369c5cd",
   "metadata": {},
   "source": [
    "### Lists\n",
    "- Used to store a sequence of items\n",
    "- **Mutable**, **ordered** collection of values\n",
    "- Created using a pair of square brackets `[]`"
   ]
  },
  {
   "cell_type": "code",
   "execution_count": 7,
   "id": "e63408ef",
   "metadata": {},
   "outputs": [
    {
     "name": "stdout",
     "output_type": "stream",
     "text": [
      "[1, 2, 3]\n"
     ]
    }
   ],
   "source": [
    "my_list = [1,2,3]\n",
    "print(my_list)"
   ]
  },
  {
   "cell_type": "code",
   "execution_count": 8,
   "id": "0c5a3aed",
   "metadata": {},
   "outputs": [
    {
     "name": "stdout",
     "output_type": "stream",
     "text": [
      "['a', 'b', 'c']\n"
     ]
    }
   ],
   "source": [
    "my_list2 = ['a','b','c']\n",
    "print(my_list2)"
   ]
  },
  {
   "cell_type": "markdown",
   "id": "95841e66",
   "metadata": {},
   "source": [
    "Appending elements to a list"
   ]
  },
  {
   "cell_type": "code",
   "execution_count": 9,
   "id": "ce619e58",
   "metadata": {},
   "outputs": [],
   "source": [
    "# Use .append() to all elements to a list\n",
    "my_list.append(4)"
   ]
  },
  {
   "cell_type": "code",
   "execution_count": 10,
   "id": "120fa57f",
   "metadata": {},
   "outputs": [
    {
     "name": "stdout",
     "output_type": "stream",
     "text": [
      "[1, 2, 3, 4]\n"
     ]
    }
   ],
   "source": [
    "print(my_list)"
   ]
  },
  {
   "cell_type": "markdown",
   "id": "1b352c24",
   "metadata": {},
   "source": [
    "Accessing elements from a list using indexing (i.e. `my_list[n]`)"
   ]
  },
  {
   "cell_type": "code",
   "execution_count": 11,
   "id": "0ba333a7",
   "metadata": {},
   "outputs": [
    {
     "data": {
      "text/plain": [
       "1"
      ]
     },
     "execution_count": 11,
     "metadata": {},
     "output_type": "execute_result"
    }
   ],
   "source": [
    "my_list[0] # the first element of a list has an index 0"
   ]
  },
  {
   "cell_type": "code",
   "execution_count": 13,
   "id": "663310ff",
   "metadata": {},
   "outputs": [
    {
     "ename": "IndexError",
     "evalue": "list index out of range",
     "output_type": "error",
     "traceback": [
      "\u001b[1;31m---------------------------------------------------------------------------\u001b[0m",
      "\u001b[1;31mIndexError\u001b[0m                                Traceback (most recent call last)",
      "\u001b[1;32m<ipython-input-13-5f35c92730f3>\u001b[0m in \u001b[0;36m<module>\u001b[1;34m\u001b[0m\n\u001b[1;32m----> 1\u001b[1;33m \u001b[0mmy_list\u001b[0m\u001b[1;33m[\u001b[0m\u001b[1;36m4\u001b[0m\u001b[1;33m]\u001b[0m \u001b[1;31m# this will throw an error because this tries to access an element that does not exist\u001b[0m\u001b[1;33m\u001b[0m\u001b[1;33m\u001b[0m\u001b[0m\n\u001b[0m",
      "\u001b[1;31mIndexError\u001b[0m: list index out of range"
     ]
    }
   ],
   "source": [
    "my_list[4] # this will throw an error because this tries to access an element that does not exist"
   ]
  },
  {
   "cell_type": "markdown",
   "id": "06021914",
   "metadata": {},
   "source": [
    "Inserting elements into a list using `.insert(loc,value)` where `loc` corresponds to the index where you're inserting the `value` element"
   ]
  },
  {
   "cell_type": "code",
   "execution_count": 18,
   "id": "e262a314",
   "metadata": {},
   "outputs": [],
   "source": [
    "my_list2.insert(0,'z')"
   ]
  },
  {
   "cell_type": "code",
   "execution_count": 19,
   "id": "912f84cc",
   "metadata": {},
   "outputs": [
    {
     "name": "stdout",
     "output_type": "stream",
     "text": [
      "['z', 'a', 'b', 'c']\n"
     ]
    }
   ],
   "source": [
    "print(my_list2)"
   ]
  },
  {
   "cell_type": "markdown",
   "id": "6bcb4fd2",
   "metadata": {},
   "source": [
    "Removing an item from the list"
   ]
  },
  {
   "cell_type": "code",
   "execution_count": 20,
   "id": "8645cba4",
   "metadata": {},
   "outputs": [
    {
     "name": "stdout",
     "output_type": "stream",
     "text": [
      "['a', 'b', 'c']\n"
     ]
    }
   ],
   "source": [
    "my_list2.remove('z')\n",
    "print(my_list2)"
   ]
  },
  {
   "cell_type": "code",
   "execution_count": 21,
   "id": "a468f7fd",
   "metadata": {},
   "outputs": [
    {
     "ename": "ValueError",
     "evalue": "list.remove(x): x not in list",
     "output_type": "error",
     "traceback": [
      "\u001b[1;31m---------------------------------------------------------------------------\u001b[0m",
      "\u001b[1;31mValueError\u001b[0m                                Traceback (most recent call last)",
      "\u001b[1;32m<ipython-input-21-7ebf1190c9f6>\u001b[0m in \u001b[0;36m<module>\u001b[1;34m\u001b[0m\n\u001b[1;32m----> 1\u001b[1;33m \u001b[0mmy_list2\u001b[0m\u001b[1;33m.\u001b[0m\u001b[0mremove\u001b[0m\u001b[1;33m(\u001b[0m\u001b[1;34m'z'\u001b[0m\u001b[1;33m)\u001b[0m\u001b[1;33m\u001b[0m\u001b[1;33m\u001b[0m\u001b[0m\n\u001b[0m",
      "\u001b[1;31mValueError\u001b[0m: list.remove(x): x not in list"
     ]
    }
   ],
   "source": [
    "my_list2.remove('z')"
   ]
  },
  {
   "cell_type": "markdown",
   "id": "240e9a54",
   "metadata": {},
   "source": [
    "Concatenate two lists using `+`"
   ]
  },
  {
   "cell_type": "code",
   "execution_count": 23,
   "id": "6a42459e",
   "metadata": {},
   "outputs": [
    {
     "name": "stdout",
     "output_type": "stream",
     "text": [
      "[1, 2, 3, 4, 1, 2, 3, 4, 1, 2, 3, 4]\n"
     ]
    }
   ],
   "source": [
    "my_list_concat = my_list + my_list + my_list\n",
    "print(my_list_concat)"
   ]
  },
  {
   "cell_type": "code",
   "execution_count": 24,
   "id": "41db8143",
   "metadata": {},
   "outputs": [],
   "source": [
    "my_list_concat.remove(1)"
   ]
  },
  {
   "cell_type": "code",
   "execution_count": 25,
   "id": "ad1bf73f",
   "metadata": {},
   "outputs": [
    {
     "name": "stdout",
     "output_type": "stream",
     "text": [
      "[2, 3, 4, 1, 2, 3, 4, 1, 2, 3, 4]\n"
     ]
    }
   ],
   "source": [
    "print(my_list_concat)"
   ]
  },
  {
   "cell_type": "markdown",
   "id": "1df00fbe",
   "metadata": {},
   "source": [
    "#### Concept Check\n",
    "We looked at `insert` and `append` methods. There is another method called `sort`. Can you create a list of 5 names and use the `sort` method to sort the list?\n"
   ]
  },
  {
   "cell_type": "code",
   "execution_count": 31,
   "id": "9bc7489c",
   "metadata": {},
   "outputs": [
    {
     "name": "stdout",
     "output_type": "stream",
     "text": [
      "['Abdullah', 'Alfie', 'Finn', 'Gianluigi', 'Magnus']\n"
     ]
    }
   ],
   "source": [
    "names = ['Abdullah','Alfie','Finn','Gianluigi','Magnus']\n",
    "print(names)"
   ]
  },
  {
   "cell_type": "code",
   "execution_count": 32,
   "id": "f5405638",
   "metadata": {},
   "outputs": [
    {
     "name": "stdout",
     "output_type": "stream",
     "text": [
      "['Magnus', 'Gianluigi', 'Finn', 'Alfie', 'Abdullah']\n"
     ]
    }
   ],
   "source": [
    "names.sort(reverse=True)\n",
    "print(names)"
   ]
  },
  {
   "cell_type": "code",
   "execution_count": 30,
   "id": "0532b4e1",
   "metadata": {},
   "outputs": [
    {
     "name": "stdout",
     "output_type": "stream",
     "text": [
      "['Charlie', 'Delta', 'alpha', 'bravo', 'echo']\n"
     ]
    }
   ],
   "source": [
    "names1 = ['alpha','bravo','Charlie','Delta','echo']\n",
    "names1.sort()\n",
    "print(names1)"
   ]
  },
  {
   "cell_type": "code",
   "execution_count": 33,
   "id": "c6fc3a89",
   "metadata": {},
   "outputs": [
    {
     "name": "stdout",
     "output_type": "stream",
     "text": [
      "['a', 'b', 1.5, 2.3, 4, 7]\n"
     ]
    }
   ],
   "source": [
    "mix = ['a','b',1.5,2.3,4,7]\n",
    "print(mix)"
   ]
  },
  {
   "cell_type": "code",
   "execution_count": 34,
   "id": "75e6d374",
   "metadata": {},
   "outputs": [
    {
     "ename": "TypeError",
     "evalue": "'<' not supported between instances of 'float' and 'str'",
     "output_type": "error",
     "traceback": [
      "\u001b[1;31m---------------------------------------------------------------------------\u001b[0m",
      "\u001b[1;31mTypeError\u001b[0m                                 Traceback (most recent call last)",
      "\u001b[1;32m<ipython-input-34-c7ece1b521a7>\u001b[0m in \u001b[0;36m<module>\u001b[1;34m\u001b[0m\n\u001b[1;32m----> 1\u001b[1;33m \u001b[0mmix\u001b[0m\u001b[1;33m.\u001b[0m\u001b[0msort\u001b[0m\u001b[1;33m(\u001b[0m\u001b[1;33m)\u001b[0m\u001b[1;33m\u001b[0m\u001b[1;33m\u001b[0m\u001b[0m\n\u001b[0m\u001b[0;32m      2\u001b[0m \u001b[0mprint\u001b[0m\u001b[1;33m(\u001b[0m\u001b[0mmix\u001b[0m\u001b[1;33m)\u001b[0m\u001b[1;33m\u001b[0m\u001b[1;33m\u001b[0m\u001b[0m\n",
      "\u001b[1;31mTypeError\u001b[0m: '<' not supported between instances of 'float' and 'str'"
     ]
    }
   ],
   "source": [
    "mix.sort()\n",
    "print(mix)"
   ]
  },
  {
   "cell_type": "code",
   "execution_count": 35,
   "id": "a6efa8f2",
   "metadata": {},
   "outputs": [
    {
     "name": "stdout",
     "output_type": "stream",
     "text": [
      "[1, 1, 1, 1, 1]\n"
     ]
    }
   ],
   "source": [
    "list_a = [1,1,1,1,1]\n",
    "print(list_a)"
   ]
  },
  {
   "cell_type": "markdown",
   "id": "50fcc5b6",
   "metadata": {},
   "source": [
    "### Tuples\n",
    "- Tuples are similar to lists except that they are **immutable**\n",
    "- Tuples are created using round brackets ()"
   ]
  },
  {
   "cell_type": "code",
   "execution_count": 36,
   "id": "6061bf18",
   "metadata": {},
   "outputs": [
    {
     "name": "stdout",
     "output_type": "stream",
     "text": [
      "(1, 2, 3)\n"
     ]
    }
   ],
   "source": [
    "my_tuple = (1,2,3)\n",
    "print(my_tuple)"
   ]
  },
  {
   "cell_type": "code",
   "execution_count": 37,
   "id": "69bf95e7",
   "metadata": {},
   "outputs": [
    {
     "data": {
      "text/plain": [
       "1"
      ]
     },
     "execution_count": 37,
     "metadata": {},
     "output_type": "execute_result"
    }
   ],
   "source": [
    "my_tuple[0]"
   ]
  },
  {
   "cell_type": "markdown",
   "id": "46b2c1dd",
   "metadata": {},
   "source": [
    "Tuples are useful for grouping different variables together"
   ]
  },
  {
   "cell_type": "code",
   "execution_count": 38,
   "id": "3c7e5c13",
   "metadata": {},
   "outputs": [
    {
     "name": "stdout",
     "output_type": "stream",
     "text": [
      "('Nathan', '07723 xxx xxx', 'London')\n"
     ]
    }
   ],
   "source": [
    "person = ('Nathan','07723 xxx xxx','London')\n",
    "print(person)"
   ]
  },
  {
   "cell_type": "code",
   "execution_count": 39,
   "id": "4e3e43ef",
   "metadata": {},
   "outputs": [
    {
     "name": "stdout",
     "output_type": "stream",
     "text": [
      "('Ram', '07712 xxx xxx', 'Liverpool')\n"
     ]
    }
   ],
   "source": [
    "name = 'Ram'\n",
    "number = '07712 xxx xxx'\n",
    "city = 'Liverpool'\n",
    "person1 = (name, number, city)\n",
    "print(person1)"
   ]
  },
  {
   "cell_type": "markdown",
   "id": "7aa295a5",
   "metadata": {},
   "source": [
    "Concatenate two tuples using `+`"
   ]
  },
  {
   "cell_type": "code",
   "execution_count": 40,
   "id": "fd0c4a01",
   "metadata": {},
   "outputs": [
    {
     "data": {
      "text/plain": [
       "('Nathan', '07723 xxx xxx', 'London', 'Ram', '07712 xxx xxx', 'Liverpool')"
      ]
     },
     "execution_count": 40,
     "metadata": {},
     "output_type": "execute_result"
    }
   ],
   "source": [
    "person + person1"
   ]
  },
  {
   "cell_type": "code",
   "execution_count": 41,
   "id": "b0768478",
   "metadata": {},
   "outputs": [
    {
     "name": "stdout",
     "output_type": "stream",
     "text": [
      "('Nathan', '07723 xxx xxx', 'London')\n"
     ]
    }
   ],
   "source": [
    "print(person)"
   ]
  },
  {
   "cell_type": "markdown",
   "id": "a52db69a",
   "metadata": {},
   "source": [
    "Converting from a tuple to a list and vice-versa"
   ]
  },
  {
   "cell_type": "code",
   "execution_count": null,
   "id": "b6810f24",
   "metadata": {},
   "outputs": [],
   "source": [
    "person_list = list(person)\n",
    "print(person_list)"
   ]
  },
  {
   "cell_type": "code",
   "execution_count": 43,
   "id": "3dc38f75",
   "metadata": {},
   "outputs": [
    {
     "name": "stdout",
     "output_type": "stream",
     "text": [
      "('Nathan', '07723 xxx xxx', 'London')\n"
     ]
    }
   ],
   "source": [
    "person_tuple = tuple(person_list)\n",
    "print(person_tuple)"
   ]
  },
  {
   "cell_type": "markdown",
   "id": "542af0a4",
   "metadata": {},
   "source": [
    "### Sets\n",
    "- Sets are **mutable**, **unordered** collection of **unique** values\n",
    "- Created using curly brackets `{}`"
   ]
  },
  {
   "cell_type": "code",
   "execution_count": 44,
   "id": "e1fe6b36",
   "metadata": {},
   "outputs": [
    {
     "name": "stdout",
     "output_type": "stream",
     "text": [
      "{1, 2, 3, 4, 5, 6, 7, 8}\n"
     ]
    }
   ],
   "source": [
    "my_set = {1,2,3,4,4,4,4,5,6,7,7,7,8}\n",
    "print(my_set)"
   ]
  },
  {
   "cell_type": "code",
   "execution_count": 45,
   "id": "76b7e961",
   "metadata": {},
   "outputs": [
    {
     "name": "stdout",
     "output_type": "stream",
     "text": [
      "[2, 3, 4, 1, 2, 3, 4, 1, 2, 3, 4]\n"
     ]
    }
   ],
   "source": [
    "print(my_list_concat)"
   ]
  },
  {
   "cell_type": "code",
   "execution_count": 46,
   "id": "5f7cd47c",
   "metadata": {
    "scrolled": true
   },
   "outputs": [
    {
     "name": "stdout",
     "output_type": "stream",
     "text": [
      "{1, 2, 3, 4}\n"
     ]
    }
   ],
   "source": [
    "my_set2 = set(my_list_concat)\n",
    "print(my_set2)"
   ]
  },
  {
   "cell_type": "code",
   "execution_count": 48,
   "id": "367db5e9",
   "metadata": {},
   "outputs": [
    {
     "name": "stdout",
     "output_type": "stream",
     "text": [
      "{1, 2, 3, 4, 5}\n"
     ]
    }
   ],
   "source": [
    "my_set2.add(4)\n",
    "print(my_set2)"
   ]
  },
  {
   "cell_type": "code",
   "execution_count": 49,
   "id": "4e497f20",
   "metadata": {},
   "outputs": [],
   "source": [
    "my_set3 = {'a','b','c'}"
   ]
  },
  {
   "cell_type": "markdown",
   "id": "53ec6798",
   "metadata": {},
   "source": [
    "### Dictionaries\n",
    "A **mutable** collection of **key-value pairs** created by enclosing them with curly brackets `{}`\n",
    "\n",
    "`{key1: value1, key2: value2}`\n",
    "In this case, `key1:value1` corresponds to `item1` in the dictionary "
   ]
  },
  {
   "cell_type": "code",
   "execution_count": 52,
   "id": "5de96aab",
   "metadata": {},
   "outputs": [
    {
     "name": "stdout",
     "output_type": "stream",
     "text": [
      "{'name': 'MattM', 'location': 'New York'}\n"
     ]
    }
   ],
   "source": [
    "my_dict = {'name': 'MattM', 'location': 'New York'}\n",
    "print(my_dict)"
   ]
  },
  {
   "cell_type": "code",
   "execution_count": 53,
   "id": "3eee5efc",
   "metadata": {},
   "outputs": [
    {
     "data": {
      "text/plain": [
       "'MattM'"
      ]
     },
     "execution_count": 53,
     "metadata": {},
     "output_type": "execute_result"
    }
   ],
   "source": [
    "my_dict['name']"
   ]
  },
  {
   "cell_type": "code",
   "execution_count": 54,
   "id": "3978e1cd",
   "metadata": {},
   "outputs": [
    {
     "data": {
      "text/plain": [
       "'New York'"
      ]
     },
     "execution_count": 54,
     "metadata": {},
     "output_type": "execute_result"
    }
   ],
   "source": [
    "my_dict['location']"
   ]
  },
  {
   "cell_type": "code",
   "execution_count": 55,
   "id": "f21d6103",
   "metadata": {},
   "outputs": [
    {
     "name": "stdout",
     "output_type": "stream",
     "text": [
      "{'names': ['MattM', 'MattT', 'Abhishek']}\n"
     ]
    }
   ],
   "source": [
    "my_dict2 = {'names': ['MattM','MattT','Abhishek']}\n",
    "print(my_dict2)"
   ]
  },
  {
   "cell_type": "code",
   "execution_count": 57,
   "id": "19146c55",
   "metadata": {},
   "outputs": [
    {
     "data": {
      "text/plain": [
       "'Abhishek'"
      ]
     },
     "execution_count": 57,
     "metadata": {},
     "output_type": "execute_result"
    }
   ],
   "source": [
    "my_dict2['names'][2]"
   ]
  },
  {
   "cell_type": "code",
   "execution_count": 58,
   "id": "ca6818e9",
   "metadata": {},
   "outputs": [
    {
     "data": {
      "text/plain": [
       "dict_keys(['name', 'location'])"
      ]
     },
     "execution_count": 58,
     "metadata": {},
     "output_type": "execute_result"
    }
   ],
   "source": [
    "my_dict.keys()"
   ]
  },
  {
   "cell_type": "code",
   "execution_count": 59,
   "id": "2165ea0a",
   "metadata": {},
   "outputs": [
    {
     "data": {
      "text/plain": [
       "dict_values(['MattM', 'New York'])"
      ]
     },
     "execution_count": 59,
     "metadata": {},
     "output_type": "execute_result"
    }
   ],
   "source": [
    "my_dict.values()"
   ]
  },
  {
   "cell_type": "code",
   "execution_count": 60,
   "id": "456c8310",
   "metadata": {},
   "outputs": [
    {
     "data": {
      "text/plain": [
       "dict_items([('name', 'MattM'), ('location', 'New York')])"
      ]
     },
     "execution_count": 60,
     "metadata": {},
     "output_type": "execute_result"
    }
   ],
   "source": [
    "my_dict.items()"
   ]
  },
  {
   "cell_type": "markdown",
   "id": "f659f92d",
   "metadata": {},
   "source": [
    "#### Concept Check:\n",
    "1. What are the differences between a list, tuples, sets and dictionaries?\n",
    "2. You want a data structure to store pairs of names and phone numbers. What should you use?\n",
    "3. You want a collection to contain the names of all students in the class. What data structure should you use?\n",
    "4. You want a collection to contain the names and phone numbers of all students in the class. What data structure should you use?"
   ]
  },
  {
   "cell_type": "markdown",
   "id": "4165d181",
   "metadata": {},
   "source": [
    "## Iteration and Looping\n",
    "Iteration means going through a collection one element at a time"
   ]
  },
  {
   "cell_type": "markdown",
   "id": "8c9ef8a8",
   "metadata": {},
   "source": [
    "### Iterating through items in a list"
   ]
  },
  {
   "cell_type": "code",
   "execution_count": 61,
   "id": "849de2bc",
   "metadata": {},
   "outputs": [
    {
     "name": "stdout",
     "output_type": "stream",
     "text": [
      "['apple', 'banana', 'orange']\n"
     ]
    }
   ],
   "source": [
    "fruits = ['apple','banana','orange']\n",
    "print(fruits)"
   ]
  },
  {
   "cell_type": "markdown",
   "id": "02316aa5",
   "metadata": {},
   "source": [
    "Use `for` statement to iterate through a collection\n",
    "\n",
    "```\n",
    "for <each_item> in <collection>:\n",
    "    process item\n",
    "```"
   ]
  },
  {
   "cell_type": "code",
   "execution_count": 74,
   "id": "f53f0db0",
   "metadata": {},
   "outputs": [
    {
     "name": "stdout",
     "output_type": "stream",
     "text": [
      "apple\n",
      "-----\n",
      "banana\n",
      "-----\n",
      "orange\n",
      "-----\n",
      "*****\n"
     ]
    }
   ],
   "source": [
    "for i in fruits:\n",
    "    print(i)\n",
    "    print('-----')    \n",
    "print('*****')"
   ]
  },
  {
   "cell_type": "code",
   "execution_count": 66,
   "id": "16ecd90c",
   "metadata": {},
   "outputs": [
    {
     "name": "stdout",
     "output_type": "stream",
     "text": [
      "apple\n",
      "banana\n"
     ]
    }
   ],
   "source": [
    "# Abhishek's Question about enumeration: Advanced! We will look into this in Part 3 of Core Python\n",
    "for n, item in enumerate(fruits):\n",
    "    if n<2:\n",
    "        print(item)"
   ]
  },
  {
   "cell_type": "code",
   "execution_count": 68,
   "id": "65f53b31",
   "metadata": {},
   "outputs": [
    {
     "name": "stdout",
     "output_type": "stream",
     "text": [
      "0\n",
      "1\n",
      "2\n",
      "3\n",
      "4\n",
      "5\n",
      "6\n",
      "7\n",
      "8\n",
      "9\n"
     ]
    }
   ],
   "source": [
    "# Alfie's Question about printing a set of numbers\n",
    "for i in range(10):\n",
    "    print(i)"
   ]
  },
  {
   "cell_type": "markdown",
   "id": "4bfbea39",
   "metadata": {},
   "source": [
    "### Iterating through items in a tuple"
   ]
  },
  {
   "cell_type": "code",
   "execution_count": 75,
   "id": "fc3ee618",
   "metadata": {},
   "outputs": [
    {
     "name": "stdout",
     "output_type": "stream",
     "text": [
      "POTATO\n",
      "CARROT\n",
      "AUBERGINE\n"
     ]
    }
   ],
   "source": [
    "veggies = ('potato','carrot','aubergine')\n",
    "for item in veggies:\n",
    "    print(item.upper())"
   ]
  },
  {
   "cell_type": "markdown",
   "id": "d475d3b7",
   "metadata": {},
   "source": [
    "### Iterating though items in a dictionary"
   ]
  },
  {
   "cell_type": "code",
   "execution_count": 84,
   "id": "ba894db4",
   "metadata": {},
   "outputs": [
    {
     "name": "stdout",
     "output_type": "stream",
     "text": [
      "Key is name and Value is James\n",
      "Key is location and Value is Tokyo\n"
     ]
    }
   ],
   "source": [
    "my_dict = {'name': 'James', 'location': 'Tokyo'}\n",
    "for element in my_dict:\n",
    "    print(f'Key is {element} and Value is {my_dict[element]}')"
   ]
  },
  {
   "cell_type": "code",
   "execution_count": 78,
   "id": "7a75f6de",
   "metadata": {},
   "outputs": [
    {
     "name": "stdout",
     "output_type": "stream",
     "text": [
      "name\n",
      "location\n"
     ]
    }
   ],
   "source": [
    "for item in my_dict: # this 'item' doesn't correspond to 'items' in a dictionary\n",
    "    print(item)"
   ]
  },
  {
   "cell_type": "markdown",
   "id": "55aaf2f9",
   "metadata": {},
   "source": [
    "## Functions\n",
    "Functions are useful for encapsulating logic in a program.  \n",
    "Functions are created using the `def` keyword\n",
    "\n"
   ]
  },
  {
   "cell_type": "code",
   "execution_count": 85,
   "id": "00b670b9",
   "metadata": {},
   "outputs": [],
   "source": [
    "def multiply(a,b):\n",
    "    result = a*b\n",
    "    return result"
   ]
  },
  {
   "cell_type": "code",
   "execution_count": 86,
   "id": "20e7bdbc",
   "metadata": {},
   "outputs": [
    {
     "name": "stdout",
     "output_type": "stream",
     "text": [
      "260\n"
     ]
    }
   ],
   "source": [
    "c = multiply(20,13)\n",
    "print(c)"
   ]
  },
  {
   "cell_type": "code",
   "execution_count": 88,
   "id": "d8531a64",
   "metadata": {},
   "outputs": [
    {
     "name": "stdout",
     "output_type": "stream",
     "text": [
      "91.35\n"
     ]
    }
   ],
   "source": [
    "d = multiply(8.7,10.5)\n",
    "print(d)"
   ]
  },
  {
   "cell_type": "code",
   "execution_count": 89,
   "id": "77afb3b3",
   "metadata": {},
   "outputs": [],
   "source": [
    "def say_hello(name):\n",
    "    print(f'Hello {name}, welcome to Kubrick!')"
   ]
  },
  {
   "cell_type": "code",
   "execution_count": 91,
   "id": "30125c07",
   "metadata": {},
   "outputs": [
    {
     "name": "stdout",
     "output_type": "stream",
     "text": [
      "Hello Dandison, welcome to Kubrick!\n"
     ]
    }
   ],
   "source": [
    "say_hello('Dandison')"
   ]
  },
  {
   "cell_type": "markdown",
   "id": "fa15a219",
   "metadata": {},
   "source": [
    "## File I/O\n",
    "We can use Python to read/write to files.\n",
    "- Different modes for file handling - 'w','r','a'\n",
    "- In the examples below, we only specify the filename which means that it will get saved in to the same folder as our notebook.\n",
    "- You can also provide the absolute path (i.e. the entire path) with a raw string literal to save it to a different folder\n",
    "- You can also use something like `..\\example.txt` to save it in the parent folder of our current working directory\n",
    "- `.\\example.txt` refers to the file `example.txt` in the current working directory "
   ]
  },
  {
   "cell_type": "code",
   "execution_count": 92,
   "id": "f153ee3d",
   "metadata": {},
   "outputs": [],
   "source": [
    "# write to file\n",
    "text = 'This is a sentence to write to a file.'\n",
    "#my_file = open('example.txt','w') # 'w' indicates that it is write mode\n",
    "my_file = open(r'C:\\OneDriveKG\\CE\\CE02\\Python\\course_notes\\example.txt','w')\n",
    "my_file.write(text)\n",
    "my_file.close()"
   ]
  },
  {
   "cell_type": "code",
   "execution_count": 98,
   "id": "6f377496",
   "metadata": {},
   "outputs": [
    {
     "name": "stdout",
     "output_type": "stream",
     "text": [
      "This is a sentence to write to a file.\n"
     ]
    }
   ],
   "source": [
    "# Read from file\n",
    "my_file = open(r'.\\example.txt','r') # 'r' indicates read mode\n",
    "text_1 = my_file.read()\n",
    "my_file.close()\n",
    "print(text_1)"
   ]
  },
  {
   "cell_type": "code",
   "execution_count": 99,
   "id": "b5e56ec9",
   "metadata": {},
   "outputs": [],
   "source": [
    "text2 = 'This is another sentence.'\n",
    "my_file = open(r'C:\\OneDriveKG\\CE\\CE02\\Python\\course_notes\\example.txt','a')\n",
    "my_file.write(text2)\n",
    "my_file.close()"
   ]
  },
  {
   "cell_type": "code",
   "execution_count": 100,
   "id": "b5169ff5",
   "metadata": {},
   "outputs": [],
   "source": [
    "# Context handlers `with` statement\n",
    "with open('example2.txt','w') as my_file:\n",
    "    my_file.write(text2)"
   ]
  },
  {
   "cell_type": "markdown",
   "id": "6b7df49c",
   "metadata": {},
   "source": [
    "#### Concept Check\n",
    "1. Create a list containing names of five other people in your cohort. \n",
    "2. Use a loop to write the names to a file\n",
    "3. Encapsulate the logic in Steps 1 and 2 into a function. "
   ]
  },
  {
   "cell_type": "code",
   "execution_count": 101,
   "id": "a5229449",
   "metadata": {},
   "outputs": [],
   "source": [
    "# Part 1\n",
    "ce02_list = ['Abdullah','Finn','Gianluigi','James','Magnus']"
   ]
  },
  {
   "cell_type": "code",
   "execution_count": 102,
   "id": "747d8886",
   "metadata": {},
   "outputs": [],
   "source": [
    "# Part 2\n",
    "my_file = open('ce02_list.txt','w')\n",
    "\n",
    "for student in ce02_list:\n",
    "    my_file.write(student)\n",
    "    my_file.write('\\n')\n",
    "my_file.close()"
   ]
  },
  {
   "cell_type": "code",
   "execution_count": 103,
   "id": "a987d620",
   "metadata": {},
   "outputs": [],
   "source": [
    "# Part 3\n",
    "def write_names_to_file(list_of_names, file_to_save):\n",
    "    my_file = open(file_to_save, 'w')\n",
    "    for student in list_of_names:\n",
    "        my_file.write(student)\n",
    "        my_file.write('\\n')\n",
    "    my_file.close()"
   ]
  },
  {
   "cell_type": "code",
   "execution_count": 104,
   "id": "42cc7dce",
   "metadata": {},
   "outputs": [],
   "source": [
    "ce02_alt_list = ['Abhishek','MattM','Dandison','MattT']\n",
    "my_file = 'ce02_alt_list.txt'"
   ]
  },
  {
   "cell_type": "code",
   "execution_count": 105,
   "id": "1e6aa228",
   "metadata": {},
   "outputs": [],
   "source": [
    "write_names_to_file(ce02_alt_list,my_file)"
   ]
  },
  {
   "cell_type": "markdown",
   "id": "5fef689c",
   "metadata": {},
   "source": [
    "## Objects and Classes\n",
    "In Python, every piece of data is an object. Each object has a specific type. We can create our own custom types by using classes.\n",
    "\n",
    "So far, we have looked at a few different built-in object types such as strings, integers, floats, lists, tuples etc."
   ]
  },
  {
   "cell_type": "code",
   "execution_count": 106,
   "id": "da0bf2ee",
   "metadata": {},
   "outputs": [],
   "source": [
    "items = (1,2,3)"
   ]
  },
  {
   "cell_type": "code",
   "execution_count": 108,
   "id": "ba064431",
   "metadata": {},
   "outputs": [
    {
     "data": {
      "text/plain": [
       "tuple"
      ]
     },
     "execution_count": 108,
     "metadata": {},
     "output_type": "execute_result"
    }
   ],
   "source": [
    "# To see the type of an object, we can use the in-built type function\n",
    "type(items)"
   ]
  },
  {
   "cell_type": "code",
   "execution_count": 109,
   "id": "2f875117",
   "metadata": {},
   "outputs": [
    {
     "data": {
      "text/plain": [
       "list"
      ]
     },
     "execution_count": 109,
     "metadata": {},
     "output_type": "execute_result"
    }
   ],
   "source": [
    "type(ce02_list)"
   ]
  },
  {
   "cell_type": "code",
   "execution_count": 112,
   "id": "97ac5e0f",
   "metadata": {},
   "outputs": [
    {
     "data": {
      "text/plain": [
       "['__add__',\n",
       " '__class__',\n",
       " '__contains__',\n",
       " '__delattr__',\n",
       " '__delitem__',\n",
       " '__dir__',\n",
       " '__doc__',\n",
       " '__eq__',\n",
       " '__format__',\n",
       " '__ge__',\n",
       " '__getattribute__',\n",
       " '__getitem__',\n",
       " '__gt__',\n",
       " '__hash__',\n",
       " '__iadd__',\n",
       " '__imul__',\n",
       " '__init__',\n",
       " '__init_subclass__',\n",
       " '__iter__',\n",
       " '__le__',\n",
       " '__len__',\n",
       " '__lt__',\n",
       " '__mul__',\n",
       " '__ne__',\n",
       " '__new__',\n",
       " '__reduce__',\n",
       " '__reduce_ex__',\n",
       " '__repr__',\n",
       " '__reversed__',\n",
       " '__rmul__',\n",
       " '__setattr__',\n",
       " '__setitem__',\n",
       " '__sizeof__',\n",
       " '__str__',\n",
       " '__subclasshook__',\n",
       " 'append',\n",
       " 'clear',\n",
       " 'copy',\n",
       " 'count',\n",
       " 'extend',\n",
       " 'index',\n",
       " 'insert',\n",
       " 'pop',\n",
       " 'remove',\n",
       " 'reverse',\n",
       " 'sort']"
      ]
     },
     "execution_count": 112,
     "metadata": {},
     "output_type": "execute_result"
    }
   ],
   "source": [
    "# To see the methods and attributes of an object, we can use the built-in dir function\n",
    "dir(ce02_list)"
   ]
  },
  {
   "cell_type": "markdown",
   "id": "5352dee0",
   "metadata": {},
   "source": [
    "You can create your own custom object types using classes. Classes are the blueprint for creating Python objects"
   ]
  },
  {
   "cell_type": "code",
   "execution_count": 113,
   "id": "ee5a921f",
   "metadata": {},
   "outputs": [],
   "source": [
    "person1 = ('Ram','07797 xxx xxx','London')\n",
    "person2 = ('Mike','07486 xxx xxx','Singapore')\n",
    "person3 = ('Gian','07948 xxx xxx','Canada')"
   ]
  },
  {
   "cell_type": "code",
   "execution_count": 114,
   "id": "6f552f62",
   "metadata": {},
   "outputs": [],
   "source": [
    "class Person:\n",
    "    def __init__(self, name, number, location): # dunder or double underscore methods\n",
    "        self.name = name # attributes\n",
    "        self.number = number\n",
    "        self.location = location\n",
    "        \n",
    "    def say_hello(self): # methods\n",
    "        print(f'Hello {self.name}, welcome to Kubrick!')\n",
    "        \n",
    "    def print_salary(self, salary):\n",
    "        print(f\"{self.name}'s salary is £{salary}\")"
   ]
  },
  {
   "cell_type": "code",
   "execution_count": 115,
   "id": "3c414eb9",
   "metadata": {},
   "outputs": [],
   "source": [
    "person1 = Person('Ram','07797 xxx xxx','London')"
   ]
  },
  {
   "cell_type": "code",
   "execution_count": 116,
   "id": "5e5d0c46",
   "metadata": {},
   "outputs": [
    {
     "name": "stdout",
     "output_type": "stream",
     "text": [
      "Hello Ram, welcome to Kubrick!\n"
     ]
    }
   ],
   "source": [
    "person1.say_hello()"
   ]
  },
  {
   "cell_type": "code",
   "execution_count": 117,
   "id": "1f80322e",
   "metadata": {},
   "outputs": [
    {
     "name": "stdout",
     "output_type": "stream",
     "text": [
      "Ram's salary is £10000000\n"
     ]
    }
   ],
   "source": [
    "person1.print_salary(10000000)"
   ]
  },
  {
   "cell_type": "code",
   "execution_count": 119,
   "id": "081f1787",
   "metadata": {},
   "outputs": [
    {
     "data": {
      "text/plain": [
       "__main__.Person"
      ]
     },
     "execution_count": 119,
     "metadata": {},
     "output_type": "execute_result"
    }
   ],
   "source": [
    "type(person1)"
   ]
  },
  {
   "cell_type": "code",
   "execution_count": 123,
   "id": "a65ec615",
   "metadata": {},
   "outputs": [
    {
     "data": {
      "text/plain": [
       "'Ram'"
      ]
     },
     "execution_count": 123,
     "metadata": {},
     "output_type": "execute_result"
    }
   ],
   "source": [
    "person1.name"
   ]
  },
  {
   "cell_type": "code",
   "execution_count": 124,
   "id": "44f88c6a",
   "metadata": {},
   "outputs": [],
   "source": [
    "person2 = Person('Mike','07486 xxx xxx','Singapore')"
   ]
  },
  {
   "cell_type": "code",
   "execution_count": 125,
   "id": "267b5005",
   "metadata": {},
   "outputs": [
    {
     "data": {
      "text/plain": [
       "'Mike'"
      ]
     },
     "execution_count": 125,
     "metadata": {},
     "output_type": "execute_result"
    }
   ],
   "source": [
    "person2.name"
   ]
  },
  {
   "cell_type": "code",
   "execution_count": null,
   "id": "1a45bb1c",
   "metadata": {},
   "outputs": [],
   "source": [
    "person1.name"
   ]
  },
  {
   "cell_type": "code",
   "execution_count": 127,
   "id": "623b7247",
   "metadata": {},
   "outputs": [
    {
     "name": "stdout",
     "output_type": "stream",
     "text": [
      "Hello Mike, welcome to Kubrick!\n"
     ]
    }
   ],
   "source": [
    "person2.say_hello()"
   ]
  },
  {
   "cell_type": "code",
   "execution_count": null,
   "id": "00e49122",
   "metadata": {},
   "outputs": [],
   "source": [
    "class Person:\n",
    "    def __init__(self, name, number, location): # dunder or double underscore methods\n",
    "        self.name = name # attributes\n",
    "        self.number = number\n",
    "        self.location = location\n",
    "        \n",
    "    def say_hello(self): # methods\n",
    "        print(f'Hello {self.name}, welcome to Kubrick!')\n",
    "        \n",
    "    def print_salary(self, salary):\n",
    "        print(f\"{self.name}'s salary is £{salary}\")"
   ]
  },
  {
   "cell_type": "markdown",
   "id": "017d7c9c",
   "metadata": {},
   "source": [
    "#### Concept Check \n",
    "- Create a `Movie` class with three attributes `title`,`year`,`genre`\n",
    "- Create an instance method that prints out the details of your favourite movie created as an instance of this class `Movie`"
   ]
  },
  {
   "cell_type": "code",
   "execution_count": 128,
   "id": "b9003e0e",
   "metadata": {},
   "outputs": [],
   "source": [
    "class Movie:\n",
    "    def __init__(self, title, year, genre): # first argument is usually self\n",
    "        self.title = title\n",
    "        self.year = year\n",
    "        self.genre = genre\n",
    "        \n",
    "    def print_details(self):\n",
    "        print(f'{self.title} is a {self.genre} movie released in {self.year}')"
   ]
  },
  {
   "cell_type": "code",
   "execution_count": 129,
   "id": "608b7583",
   "metadata": {},
   "outputs": [],
   "source": [
    "movie1 = Movie('The Lion King 2','1998','animation')"
   ]
  },
  {
   "cell_type": "code",
   "execution_count": 130,
   "id": "b4bb44b1",
   "metadata": {},
   "outputs": [
    {
     "name": "stdout",
     "output_type": "stream",
     "text": [
      "The Lion King 2 is a animation movie released in 1998\n"
     ]
    }
   ],
   "source": [
    "movie1.print_details()"
   ]
  },
  {
   "cell_type": "code",
   "execution_count": 131,
   "id": "32b0d6df",
   "metadata": {},
   "outputs": [],
   "source": [
    "movie2 = Movie('The Godfather','1972','crime-thriller')"
   ]
  },
  {
   "cell_type": "code",
   "execution_count": 133,
   "id": "e8cf34e4",
   "metadata": {},
   "outputs": [
    {
     "data": {
      "text/plain": [
       "'The Godfather'"
      ]
     },
     "execution_count": 133,
     "metadata": {},
     "output_type": "execute_result"
    }
   ],
   "source": [
    "movie2.title"
   ]
  },
  {
   "cell_type": "code",
   "execution_count": 134,
   "id": "9ea37002",
   "metadata": {},
   "outputs": [
    {
     "data": {
      "text/plain": [
       "'1972'"
      ]
     },
     "execution_count": 134,
     "metadata": {},
     "output_type": "execute_result"
    }
   ],
   "source": [
    "movie2.year"
   ]
  },
  {
   "cell_type": "code",
   "execution_count": 135,
   "id": "539d7093",
   "metadata": {},
   "outputs": [
    {
     "name": "stdout",
     "output_type": "stream",
     "text": [
      "The Godfather is a crime-thriller movie released in 1972\n"
     ]
    }
   ],
   "source": [
    "movie2.print_details()"
   ]
  },
  {
   "cell_type": "code",
   "execution_count": null,
   "id": "39bec75e",
   "metadata": {},
   "outputs": [],
   "source": []
  }
 ],
 "metadata": {
  "kernelspec": {
   "display_name": "Python 3",
   "language": "python",
   "name": "python3"
  },
  "language_info": {
   "codemirror_mode": {
    "name": "ipython",
    "version": 3
   },
   "file_extension": ".py",
   "mimetype": "text/x-python",
   "name": "python",
   "nbconvert_exporter": "python",
   "pygments_lexer": "ipython3",
   "version": "3.8.8"
  },
  "toc": {
   "base_numbering": 1,
   "nav_menu": {},
   "number_sections": true,
   "sideBar": true,
   "skip_h1_title": false,
   "title_cell": "Table of Contents",
   "title_sidebar": "Contents",
   "toc_cell": false,
   "toc_position": {},
   "toc_section_display": true,
   "toc_window_display": false
  },
  "varInspector": {
   "cols": {
    "lenName": 16,
    "lenType": 16,
    "lenVar": 40
   },
   "kernels_config": {
    "python": {
     "delete_cmd_postfix": "",
     "delete_cmd_prefix": "del ",
     "library": "var_list.py",
     "varRefreshCmd": "print(var_dic_list())"
    },
    "r": {
     "delete_cmd_postfix": ") ",
     "delete_cmd_prefix": "rm(",
     "library": "var_list.r",
     "varRefreshCmd": "cat(var_dic_list()) "
    }
   },
   "types_to_exclude": [
    "module",
    "function",
    "builtin_function_or_method",
    "instance",
    "_Feature"
   ],
   "window_display": false
  }
 },
 "nbformat": 4,
 "nbformat_minor": 5
}
