{
 "cells": [
  {
   "cell_type": "markdown",
   "metadata": {},
   "source": [
    "# 4. Functions -- Exercises"
   ]
  },
  {
   "cell_type": "markdown",
   "metadata": {},
   "source": [
    "---\n",
    "## Exercise 4.1 - a basic function\n",
    "- Create a function that calculates the momentum of an object given the mass and velocity.\n",
    "- The function signature should be momentum(v, m).\n",
    "- Set the default value of m to be 1 (kg).\n"
   ]
  },
  {
   "cell_type": "code",
   "execution_count": 1,
   "metadata": {},
   "outputs": [
    {
     "name": "stdout",
     "output_type": "stream",
     "text": [
      "12\n"
     ]
    }
   ],
   "source": [
    "def momentum(v=0, m=1):\n",
    "    p = m*v\n",
    "    print(p)\n",
    "momentum(2,6)"
   ]
  },
  {
   "cell_type": "code",
   "execution_count": 2,
   "metadata": {
    "tags": []
   },
   "outputs": [
    {
     "ename": "ModuleNotFoundError",
     "evalue": "No module named 'test_pypart4'",
     "output_type": "error",
     "traceback": [
      "\u001b[1;31m---------------------------------------------------------------------------\u001b[0m",
      "\u001b[1;31mModuleNotFoundError\u001b[0m                       Traceback (most recent call last)",
      "\u001b[1;32m<ipython-input-2-6c8804cb4bcf>\u001b[0m in \u001b[0;36m<module>\u001b[1;34m\u001b[0m\n\u001b[0;32m      1\u001b[0m \u001b[1;31m# Verification\u001b[0m\u001b[1;33m\u001b[0m\u001b[1;33m\u001b[0m\u001b[1;33m\u001b[0m\u001b[0m\n\u001b[0;32m      2\u001b[0m \u001b[1;32mif\u001b[0m \u001b[0m__name__\u001b[0m \u001b[1;33m==\u001b[0m \u001b[1;34m'__main__'\u001b[0m\u001b[1;33m:\u001b[0m\u001b[1;33m\u001b[0m\u001b[1;33m\u001b[0m\u001b[0m\n\u001b[1;32m----> 3\u001b[1;33m     \u001b[1;32mimport\u001b[0m \u001b[0mtest_pypart4\u001b[0m\u001b[1;33m\u001b[0m\u001b[1;33m\u001b[0m\u001b[0m\n\u001b[0m\u001b[0;32m      4\u001b[0m     \u001b[0mtest_pypart4\u001b[0m\u001b[1;33m.\u001b[0m\u001b[0mcheck_4_1a\u001b[0m\u001b[1;33m(\u001b[0m\u001b[0mmomentum\u001b[0m\u001b[1;33m)\u001b[0m\u001b[1;33m\u001b[0m\u001b[1;33m\u001b[0m\u001b[0m\n\u001b[0;32m      5\u001b[0m     \u001b[0mtest_pypart4\u001b[0m\u001b[1;33m.\u001b[0m\u001b[0mcheck_4_1b\u001b[0m\u001b[1;33m(\u001b[0m\u001b[0mmomentum\u001b[0m\u001b[1;33m)\u001b[0m\u001b[1;33m\u001b[0m\u001b[1;33m\u001b[0m\u001b[0m\n",
      "\u001b[1;31mModuleNotFoundError\u001b[0m: No module named 'test_pypart4'"
     ]
    }
   ],
   "source": [
    "# Verification\n",
    "if __name__ == '__main__':\n",
    "    import test_pypart4\n",
    "    test_pypart4.check_4_1a(momentum)\n",
    "    test_pypart4.check_4_1b(momentum)"
   ]
  },
  {
   "cell_type": "markdown",
   "metadata": {},
   "source": [
    "---\n",
    "## Exercise 4.2 - Using `*`\n",
    "- Write a function `my_func` accepts a variable number of string arguments (without keywords).\n",
    "  The function is to print out every argument separated by a new line.\n",
    "- For example, `my_func('hello', 'oh-no', 'tumbleweed')` should print out:\n",
    "~~~\n",
    "  'hello'\n",
    "  'oh-no'\n",
    "  'tumbleweed'\n",
    "~~~\n"
   ]
  },
  {
   "cell_type": "code",
   "execution_count": 5,
   "metadata": {},
   "outputs": [
    {
     "name": "stdout",
     "output_type": "stream",
     "text": [
      "hello\n",
      "oh-no\n",
      "tumbleweed\n"
     ]
    }
   ],
   "source": [
    "def my_func(*args):\n",
    "    for i in args:\n",
    "        print(i)\n",
    "    \n",
    "my_func('hello','oh-no','tumbleweed')\n",
    "    "
   ]
  },
  {
   "cell_type": "code",
   "execution_count": null,
   "metadata": {
    "tags": []
   },
   "outputs": [],
   "source": [
    "# Verification\n",
    "if __name__ == '__main__':\n",
    "    import test_pypart4\n",
    "    test_pypart4.check_4_2(my_func)"
   ]
  },
  {
   "cell_type": "markdown",
   "metadata": {},
   "source": [
    "\n",
    "---\n",
    "## Exercise 4.3 - `*args` and `**kwargs`\n",
    "- Write a function to print out all keywords that begin with a letter alphabetically before a selected letter, e.g. 'p'.\n",
    "- Write a function to print out all keyword _arguments_ that are strings and that begin with a letter alphabetically before a selected letter, e.g. 'p'.\n",
    "\n"
   ]
  },
  {
   "cell_type": "code",
   "execution_count": null,
   "metadata": {},
   "outputs": [],
   "source": [
    "def print_keywords_before(selected_letter, **kwargs):\n",
    "    \n",
    "\n",
    "def print_kw_args_before(selected_letter, **kwargs):\n",
    "    pass\n",
    "    \n",
    "    "
   ]
  },
  {
   "cell_type": "code",
   "execution_count": null,
   "metadata": {},
   "outputs": [],
   "source": [
    "def print_keywords_before(selected_letter, **kwargs):\n",
    "for i in kwargs:\n",
    "if i[0]<selected_letter:\n",
    "print(i)\n",
    "pass\n",
    "\n",
    "def print_kw_args_before(selected_letter, **kwargs):\n",
    "for i in kwargs:\n",
    "if type(kwargs[i]) == str and kwargs[i][0] < selected_letter:\n",
    "print(kwargs[i])\n",
    "pass"
   ]
  },
  {
   "cell_type": "code",
   "execution_count": null,
   "metadata": {},
   "outputs": [],
   "source": [
    "# Verification\n",
    "if __name__ == '__main__':\n",
    "    test_pypart4.check_4_3a(print_keywords_before)\n",
    "    test_pypart4.check_4_3b(print_kw_args_before)"
   ]
  },
  {
   "cell_type": "markdown",
   "metadata": {},
   "source": [
    "---\n",
    "## Exercise 4.4 - Scoping\n",
    "- Prepare an explanation that you would offer in an interview, if you were asked \"tell me about the scoping rules for python  functions\".\n",
    "- Write code to illustrate what you just explained."
   ]
  },
  {
   "cell_type": "code",
   "execution_count": null,
   "metadata": {},
   "outputs": [],
   "source": []
  },
  {
   "cell_type": "markdown",
   "metadata": {},
   "source": [
    "---\n",
    "## Exercise 4.5 - Decorators\n",
    "- What is the purpose of a decorator?\n",
    "- Write a decorator to append a line of text to a log file, containing the current timedate at which the decorated function was called, and also name of function being called. (hint: use the `__name__` attribute.)\n",
    "\n"
   ]
  },
  {
   "cell_type": "code",
   "execution_count": null,
   "metadata": {},
   "outputs": [],
   "source": []
  },
  {
   "cell_type": "markdown",
   "metadata": {},
   "source": [
    "## Exercise 4.6 - Comprehensions / maps\n",
    "- Create a numerical list `[1,3,5,2,4]`. Write a list comprehension to iterate through the list.\n",
    "- Do the same thing with a generator expression.\n",
    "- When would we prefer to use a generator expression?\n",
    "- Repeat the same thing with the map function with a `lambda` function.\n",
    "\n"
   ]
  },
  {
   "cell_type": "code",
   "execution_count": null,
   "metadata": {},
   "outputs": [],
   "source": []
  },
  {
   "cell_type": "markdown",
   "metadata": {},
   "source": [
    "## Exercise 4.7 - Dictionary Comprehensions\n",
    "- Create two lists `['a','b','c']`, `[1,2,3]`.\n",
    "- Using a comprehension, create a dictionary containing `{'a':1, 'b':2, 'c':3}`\n",
    "\n"
   ]
  },
  {
   "cell_type": "code",
   "execution_count": null,
   "metadata": {},
   "outputs": [],
   "source": [
    "def create_dict(list1, list2):\n",
    "    pass"
   ]
  },
  {
   "cell_type": "code",
   "execution_count": null,
   "metadata": {},
   "outputs": [],
   "source": [
    "# Verification\n",
    "if __name__ == '__main__':\n",
    "    import test_pypart4\n",
    "    test_pypart4.check_4_7(create_dict)\n"
   ]
  },
  {
   "cell_type": "markdown",
   "metadata": {},
   "source": [
    "## Exercise 4.8 - Odd numbers intersection\n",
    "- Create a function called `odds_intersection(list1, list2)`.\n",
    "  The function should return a collection of odd numbers that `list1` and `list2` have in common.\n",
    "  For example, odds_intersection(`['a','b',1,2,'3',4,5,'c']`, `['z','y,'x',3,2,1,9,7,5,5]` should return `[1, 5]`.\n",
    "\n"
   ]
  },
  {
   "cell_type": "code",
   "execution_count": null,
   "metadata": {},
   "outputs": [],
   "source": [
    "def odds_intersection(list1, list2):\n",
    "    pass"
   ]
  },
  {
   "cell_type": "code",
   "execution_count": null,
   "metadata": {},
   "outputs": [],
   "source": [
    "# Verification\n",
    "if __name__ == '__main__':\n",
    "    test_pypart4.check_4_8(odds_intersection)\n"
   ]
  },
  {
   "cell_type": "markdown",
   "metadata": {},
   "source": [
    "## Exercise 4.9 - kwargs decorator\n",
    "- Create a decorator called `kwargs_only` to force the user to only use keyword arguments with a function.\n",
    "- For example, suppose we had a function decorated with `kwargs_only`\n",
    "~~~\n",
    "  @kwargs_only\n",
    "  def my_function(x):\n",
    "      return x\n",
    "~~~\n",
    "- Running `my_function(5)` should return an error, but running `my_function(x=5)` should work.\n",
    "\n"
   ]
  },
  {
   "cell_type": "code",
   "execution_count": null,
   "metadata": {},
   "outputs": [],
   "source": [
    "def kwargs_only(my_function):\n",
    "    pass\n"
   ]
  },
  {
   "cell_type": "code",
   "execution_count": null,
   "metadata": {},
   "outputs": [],
   "source": [
    "# Verification\n",
    "if __name__ == '__main__':\n",
    "    test_pypart4.check_4_9(kwargs_only)\n"
   ]
  },
  {
   "cell_type": "markdown",
   "metadata": {},
   "source": [
    "## Exercise 4.10 - Custom map\n",
    "- Create a function `custom_map(f, my_list)` that returns a generator that applies f to every element in my_list.\n",
    "  This behaviour will be similar to that of the in-built map function.\n",
    "\n",
    "\n"
   ]
  },
  {
   "cell_type": "code",
   "execution_count": null,
   "metadata": {},
   "outputs": [],
   "source": [
    "def custom_map(f, my_list):\n",
    "    pass"
   ]
  },
  {
   "cell_type": "code",
   "execution_count": null,
   "metadata": {},
   "outputs": [],
   "source": [
    "# Verification\n",
    "if __name__ == '__main__':\n",
    "    test_pypart4.check_4_10(custom_map)\n"
   ]
  },
  {
   "cell_type": "markdown",
   "metadata": {},
   "source": [
    "## Exercise 4.11 -- transpose a list of lists\n",
    "- consider the following list of lists: `lol = [[1,2,3],[4,5,6],[7,8,9]]`. \n",
    "- How can we transpose it, so that the rows and colums are reversed, \n",
    "  i.e. we get `[[1, 4, 7], [2, 5, 8], [3, 6, 9]]` ?\n",
    "\n",
    "- Hint: you can use the `*` operator and `zip()` function to obtain a correct list of tuples, \n",
    "  and then the `map()` function to turn this into a list of lists. \n"
   ]
  },
  {
   "cell_type": "code",
   "execution_count": null,
   "metadata": {},
   "outputs": [],
   "source": [
    "def transpose_lol(lol):\n",
    "    pass"
   ]
  },
  {
   "cell_type": "code",
   "execution_count": null,
   "metadata": {},
   "outputs": [],
   "source": [
    "# Verification\n",
    "if __name__ == '__main__':\n",
    "    test_pypart4.check_4_11(transpose_lol)"
   ]
  }
 ],
 "metadata": {
  "kernelspec": {
   "display_name": "Python 3",
   "language": "python",
   "name": "python3"
  },
  "language_info": {
   "codemirror_mode": {
    "name": "ipython",
    "version": 3
   },
   "file_extension": ".py",
   "mimetype": "text/x-python",
   "name": "python",
   "nbconvert_exporter": "python",
   "pygments_lexer": "ipython3",
   "version": "3.8.8"
  },
  "toc": {
   "base_numbering": 1,
   "nav_menu": {},
   "number_sections": true,
   "sideBar": true,
   "skip_h1_title": false,
   "title_cell": "Table of Contents",
   "title_sidebar": "Contents",
   "toc_cell": false,
   "toc_position": {},
   "toc_section_display": true,
   "toc_window_display": false
  }
 },
 "nbformat": 4,
 "nbformat_minor": 2
}
