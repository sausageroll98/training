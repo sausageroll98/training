{
 "cells": [
  {
   "cell_type": "markdown",
   "metadata": {},
   "source": [
    "# 2. Objects and Types\n",
    "\n",
    "Exercises. Remember that writing out solutions (without cutting and pasting) is part of the process!\n",
    "\n",
    "Items marked with (`*`) are more challenging. \n"
   ]
  },
  {
   "cell_type": "markdown",
   "metadata": {},
   "source": [
    "---\n",
    "## Exercise 2.1 - List basics:\n",
    "---\n",
    "- Create a list `my_list` containing elements 'a', 'b', 'c'.\n",
    "- Create a copy of `my_list`.\n",
    "- Verify that a copy has been created: check that the list contents are the same, and that the two lists are separate objects (and not two references to the same object)."
   ]
  },
  {
   "cell_type": "code",
   "execution_count": 2,
   "metadata": {},
   "outputs": [
    {
     "name": "stdout",
     "output_type": "stream",
     "text": [
      "x and y have the same id\n"
     ]
    }
   ],
   "source": [
    "my_list = ['a','b','c']\n",
    "my_list_copy = my_list\n",
    "\n",
    "if id(my_list) == id(my_list_copy):\n",
    "    print('x and y have the same id')\n",
    "else:\n",
    "    print('x and y have different ids')"
   ]
  },
  {
   "cell_type": "code",
   "execution_count": 5,
   "metadata": {},
   "outputs": [
    {
     "name": "stdout",
     "output_type": "stream",
     "text": [
      "x and y have different ids\n"
     ]
    }
   ],
   "source": [
    "my_list1 = ['a','b','c']\n",
    "my_list_copy1 = ['a','b','c']\n",
    "\n",
    "if id(my_list1) == id(my_list_copy1):\n",
    "    print('x and y have the same id')\n",
    "else:\n",
    "    print('x and y have different ids')"
   ]
  },
  {
   "cell_type": "markdown",
   "metadata": {},
   "source": [
    "---\n",
    "## Exercise 2.2 - Strings:\n",
    "---\n",
    "\n",
    "Write a function `slice_strings`  that takes two strings `str1` and `str2` as arguments, processes them as follows, and returns the result:\n",
    "- Strip all leading and trailing whitespace from `str1` and `str2`.\n",
    "- In `str2`, replace all z's with spaces.\n",
    "- Concatenate`str1` and `str2`. Assign this to `str3`.\n",
    "- Get the length of `str3`\n",
    "- Use slicing to get every fourth character in the `str3`.\n",
    "- Return the output of these operations.\n",
    "\n",
    "Now:\n",
    "- Create a string `my_string1` containing `'i am an app.   '`\n",
    "- Create a string `my_string2` containing `'   monkzey crayonszone love'`\n",
    "- call the function `slice_strings`, passing in the above strings.\n",
    "- If the returned object looks good, then the answer is probably right."
   ]
  },
  {
   "cell_type": "code",
   "execution_count": 10,
   "metadata": {},
   "outputs": [],
   "source": [
    "def slice_strings(str1,str2):\n",
    "    q = str1.strip()\n",
    "    print(q)\n",
    "    w = str2.strip()\n",
    "    print(w)\n",
    "    e = w.replace('z',' ')\n",
    "    print(e)\n",
    "    str3 = q + e\n",
    "    print(str3)\n",
    "    print(len(str3))\n",
    "    print(str3[::4])\n",
    "    \n",
    "        "
   ]
  },
  {
   "cell_type": "code",
   "execution_count": 11,
   "metadata": {},
   "outputs": [
    {
     "name": "stdout",
     "output_type": "stream",
     "text": [
      "i am an app.\n",
      "monkzey crayonszone love\n",
      "monk ey crayons one love\n",
      "i am an app.monk ey crayons one love\n",
      "36\n",
      "i am cool\n"
     ]
    }
   ],
   "source": [
    "my_string1 = 'i am an app.   '\n",
    "my_string2 = '   monkzey crayonszone love'\n",
    "slice_strings(my_string1,my_string2)"
   ]
  },
  {
   "cell_type": "markdown",
   "metadata": {},
   "source": [
    "---\n",
    "## Exercise 2.3 - List iteration:\n",
    "---\n",
    "- Create list called `evens` containing `[0,2,4,6,8]`\n",
    "- Create list called `odds`  containing `[1,3,5,7,9]`\n",
    "\n",
    "Define a function called `mangle_lists` for processing these two lists: \n",
    "- Create a new empty list called `mangled`.\n",
    "- In a loop:\n",
    "  - Append to mangled the first element of `odds`\n",
    "  - Append to mangled the first element of `evens`\n",
    "  - Append to mangled the second element of `odds`\n",
    "  - Append to mangled the second element of `evens`\n",
    "  - Repeat the process until both lists are exhausted.\n",
    "- Note the resulting `mangled` list should look like `[1,0,3,2,5,4,7,6,9,8]`"
   ]
  },
  {
   "cell_type": "code",
   "execution_count": 38,
   "metadata": {},
   "outputs": [],
   "source": [
    "evens = [0,2,4,6,8]\n",
    "odds = [1,3,5,7,9]\n",
    "\n",
    "def mangle_lists(a,b):\n",
    "    \n",
    "    mangled = []\n",
    "    \n",
    "    x = len(a)\n",
    "    num_range = range(0,x,1)\n",
    "    num_list = list(num_range)\n",
    "    \n",
    "    for i in num_list:\n",
    "        mangled.append(b[i])\n",
    "        mangled.append(a[i])\n",
    "    print(mangled)\n"
   ]
  },
  {
   "cell_type": "code",
   "execution_count": 39,
   "metadata": {},
   "outputs": [
    {
     "name": "stdout",
     "output_type": "stream",
     "text": [
      "[1, 0, 3, 2, 5, 4, 7, 6, 9, 8]\n"
     ]
    }
   ],
   "source": [
    "mangle_lists(evens,odds)"
   ]
  },
  {
   "cell_type": "markdown",
   "metadata": {},
   "source": [
    "--- \n",
    "## Exercise 2.4 - Dictionaries and Lists:\n",
    "---\n",
    "- Create a dictionary with the following key and value:\n",
    "  `key   <your name here>` and `value <your favourite food>`\n",
    "- Eg. `{'Albert':'Okonomiyaki'}` \n",
    "- Repeat the above for five of your classmates\n",
    "- Create a list containing all dictionaries above\n",
    "- Write a function `filter_list` to filter the list, using a string `my_name`. The function should return a list that only contains people with names starting with the same first character as `my_name`."
   ]
  },
  {
   "cell_type": "code",
   "execution_count": 97,
   "metadata": {},
   "outputs": [],
   "source": [
    "my_dict1 = {'Jeevan' :'greggs sausage rolls'}\n",
    "my_dict2 = {'Finn' :'mushrooms'}\n",
    "my_dict3 = {'Matt' :'Stella'}\n",
    "my_dict4 = {'Nathan' :'chicken & chips'}\n",
    "my_dict5 = {'James' :'fish and a ricecake'}\n",
    "my_dict6 = {'Dandison' :'spaghetti'}"
   ]
  },
  {
   "cell_type": "code",
   "execution_count": 110,
   "metadata": {},
   "outputs": [
    {
     "name": "stdout",
     "output_type": "stream",
     "text": [
      "[('Jeevan', 'greggs sausage rolls'), ('Finn', 'mushrooms'), ('Matt', 'Stella'), ('Nathan', 'chips'), ('James', 'chicken nuggies'), ('Dandison', 'spaghetti')]\n"
     ]
    }
   ],
   "source": [
    "my_dict1.update(my_dict2)\n",
    "my_dict1.update(my_dict3)\n",
    "my_dict1.update(my_dict4)\n",
    "my_dict1.update(my_dict5)\n",
    "my_dict1.update(my_dict6)\n",
    "my_dict_list = list(my_dict1.items())\n",
    "print(my_dict_list)"
   ]
  },
  {
   "cell_type": "code",
   "execution_count": 153,
   "metadata": {},
   "outputs": [
    {
     "name": "stdout",
     "output_type": "stream",
     "text": [
      "my_dict2\n"
     ]
    },
    {
     "ename": "ValueError",
     "evalue": "dictionary update sequence element #0 has length 1; 2 is required",
     "output_type": "error",
     "traceback": [
      "\u001b[1;31m---------------------------------------------------------------------------\u001b[0m",
      "\u001b[1;31mValueError\u001b[0m                                Traceback (most recent call last)",
      "\u001b[1;32m<ipython-input-153-de90b26db763>\u001b[0m in \u001b[0;36m<module>\u001b[1;34m\u001b[0m\n\u001b[0;32m      5\u001b[0m     \u001b[0mq\u001b[0m \u001b[1;33m=\u001b[0m \u001b[1;34m'my_dict'\u001b[0m \u001b[1;33m+\u001b[0m \u001b[0mstr\u001b[0m\u001b[1;33m(\u001b[0m\u001b[0mi\u001b[0m\u001b[1;33m)\u001b[0m\u001b[1;33m\u001b[0m\u001b[1;33m\u001b[0m\u001b[0m\n\u001b[0;32m      6\u001b[0m     \u001b[0mprint\u001b[0m\u001b[1;33m(\u001b[0m\u001b[0mq\u001b[0m\u001b[1;33m)\u001b[0m\u001b[1;33m\u001b[0m\u001b[1;33m\u001b[0m\u001b[0m\n\u001b[1;32m----> 7\u001b[1;33m     \u001b[0mmy_dict1\u001b[0m\u001b[1;33m.\u001b[0m\u001b[0mupdate\u001b[0m\u001b[1;33m(\u001b[0m\u001b[0mq\u001b[0m\u001b[1;33m)\u001b[0m\u001b[1;33m\u001b[0m\u001b[1;33m\u001b[0m\u001b[0m\n\u001b[0m\u001b[0;32m      8\u001b[0m \u001b[1;33m\u001b[0m\u001b[0m\n",
      "\u001b[1;31mValueError\u001b[0m: dictionary update sequence element #0 has length 1; 2 is required"
     ]
    }
   ],
   "source": [
    "x = [2,3,4,5,6]\n",
    "q = []\n",
    "\n",
    "for i in x:\n",
    "    q = 'my_dict' + str(i)\n",
    "    print(q)\n",
    "    my_dict1.update(q)\n",
    "    "
   ]
  },
  {
   "cell_type": "code",
   "execution_count": 146,
   "metadata": {},
   "outputs": [],
   "source": [
    "def filter_list(my_name):\n",
    "    first_letter = my_name[0]\n",
    "    for i in my_dict_list:\n",
    "        if i[0][0]==first_letter:\n",
    "            print(i)\n",
    "    \n",
    "    \n",
    "    "
   ]
  },
  {
   "cell_type": "code",
   "execution_count": 147,
   "metadata": {},
   "outputs": [
    {
     "name": "stdout",
     "output_type": "stream",
     "text": [
      "('Jeevan', 'greggs sausage rolls')\n",
      "('James', 'chicken nuggies')\n"
     ]
    }
   ],
   "source": [
    "filter_list('Jeevan')\n"
   ]
  },
  {
   "cell_type": "markdown",
   "metadata": {},
   "source": [
    "--- \n",
    "## Exercise 2.5 - Dictionaries (again):\n",
    "---\n",
    "- You have the following dictionaries `{'a':1, 'b':2}, {'c':3}, {'d':4, 'e':5, 'f':6}`\n",
    "- Write a function `concat_dicts` that concatenates all these into one dictionary, and returns this."
   ]
  },
  {
   "cell_type": "code",
   "execution_count": 111,
   "metadata": {},
   "outputs": [],
   "source": [
    "my_dict1 = {'a':1,'b':2}\n",
    "my_dict2 = {'c':3}\n",
    "my_dict3 = {'d':4,'e':5,'f':6}\n",
    "\n",
    "def concat_dicts(dic1,dic2,dic3):\n",
    "    dic1.update(dic2)\n",
    "    dic1.update(dic3)\n",
    "    print(dic1)\n"
   ]
  },
  {
   "cell_type": "code",
   "execution_count": 112,
   "metadata": {},
   "outputs": [
    {
     "name": "stdout",
     "output_type": "stream",
     "text": [
      "{'a': 1, 'b': 2, 'c': 3, 'd': 4, 'e': 5, 'f': 6}\n"
     ]
    }
   ],
   "source": [
    "concat_dicts(my_dict1, my_dict2, my_dict3)"
   ]
  },
  {
   "cell_type": "markdown",
   "metadata": {},
   "source": [
    "---\n",
    "## Exercise 2.6 - Mutability\n",
    "---\n",
    "- Create an empty lists and call this `my_list1`\n",
    "- Create a reference to `my_list1`. Call this `my_list2`. (ie. run `my_list2 = my_list1`)\n",
    "- Append `'hello'` to `my_list1`.\n",
    "- Does `my_list2` change? Why or why not?"
   ]
  },
  {
   "cell_type": "code",
   "execution_count": 114,
   "metadata": {},
   "outputs": [
    {
     "name": "stdout",
     "output_type": "stream",
     "text": [
      "['hello']\n",
      "['hello']\n",
      "Lists are mutable\n"
     ]
    }
   ],
   "source": [
    "my_list1 =[]\n",
    "my_list2 = my_list1\n",
    "my_list1.append('hello')\n",
    "print(my_list1)\n",
    "print(my_list2)\n",
    "\n",
    "print('Lists are mutable')"
   ]
  },
  {
   "cell_type": "markdown",
   "metadata": {},
   "source": [
    "---\n",
    "## Exercise 2.7 - Vowel Counter\n",
    "---\n",
    "- Create a function `count_vowels` that returns the vowel count for an input string.\n",
    "- For example, if a string contains the following text:\n",
    "`hello`\n",
    "`data engineers`\n",
    "- the function should return `{'a':2, 'e':4, 'i':1, 'o':1, 'u':0}`\n",
    "- Try to use only concepts that we have already covered.\n",
    "- Note to get the length of a sequence `my_seq`, we can use `len(my_seq)`"
   ]
  },
  {
   "cell_type": "code",
   "execution_count": 115,
   "metadata": {},
   "outputs": [],
   "source": [
    "def count_vowels(str1):\n",
    "    vowel_dict = {'a':str1.count('a'),'e':str1.count('e'),'i':str1.count('i'),'o':str1.count('o'),'u':str1.count('u'),}\n",
    "    print(vowel_dict)"
   ]
  },
  {
   "cell_type": "code",
   "execution_count": 116,
   "metadata": {},
   "outputs": [
    {
     "name": "stdout",
     "output_type": "stream",
     "text": [
      "{'a': 3, 'e': 4, 'i': 1, 'o': 2, 'u': 6}\n"
     ]
    }
   ],
   "source": [
    "test_string = 'aaa eeee i oo uuuuuu'\n",
    "count_vowels(test_string)"
   ]
  },
  {
   "cell_type": "markdown",
   "metadata": {},
   "source": [
    "---\n",
    "## Exercise 2.8 - Mutability (\\*)\n",
    "---\n",
    "\n",
    "- Create a list `my_list` containing `['a','b','c']`\n",
    "- Create two lists of lists `lol1` and `lol2` containing `[my_list, my_list, my_list]`\n",
    "- Set the first element of the first list in `lol1` to `'Z'`.\n",
    "  ie. `lol1[0][0] = 'Z'`\n",
    "- What happens to `my_list`? What happens to `lol1` and `lol2`? Why?"
   ]
  },
  {
   "cell_type": "code",
   "execution_count": 121,
   "metadata": {},
   "outputs": [
    {
     "name": "stdout",
     "output_type": "stream",
     "text": [
      "[['a', 'b', 'c'], ['a', 'b', 'c'], ['a', 'b', 'c']]\n",
      "[['a', 'b', 'c'], ['a', 'b', 'c'], ['a', 'b', 'c']]\n",
      "['Z', 'b', 'c']\n",
      "[['Z', 'b', 'c'], ['Z', 'b', 'c'], ['Z', 'b', 'c']]\n",
      "[['Z', 'b', 'c'], ['Z', 'b', 'c'], ['Z', 'b', 'c']]\n"
     ]
    }
   ],
   "source": [
    "my_list = ['a','b','c']\n",
    "lol1 = []\n",
    "lol1.append(my_list)\n",
    "lol1.append(my_list)\n",
    "lol1.append(my_list)\n",
    "print(lol1)\n",
    "lol2 = lol1\n",
    "print(lol2)\n",
    "lol1[0][0] = 'Z'\n",
    "print(my_list)\n",
    "print(lol1)\n",
    "print(lol2)"
   ]
  },
  {
   "cell_type": "markdown",
   "metadata": {},
   "source": [
    "---\n",
    "## Exercise 2.9 - Mutability continued (\\*)\n",
    "---\n",
    "- Create a list `my_list1` containing `['a','b','c']`\n",
    "- Create a list `my_list2 = my_list1*1`\n",
    "- What does `my_list2` contain?\n",
    "- Run `my_list2[0] = 'Z'`. What happens to `my_list1`? Why?"
   ]
  },
  {
   "cell_type": "code",
   "execution_count": 128,
   "metadata": {},
   "outputs": [
    {
     "name": "stdout",
     "output_type": "stream",
     "text": [
      "['a', 'b', 'c']\n"
     ]
    }
   ],
   "source": [
    "my_list1 = ['a','b','c']\n",
    "my_list2 = my_list1*1\n",
    "print(my_list2)"
   ]
  },
  {
   "cell_type": "code",
   "execution_count": 129,
   "metadata": {},
   "outputs": [
    {
     "name": "stdout",
     "output_type": "stream",
     "text": [
      "['Z', 'b', 'c']\n",
      "['a', 'b', 'c']\n"
     ]
    }
   ],
   "source": [
    "my_list2[0] = 'Z' \n",
    "print(my_list2)\n",
    "print(my_list1)"
   ]
  },
  {
   "cell_type": "code",
   "execution_count": null,
   "metadata": {},
   "outputs": [],
   "source": []
  }
 ],
 "metadata": {
  "kernelspec": {
   "display_name": "Python 3",
   "language": "python",
   "name": "python3"
  },
  "language_info": {
   "codemirror_mode": {
    "name": "ipython",
    "version": 3
   },
   "file_extension": ".py",
   "mimetype": "text/x-python",
   "name": "python",
   "nbconvert_exporter": "python",
   "pygments_lexer": "ipython3",
   "version": "3.8.8"
  },
  "toc": {
   "base_numbering": 1,
   "nav_menu": {},
   "number_sections": true,
   "sideBar": true,
   "skip_h1_title": false,
   "title_cell": "Table of Contents",
   "title_sidebar": "Contents",
   "toc_cell": false,
   "toc_position": {},
   "toc_section_display": true,
   "toc_window_display": false
  },
  "varInspector": {
   "cols": {
    "lenName": 16,
    "lenType": 16,
    "lenVar": 40
   },
   "kernels_config": {
    "python": {
     "delete_cmd_postfix": "",
     "delete_cmd_prefix": "del ",
     "library": "var_list.py",
     "varRefreshCmd": "print(var_dic_list())"
    },
    "r": {
     "delete_cmd_postfix": ") ",
     "delete_cmd_prefix": "rm(",
     "library": "var_list.r",
     "varRefreshCmd": "cat(var_dic_list()) "
    }
   },
   "types_to_exclude": [
    "module",
    "function",
    "builtin_function_or_method",
    "instance",
    "_Feature"
   ],
   "window_display": false
  }
 },
 "nbformat": 4,
 "nbformat_minor": 2
}
