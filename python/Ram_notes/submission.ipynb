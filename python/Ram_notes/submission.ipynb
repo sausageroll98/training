{
 "cells": [
  {
   "cell_type": "markdown",
   "metadata": {},
   "source": [
    "\n",
    " # Instructions:\n",
    "- Please enter (and check!) your name and email address in the `get_consultant_name` function, just below this text.\n",
    "- Please enter in your answers 1-8 in the code cells starting with `# submit`.\n",
    "- You can use the code cells starting with `# scratch` to test your solutions. We won't run these.  \n",
    "- You can make more cells starting with `# submit` or `# scratch` as necessary.\n",
    "- Before you submit your file, please *restart your kernel*, and then run all cells from the top, \n",
    "making sure that there are no errors or unhandled exceptions. \n",
    "(Please handle, comment out, or delete, any source code that raises an Exception)\n",
    "- If this paper is being taken under test conditions, then:\n",
    "    - Normally **two and a half hours** is allowed to complete all questions. \n",
    "    - Your best seven answers count, i.e. you receive a mark out of thirty-five, scaled to a percentage.\n",
    "    - Normally this is an 'open book' test, i.e. access to your notes and on-line resources is allowed.\n",
    "    - Please ensure that this is only your own work: please don't accept help from others (or give it!)  \n",
    "\n",
    "## Hints:\n",
    "1) Make sure you are returning the right type of object that the question is asking for (and how this is not the same as printing out the answer from within the function.) \n",
    "\n",
    "2) In some questions, partial marks are awarded for satisfying the simpler test cases. Use your time wisely!"
   ]
  },
  {
   "cell_type": "code",
   "execution_count": 1,
   "metadata": {},
   "outputs": [],
   "source": [
    "\n",
    "def get_consultant_name():\n",
    "    first_name = 'jeevan'\n",
    "    surname = 'rai'\n",
    "    email = 'jeevanrai@kubrickgroup.com'\n",
    "    return first_name, surname, email\n"
   ]
  },
  {
   "cell_type": "markdown",
   "metadata": {},
   "source": [
    "1. Appending to a Tuple\n",
    "-------------------------------\n",
    "Write a function that takes in a tuple and a value. \n",
    "- The function should return another tuple with the value appended to the input tuple (3 marks).\n",
    "- If the first input argument isn't a tuple then the function should raise an `Exception` (2 marks).  \n",
    "\n",
    "\n",
    "\n",
    "Required Signature:\n",
    "\n",
    "    def add_to_tuple(t,x):  \n",
    "        pass  \n",
    "\n",
    "for example, calling `add_to_tuple((1,2,3),4)` \n",
    " will return `(1,2,3,4)`\n",
    "\n",
    "Another example: calling `add_to_tuple([1,2,3],4)` \n",
    " will raise an `Exception`\n",
    "\n"
   ]
  },
  {
   "cell_type": "code",
   "execution_count": 18,
   "metadata": {},
   "outputs": [],
   "source": [
    "# submit (we will import your solution from this cell. Don't use Global Variables here.  )\n",
    "# ------------------------------------------------------------------------------\n",
    "def add_to_tuple(t,x):\n",
    "    if type(t) != tuple:\n",
    "        raise Exception('The initial input is not a tuple')\n",
    "    else:\n",
    "        t_list = list(t)\n",
    "        t_list.append(x)\n",
    "        tuple_new = tuple(t_list)\n",
    "    return tuple_new"
   ]
  },
  {
   "cell_type": "code",
   "execution_count": 19,
   "metadata": {},
   "outputs": [
    {
     "name": "stdout",
     "output_type": "stream",
     "text": [
      "(1, 2, 3, 4)\n"
     ]
    },
    {
     "data": {
      "text/plain": [
       "tuple"
      ]
     },
     "execution_count": 19,
     "metadata": {},
     "output_type": "execute_result"
    }
   ],
   "source": [
    "# scratch (we will NOT mark this cell - use this for your own tests)\n",
    "# ------------------------------------------------------------------------------\n",
    "t = (1,2,3)\n",
    "v = 4\n",
    "\n",
    "print(add_to_tuple(t,v))\n",
    "type(t)\n",
    "\n"
   ]
  },
  {
   "cell_type": "markdown",
   "metadata": {},
   "source": [
    "2. Keep Only Integers\n",
    "-------------------------------\n",
    "return a list containing only integer elements of the input list.\n",
    "\n",
    "Required Signature:\n",
    "\n",
    "    def keep_only_int(x):  \n",
    "        pass  \n",
    "\n",
    "for example, calling `keep_only_int([1, 1.5, 2, 'a'])` \n",
    " will return `[1, 2]`\n",
    "\n"
   ]
  },
  {
   "cell_type": "code",
   "execution_count": 4,
   "metadata": {},
   "outputs": [],
   "source": [
    "# submit (we will import your solution from this cell. Don't use Global Variables here.  )\n",
    "# ------------------------------------------------------------------------------\n",
    "def keep_only_int(x):\n",
    "    list_new = []\n",
    "    for i in x:\n",
    "        if type(i) == int:\n",
    "            list_new.append(i)\n",
    "    return list_new\n",
    "\n",
    "\n",
    "\n"
   ]
  },
  {
   "cell_type": "code",
   "execution_count": 5,
   "metadata": {},
   "outputs": [
    {
     "data": {
      "text/plain": [
       "[1, 2]"
      ]
     },
     "execution_count": 5,
     "metadata": {},
     "output_type": "execute_result"
    }
   ],
   "source": [
    "# scratch (we will NOT mark this cell - use this for your own tests)\n",
    "# ------------------------------------------------------------------------------\n",
    "x = [1, 1.5, 2, 'a']\n",
    "keep_only_int(x)\n",
    "\n",
    "\n",
    "\n"
   ]
  },
  {
   "cell_type": "markdown",
   "metadata": {},
   "source": [
    "3. Every Second Equal\n",
    "-------------------------------\n",
    "Write a function that takes in two lists and returns `True`\n",
    "if the lists are of the same length and every second element in these lists is equal to each other, and otherwise, `False`. \n",
    "\n",
    "\n",
    "Required Signature:\n",
    "\n",
    "    def every_second_equal(x,y):  \n",
    "        pass  \n",
    "\n",
    "for example, calling `every_second_equal([99,1,123,3], [0,1,2,3])` \n",
    " will return `True`\n",
    "\n",
    "Another example: calling `every_second_equal([1,123,3,99], [1,321,3,101])` \n",
    " will return `False` \n",
    "\n"
   ]
  },
  {
   "cell_type": "code",
   "execution_count": 6,
   "metadata": {},
   "outputs": [],
   "source": [
    "# submit (we will import your solution from this cell. Don't use Global Variables here.  )\n",
    "# ------------------------------------------------------------------------------\n",
    "def every_second_equal(x,y):\n",
    "    if len(x) == len(y) and x[1::2] == y[1::2]:\n",
    "        return True\n",
    "    else:\n",
    "        return False\n",
    "    \n",
    "\n",
    "\n",
    "\n"
   ]
  },
  {
   "cell_type": "code",
   "execution_count": 7,
   "metadata": {},
   "outputs": [
    {
     "data": {
      "text/plain": [
       "True"
      ]
     },
     "execution_count": 7,
     "metadata": {},
     "output_type": "execute_result"
    }
   ],
   "source": [
    "# scratch (we will NOT mark this cell - use this for your own tests)\n",
    "# ------------------------------------------------------------------------------\n",
    "x = [99,1,123,3]\n",
    "y = [0,1,2,3]\n",
    "\n",
    "every_second_equal(x,y)\n",
    "\n",
    "\n",
    "\n"
   ]
  },
  {
   "cell_type": "markdown",
   "metadata": {},
   "source": [
    "4. Odd Numbers (1)\n",
    "-------------------------------\n",
    "Write a function that takes in a collection and returns a list of elements of \n",
    "all values that are odd.\n",
    "You should ignore any non-numeric elements in the collection.\n",
    "\n",
    "\n",
    "Required Signature:\n",
    "\n",
    "    def odd_numbers1(x):  \n",
    "        pass  \n",
    "\n",
    "for example, calling `odd_numbers1([1,2,3,3,'3'])` \n",
    " will return `[1,3,3]` (4 marks)\n",
    "\n",
    "for example, calling `odd_numbers1([False,True,3,5.0,7.5])` \n",
    " will return `[True,3, 5.0]` (1 further mark)\n",
    "\n"
   ]
  },
  {
   "cell_type": "code",
   "execution_count": 26,
   "metadata": {},
   "outputs": [],
   "source": [
    "# submit (we will import your solution from this cell. Don't use Global Variables here.  )\n",
    "# ------------------------------------------------------------------------------\n",
    "def odd_numbers1(x):\n",
    "    list1 = []\n",
    "    for i in x:\n",
    "        if type(i) == int or type(i) == float or type(i) == bool:\n",
    "            if (i+1)%2 == 0:\n",
    "                list1.append(i)\n",
    "    return list1\n",
    "\n",
    "\n",
    "\n"
   ]
  },
  {
   "cell_type": "code",
   "execution_count": 27,
   "metadata": {},
   "outputs": [
    {
     "data": {
      "text/plain": [
       "[True, 3, 5.0]"
      ]
     },
     "execution_count": 27,
     "metadata": {},
     "output_type": "execute_result"
    }
   ],
   "source": [
    "# scratch (we will NOT mark this cell - use this for your own tests)\n",
    "# ------------------------------------------------------------------------------\n",
    "x =[False,True,3,5.0,7.5]\n",
    "odd_numbers1(x)\n",
    "\n",
    "\n",
    "\n"
   ]
  },
  {
   "cell_type": "markdown",
   "metadata": {},
   "source": [
    "5. Name Processing (1)\n",
    "-------------------------------\n",
    "Write a function that accepts an input argument list of 'full name' strings \n",
    "and returns a list having the same length, \n",
    "each element containing a `['first name', 'second name']` list. \n",
    "You may assume that full_name has one or zero space characters.\n",
    "\n",
    "\n",
    "Required Signature:\n",
    "\n",
    "    def name_processing1(list_of_names):  \n",
    "        pass  \n",
    "\n",
    "\n",
    "for example, using the following  list as input:\n",
    "\n",
    "`['Diego Maradona', 'Ronaldo', 'Cormac McCarthy', 'Eminem'] `\n",
    "\n",
    "the function would return :\n",
    "\n",
    "`[['Diego', 'Maradona'], ['Ronaldo', None], ['Cormac', 'MacArthy'], ['Eminem', None]]`\n",
    "\n",
    "\n"
   ]
  },
  {
   "cell_type": "code",
   "execution_count": 10,
   "metadata": {},
   "outputs": [],
   "source": [
    "# submit (we will import your solution from this cell. Don't use Global Variables here.  )\n",
    "# ------------------------------------------------------------------------------\n",
    "def name_processing1(list_of_names):\n",
    "    list_new = []\n",
    "    for i in list_of_names:\n",
    "        a = i.split()\n",
    "        if len(a) == 1:\n",
    "            a.append(None)\n",
    "        list_new.append(a)\n",
    "    return list_new\n",
    "    \n",
    "\n",
    "\n",
    "\n"
   ]
  },
  {
   "cell_type": "code",
   "execution_count": 11,
   "metadata": {},
   "outputs": [
    {
     "data": {
      "text/plain": [
       "[['Diego', 'Maradona'],\n",
       " ['Ronaldo', None],\n",
       " ['Cormac', 'McCarthy'],\n",
       " ['Eminem', None]]"
      ]
     },
     "execution_count": 11,
     "metadata": {},
     "output_type": "execute_result"
    }
   ],
   "source": [
    "# scratch (we will NOT mark this cell - use this for your own tests)\n",
    "# ------------------------------------------------------------------------------\n",
    "x = ['Diego Maradona', 'Ronaldo', 'Cormac McCarthy', 'Eminem']\n",
    "name_processing1(x)\n",
    "\n",
    "\n",
    "\n"
   ]
  },
  {
   "cell_type": "markdown",
   "metadata": {},
   "source": [
    "6. Name Processing (2)\n",
    "-------------------------------\n",
    "\n",
    "Write a function that takes a list of 'full_name' strings and returns a \n",
    "list of dictionaries. Each directory will store one name:\n",
    "\n",
    "- if is there is a first name and a second name, then the output dictionary contains\n",
    "two keys: `'first_name'` and `'second_name'`.\n",
    " \n",
    "- if there is just one name (a 'mononym'), then there is just one key: `'mononym'`.\n",
    "\n",
    "\n",
    "Required Signature:\n",
    "\n",
    "    def name_processing2(list_of_names):  \n",
    "        pass  \n",
    "\n",
    "\n",
    "For example, an input of \n",
    "\n",
    "`['Diego Maradona', 'Ronaldo', 'Cormac McCarthy', 'Eminem']`\n",
    "\n",
    "would return \n",
    "```\n",
    "[{'first_name': 'Diego', 'second_name': 'Maradona'}, \n",
    " {'mononym': 'Ronaldo'}, \n",
    " {'first_name': 'Cormac', 'second_name': 'McCarthy'}, \n",
    " {'mononym': 'Eminem'}]\n",
    "```\n",
    "\n",
    "\n"
   ]
  },
  {
   "cell_type": "code",
   "execution_count": 12,
   "metadata": {},
   "outputs": [],
   "source": [
    "# submit (we will import your solution from this cell. Don't use Global Variables here.  )\n",
    "# ------------------------------------------------------------------------------\n",
    "def name_processing2(list_of_names):\n",
    "    list_new = []\n",
    "    for i in list_of_names:\n",
    "        a = i.split()\n",
    "        if len(a) == 1:\n",
    "            b = {'mononym':a[0]}\n",
    "        else:\n",
    "            b = {'first_name':a[0],'second_name':a[1]}\n",
    "        list_new.append(b)\n",
    "    return list_new\n",
    "\n",
    "\n",
    "\n"
   ]
  },
  {
   "cell_type": "code",
   "execution_count": 13,
   "metadata": {},
   "outputs": [
    {
     "data": {
      "text/plain": [
       "[{'first_name': 'Diego', 'second_name': 'Maradona'},\n",
       " {'mononym': 'Ronaldo'},\n",
       " {'first_name': 'Cormac', 'second_name': 'McCarthy'},\n",
       " {'mononym': 'Eminem'}]"
      ]
     },
     "execution_count": 13,
     "metadata": {},
     "output_type": "execute_result"
    }
   ],
   "source": [
    "name_processing2(x)\n",
    "\n",
    "\n"
   ]
  },
  {
   "cell_type": "markdown",
   "metadata": {},
   "source": [
    "7. Noise Generator\n",
    "-------------------------------\n",
    "Write a function that returns a generator object that randomly yields a value of -1, 0 or 1. \n",
    "\n",
    "These values are used to add noise to some data, so a value of 0 is 'no noise'; -1 and 1 are negative and positive noise, respectively. \n",
    "\n",
    "The function should accept one input argument, a floating point number `noise_prob`, \n",
    "which represents the probability that the next yielded value will be non-zero. \n",
    "The input argument `noise_prob` can be assumed to have a value of between 0 and 1.\n",
    "\n",
    "The generator object should yield:\n",
    "- the value `-1` with probability `noise_prob/2`,\n",
    "- the value `1` with probability `noise_prob/2`,\n",
    "- the value `0` with probability `1-noise_prob`,\n",
    "\n",
    "\n",
    "\n",
    "Required Signature:\n",
    "\n",
    "    def noise_generator(noise_prob):  \n",
    "        pass  \n",
    "\n",
    "For example, if we wrote `x = noise_generator(0.6)`, then `x` would then yield a sequence of numbers, each element being either `-1` (with probability 0.3), 0 (with probability 0.4) or 1 (with probability 0.3).\n",
    "\n"
   ]
  },
  {
   "cell_type": "code",
   "execution_count": 14,
   "metadata": {},
   "outputs": [],
   "source": [
    "# submit (we will import your solution from this cell. Don't use Global Variables here.  )\n",
    "# ------------------------------------------------------------------------------\n",
    "from random import choices \n",
    "def noise_generator(noise_prob):\n",
    "    while True:\n",
    "        prob_dist = [noise_prob/2, 1-noise_prob, noise_prob/2]\n",
    "        output_list = [-1,0,1]\n",
    "        x = choices(output_list,prob_dist)\n",
    "        yield x\n",
    "\n"
   ]
  },
  {
   "cell_type": "code",
   "execution_count": 15,
   "metadata": {},
   "outputs": [
    {
     "name": "stdout",
     "output_type": "stream",
     "text": [
      "[-1]\n",
      "[-1]\n",
      "[0]\n",
      "[-1]\n",
      "[-1]\n",
      "[1]\n",
      "[1]\n",
      "[1]\n",
      "[-1]\n",
      "[0]\n"
     ]
    }
   ],
   "source": [
    "# scratch (we will NOT mark this cell - use this for your own tests)\n",
    "# ------------------------------------------------------------------------------\n",
    "my_noise_prob = 0.6\n",
    "ng = noise_generator(my_noise_prob)\n",
    "for i in range(10):\n",
    "    print(next(ng))\n",
    "\n",
    "\n"
   ]
  },
  {
   "cell_type": "markdown",
   "metadata": {},
   "source": [
    "8. Logger (1)\n",
    "-------------------------------\n",
    "Write a mock logging class called MyLogger.\n",
    "\n",
    "The MyLogger class is initialized with a `disk_space` argument which is an\n",
    "integer. When initialized, `disk_remaining` should be set to the value of\n",
    "`disk_space`, i.e. it is assumed that none of the disk has been used at this point.\n",
    "\n",
    "Instance variables:\n",
    "- `disk_space` (int)\n",
    "- `disk_remaining` (int)\n",
    "\n",
    "The class shall also implement three methods:\n",
    "\n",
    "Methods:\n",
    "- `disk_full`: Returns `True` if disk remaining is 0, otherwise `False`.\n",
    "- `log_to_file`: If the disk is not full, decrement disk_remaining by 1 unit and\n",
    "    return the string \"Successfully logged\".\n",
    "    Otherwise (if the disk is full), return the string \"Disk full\"\n",
    "- `delete_logs`: Set disk_remaining to disk_space and return the string \n",
    "    \"Logs deleted\".\n",
    "\n",
    "\n",
    "\n",
    "Required Signature:\n",
    "\n",
    "    class MyLogger():  \n",
    "        pass  \n",
    "\n",
    "\n",
    "Example usage:\n",
    "\n",
    "```\n",
    "logger = MyLogger(1) # initializes a logger with 1 unit of disk space.\n",
    "logger.log_to_file() # writes one log to file. Disk remaining should be 0.\n",
    "logger.log_to_file() # fails to write log to file because disk is full.\n",
    "logger.delete_logs() # deletes logs, so disk_remaining should reset back to 1.\n",
    "\n",
    "```\n",
    "The above three method calls should return strings \n",
    "`'Successfully logged'`, `'Disk full'` and `'Logs deleted'`.\n",
    "\n",
    "\n",
    "\n"
   ]
  },
  {
   "cell_type": "code",
   "execution_count": 16,
   "metadata": {},
   "outputs": [],
   "source": [
    "# submit (we will import your solution from this cell. Don't use Global Variables here.  )\n",
    "# ------------------------------------------------------------------------------\n",
    "class MyLogger:\n",
    "    def __init__(self,disk_space: int):\n",
    "        self.disk_space = disk_space\n",
    "        self.disk_remaining = self.disk_space\n",
    "        \n",
    "    def disk_full(self):\n",
    "        if self.disk_remaining == 0:\n",
    "            return True\n",
    "        else:\n",
    "            return False\n",
    "    \n",
    "    def log_to_file(self):\n",
    "        if self.disk_full() == False:\n",
    "            self.disk_remaining -= 1\n",
    "            return \"Successfully logged\"\n",
    "        else:\n",
    "            return \"Disk full\"\n",
    "    \n",
    "    def delete_logs(self):\n",
    "        self.disk_remaining = self.disk_space\n",
    "        return \"Logs deleted\"\n"
   ]
  },
  {
   "cell_type": "code",
   "execution_count": 17,
   "metadata": {},
   "outputs": [
    {
     "name": "stdout",
     "output_type": "stream",
     "text": [
      "Successfully logged\n",
      "Disk full\n",
      "Logs deleted\n"
     ]
    }
   ],
   "source": [
    "# scratch (we will NOT mark this cell - use this for your own tests)\n",
    "# ------------------------------------------------------------------------------\n",
    "logger = MyLogger(1) # initializes a logger with 1 unit of disk space.\n",
    "print(logger.log_to_file()) # writes one log to file. Disk remaining should be 0.\n",
    "print(logger.log_to_file()) # fails to write log to file because disk is full.\n",
    "print(logger.delete_logs()) # deletes logs, so disk_remaining should reset back to 1.\n",
    "\n",
    "\n",
    "\n",
    "\n"
   ]
  },
  {
   "cell_type": "code",
   "execution_count": null,
   "metadata": {},
   "outputs": [],
   "source": []
  }
 ],
 "metadata": {
  "kernelspec": {
   "display_name": "Python 3",
   "language": "python",
   "name": "python3"
  },
  "language_info": {
   "codemirror_mode": {
    "name": "ipython",
    "version": 3
   },
   "file_extension": ".py",
   "mimetype": "text/x-python",
   "name": "python",
   "nbconvert_exporter": "python",
   "pygments_lexer": "ipython3",
   "version": "3.8.8"
  },
  "toc": {
   "base_numbering": 1,
   "nav_menu": {},
   "number_sections": true,
   "sideBar": true,
   "skip_h1_title": false,
   "title_cell": "Table of Contents",
   "title_sidebar": "Contents",
   "toc_cell": false,
   "toc_position": {},
   "toc_section_display": true,
   "toc_window_display": false
  }
 },
 "nbformat": 4,
 "nbformat_minor": 4
}
