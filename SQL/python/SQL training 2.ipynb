{
 "cells": [
  {
   "cell_type": "code",
   "execution_count": 1,
   "id": "d6050083",
   "metadata": {},
   "outputs": [],
   "source": [
    "import pyodbc"
   ]
  },
  {
   "cell_type": "code",
   "execution_count": 2,
   "id": "15ecbe69",
   "metadata": {},
   "outputs": [],
   "source": [
    "conn = pyodbc.connect('DRIVER={ODBC Driver 17 for SQL Server};SERVER=ec2-35-176-213-89.eu-west-2.compute.amazonaws.com;DATABASE=datalab_ce02;UID=jeevanrai;PWD=NRZz(bS8p')"
   ]
  },
  {
   "cell_type": "code",
   "execution_count": 3,
   "id": "1a56d926",
   "metadata": {},
   "outputs": [],
   "source": [
    "curr = conn.cursor()"
   ]
  },
  {
   "cell_type": "code",
   "execution_count": 13,
   "id": "55fecf87",
   "metadata": {},
   "outputs": [],
   "source": [
    "query = 'insert into jeevanrai.people1 (fname, lname, dob) values (?, ?, ?)'"
   ]
  },
  {
   "cell_type": "code",
   "execution_count": 14,
   "id": "2c1f216f",
   "metadata": {},
   "outputs": [],
   "source": [
    "params = ['jeevan', 'rai', '1998-06-13']"
   ]
  },
  {
   "cell_type": "code",
   "execution_count": 15,
   "id": "7ab62f70",
   "metadata": {},
   "outputs": [],
   "source": [
    "curr.execute(query, params)\n",
    "# when performing transactions (modifications to data) in SQL, you must remember to commit \n",
    "conn.commit()"
   ]
  },
  {
   "cell_type": "code",
   "execution_count": null,
   "id": "ec46159a",
   "metadata": {},
   "outputs": [],
   "source": []
  }
 ],
 "metadata": {
  "kernelspec": {
   "display_name": "Python 3",
   "language": "python",
   "name": "python3"
  },
  "language_info": {
   "codemirror_mode": {
    "name": "ipython",
    "version": 3
   },
   "file_extension": ".py",
   "mimetype": "text/x-python",
   "name": "python",
   "nbconvert_exporter": "python",
   "pygments_lexer": "ipython3",
   "version": "3.8.8"
  },
  "toc": {
   "base_numbering": 1,
   "nav_menu": {},
   "number_sections": true,
   "sideBar": true,
   "skip_h1_title": false,
   "title_cell": "Table of Contents",
   "title_sidebar": "Contents",
   "toc_cell": false,
   "toc_position": {},
   "toc_section_display": true,
   "toc_window_display": false
  }
 },
 "nbformat": 4,
 "nbformat_minor": 5
}
