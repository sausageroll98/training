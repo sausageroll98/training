{
 "cells": [
  {
   "cell_type": "code",
   "execution_count": 1,
   "id": "c0917e3e",
   "metadata": {},
   "outputs": [],
   "source": [
    "import pyodbc"
   ]
  },
  {
   "cell_type": "code",
   "execution_count": 9,
   "id": "9d1fb1fa",
   "metadata": {},
   "outputs": [
    {
     "ename": "InterfaceError",
     "evalue": "('28000', \"[28000] [Microsoft][ODBC Driver 17 for SQL Server][SQL Server]Login failed for user 'jeevanrai'. (18456) (SQLDriverConnect); [28000] [Microsoft][ODBC Driver 17 for SQL Server][SQL Server]Login failed for user 'jeevanrai'. (18456)\")",
     "output_type": "error",
     "traceback": [
      "\u001b[1;31m---------------------------------------------------------------------------\u001b[0m",
      "\u001b[1;31mInterfaceError\u001b[0m                            Traceback (most recent call last)",
      "\u001b[1;32m<ipython-input-9-488550ee0b32>\u001b[0m in \u001b[0;36m<module>\u001b[1;34m\u001b[0m\n\u001b[0;32m      1\u001b[0m \u001b[1;31m#connection string\u001b[0m\u001b[1;33m\u001b[0m\u001b[1;33m\u001b[0m\u001b[1;33m\u001b[0m\u001b[0m\n\u001b[1;32m----> 2\u001b[1;33m \u001b[0mconn\u001b[0m \u001b[1;33m=\u001b[0m \u001b[0mpyodbc\u001b[0m\u001b[1;33m.\u001b[0m\u001b[0mconnect\u001b[0m\u001b[1;33m(\u001b[0m\u001b[1;34m'DRIVER={ODBC Driver 17 for SQL Server};SERVER=ec2-35-176-213-89.eu-west-2.compute.amazonaws.com;DATABASE=AdventureWorks;UID=jeevanrai;PWD=lNRZz(bS8p'\u001b[0m\u001b[1;33m)\u001b[0m\u001b[1;33m\u001b[0m\u001b[1;33m\u001b[0m\u001b[0m\n\u001b[0m",
      "\u001b[1;31mInterfaceError\u001b[0m: ('28000', \"[28000] [Microsoft][ODBC Driver 17 for SQL Server][SQL Server]Login failed for user 'jeevanrai'. (18456) (SQLDriverConnect); [28000] [Microsoft][ODBC Driver 17 for SQL Server][SQL Server]Login failed for user 'jeevanrai'. (18456)\")"
     ]
    }
   ],
   "source": [
    "#connection string\n",
    "conn = pyodbc.connect('DRIVER={ODBC Driver 17 for SQL Server};SERVER=ec2-35-176-213-89.eu-west-2.compute.amazonaws.com;DATABASE=AdventureWorks;UID=jeevanrai;PWD=NRZz(bS8p')"
   ]
  },
  {
   "cell_type": "code",
   "execution_count": 3,
   "id": "006fa84e",
   "metadata": {},
   "outputs": [],
   "source": [
    "curr = conn.cursor()"
   ]
  },
  {
   "cell_type": "code",
   "execution_count": 12,
   "id": "51a96300",
   "metadata": {},
   "outputs": [],
   "source": [
    "queryshard0 = 'select productnumber, color, listprice from production.product where productid % 5 = 0'\n",
    "queryshard1 = 'select productnumber, color, listprice from production.product where productid % 5 = 1'\n",
    "queryshard2 = 'select productnumber, color, listprice from production.product where productid % 5 = 2'\n",
    "queryshard3 = 'select productnumber, color, listprice from production.product where productid % 5 = 3'\n",
    "queryshard4 = 'select productnumber, color, listprice from production.product where productid % 5 = 4'"
   ]
  },
  {
   "cell_type": "code",
   "execution_count": 18,
   "id": "6107a879",
   "metadata": {},
   "outputs": [],
   "source": [
    "query = 'select productnumber, color, listprice from production.product where color = ? and listprice > ?'"
   ]
  },
  {
   "cell_type": "code",
   "execution_count": 23,
   "id": "362f47e6",
   "metadata": {},
   "outputs": [
    {
     "name": "stdout",
     "output_type": "stream",
     "text": [
      "Choose a colorblack\n"
     ]
    }
   ],
   "source": [
    "color_prompt = input('Choose a color')"
   ]
  },
  {
   "cell_type": "code",
   "execution_count": 24,
   "id": "ee7be50e",
   "metadata": {},
   "outputs": [],
   "source": [
    "params = [color_prompt, 100]"
   ]
  },
  {
   "cell_type": "code",
   "execution_count": 25,
   "id": "3a4a2599",
   "metadata": {},
   "outputs": [],
   "source": [
    "results = curr.execute(query, params)"
   ]
  },
  {
   "cell_type": "code",
   "execution_count": 26,
   "id": "572b53f9",
   "metadata": {},
   "outputs": [
    {
     "name": "stdout",
     "output_type": "stream",
     "text": [
      "('FR-R92B-58', 'Black', Decimal('1431.5000'))\n",
      "('FR-R38B-58', 'Black', Decimal('337.2200'))\n",
      "('FR-R38B-60', 'Black', Decimal('337.2200'))\n",
      "('FR-R38B-62', 'Black', Decimal('337.2200'))\n",
      "('FR-R38B-44', 'Black', Decimal('337.2200'))\n",
      "('FR-R38B-48', 'Black', Decimal('337.2200'))\n",
      "('FR-R38B-52', 'Black', Decimal('337.2200'))\n",
      "('FR-M94B-42', 'Black', Decimal('1349.6000'))\n",
      "('FR-M94B-44', 'Black', Decimal('1349.6000'))\n",
      "('FR-M94B-48', 'Black', Decimal('1349.6000'))\n",
      "('FR-M94B-46', 'Black', Decimal('1349.6000'))\n",
      "('FR-M94B-38', 'Black', Decimal('1349.6000'))\n",
      "('BK-R50B-58', 'Black', Decimal('782.9900'))\n",
      "('BK-R50B-60', 'Black', Decimal('782.9900'))\n",
      "('BK-R50B-62', 'Black', Decimal('782.9900'))\n",
      "('BK-R50B-44', 'Black', Decimal('782.9900'))\n",
      "('BK-R50B-48', 'Black', Decimal('782.9900'))\n",
      "('BK-R50B-52', 'Black', Decimal('782.9900'))\n",
      "('BK-M82B-38', 'Black', Decimal('3374.9900'))\n",
      "('BK-M82B-42', 'Black', Decimal('3374.9900'))\n",
      "('BK-M82B-44', 'Black', Decimal('3374.9900'))\n",
      "('BK-M82B-48', 'Black', Decimal('3374.9900'))\n",
      "('BK-M68B-38', 'Black', Decimal('2294.9900'))\n",
      "('BK-M68B-42', 'Black', Decimal('2294.9900'))\n",
      "('BK-M68B-46', 'Black', Decimal('2294.9900'))\n",
      "('BK-M47B-38', 'Black', Decimal('1079.9900'))\n",
      "('BK-M47B-40', 'Black', Decimal('1079.9900'))\n",
      "('BK-M47B-44', 'Black', Decimal('1079.9900'))\n",
      "('BK-M47B-48', 'Black', Decimal('1079.9900'))\n",
      "('BK-R89B-44', 'Black', Decimal('2443.3500'))\n",
      "('BK-R89B-48', 'Black', Decimal('2443.3500'))\n",
      "('BK-R89B-52', 'Black', Decimal('2443.3500'))\n",
      "('BK-R89B-58', 'Black', Decimal('2443.3500'))\n",
      "('FR-M63B-38', 'Black', Decimal('348.7600'))\n",
      "('FW-M762', 'Black', Decimal('209.0250'))\n",
      "('FW-M928', 'Black', Decimal('300.2150'))\n",
      "('FW-R762', 'Black', Decimal('248.3850'))\n",
      "('FW-R820', 'Black', Decimal('330.0600'))\n",
      "('FW-T905', 'Black', Decimal('218.0100'))\n",
      "('RW-M762', 'Black', Decimal('236.0250'))\n",
      "('RW-M928', 'Black', Decimal('327.2150'))\n",
      "('RW-R623', 'Black', Decimal('112.5650'))\n",
      "('RW-R762', 'Black', Decimal('275.3850'))\n",
      "('RW-R820', 'Black', Decimal('357.0600'))\n",
      "('RW-T905', 'Black', Decimal('245.0100'))\n",
      "('FR-M63B-40', 'Black', Decimal('348.7600'))\n",
      "('FR-M63B-44', 'Black', Decimal('348.7600'))\n",
      "('FR-M63B-48', 'Black', Decimal('348.7600'))\n",
      "('FR-R92B-62', 'Black', Decimal('1431.5000'))\n",
      "('FR-R92B-44', 'Black', Decimal('1431.5000'))\n",
      "('FR-R92B-48', 'Black', Decimal('1431.5000'))\n",
      "('FR-R92B-52', 'Black', Decimal('1431.5000'))\n",
      "('FR-M21B-42', 'Black', Decimal('249.7900'))\n",
      "('FR-M21B-44', 'Black', Decimal('249.7900'))\n",
      "('FR-M21B-48', 'Black', Decimal('249.7900'))\n",
      "('FR-M21B-52', 'Black', Decimal('249.7900'))\n",
      "('FR-M21B-40', 'Black', Decimal('249.7900'))\n",
      "('CS-4759', 'Black', Decimal('175.4900'))\n",
      "('CS-6583', 'Black', Decimal('256.4900'))\n",
      "('CS-9183', 'Black', Decimal('404.9900'))\n",
      "('BK-R19B-58', 'Black', Decimal('539.9900'))\n",
      "('BK-M18B-40', 'Black', Decimal('539.9900'))\n",
      "('BK-M18B-42', 'Black', Decimal('539.9900'))\n",
      "('BK-M18B-44', 'Black', Decimal('539.9900'))\n",
      "('BK-M18B-48', 'Black', Decimal('539.9900'))\n",
      "('BK-M18B-52', 'Black', Decimal('539.9900'))\n",
      "('BK-R19B-44', 'Black', Decimal('539.9900'))\n",
      "('BK-R19B-48', 'Black', Decimal('539.9900'))\n",
      "('BK-R19B-52', 'Black', Decimal('539.9900'))\n"
     ]
    }
   ],
   "source": [
    "for row in results:\n",
    "    print(row)"
   ]
  },
  {
   "cell_type": "code",
   "execution_count": null,
   "id": "f614fb90",
   "metadata": {},
   "outputs": [],
   "source": []
  }
 ],
 "metadata": {
  "kernelspec": {
   "display_name": "Python 3",
   "language": "python",
   "name": "python3"
  },
  "language_info": {
   "codemirror_mode": {
    "name": "ipython",
    "version": 3
   },
   "file_extension": ".py",
   "mimetype": "text/x-python",
   "name": "python",
   "nbconvert_exporter": "python",
   "pygments_lexer": "ipython3",
   "version": "3.8.8"
  },
  "toc": {
   "base_numbering": 1,
   "nav_menu": {},
   "number_sections": true,
   "sideBar": true,
   "skip_h1_title": false,
   "title_cell": "Table of Contents",
   "title_sidebar": "Contents",
   "toc_cell": false,
   "toc_position": {},
   "toc_section_display": true,
   "toc_window_display": false
  }
 },
 "nbformat": 4,
 "nbformat_minor": 5
}
